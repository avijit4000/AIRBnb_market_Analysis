{
 "cells": [
  {
   "cell_type": "code",
   "execution_count": 1,
   "metadata": {
    "collapsed": true,
    "pycharm": {
     "name": "#%%\n"
    }
   },
   "outputs": [],
   "source": [
    "import pandas as pd"
   ]
  },
  {
   "cell_type": "code",
   "execution_count": 47,
   "outputs": [],
   "source": [
    "amenities=pd.read_csv(\"amenities.csv\")"
   ],
   "metadata": {
    "collapsed": false,
    "pycharm": {
     "name": "#%%\n"
    }
   }
  },
  {
   "cell_type": "code",
   "execution_count": 48,
   "outputs": [
    {
     "name": "stderr",
     "output_type": "stream",
     "text": [
      "C:\\Users\\aviji\\AppData\\Local\\Temp\\ipykernel_10372\\4063047582.py:1: ParserWarning: Falling back to the 'python' engine because the 'c' engine does not support regex separators (separators > 1 char and different from '\\s+' are interpreted as regex); you can avoid this warning by specifying engine='python'.\n",
      "  manalysis1 = pd.read_csv(r\"market_analysis.csv\", sep='delimiter', header=None)\n"
     ]
    }
   ],
   "source": [
    "manalysis1 = pd.read_csv(r\"market_analysis.csv\", sep='delimiter', header=None)"
   ],
   "metadata": {
    "collapsed": false,
    "pycharm": {
     "name": "#%%\n"
    }
   }
  },
  {
   "cell_type": "code",
   "execution_count": 49,
   "outputs": [
    {
     "name": "stderr",
     "output_type": "stream",
     "text": [
      "C:\\Users\\aviji\\AppData\\Local\\Temp\\ipykernel_10372\\957662552.py:1: ParserWarning: Falling back to the 'python' engine because the 'c' engine does not support regex separators (separators > 1 char and different from '\\s+' are interpreted as regex); you can avoid this warning by specifying engine='python'.\n",
      "  manalysis2 = pd.read_csv(r\"market_analysis_2019.csv\", sep='delimiter', header=None)\n"
     ]
    }
   ],
   "source": [
    "manalysis2 = pd.read_csv(r\"market_analysis_2019.csv\", sep='delimiter', header=None)"
   ],
   "metadata": {
    "collapsed": false,
    "pycharm": {
     "name": "#%%\n"
    }
   }
  },
  {
   "cell_type": "code",
   "execution_count": 50,
   "outputs": [
    {
     "data": {
      "text/plain": "                                                        0\n0       unified_id;month;zipcode;city;host_type;bedroo...\n1       10000347;2020-1;92315;Big Bear Lake;2-5 Units;...\n2       10000347;2020-10;92315;Big Bear Lake;2-5 Units...\n3       10000347;2020-11;92315;Big Bear Lake;2-5 Units...\n4       10000347;2020-12;92315;Big Bear Lake;2-5 Units...\n...                                                   ...\n116615  9996370;2022-5;92314;Big Bear City;Single Owne...\n116616  9996370;2022-6;92314;Big Bear City;Single Owne...\n116617  9996370;2022-7;92314;Big Bear City;Single Owne...\n116618  9996370;2022-8;92314;Big Bear City;Single Owne...\n116619  9996370;2022-9;92314;Big Bear City;Single Owne...\n\n[116620 rows x 1 columns]",
      "text/html": "<div>\n<style scoped>\n    .dataframe tbody tr th:only-of-type {\n        vertical-align: middle;\n    }\n\n    .dataframe tbody tr th {\n        vertical-align: top;\n    }\n\n    .dataframe thead th {\n        text-align: right;\n    }\n</style>\n<table border=\"1\" class=\"dataframe\">\n  <thead>\n    <tr style=\"text-align: right;\">\n      <th></th>\n      <th>0</th>\n    </tr>\n  </thead>\n  <tbody>\n    <tr>\n      <th>0</th>\n      <td>unified_id;month;zipcode;city;host_type;bedroo...</td>\n    </tr>\n    <tr>\n      <th>1</th>\n      <td>10000347;2020-1;92315;Big Bear Lake;2-5 Units;...</td>\n    </tr>\n    <tr>\n      <th>2</th>\n      <td>10000347;2020-10;92315;Big Bear Lake;2-5 Units...</td>\n    </tr>\n    <tr>\n      <th>3</th>\n      <td>10000347;2020-11;92315;Big Bear Lake;2-5 Units...</td>\n    </tr>\n    <tr>\n      <th>4</th>\n      <td>10000347;2020-12;92315;Big Bear Lake;2-5 Units...</td>\n    </tr>\n    <tr>\n      <th>...</th>\n      <td>...</td>\n    </tr>\n    <tr>\n      <th>116615</th>\n      <td>9996370;2022-5;92314;Big Bear City;Single Owne...</td>\n    </tr>\n    <tr>\n      <th>116616</th>\n      <td>9996370;2022-6;92314;Big Bear City;Single Owne...</td>\n    </tr>\n    <tr>\n      <th>116617</th>\n      <td>9996370;2022-7;92314;Big Bear City;Single Owne...</td>\n    </tr>\n    <tr>\n      <th>116618</th>\n      <td>9996370;2022-8;92314;Big Bear City;Single Owne...</td>\n    </tr>\n    <tr>\n      <th>116619</th>\n      <td>9996370;2022-9;92314;Big Bear City;Single Owne...</td>\n    </tr>\n  </tbody>\n</table>\n<p>116620 rows × 1 columns</p>\n</div>"
     },
     "execution_count": 50,
     "metadata": {},
     "output_type": "execute_result"
    }
   ],
   "source": [
    "manalysis1"
   ],
   "metadata": {
    "collapsed": false,
    "pycharm": {
     "name": "#%%\n"
    }
   }
  },
  {
   "cell_type": "code",
   "execution_count": 51,
   "outputs": [
    {
     "data": {
      "text/plain": "      unified_id;month;hot_tub;pool\n0           AIR10052559;2022-12;1;0\n1           AIR10178668;2022-12;0;0\n2           AIR10211700;2022-12;0;0\n3           AIR10344705;2022-12;0;0\n4           AIR10424683;2022-12;0;1\n...                             ...\n49306        AIR9959855;2020-01;1;0\n49307        AIR9960008;2020-01;0;0\n49308        AIR9976790;2020-01;1;0\n49309        AIR9986505;2020-01;1;0\n49310        AIR9996370;2020-01;0;0\n\n[49311 rows x 1 columns]",
      "text/html": "<div>\n<style scoped>\n    .dataframe tbody tr th:only-of-type {\n        vertical-align: middle;\n    }\n\n    .dataframe tbody tr th {\n        vertical-align: top;\n    }\n\n    .dataframe thead th {\n        text-align: right;\n    }\n</style>\n<table border=\"1\" class=\"dataframe\">\n  <thead>\n    <tr style=\"text-align: right;\">\n      <th></th>\n      <th>unified_id;month;hot_tub;pool</th>\n    </tr>\n  </thead>\n  <tbody>\n    <tr>\n      <th>0</th>\n      <td>AIR10052559;2022-12;1;0</td>\n    </tr>\n    <tr>\n      <th>1</th>\n      <td>AIR10178668;2022-12;0;0</td>\n    </tr>\n    <tr>\n      <th>2</th>\n      <td>AIR10211700;2022-12;0;0</td>\n    </tr>\n    <tr>\n      <th>3</th>\n      <td>AIR10344705;2022-12;0;0</td>\n    </tr>\n    <tr>\n      <th>4</th>\n      <td>AIR10424683;2022-12;0;1</td>\n    </tr>\n    <tr>\n      <th>...</th>\n      <td>...</td>\n    </tr>\n    <tr>\n      <th>49306</th>\n      <td>AIR9959855;2020-01;1;0</td>\n    </tr>\n    <tr>\n      <th>49307</th>\n      <td>AIR9960008;2020-01;0;0</td>\n    </tr>\n    <tr>\n      <th>49308</th>\n      <td>AIR9976790;2020-01;1;0</td>\n    </tr>\n    <tr>\n      <th>49309</th>\n      <td>AIR9986505;2020-01;1;0</td>\n    </tr>\n    <tr>\n      <th>49310</th>\n      <td>AIR9996370;2020-01;0;0</td>\n    </tr>\n  </tbody>\n</table>\n<p>49311 rows × 1 columns</p>\n</div>"
     },
     "execution_count": 51,
     "metadata": {},
     "output_type": "execute_result"
    }
   ],
   "source": [
    "amenities"
   ],
   "metadata": {
    "collapsed": false,
    "pycharm": {
     "name": "#%%\n"
    }
   }
  },
  {
   "cell_type": "code",
   "execution_count": 52,
   "outputs": [],
   "source": [
    "manalysis1[\"unified_id\"]=manalysis1[0].str.split(\";\").str[0]\n",
    "manalysis1[\"month\"]=manalysis1[0].str.split(\";\").str[1]\n",
    "manalysis1[\"zipcode\"]=manalysis1[0].str.split(\";\").str[2]\n",
    "manalysis1[\"city\"]=manalysis1[0].str.split(\";\").str[3]\n",
    "manalysis1[\"host_type\"]=manalysis1[0].str.split(\";\").str[4]\n",
    "manalysis1[\"bedrooms\"]=manalysis1[0].str.split(\";\").str[5]\n",
    "manalysis1[\"bathrooms\"]=manalysis1[0].str.split(\";\").str[6]\n",
    "manalysis1[\"guests\"]=manalysis1[0].str.split(\";\").str[7]\n",
    "manalysis1[\"revenue\"]=manalysis1[0].str.split(\";\").str[8]\n",
    "manalysis1[\"openness\"]=manalysis1[0].str.split(\";\").str[9]\n",
    "manalysis1[\"occupancy\"]=manalysis1[0].str.split(\";\").str[10]\n",
    "manalysis1[\"nightly_rate\"]=manalysis1[0].str.split(\";\").str[11]\n",
    "manalysis1[\"lead_time\"]=manalysis1[0].str.split(\";\").str[12]\n",
    "manalysis1[\"length_stay\"]=manalysis1[0].str.split(\";\").str[13]"
   ],
   "metadata": {
    "collapsed": false,
    "pycharm": {
     "name": "#%%\n"
    }
   }
  },
  {
   "cell_type": "code",
   "execution_count": 53,
   "outputs": [],
   "source": [
    "manalysis1.drop(0,axis=1,inplace=True)"
   ],
   "metadata": {
    "collapsed": false,
    "pycharm": {
     "name": "#%%\n"
    }
   }
  },
  {
   "cell_type": "code",
   "execution_count": 54,
   "outputs": [],
   "source": [
    "manalysis1.drop(0,axis=0,inplace=True)"
   ],
   "metadata": {
    "collapsed": false,
    "pycharm": {
     "name": "#%%\n"
    }
   }
  },
  {
   "cell_type": "code",
   "execution_count": 55,
   "outputs": [
    {
     "data": {
      "text/plain": "       unified_id    month zipcode           city      host_type bedrooms  \\\n1        10000347   2020-1   92315  Big Bear Lake      2-5 Units        3   \n2        10000347  2020-10   92315  Big Bear Lake      2-5 Units        3   \n3        10000347  2020-11   92315  Big Bear Lake      2-5 Units        3   \n4        10000347  2020-12   92315  Big Bear Lake      2-5 Units        3   \n5        10000347   2020-2   92315  Big Bear Lake      2-5 Units        3   \n...           ...      ...     ...            ...            ...      ...   \n116615    9996370   2022-5   92314  Big Bear City  Single Owners        3   \n116616    9996370   2022-6   92314  Big Bear City  Single Owners        3   \n116617    9996370   2022-7   92314  Big Bear City  Single Owners        3   \n116618    9996370   2022-8   92314  Big Bear City  Single Owners        3   \n116619    9996370   2022-9   92314  Big Bear City  Single Owners        3   \n\n       bathrooms guests      revenue openness    occupancy nightly_rate  \\\n1              2     10  899,9599915       31  0,064516129  449,9799957   \n2              2     10        13950       31            1          450   \n3              2     10        13500       30            1          450   \n4              2     10        13950       31            1          450   \n5              2     10          450       29  0,034482759          450   \n...          ...    ...          ...      ...          ...          ...   \n116615         1      8            0       31            0                \n116616         1      8            0       30            0                \n116617         1      8          730       31  0,129032258        182,5   \n116618         1      8            0       31            0                \n116619         1      8            0       30            0                \n\n       lead_time length_stay  \n1             52           3  \n2                             \n3                             \n4                             \n5              8           1  \n...          ...         ...  \n116615                        \n116616                        \n116617      10,5           2  \n116618                        \n116619                        \n\n[116619 rows x 14 columns]",
      "text/html": "<div>\n<style scoped>\n    .dataframe tbody tr th:only-of-type {\n        vertical-align: middle;\n    }\n\n    .dataframe tbody tr th {\n        vertical-align: top;\n    }\n\n    .dataframe thead th {\n        text-align: right;\n    }\n</style>\n<table border=\"1\" class=\"dataframe\">\n  <thead>\n    <tr style=\"text-align: right;\">\n      <th></th>\n      <th>unified_id</th>\n      <th>month</th>\n      <th>zipcode</th>\n      <th>city</th>\n      <th>host_type</th>\n      <th>bedrooms</th>\n      <th>bathrooms</th>\n      <th>guests</th>\n      <th>revenue</th>\n      <th>openness</th>\n      <th>occupancy</th>\n      <th>nightly_rate</th>\n      <th>lead_time</th>\n      <th>length_stay</th>\n    </tr>\n  </thead>\n  <tbody>\n    <tr>\n      <th>1</th>\n      <td>10000347</td>\n      <td>2020-1</td>\n      <td>92315</td>\n      <td>Big Bear Lake</td>\n      <td>2-5 Units</td>\n      <td>3</td>\n      <td>2</td>\n      <td>10</td>\n      <td>899,9599915</td>\n      <td>31</td>\n      <td>0,064516129</td>\n      <td>449,9799957</td>\n      <td>52</td>\n      <td>3</td>\n    </tr>\n    <tr>\n      <th>2</th>\n      <td>10000347</td>\n      <td>2020-10</td>\n      <td>92315</td>\n      <td>Big Bear Lake</td>\n      <td>2-5 Units</td>\n      <td>3</td>\n      <td>2</td>\n      <td>10</td>\n      <td>13950</td>\n      <td>31</td>\n      <td>1</td>\n      <td>450</td>\n      <td></td>\n      <td></td>\n    </tr>\n    <tr>\n      <th>3</th>\n      <td>10000347</td>\n      <td>2020-11</td>\n      <td>92315</td>\n      <td>Big Bear Lake</td>\n      <td>2-5 Units</td>\n      <td>3</td>\n      <td>2</td>\n      <td>10</td>\n      <td>13500</td>\n      <td>30</td>\n      <td>1</td>\n      <td>450</td>\n      <td></td>\n      <td></td>\n    </tr>\n    <tr>\n      <th>4</th>\n      <td>10000347</td>\n      <td>2020-12</td>\n      <td>92315</td>\n      <td>Big Bear Lake</td>\n      <td>2-5 Units</td>\n      <td>3</td>\n      <td>2</td>\n      <td>10</td>\n      <td>13950</td>\n      <td>31</td>\n      <td>1</td>\n      <td>450</td>\n      <td></td>\n      <td></td>\n    </tr>\n    <tr>\n      <th>5</th>\n      <td>10000347</td>\n      <td>2020-2</td>\n      <td>92315</td>\n      <td>Big Bear Lake</td>\n      <td>2-5 Units</td>\n      <td>3</td>\n      <td>2</td>\n      <td>10</td>\n      <td>450</td>\n      <td>29</td>\n      <td>0,034482759</td>\n      <td>450</td>\n      <td>8</td>\n      <td>1</td>\n    </tr>\n    <tr>\n      <th>...</th>\n      <td>...</td>\n      <td>...</td>\n      <td>...</td>\n      <td>...</td>\n      <td>...</td>\n      <td>...</td>\n      <td>...</td>\n      <td>...</td>\n      <td>...</td>\n      <td>...</td>\n      <td>...</td>\n      <td>...</td>\n      <td>...</td>\n      <td>...</td>\n    </tr>\n    <tr>\n      <th>116615</th>\n      <td>9996370</td>\n      <td>2022-5</td>\n      <td>92314</td>\n      <td>Big Bear City</td>\n      <td>Single Owners</td>\n      <td>3</td>\n      <td>1</td>\n      <td>8</td>\n      <td>0</td>\n      <td>31</td>\n      <td>0</td>\n      <td></td>\n      <td></td>\n      <td></td>\n    </tr>\n    <tr>\n      <th>116616</th>\n      <td>9996370</td>\n      <td>2022-6</td>\n      <td>92314</td>\n      <td>Big Bear City</td>\n      <td>Single Owners</td>\n      <td>3</td>\n      <td>1</td>\n      <td>8</td>\n      <td>0</td>\n      <td>30</td>\n      <td>0</td>\n      <td></td>\n      <td></td>\n      <td></td>\n    </tr>\n    <tr>\n      <th>116617</th>\n      <td>9996370</td>\n      <td>2022-7</td>\n      <td>92314</td>\n      <td>Big Bear City</td>\n      <td>Single Owners</td>\n      <td>3</td>\n      <td>1</td>\n      <td>8</td>\n      <td>730</td>\n      <td>31</td>\n      <td>0,129032258</td>\n      <td>182,5</td>\n      <td>10,5</td>\n      <td>2</td>\n    </tr>\n    <tr>\n      <th>116618</th>\n      <td>9996370</td>\n      <td>2022-8</td>\n      <td>92314</td>\n      <td>Big Bear City</td>\n      <td>Single Owners</td>\n      <td>3</td>\n      <td>1</td>\n      <td>8</td>\n      <td>0</td>\n      <td>31</td>\n      <td>0</td>\n      <td></td>\n      <td></td>\n      <td></td>\n    </tr>\n    <tr>\n      <th>116619</th>\n      <td>9996370</td>\n      <td>2022-9</td>\n      <td>92314</td>\n      <td>Big Bear City</td>\n      <td>Single Owners</td>\n      <td>3</td>\n      <td>1</td>\n      <td>8</td>\n      <td>0</td>\n      <td>30</td>\n      <td>0</td>\n      <td></td>\n      <td></td>\n      <td></td>\n    </tr>\n  </tbody>\n</table>\n<p>116619 rows × 14 columns</p>\n</div>"
     },
     "execution_count": 55,
     "metadata": {},
     "output_type": "execute_result"
    }
   ],
   "source": [
    "manalysis1"
   ],
   "metadata": {
    "collapsed": false,
    "pycharm": {
     "name": "#%%\n"
    }
   }
  },
  {
   "cell_type": "code",
   "execution_count": 56,
   "outputs": [
    {
     "data": {
      "text/plain": "                                                       0\n0      unified_id;month;zipcode;city;host_type;bedroo...\n1      AIR10000347;2019-1;92315;Big Bear Lake;2-5 Uni...\n2      AIR10000347;2019-10;92315;Big Bear Lake;2-5 Un...\n3      AIR10000347;2019-11;92315;Big Bear Lake;2-5 Un...\n4      AIR10000347;2019-12;92315;Big Bear Lake;2-5 Un...\n...                                                  ...\n29924  AIR9996370;2019-5;92314;Big Bear City;Single O...\n29925  AIR9996370;2019-6;92314;Big Bear City;Single O...\n29926  AIR9996370;2019-7;92314;Big Bear City;Single O...\n29927  AIR9996370;2019-8;92314;Big Bear City;Single O...\n29928  AIR9996370;2019-9;92314;Big Bear City;Single O...\n\n[29929 rows x 1 columns]",
      "text/html": "<div>\n<style scoped>\n    .dataframe tbody tr th:only-of-type {\n        vertical-align: middle;\n    }\n\n    .dataframe tbody tr th {\n        vertical-align: top;\n    }\n\n    .dataframe thead th {\n        text-align: right;\n    }\n</style>\n<table border=\"1\" class=\"dataframe\">\n  <thead>\n    <tr style=\"text-align: right;\">\n      <th></th>\n      <th>0</th>\n    </tr>\n  </thead>\n  <tbody>\n    <tr>\n      <th>0</th>\n      <td>unified_id;month;zipcode;city;host_type;bedroo...</td>\n    </tr>\n    <tr>\n      <th>1</th>\n      <td>AIR10000347;2019-1;92315;Big Bear Lake;2-5 Uni...</td>\n    </tr>\n    <tr>\n      <th>2</th>\n      <td>AIR10000347;2019-10;92315;Big Bear Lake;2-5 Un...</td>\n    </tr>\n    <tr>\n      <th>3</th>\n      <td>AIR10000347;2019-11;92315;Big Bear Lake;2-5 Un...</td>\n    </tr>\n    <tr>\n      <th>4</th>\n      <td>AIR10000347;2019-12;92315;Big Bear Lake;2-5 Un...</td>\n    </tr>\n    <tr>\n      <th>...</th>\n      <td>...</td>\n    </tr>\n    <tr>\n      <th>29924</th>\n      <td>AIR9996370;2019-5;92314;Big Bear City;Single O...</td>\n    </tr>\n    <tr>\n      <th>29925</th>\n      <td>AIR9996370;2019-6;92314;Big Bear City;Single O...</td>\n    </tr>\n    <tr>\n      <th>29926</th>\n      <td>AIR9996370;2019-7;92314;Big Bear City;Single O...</td>\n    </tr>\n    <tr>\n      <th>29927</th>\n      <td>AIR9996370;2019-8;92314;Big Bear City;Single O...</td>\n    </tr>\n    <tr>\n      <th>29928</th>\n      <td>AIR9996370;2019-9;92314;Big Bear City;Single O...</td>\n    </tr>\n  </tbody>\n</table>\n<p>29929 rows × 1 columns</p>\n</div>"
     },
     "execution_count": 56,
     "metadata": {},
     "output_type": "execute_result"
    }
   ],
   "source": [
    "manalysis2"
   ],
   "metadata": {
    "collapsed": false,
    "pycharm": {
     "name": "#%%\n"
    }
   }
  },
  {
   "cell_type": "code",
   "execution_count": 57,
   "outputs": [],
   "source": [
    "manalysis2[\"unified_id\"]=manalysis2[0].str.split(\";\").str[0]\n",
    "manalysis2[\"month\"]=manalysis2[0].str.split(\";\").str[1]\n",
    "manalysis2[\"zipcode\"]=manalysis2[0].str.split(\";\").str[2]\n",
    "manalysis2[\"city\"]=manalysis2[0].str.split(\";\").str[3]\n",
    "manalysis2[\"host_type\"]=manalysis2[0].str.split(\";\").str[4]\n",
    "manalysis2[\"bedrooms\"]=manalysis2[0].str.split(\";\").str[5]\n",
    "manalysis2[\"bathrooms\"]=manalysis2[0].str.split(\";\").str[6]\n",
    "manalysis2[\"guests\"]=manalysis2[0].str.split(\";\").str[7]\n",
    "manalysis2[\"revenue\"]=manalysis2[0].str.split(\";\").str[8]\n",
    "manalysis2[\"openness\"]=manalysis2[0].str.split(\";\").str[9]\n",
    "manalysis2[\"occupancy\"]=manalysis2[0].str.split(\";\").str[10]\n",
    "manalysis2[\"nightly_rate\"]=manalysis2[0].str.split(\";\").str[11]\n",
    "manalysis2[\"lead_time\"]=manalysis2[0].str.split(\";\").str[12]\n",
    "manalysis2[\"length_stay\"]=manalysis2[0].str.split(\";\").str[13]"
   ],
   "metadata": {
    "collapsed": false,
    "pycharm": {
     "name": "#%%\n"
    }
   }
  },
  {
   "cell_type": "code",
   "execution_count": 58,
   "outputs": [],
   "source": [
    "manalysis2.drop(0,axis=1,inplace=True)\n",
    "manalysis2.drop(0,axis=0,inplace=True)"
   ],
   "metadata": {
    "collapsed": false,
    "pycharm": {
     "name": "#%%\n"
    }
   }
  },
  {
   "cell_type": "code",
   "execution_count": 59,
   "outputs": [
    {
     "data": {
      "text/plain": "        unified_id    month zipcode           city      host_type bedrooms  \\\n1      AIR10000347   2019-1   92315  Big Bear Lake      2-5 Units        3   \n2      AIR10000347  2019-10   92315  Big Bear Lake      2-5 Units        3   \n3      AIR10000347  2019-11   92315  Big Bear Lake      2-5 Units        3   \n4      AIR10000347  2019-12   92315  Big Bear Lake      2-5 Units        3   \n5      AIR10000347   2019-2   92315  Big Bear Lake      2-5 Units        3   \n...            ...      ...     ...            ...            ...      ...   \n29924   AIR9996370   2019-5   92314  Big Bear City  Single Owners        3   \n29925   AIR9996370   2019-6   92314  Big Bear City  Single Owners        3   \n29926   AIR9996370   2019-7   92314  Big Bear City  Single Owners        3   \n29927   AIR9996370   2019-8   92314  Big Bear City  Single Owners        3   \n29928   AIR9996370   2019-9   92314  Big Bear City  Single Owners        3   \n\n      bathrooms guests      revenue openness    occupancy nightly_rate  \\\n1             2     10  13948,75974       31            1  449,9599915   \n2             2     10  449,9599915       31  0,032258065  449,9599915   \n3             2     10            0       30            0                \n4             2     10  4949,679932       31   0,35483871  449,9709029   \n5             2     10            0       28            0                \n...         ...    ...          ...      ...          ...          ...   \n29924         1      8  142,9799957       31  0,032258065  142,9799957   \n29925         1      8  399,9599915       30  0,066666667  199,9799957   \n29926         1      8  658,9399872       31  0,096774194  219,6466624   \n29927         1      8  339,9599915       31  0,064516129  169,9799957   \n29928         1      8  326,9599915       30  0,066666667  163,4799957   \n\n      lead_time length_stay  \n1             8          65  \n2             8           1  \n3                            \n4            41         2,4  \n5                            \n...         ...         ...  \n29924         2           1  \n29925         2           1  \n29926        19           3  \n29927       8,5         1,5  \n29928         9           1  \n\n[29928 rows x 14 columns]",
      "text/html": "<div>\n<style scoped>\n    .dataframe tbody tr th:only-of-type {\n        vertical-align: middle;\n    }\n\n    .dataframe tbody tr th {\n        vertical-align: top;\n    }\n\n    .dataframe thead th {\n        text-align: right;\n    }\n</style>\n<table border=\"1\" class=\"dataframe\">\n  <thead>\n    <tr style=\"text-align: right;\">\n      <th></th>\n      <th>unified_id</th>\n      <th>month</th>\n      <th>zipcode</th>\n      <th>city</th>\n      <th>host_type</th>\n      <th>bedrooms</th>\n      <th>bathrooms</th>\n      <th>guests</th>\n      <th>revenue</th>\n      <th>openness</th>\n      <th>occupancy</th>\n      <th>nightly_rate</th>\n      <th>lead_time</th>\n      <th>length_stay</th>\n    </tr>\n  </thead>\n  <tbody>\n    <tr>\n      <th>1</th>\n      <td>AIR10000347</td>\n      <td>2019-1</td>\n      <td>92315</td>\n      <td>Big Bear Lake</td>\n      <td>2-5 Units</td>\n      <td>3</td>\n      <td>2</td>\n      <td>10</td>\n      <td>13948,75974</td>\n      <td>31</td>\n      <td>1</td>\n      <td>449,9599915</td>\n      <td>8</td>\n      <td>65</td>\n    </tr>\n    <tr>\n      <th>2</th>\n      <td>AIR10000347</td>\n      <td>2019-10</td>\n      <td>92315</td>\n      <td>Big Bear Lake</td>\n      <td>2-5 Units</td>\n      <td>3</td>\n      <td>2</td>\n      <td>10</td>\n      <td>449,9599915</td>\n      <td>31</td>\n      <td>0,032258065</td>\n      <td>449,9599915</td>\n      <td>8</td>\n      <td>1</td>\n    </tr>\n    <tr>\n      <th>3</th>\n      <td>AIR10000347</td>\n      <td>2019-11</td>\n      <td>92315</td>\n      <td>Big Bear Lake</td>\n      <td>2-5 Units</td>\n      <td>3</td>\n      <td>2</td>\n      <td>10</td>\n      <td>0</td>\n      <td>30</td>\n      <td>0</td>\n      <td></td>\n      <td></td>\n      <td></td>\n    </tr>\n    <tr>\n      <th>4</th>\n      <td>AIR10000347</td>\n      <td>2019-12</td>\n      <td>92315</td>\n      <td>Big Bear Lake</td>\n      <td>2-5 Units</td>\n      <td>3</td>\n      <td>2</td>\n      <td>10</td>\n      <td>4949,679932</td>\n      <td>31</td>\n      <td>0,35483871</td>\n      <td>449,9709029</td>\n      <td>41</td>\n      <td>2,4</td>\n    </tr>\n    <tr>\n      <th>5</th>\n      <td>AIR10000347</td>\n      <td>2019-2</td>\n      <td>92315</td>\n      <td>Big Bear Lake</td>\n      <td>2-5 Units</td>\n      <td>3</td>\n      <td>2</td>\n      <td>10</td>\n      <td>0</td>\n      <td>28</td>\n      <td>0</td>\n      <td></td>\n      <td></td>\n      <td></td>\n    </tr>\n    <tr>\n      <th>...</th>\n      <td>...</td>\n      <td>...</td>\n      <td>...</td>\n      <td>...</td>\n      <td>...</td>\n      <td>...</td>\n      <td>...</td>\n      <td>...</td>\n      <td>...</td>\n      <td>...</td>\n      <td>...</td>\n      <td>...</td>\n      <td>...</td>\n      <td>...</td>\n    </tr>\n    <tr>\n      <th>29924</th>\n      <td>AIR9996370</td>\n      <td>2019-5</td>\n      <td>92314</td>\n      <td>Big Bear City</td>\n      <td>Single Owners</td>\n      <td>3</td>\n      <td>1</td>\n      <td>8</td>\n      <td>142,9799957</td>\n      <td>31</td>\n      <td>0,032258065</td>\n      <td>142,9799957</td>\n      <td>2</td>\n      <td>1</td>\n    </tr>\n    <tr>\n      <th>29925</th>\n      <td>AIR9996370</td>\n      <td>2019-6</td>\n      <td>92314</td>\n      <td>Big Bear City</td>\n      <td>Single Owners</td>\n      <td>3</td>\n      <td>1</td>\n      <td>8</td>\n      <td>399,9599915</td>\n      <td>30</td>\n      <td>0,066666667</td>\n      <td>199,9799957</td>\n      <td>2</td>\n      <td>1</td>\n    </tr>\n    <tr>\n      <th>29926</th>\n      <td>AIR9996370</td>\n      <td>2019-7</td>\n      <td>92314</td>\n      <td>Big Bear City</td>\n      <td>Single Owners</td>\n      <td>3</td>\n      <td>1</td>\n      <td>8</td>\n      <td>658,9399872</td>\n      <td>31</td>\n      <td>0,096774194</td>\n      <td>219,6466624</td>\n      <td>19</td>\n      <td>3</td>\n    </tr>\n    <tr>\n      <th>29927</th>\n      <td>AIR9996370</td>\n      <td>2019-8</td>\n      <td>92314</td>\n      <td>Big Bear City</td>\n      <td>Single Owners</td>\n      <td>3</td>\n      <td>1</td>\n      <td>8</td>\n      <td>339,9599915</td>\n      <td>31</td>\n      <td>0,064516129</td>\n      <td>169,9799957</td>\n      <td>8,5</td>\n      <td>1,5</td>\n    </tr>\n    <tr>\n      <th>29928</th>\n      <td>AIR9996370</td>\n      <td>2019-9</td>\n      <td>92314</td>\n      <td>Big Bear City</td>\n      <td>Single Owners</td>\n      <td>3</td>\n      <td>1</td>\n      <td>8</td>\n      <td>326,9599915</td>\n      <td>30</td>\n      <td>0,066666667</td>\n      <td>163,4799957</td>\n      <td>9</td>\n      <td>1</td>\n    </tr>\n  </tbody>\n</table>\n<p>29928 rows × 14 columns</p>\n</div>"
     },
     "execution_count": 59,
     "metadata": {},
     "output_type": "execute_result"
    }
   ],
   "source": [
    "manalysis2"
   ],
   "metadata": {
    "collapsed": false,
    "pycharm": {
     "name": "#%%\n"
    }
   }
  },
  {
   "cell_type": "code",
   "execution_count": 60,
   "outputs": [
    {
     "data": {
      "text/plain": "      unified_id;month;hot_tub;pool\n0           AIR10052559;2022-12;1;0\n1           AIR10178668;2022-12;0;0\n2           AIR10211700;2022-12;0;0\n3           AIR10344705;2022-12;0;0\n4           AIR10424683;2022-12;0;1\n...                             ...\n49306        AIR9959855;2020-01;1;0\n49307        AIR9960008;2020-01;0;0\n49308        AIR9976790;2020-01;1;0\n49309        AIR9986505;2020-01;1;0\n49310        AIR9996370;2020-01;0;0\n\n[49311 rows x 1 columns]",
      "text/html": "<div>\n<style scoped>\n    .dataframe tbody tr th:only-of-type {\n        vertical-align: middle;\n    }\n\n    .dataframe tbody tr th {\n        vertical-align: top;\n    }\n\n    .dataframe thead th {\n        text-align: right;\n    }\n</style>\n<table border=\"1\" class=\"dataframe\">\n  <thead>\n    <tr style=\"text-align: right;\">\n      <th></th>\n      <th>unified_id;month;hot_tub;pool</th>\n    </tr>\n  </thead>\n  <tbody>\n    <tr>\n      <th>0</th>\n      <td>AIR10052559;2022-12;1;0</td>\n    </tr>\n    <tr>\n      <th>1</th>\n      <td>AIR10178668;2022-12;0;0</td>\n    </tr>\n    <tr>\n      <th>2</th>\n      <td>AIR10211700;2022-12;0;0</td>\n    </tr>\n    <tr>\n      <th>3</th>\n      <td>AIR10344705;2022-12;0;0</td>\n    </tr>\n    <tr>\n      <th>4</th>\n      <td>AIR10424683;2022-12;0;1</td>\n    </tr>\n    <tr>\n      <th>...</th>\n      <td>...</td>\n    </tr>\n    <tr>\n      <th>49306</th>\n      <td>AIR9959855;2020-01;1;0</td>\n    </tr>\n    <tr>\n      <th>49307</th>\n      <td>AIR9960008;2020-01;0;0</td>\n    </tr>\n    <tr>\n      <th>49308</th>\n      <td>AIR9976790;2020-01;1;0</td>\n    </tr>\n    <tr>\n      <th>49309</th>\n      <td>AIR9986505;2020-01;1;0</td>\n    </tr>\n    <tr>\n      <th>49310</th>\n      <td>AIR9996370;2020-01;0;0</td>\n    </tr>\n  </tbody>\n</table>\n<p>49311 rows × 1 columns</p>\n</div>"
     },
     "execution_count": 60,
     "metadata": {},
     "output_type": "execute_result"
    }
   ],
   "source": [
    "amenities\n"
   ],
   "metadata": {
    "collapsed": false,
    "pycharm": {
     "name": "#%%\n"
    }
   }
  },
  {
   "cell_type": "code",
   "execution_count": 61,
   "outputs": [
    {
     "data": {
      "text/plain": "0        AIR10052559\n1        AIR10178668\n2        AIR10211700\n3        AIR10344705\n4        AIR10424683\n            ...     \n49306     AIR9959855\n49307     AIR9960008\n49308     AIR9976790\n49309     AIR9986505\n49310     AIR9996370\nName: unified_id;month;hot_tub;pool, Length: 49311, dtype: object"
     },
     "execution_count": 61,
     "metadata": {},
     "output_type": "execute_result"
    }
   ],
   "source": [
    "amenities[\"unified_id;month;hot_tub;pool\"].str.split(\";\").str[0]"
   ],
   "metadata": {
    "collapsed": false,
    "pycharm": {
     "name": "#%%\n"
    }
   }
  },
  {
   "cell_type": "code",
   "execution_count": 62,
   "outputs": [],
   "source": [
    "amenities[\"unified_id\"]=amenities[\"unified_id;month;hot_tub;pool\"].str.split(\";\").str[0]\n",
    "amenities[\"month\"]=amenities[\"unified_id;month;hot_tub;pool\"].str.split(\";\").str[1]\n",
    "amenities[\"hot_tub;pool\"]=amenities[\"unified_id;month;hot_tub;pool\"].str.split(\";\").str[2]"
   ],
   "metadata": {
    "collapsed": false,
    "pycharm": {
     "name": "#%%\n"
    }
   }
  },
  {
   "cell_type": "code",
   "execution_count": 63,
   "outputs": [],
   "source": [
    "amenities.drop(\"unified_id;month;hot_tub;pool\",axis=1,inplace=True)"
   ],
   "metadata": {
    "collapsed": false,
    "pycharm": {
     "name": "#%%\n"
    }
   }
  },
  {
   "cell_type": "code",
   "execution_count": 64,
   "outputs": [
    {
     "data": {
      "text/plain": "        unified_id    month hot_tub;pool\n0      AIR10052559  2022-12            1\n1      AIR10178668  2022-12            0\n2      AIR10211700  2022-12            0\n3      AIR10344705  2022-12            0\n4      AIR10424683  2022-12            0\n...            ...      ...          ...\n49306   AIR9959855  2020-01            1\n49307   AIR9960008  2020-01            0\n49308   AIR9976790  2020-01            1\n49309   AIR9986505  2020-01            1\n49310   AIR9996370  2020-01            0\n\n[49311 rows x 3 columns]",
      "text/html": "<div>\n<style scoped>\n    .dataframe tbody tr th:only-of-type {\n        vertical-align: middle;\n    }\n\n    .dataframe tbody tr th {\n        vertical-align: top;\n    }\n\n    .dataframe thead th {\n        text-align: right;\n    }\n</style>\n<table border=\"1\" class=\"dataframe\">\n  <thead>\n    <tr style=\"text-align: right;\">\n      <th></th>\n      <th>unified_id</th>\n      <th>month</th>\n      <th>hot_tub;pool</th>\n    </tr>\n  </thead>\n  <tbody>\n    <tr>\n      <th>0</th>\n      <td>AIR10052559</td>\n      <td>2022-12</td>\n      <td>1</td>\n    </tr>\n    <tr>\n      <th>1</th>\n      <td>AIR10178668</td>\n      <td>2022-12</td>\n      <td>0</td>\n    </tr>\n    <tr>\n      <th>2</th>\n      <td>AIR10211700</td>\n      <td>2022-12</td>\n      <td>0</td>\n    </tr>\n    <tr>\n      <th>3</th>\n      <td>AIR10344705</td>\n      <td>2022-12</td>\n      <td>0</td>\n    </tr>\n    <tr>\n      <th>4</th>\n      <td>AIR10424683</td>\n      <td>2022-12</td>\n      <td>0</td>\n    </tr>\n    <tr>\n      <th>...</th>\n      <td>...</td>\n      <td>...</td>\n      <td>...</td>\n    </tr>\n    <tr>\n      <th>49306</th>\n      <td>AIR9959855</td>\n      <td>2020-01</td>\n      <td>1</td>\n    </tr>\n    <tr>\n      <th>49307</th>\n      <td>AIR9960008</td>\n      <td>2020-01</td>\n      <td>0</td>\n    </tr>\n    <tr>\n      <th>49308</th>\n      <td>AIR9976790</td>\n      <td>2020-01</td>\n      <td>1</td>\n    </tr>\n    <tr>\n      <th>49309</th>\n      <td>AIR9986505</td>\n      <td>2020-01</td>\n      <td>1</td>\n    </tr>\n    <tr>\n      <th>49310</th>\n      <td>AIR9996370</td>\n      <td>2020-01</td>\n      <td>0</td>\n    </tr>\n  </tbody>\n</table>\n<p>49311 rows × 3 columns</p>\n</div>"
     },
     "execution_count": 64,
     "metadata": {},
     "output_type": "execute_result"
    }
   ],
   "source": [
    "amenities"
   ],
   "metadata": {
    "collapsed": false,
    "pycharm": {
     "name": "#%%\n"
    }
   }
  },
  {
   "cell_type": "code",
   "execution_count": 65,
   "outputs": [],
   "source": [
    "result = pd.concat([manalysis1, manalysis2], ignore_index=True)"
   ],
   "metadata": {
    "collapsed": false,
    "pycharm": {
     "name": "#%%\n"
    }
   }
  },
  {
   "cell_type": "code",
   "execution_count": 66,
   "outputs": [
    {
     "data": {
      "text/plain": "        unified_id    month zipcode           city      host_type bedrooms  \\\n0         10000347   2020-1   92315  Big Bear Lake      2-5 Units        3   \n1         10000347  2020-10   92315  Big Bear Lake      2-5 Units        3   \n2         10000347  2020-11   92315  Big Bear Lake      2-5 Units        3   \n3         10000347  2020-12   92315  Big Bear Lake      2-5 Units        3   \n4         10000347   2020-2   92315  Big Bear Lake      2-5 Units        3   \n...            ...      ...     ...            ...            ...      ...   \n146542  AIR9996370   2019-5   92314  Big Bear City  Single Owners        3   \n146543  AIR9996370   2019-6   92314  Big Bear City  Single Owners        3   \n146544  AIR9996370   2019-7   92314  Big Bear City  Single Owners        3   \n146545  AIR9996370   2019-8   92314  Big Bear City  Single Owners        3   \n146546  AIR9996370   2019-9   92314  Big Bear City  Single Owners        3   \n\n       bathrooms guests      revenue openness    occupancy nightly_rate  \\\n0              2     10  899,9599915       31  0,064516129  449,9799957   \n1              2     10        13950       31            1          450   \n2              2     10        13500       30            1          450   \n3              2     10        13950       31            1          450   \n4              2     10          450       29  0,034482759          450   \n...          ...    ...          ...      ...          ...          ...   \n146542         1      8  142,9799957       31  0,032258065  142,9799957   \n146543         1      8  399,9599915       30  0,066666667  199,9799957   \n146544         1      8  658,9399872       31  0,096774194  219,6466624   \n146545         1      8  339,9599915       31  0,064516129  169,9799957   \n146546         1      8  326,9599915       30  0,066666667  163,4799957   \n\n       lead_time length_stay  \n0             52           3  \n1                             \n2                             \n3                             \n4              8           1  \n...          ...         ...  \n146542         2           1  \n146543         2           1  \n146544        19           3  \n146545       8,5         1,5  \n146546         9           1  \n\n[146547 rows x 14 columns]",
      "text/html": "<div>\n<style scoped>\n    .dataframe tbody tr th:only-of-type {\n        vertical-align: middle;\n    }\n\n    .dataframe tbody tr th {\n        vertical-align: top;\n    }\n\n    .dataframe thead th {\n        text-align: right;\n    }\n</style>\n<table border=\"1\" class=\"dataframe\">\n  <thead>\n    <tr style=\"text-align: right;\">\n      <th></th>\n      <th>unified_id</th>\n      <th>month</th>\n      <th>zipcode</th>\n      <th>city</th>\n      <th>host_type</th>\n      <th>bedrooms</th>\n      <th>bathrooms</th>\n      <th>guests</th>\n      <th>revenue</th>\n      <th>openness</th>\n      <th>occupancy</th>\n      <th>nightly_rate</th>\n      <th>lead_time</th>\n      <th>length_stay</th>\n    </tr>\n  </thead>\n  <tbody>\n    <tr>\n      <th>0</th>\n      <td>10000347</td>\n      <td>2020-1</td>\n      <td>92315</td>\n      <td>Big Bear Lake</td>\n      <td>2-5 Units</td>\n      <td>3</td>\n      <td>2</td>\n      <td>10</td>\n      <td>899,9599915</td>\n      <td>31</td>\n      <td>0,064516129</td>\n      <td>449,9799957</td>\n      <td>52</td>\n      <td>3</td>\n    </tr>\n    <tr>\n      <th>1</th>\n      <td>10000347</td>\n      <td>2020-10</td>\n      <td>92315</td>\n      <td>Big Bear Lake</td>\n      <td>2-5 Units</td>\n      <td>3</td>\n      <td>2</td>\n      <td>10</td>\n      <td>13950</td>\n      <td>31</td>\n      <td>1</td>\n      <td>450</td>\n      <td></td>\n      <td></td>\n    </tr>\n    <tr>\n      <th>2</th>\n      <td>10000347</td>\n      <td>2020-11</td>\n      <td>92315</td>\n      <td>Big Bear Lake</td>\n      <td>2-5 Units</td>\n      <td>3</td>\n      <td>2</td>\n      <td>10</td>\n      <td>13500</td>\n      <td>30</td>\n      <td>1</td>\n      <td>450</td>\n      <td></td>\n      <td></td>\n    </tr>\n    <tr>\n      <th>3</th>\n      <td>10000347</td>\n      <td>2020-12</td>\n      <td>92315</td>\n      <td>Big Bear Lake</td>\n      <td>2-5 Units</td>\n      <td>3</td>\n      <td>2</td>\n      <td>10</td>\n      <td>13950</td>\n      <td>31</td>\n      <td>1</td>\n      <td>450</td>\n      <td></td>\n      <td></td>\n    </tr>\n    <tr>\n      <th>4</th>\n      <td>10000347</td>\n      <td>2020-2</td>\n      <td>92315</td>\n      <td>Big Bear Lake</td>\n      <td>2-5 Units</td>\n      <td>3</td>\n      <td>2</td>\n      <td>10</td>\n      <td>450</td>\n      <td>29</td>\n      <td>0,034482759</td>\n      <td>450</td>\n      <td>8</td>\n      <td>1</td>\n    </tr>\n    <tr>\n      <th>...</th>\n      <td>...</td>\n      <td>...</td>\n      <td>...</td>\n      <td>...</td>\n      <td>...</td>\n      <td>...</td>\n      <td>...</td>\n      <td>...</td>\n      <td>...</td>\n      <td>...</td>\n      <td>...</td>\n      <td>...</td>\n      <td>...</td>\n      <td>...</td>\n    </tr>\n    <tr>\n      <th>146542</th>\n      <td>AIR9996370</td>\n      <td>2019-5</td>\n      <td>92314</td>\n      <td>Big Bear City</td>\n      <td>Single Owners</td>\n      <td>3</td>\n      <td>1</td>\n      <td>8</td>\n      <td>142,9799957</td>\n      <td>31</td>\n      <td>0,032258065</td>\n      <td>142,9799957</td>\n      <td>2</td>\n      <td>1</td>\n    </tr>\n    <tr>\n      <th>146543</th>\n      <td>AIR9996370</td>\n      <td>2019-6</td>\n      <td>92314</td>\n      <td>Big Bear City</td>\n      <td>Single Owners</td>\n      <td>3</td>\n      <td>1</td>\n      <td>8</td>\n      <td>399,9599915</td>\n      <td>30</td>\n      <td>0,066666667</td>\n      <td>199,9799957</td>\n      <td>2</td>\n      <td>1</td>\n    </tr>\n    <tr>\n      <th>146544</th>\n      <td>AIR9996370</td>\n      <td>2019-7</td>\n      <td>92314</td>\n      <td>Big Bear City</td>\n      <td>Single Owners</td>\n      <td>3</td>\n      <td>1</td>\n      <td>8</td>\n      <td>658,9399872</td>\n      <td>31</td>\n      <td>0,096774194</td>\n      <td>219,6466624</td>\n      <td>19</td>\n      <td>3</td>\n    </tr>\n    <tr>\n      <th>146545</th>\n      <td>AIR9996370</td>\n      <td>2019-8</td>\n      <td>92314</td>\n      <td>Big Bear City</td>\n      <td>Single Owners</td>\n      <td>3</td>\n      <td>1</td>\n      <td>8</td>\n      <td>339,9599915</td>\n      <td>31</td>\n      <td>0,064516129</td>\n      <td>169,9799957</td>\n      <td>8,5</td>\n      <td>1,5</td>\n    </tr>\n    <tr>\n      <th>146546</th>\n      <td>AIR9996370</td>\n      <td>2019-9</td>\n      <td>92314</td>\n      <td>Big Bear City</td>\n      <td>Single Owners</td>\n      <td>3</td>\n      <td>1</td>\n      <td>8</td>\n      <td>326,9599915</td>\n      <td>30</td>\n      <td>0,066666667</td>\n      <td>163,4799957</td>\n      <td>9</td>\n      <td>1</td>\n    </tr>\n  </tbody>\n</table>\n<p>146547 rows × 14 columns</p>\n</div>"
     },
     "execution_count": 66,
     "metadata": {},
     "output_type": "execute_result"
    }
   ],
   "source": [
    "result"
   ],
   "metadata": {
    "collapsed": false,
    "pycharm": {
     "name": "#%%\n"
    }
   }
  },
  {
   "cell_type": "code",
   "execution_count": 67,
   "outputs": [],
   "source": [
    "amenities[\"unified_id\"]=amenities[\"unified_id\"].str.replace(\"AIR\", \"\")"
   ],
   "metadata": {
    "collapsed": false,
    "pycharm": {
     "name": "#%%\n"
    }
   }
  },
  {
   "cell_type": "code",
   "execution_count": 68,
   "outputs": [
    {
     "data": {
      "text/plain": "      unified_id    month hot_tub;pool\n0       10052559  2022-12            1\n1       10178668  2022-12            0\n2       10211700  2022-12            0\n3       10344705  2022-12            0\n4       10424683  2022-12            0\n...          ...      ...          ...\n49306    9959855  2020-01            1\n49307    9960008  2020-01            0\n49308    9976790  2020-01            1\n49309    9986505  2020-01            1\n49310    9996370  2020-01            0\n\n[49311 rows x 3 columns]",
      "text/html": "<div>\n<style scoped>\n    .dataframe tbody tr th:only-of-type {\n        vertical-align: middle;\n    }\n\n    .dataframe tbody tr th {\n        vertical-align: top;\n    }\n\n    .dataframe thead th {\n        text-align: right;\n    }\n</style>\n<table border=\"1\" class=\"dataframe\">\n  <thead>\n    <tr style=\"text-align: right;\">\n      <th></th>\n      <th>unified_id</th>\n      <th>month</th>\n      <th>hot_tub;pool</th>\n    </tr>\n  </thead>\n  <tbody>\n    <tr>\n      <th>0</th>\n      <td>10052559</td>\n      <td>2022-12</td>\n      <td>1</td>\n    </tr>\n    <tr>\n      <th>1</th>\n      <td>10178668</td>\n      <td>2022-12</td>\n      <td>0</td>\n    </tr>\n    <tr>\n      <th>2</th>\n      <td>10211700</td>\n      <td>2022-12</td>\n      <td>0</td>\n    </tr>\n    <tr>\n      <th>3</th>\n      <td>10344705</td>\n      <td>2022-12</td>\n      <td>0</td>\n    </tr>\n    <tr>\n      <th>4</th>\n      <td>10424683</td>\n      <td>2022-12</td>\n      <td>0</td>\n    </tr>\n    <tr>\n      <th>...</th>\n      <td>...</td>\n      <td>...</td>\n      <td>...</td>\n    </tr>\n    <tr>\n      <th>49306</th>\n      <td>9959855</td>\n      <td>2020-01</td>\n      <td>1</td>\n    </tr>\n    <tr>\n      <th>49307</th>\n      <td>9960008</td>\n      <td>2020-01</td>\n      <td>0</td>\n    </tr>\n    <tr>\n      <th>49308</th>\n      <td>9976790</td>\n      <td>2020-01</td>\n      <td>1</td>\n    </tr>\n    <tr>\n      <th>49309</th>\n      <td>9986505</td>\n      <td>2020-01</td>\n      <td>1</td>\n    </tr>\n    <tr>\n      <th>49310</th>\n      <td>9996370</td>\n      <td>2020-01</td>\n      <td>0</td>\n    </tr>\n  </tbody>\n</table>\n<p>49311 rows × 3 columns</p>\n</div>"
     },
     "execution_count": 68,
     "metadata": {},
     "output_type": "execute_result"
    }
   ],
   "source": [
    "amenities"
   ],
   "metadata": {
    "collapsed": false,
    "pycharm": {
     "name": "#%%\n"
    }
   }
  },
  {
   "cell_type": "code",
   "execution_count": 69,
   "outputs": [
    {
     "data": {
      "text/plain": "        unified_id month_x zipcode           city      host_type bedrooms  \\\n0         10000347  2020-1   92315  Big Bear Lake      2-5 Units        3   \n1         10000347  2020-1   92315  Big Bear Lake      2-5 Units        3   \n2         10000347  2020-1   92315  Big Bear Lake      2-5 Units        3   \n3         10000347  2020-1   92315  Big Bear Lake      2-5 Units        3   \n4         10000347  2020-1   92315  Big Bear Lake      2-5 Units        3   \n...            ...     ...     ...            ...            ...      ...   \n1548936    9996370  2022-9   92314  Big Bear City  Single Owners        3   \n1548937    9996370  2022-9   92314  Big Bear City  Single Owners        3   \n1548938    9996370  2022-9   92314  Big Bear City  Single Owners        3   \n1548939    9996370  2022-9   92314  Big Bear City  Single Owners        3   \n1548940    9996370  2022-9   92314  Big Bear City  Single Owners        3   \n\n        bathrooms guests      revenue openness    occupancy nightly_rate  \\\n0               2     10  899,9599915       31  0,064516129  449,9799957   \n1               2     10  899,9599915       31  0,064516129  449,9799957   \n2               2     10  899,9599915       31  0,064516129  449,9799957   \n3               2     10  899,9599915       31  0,064516129  449,9799957   \n4               2     10  899,9599915       31  0,064516129  449,9799957   \n...           ...    ...          ...      ...          ...          ...   \n1548936         1      8            0       30            0                \n1548937         1      8            0       30            0                \n1548938         1      8            0       30            0                \n1548939         1      8            0       30            0                \n1548940         1      8            0       30            0                \n\n        lead_time length_stay  month_y hot_tub;pool  \n0              52           3  2021-09            0  \n1              52           3  2021-08            0  \n2              52           3  2021-07            0  \n3              52           3  2021-06            0  \n4              52           3  2021-05            0  \n...           ...         ...      ...          ...  \n1548936                        2020-05            0  \n1548937                        2020-04            0  \n1548938                        2020-03            0  \n1548939                        2020-02            0  \n1548940                        2020-01            0  \n\n[1548941 rows x 16 columns]",
      "text/html": "<div>\n<style scoped>\n    .dataframe tbody tr th:only-of-type {\n        vertical-align: middle;\n    }\n\n    .dataframe tbody tr th {\n        vertical-align: top;\n    }\n\n    .dataframe thead th {\n        text-align: right;\n    }\n</style>\n<table border=\"1\" class=\"dataframe\">\n  <thead>\n    <tr style=\"text-align: right;\">\n      <th></th>\n      <th>unified_id</th>\n      <th>month_x</th>\n      <th>zipcode</th>\n      <th>city</th>\n      <th>host_type</th>\n      <th>bedrooms</th>\n      <th>bathrooms</th>\n      <th>guests</th>\n      <th>revenue</th>\n      <th>openness</th>\n      <th>occupancy</th>\n      <th>nightly_rate</th>\n      <th>lead_time</th>\n      <th>length_stay</th>\n      <th>month_y</th>\n      <th>hot_tub;pool</th>\n    </tr>\n  </thead>\n  <tbody>\n    <tr>\n      <th>0</th>\n      <td>10000347</td>\n      <td>2020-1</td>\n      <td>92315</td>\n      <td>Big Bear Lake</td>\n      <td>2-5 Units</td>\n      <td>3</td>\n      <td>2</td>\n      <td>10</td>\n      <td>899,9599915</td>\n      <td>31</td>\n      <td>0,064516129</td>\n      <td>449,9799957</td>\n      <td>52</td>\n      <td>3</td>\n      <td>2021-09</td>\n      <td>0</td>\n    </tr>\n    <tr>\n      <th>1</th>\n      <td>10000347</td>\n      <td>2020-1</td>\n      <td>92315</td>\n      <td>Big Bear Lake</td>\n      <td>2-5 Units</td>\n      <td>3</td>\n      <td>2</td>\n      <td>10</td>\n      <td>899,9599915</td>\n      <td>31</td>\n      <td>0,064516129</td>\n      <td>449,9799957</td>\n      <td>52</td>\n      <td>3</td>\n      <td>2021-08</td>\n      <td>0</td>\n    </tr>\n    <tr>\n      <th>2</th>\n      <td>10000347</td>\n      <td>2020-1</td>\n      <td>92315</td>\n      <td>Big Bear Lake</td>\n      <td>2-5 Units</td>\n      <td>3</td>\n      <td>2</td>\n      <td>10</td>\n      <td>899,9599915</td>\n      <td>31</td>\n      <td>0,064516129</td>\n      <td>449,9799957</td>\n      <td>52</td>\n      <td>3</td>\n      <td>2021-07</td>\n      <td>0</td>\n    </tr>\n    <tr>\n      <th>3</th>\n      <td>10000347</td>\n      <td>2020-1</td>\n      <td>92315</td>\n      <td>Big Bear Lake</td>\n      <td>2-5 Units</td>\n      <td>3</td>\n      <td>2</td>\n      <td>10</td>\n      <td>899,9599915</td>\n      <td>31</td>\n      <td>0,064516129</td>\n      <td>449,9799957</td>\n      <td>52</td>\n      <td>3</td>\n      <td>2021-06</td>\n      <td>0</td>\n    </tr>\n    <tr>\n      <th>4</th>\n      <td>10000347</td>\n      <td>2020-1</td>\n      <td>92315</td>\n      <td>Big Bear Lake</td>\n      <td>2-5 Units</td>\n      <td>3</td>\n      <td>2</td>\n      <td>10</td>\n      <td>899,9599915</td>\n      <td>31</td>\n      <td>0,064516129</td>\n      <td>449,9799957</td>\n      <td>52</td>\n      <td>3</td>\n      <td>2021-05</td>\n      <td>0</td>\n    </tr>\n    <tr>\n      <th>...</th>\n      <td>...</td>\n      <td>...</td>\n      <td>...</td>\n      <td>...</td>\n      <td>...</td>\n      <td>...</td>\n      <td>...</td>\n      <td>...</td>\n      <td>...</td>\n      <td>...</td>\n      <td>...</td>\n      <td>...</td>\n      <td>...</td>\n      <td>...</td>\n      <td>...</td>\n      <td>...</td>\n    </tr>\n    <tr>\n      <th>1548936</th>\n      <td>9996370</td>\n      <td>2022-9</td>\n      <td>92314</td>\n      <td>Big Bear City</td>\n      <td>Single Owners</td>\n      <td>3</td>\n      <td>1</td>\n      <td>8</td>\n      <td>0</td>\n      <td>30</td>\n      <td>0</td>\n      <td></td>\n      <td></td>\n      <td></td>\n      <td>2020-05</td>\n      <td>0</td>\n    </tr>\n    <tr>\n      <th>1548937</th>\n      <td>9996370</td>\n      <td>2022-9</td>\n      <td>92314</td>\n      <td>Big Bear City</td>\n      <td>Single Owners</td>\n      <td>3</td>\n      <td>1</td>\n      <td>8</td>\n      <td>0</td>\n      <td>30</td>\n      <td>0</td>\n      <td></td>\n      <td></td>\n      <td></td>\n      <td>2020-04</td>\n      <td>0</td>\n    </tr>\n    <tr>\n      <th>1548938</th>\n      <td>9996370</td>\n      <td>2022-9</td>\n      <td>92314</td>\n      <td>Big Bear City</td>\n      <td>Single Owners</td>\n      <td>3</td>\n      <td>1</td>\n      <td>8</td>\n      <td>0</td>\n      <td>30</td>\n      <td>0</td>\n      <td></td>\n      <td></td>\n      <td></td>\n      <td>2020-03</td>\n      <td>0</td>\n    </tr>\n    <tr>\n      <th>1548939</th>\n      <td>9996370</td>\n      <td>2022-9</td>\n      <td>92314</td>\n      <td>Big Bear City</td>\n      <td>Single Owners</td>\n      <td>3</td>\n      <td>1</td>\n      <td>8</td>\n      <td>0</td>\n      <td>30</td>\n      <td>0</td>\n      <td></td>\n      <td></td>\n      <td></td>\n      <td>2020-02</td>\n      <td>0</td>\n    </tr>\n    <tr>\n      <th>1548940</th>\n      <td>9996370</td>\n      <td>2022-9</td>\n      <td>92314</td>\n      <td>Big Bear City</td>\n      <td>Single Owners</td>\n      <td>3</td>\n      <td>1</td>\n      <td>8</td>\n      <td>0</td>\n      <td>30</td>\n      <td>0</td>\n      <td></td>\n      <td></td>\n      <td></td>\n      <td>2020-01</td>\n      <td>0</td>\n    </tr>\n  </tbody>\n</table>\n<p>1548941 rows × 16 columns</p>\n</div>"
     },
     "execution_count": 69,
     "metadata": {},
     "output_type": "execute_result"
    }
   ],
   "source": [
    "mergedf=pd.merge(result,amenities, on=\"unified_id\", how=\"inner\")\n",
    "mergedf"
   ],
   "metadata": {
    "collapsed": false,
    "pycharm": {
     "name": "#%%\n"
    }
   }
  },
  {
   "cell_type": "code",
   "execution_count": 70,
   "outputs": [
    {
     "data": {
      "text/plain": "(1548941, 16)"
     },
     "execution_count": 70,
     "metadata": {},
     "output_type": "execute_result"
    }
   ],
   "source": [
    "mergedf.shape"
   ],
   "metadata": {
    "collapsed": false,
    "pycharm": {
     "name": "#%%\n"
    }
   }
  },
  {
   "cell_type": "code",
   "execution_count": 71,
   "outputs": [
    {
     "data": {
      "text/plain": "Empty DataFrame\nColumns: [unified_id, month_x, zipcode, city, host_type, bedrooms, bathrooms, guests, revenue, openness, occupancy, nightly_rate, lead_time, length_stay, month_y, hot_tub;pool]\nIndex: []",
      "text/html": "<div>\n<style scoped>\n    .dataframe tbody tr th:only-of-type {\n        vertical-align: middle;\n    }\n\n    .dataframe tbody tr th {\n        vertical-align: top;\n    }\n\n    .dataframe thead th {\n        text-align: right;\n    }\n</style>\n<table border=\"1\" class=\"dataframe\">\n  <thead>\n    <tr style=\"text-align: right;\">\n      <th></th>\n      <th>unified_id</th>\n      <th>month_x</th>\n      <th>zipcode</th>\n      <th>city</th>\n      <th>host_type</th>\n      <th>bedrooms</th>\n      <th>bathrooms</th>\n      <th>guests</th>\n      <th>revenue</th>\n      <th>openness</th>\n      <th>occupancy</th>\n      <th>nightly_rate</th>\n      <th>lead_time</th>\n      <th>length_stay</th>\n      <th>month_y</th>\n      <th>hot_tub;pool</th>\n    </tr>\n  </thead>\n  <tbody>\n  </tbody>\n</table>\n</div>"
     },
     "execution_count": 71,
     "metadata": {},
     "output_type": "execute_result"
    }
   ],
   "source": [
    "mergedf[mergedf.duplicated()==True]"
   ],
   "metadata": {
    "collapsed": false,
    "pycharm": {
     "name": "#%%\n"
    }
   }
  },
  {
   "cell_type": "code",
   "execution_count": 72,
   "outputs": [],
   "source": [
    "mergedf[\"revenue\"]=mergedf[\"revenue\"].str.split(\",\").str.join(\"\")"
   ],
   "metadata": {
    "collapsed": false,
    "pycharm": {
     "name": "#%%\n"
    }
   }
  },
  {
   "cell_type": "code",
   "execution_count": 73,
   "outputs": [
    {
     "data": {
      "text/plain": "        unified_id month_x zipcode           city      host_type bedrooms  \\\n0         10000347  2020-1   92315  Big Bear Lake      2-5 Units        3   \n1         10000347  2020-1   92315  Big Bear Lake      2-5 Units        3   \n2         10000347  2020-1   92315  Big Bear Lake      2-5 Units        3   \n3         10000347  2020-1   92315  Big Bear Lake      2-5 Units        3   \n4         10000347  2020-1   92315  Big Bear Lake      2-5 Units        3   \n...            ...     ...     ...            ...            ...      ...   \n1548936    9996370  2022-9   92314  Big Bear City  Single Owners        3   \n1548937    9996370  2022-9   92314  Big Bear City  Single Owners        3   \n1548938    9996370  2022-9   92314  Big Bear City  Single Owners        3   \n1548939    9996370  2022-9   92314  Big Bear City  Single Owners        3   \n1548940    9996370  2022-9   92314  Big Bear City  Single Owners        3   \n\n        bathrooms guests     revenue openness    occupancy nightly_rate  \\\n0               2     10  8999599915       31  0,064516129  449,9799957   \n1               2     10  8999599915       31  0,064516129  449,9799957   \n2               2     10  8999599915       31  0,064516129  449,9799957   \n3               2     10  8999599915       31  0,064516129  449,9799957   \n4               2     10  8999599915       31  0,064516129  449,9799957   \n...           ...    ...         ...      ...          ...          ...   \n1548936         1      8           0       30            0                \n1548937         1      8           0       30            0                \n1548938         1      8           0       30            0                \n1548939         1      8           0       30            0                \n1548940         1      8           0       30            0                \n\n        lead_time length_stay  month_y hot_tub;pool  \n0              52           3  2021-09            0  \n1              52           3  2021-08            0  \n2              52           3  2021-07            0  \n3              52           3  2021-06            0  \n4              52           3  2021-05            0  \n...           ...         ...      ...          ...  \n1548936                        2020-05            0  \n1548937                        2020-04            0  \n1548938                        2020-03            0  \n1548939                        2020-02            0  \n1548940                        2020-01            0  \n\n[1548941 rows x 16 columns]",
      "text/html": "<div>\n<style scoped>\n    .dataframe tbody tr th:only-of-type {\n        vertical-align: middle;\n    }\n\n    .dataframe tbody tr th {\n        vertical-align: top;\n    }\n\n    .dataframe thead th {\n        text-align: right;\n    }\n</style>\n<table border=\"1\" class=\"dataframe\">\n  <thead>\n    <tr style=\"text-align: right;\">\n      <th></th>\n      <th>unified_id</th>\n      <th>month_x</th>\n      <th>zipcode</th>\n      <th>city</th>\n      <th>host_type</th>\n      <th>bedrooms</th>\n      <th>bathrooms</th>\n      <th>guests</th>\n      <th>revenue</th>\n      <th>openness</th>\n      <th>occupancy</th>\n      <th>nightly_rate</th>\n      <th>lead_time</th>\n      <th>length_stay</th>\n      <th>month_y</th>\n      <th>hot_tub;pool</th>\n    </tr>\n  </thead>\n  <tbody>\n    <tr>\n      <th>0</th>\n      <td>10000347</td>\n      <td>2020-1</td>\n      <td>92315</td>\n      <td>Big Bear Lake</td>\n      <td>2-5 Units</td>\n      <td>3</td>\n      <td>2</td>\n      <td>10</td>\n      <td>8999599915</td>\n      <td>31</td>\n      <td>0,064516129</td>\n      <td>449,9799957</td>\n      <td>52</td>\n      <td>3</td>\n      <td>2021-09</td>\n      <td>0</td>\n    </tr>\n    <tr>\n      <th>1</th>\n      <td>10000347</td>\n      <td>2020-1</td>\n      <td>92315</td>\n      <td>Big Bear Lake</td>\n      <td>2-5 Units</td>\n      <td>3</td>\n      <td>2</td>\n      <td>10</td>\n      <td>8999599915</td>\n      <td>31</td>\n      <td>0,064516129</td>\n      <td>449,9799957</td>\n      <td>52</td>\n      <td>3</td>\n      <td>2021-08</td>\n      <td>0</td>\n    </tr>\n    <tr>\n      <th>2</th>\n      <td>10000347</td>\n      <td>2020-1</td>\n      <td>92315</td>\n      <td>Big Bear Lake</td>\n      <td>2-5 Units</td>\n      <td>3</td>\n      <td>2</td>\n      <td>10</td>\n      <td>8999599915</td>\n      <td>31</td>\n      <td>0,064516129</td>\n      <td>449,9799957</td>\n      <td>52</td>\n      <td>3</td>\n      <td>2021-07</td>\n      <td>0</td>\n    </tr>\n    <tr>\n      <th>3</th>\n      <td>10000347</td>\n      <td>2020-1</td>\n      <td>92315</td>\n      <td>Big Bear Lake</td>\n      <td>2-5 Units</td>\n      <td>3</td>\n      <td>2</td>\n      <td>10</td>\n      <td>8999599915</td>\n      <td>31</td>\n      <td>0,064516129</td>\n      <td>449,9799957</td>\n      <td>52</td>\n      <td>3</td>\n      <td>2021-06</td>\n      <td>0</td>\n    </tr>\n    <tr>\n      <th>4</th>\n      <td>10000347</td>\n      <td>2020-1</td>\n      <td>92315</td>\n      <td>Big Bear Lake</td>\n      <td>2-5 Units</td>\n      <td>3</td>\n      <td>2</td>\n      <td>10</td>\n      <td>8999599915</td>\n      <td>31</td>\n      <td>0,064516129</td>\n      <td>449,9799957</td>\n      <td>52</td>\n      <td>3</td>\n      <td>2021-05</td>\n      <td>0</td>\n    </tr>\n    <tr>\n      <th>...</th>\n      <td>...</td>\n      <td>...</td>\n      <td>...</td>\n      <td>...</td>\n      <td>...</td>\n      <td>...</td>\n      <td>...</td>\n      <td>...</td>\n      <td>...</td>\n      <td>...</td>\n      <td>...</td>\n      <td>...</td>\n      <td>...</td>\n      <td>...</td>\n      <td>...</td>\n      <td>...</td>\n    </tr>\n    <tr>\n      <th>1548936</th>\n      <td>9996370</td>\n      <td>2022-9</td>\n      <td>92314</td>\n      <td>Big Bear City</td>\n      <td>Single Owners</td>\n      <td>3</td>\n      <td>1</td>\n      <td>8</td>\n      <td>0</td>\n      <td>30</td>\n      <td>0</td>\n      <td></td>\n      <td></td>\n      <td></td>\n      <td>2020-05</td>\n      <td>0</td>\n    </tr>\n    <tr>\n      <th>1548937</th>\n      <td>9996370</td>\n      <td>2022-9</td>\n      <td>92314</td>\n      <td>Big Bear City</td>\n      <td>Single Owners</td>\n      <td>3</td>\n      <td>1</td>\n      <td>8</td>\n      <td>0</td>\n      <td>30</td>\n      <td>0</td>\n      <td></td>\n      <td></td>\n      <td></td>\n      <td>2020-04</td>\n      <td>0</td>\n    </tr>\n    <tr>\n      <th>1548938</th>\n      <td>9996370</td>\n      <td>2022-9</td>\n      <td>92314</td>\n      <td>Big Bear City</td>\n      <td>Single Owners</td>\n      <td>3</td>\n      <td>1</td>\n      <td>8</td>\n      <td>0</td>\n      <td>30</td>\n      <td>0</td>\n      <td></td>\n      <td></td>\n      <td></td>\n      <td>2020-03</td>\n      <td>0</td>\n    </tr>\n    <tr>\n      <th>1548939</th>\n      <td>9996370</td>\n      <td>2022-9</td>\n      <td>92314</td>\n      <td>Big Bear City</td>\n      <td>Single Owners</td>\n      <td>3</td>\n      <td>1</td>\n      <td>8</td>\n      <td>0</td>\n      <td>30</td>\n      <td>0</td>\n      <td></td>\n      <td></td>\n      <td></td>\n      <td>2020-02</td>\n      <td>0</td>\n    </tr>\n    <tr>\n      <th>1548940</th>\n      <td>9996370</td>\n      <td>2022-9</td>\n      <td>92314</td>\n      <td>Big Bear City</td>\n      <td>Single Owners</td>\n      <td>3</td>\n      <td>1</td>\n      <td>8</td>\n      <td>0</td>\n      <td>30</td>\n      <td>0</td>\n      <td></td>\n      <td></td>\n      <td></td>\n      <td>2020-01</td>\n      <td>0</td>\n    </tr>\n  </tbody>\n</table>\n<p>1548941 rows × 16 columns</p>\n</div>"
     },
     "execution_count": 73,
     "metadata": {},
     "output_type": "execute_result"
    }
   ],
   "source": [
    "mergedf"
   ],
   "metadata": {
    "collapsed": false,
    "pycharm": {
     "name": "#%%\n"
    }
   }
  },
  {
   "cell_type": "code",
   "execution_count": 74,
   "outputs": [],
   "source": [
    "mergedf[\"occupancy\"]=mergedf[\"occupancy\"].str.split(\",\").str.join(\"\")\n",
    "mergedf[\"nightly_rate\"]=mergedf[\"nightly_rate\"].str.split(\",\").str.join(\"\")"
   ],
   "metadata": {
    "collapsed": false,
    "pycharm": {
     "name": "#%%\n"
    }
   }
  },
  {
   "cell_type": "code",
   "execution_count": 75,
   "outputs": [
    {
     "data": {
      "text/plain": "array(['3', '5', '4'], dtype=object)"
     },
     "execution_count": 75,
     "metadata": {},
     "output_type": "execute_result"
    }
   ],
   "source": [
    "mergedf['bedrooms'].unique()"
   ],
   "metadata": {
    "collapsed": false,
    "pycharm": {
     "name": "#%%\n"
    }
   }
  },
  {
   "cell_type": "code",
   "execution_count": 76,
   "outputs": [
    {
     "data": {
      "text/plain": "unified_id      0\nmonth_x         0\nzipcode         0\ncity            0\nhost_type       0\nbedrooms        0\nbathrooms       0\nguests          0\nrevenue         0\nopenness        0\noccupancy       0\nnightly_rate    0\nlead_time       0\nlength_stay     0\nmonth_y         0\nhot_tub;pool    0\ndtype: int64"
     },
     "execution_count": 76,
     "metadata": {},
     "output_type": "execute_result"
    }
   ],
   "source": [
    "mergedf.isnull().sum()"
   ],
   "metadata": {
    "collapsed": false,
    "pycharm": {
     "name": "#%%\n"
    }
   }
  },
  {
   "cell_type": "code",
   "execution_count": 77,
   "outputs": [
    {
     "data": {
      "text/plain": "hot_tub;pool\n1    814858\n0    734083\nName: count, dtype: int64"
     },
     "execution_count": 77,
     "metadata": {},
     "output_type": "execute_result"
    }
   ],
   "source": [
    "mergedf[\"hot_tub;pool\"].value_counts()"
   ],
   "metadata": {
    "collapsed": false,
    "pycharm": {
     "name": "#%%\n"
    }
   }
  },
  {
   "cell_type": "code",
   "execution_count": 78,
   "outputs": [
    {
     "data": {
      "text/plain": "occupancy\n0             190461\n1             141583\n0451612903     26123\n0612903226     25583\n0387096774     24712\n               ...  \n012               76\n0647058824        76\n0764705882        72\n0736842105        61\n0411764706        40\nName: count, Length: 309, dtype: int64"
     },
     "execution_count": 78,
     "metadata": {},
     "output_type": "execute_result"
    }
   ],
   "source": [
    "mergedf[\"occupancy\"].value_counts()"
   ],
   "metadata": {
    "collapsed": false,
    "pycharm": {
     "name": "#%%\n"
    }
   }
  },
  {
   "cell_type": "code",
   "execution_count": 79,
   "outputs": [
    {
     "data": {
      "text/plain": "dtype('O')"
     },
     "execution_count": 79,
     "metadata": {},
     "output_type": "execute_result"
    }
   ],
   "source": [
    "mergedf[\"occupancy\"].dtypes"
   ],
   "metadata": {
    "collapsed": false,
    "pycharm": {
     "name": "#%%\n"
    }
   }
  },
  {
   "cell_type": "code",
   "execution_count": 80,
   "outputs": [],
   "source": [
    "mergedf[\"occupancy\"]=mergedf[\"occupancy\"].astype(int)"
   ],
   "metadata": {
    "collapsed": false,
    "pycharm": {
     "name": "#%%\n"
    }
   }
  },
  {
   "cell_type": "code",
   "execution_count": 81,
   "outputs": [
    {
     "data": {
      "text/plain": "0          64516129\n1          64516129\n2          64516129\n3          64516129\n4          64516129\n             ...   \n1548936           0\n1548937           0\n1548938           0\n1548939           0\n1548940           0\nName: occupancy, Length: 1548941, dtype: int32"
     },
     "execution_count": 81,
     "metadata": {},
     "output_type": "execute_result"
    }
   ],
   "source": [
    "mergedf[\"occupancy\"]"
   ],
   "metadata": {
    "collapsed": false,
    "pycharm": {
     "name": "#%%\n"
    }
   }
  },
  {
   "cell_type": "code",
   "execution_count": 82,
   "outputs": [
    {
     "data": {
      "text/plain": "        unified_id month_x zipcode           city      host_type bedrooms  \\\n0         10000347  2020-1   92315  Big Bear Lake      2-5 Units        3   \n1         10000347  2020-1   92315  Big Bear Lake      2-5 Units        3   \n2         10000347  2020-1   92315  Big Bear Lake      2-5 Units        3   \n3         10000347  2020-1   92315  Big Bear Lake      2-5 Units        3   \n4         10000347  2020-1   92315  Big Bear Lake      2-5 Units        3   \n...            ...     ...     ...            ...            ...      ...   \n1548884    9996370  2022-7   92314  Big Bear City  Single Owners        3   \n1548885    9996370  2022-7   92314  Big Bear City  Single Owners        3   \n1548886    9996370  2022-7   92314  Big Bear City  Single Owners        3   \n1548887    9996370  2022-7   92314  Big Bear City  Single Owners        3   \n1548888    9996370  2022-7   92314  Big Bear City  Single Owners        3   \n\n        bathrooms guests     revenue openness  occupancy nightly_rate  \\\n0               2     10  8999599915       31   64516129   4499799957   \n1               2     10  8999599915       31   64516129   4499799957   \n2               2     10  8999599915       31   64516129   4499799957   \n3               2     10  8999599915       31   64516129   4499799957   \n4               2     10  8999599915       31   64516129   4499799957   \n...           ...    ...         ...      ...        ...          ...   \n1548884         1      8         730       31  129032258         1825   \n1548885         1      8         730       31  129032258         1825   \n1548886         1      8         730       31  129032258         1825   \n1548887         1      8         730       31  129032258         1825   \n1548888         1      8         730       31  129032258         1825   \n\n        lead_time length_stay  month_y hot_tub;pool  \n0              52           3  2021-09            0  \n1              52           3  2021-08            0  \n2              52           3  2021-07            0  \n3              52           3  2021-06            0  \n4              52           3  2021-05            0  \n...           ...         ...      ...          ...  \n1548884      10,5           2  2020-05            0  \n1548885      10,5           2  2020-04            0  \n1548886      10,5           2  2020-03            0  \n1548887      10,5           2  2020-02            0  \n1548888      10,5           2  2020-01            0  \n\n[1358480 rows x 16 columns]",
      "text/html": "<div>\n<style scoped>\n    .dataframe tbody tr th:only-of-type {\n        vertical-align: middle;\n    }\n\n    .dataframe tbody tr th {\n        vertical-align: top;\n    }\n\n    .dataframe thead th {\n        text-align: right;\n    }\n</style>\n<table border=\"1\" class=\"dataframe\">\n  <thead>\n    <tr style=\"text-align: right;\">\n      <th></th>\n      <th>unified_id</th>\n      <th>month_x</th>\n      <th>zipcode</th>\n      <th>city</th>\n      <th>host_type</th>\n      <th>bedrooms</th>\n      <th>bathrooms</th>\n      <th>guests</th>\n      <th>revenue</th>\n      <th>openness</th>\n      <th>occupancy</th>\n      <th>nightly_rate</th>\n      <th>lead_time</th>\n      <th>length_stay</th>\n      <th>month_y</th>\n      <th>hot_tub;pool</th>\n    </tr>\n  </thead>\n  <tbody>\n    <tr>\n      <th>0</th>\n      <td>10000347</td>\n      <td>2020-1</td>\n      <td>92315</td>\n      <td>Big Bear Lake</td>\n      <td>2-5 Units</td>\n      <td>3</td>\n      <td>2</td>\n      <td>10</td>\n      <td>8999599915</td>\n      <td>31</td>\n      <td>64516129</td>\n      <td>4499799957</td>\n      <td>52</td>\n      <td>3</td>\n      <td>2021-09</td>\n      <td>0</td>\n    </tr>\n    <tr>\n      <th>1</th>\n      <td>10000347</td>\n      <td>2020-1</td>\n      <td>92315</td>\n      <td>Big Bear Lake</td>\n      <td>2-5 Units</td>\n      <td>3</td>\n      <td>2</td>\n      <td>10</td>\n      <td>8999599915</td>\n      <td>31</td>\n      <td>64516129</td>\n      <td>4499799957</td>\n      <td>52</td>\n      <td>3</td>\n      <td>2021-08</td>\n      <td>0</td>\n    </tr>\n    <tr>\n      <th>2</th>\n      <td>10000347</td>\n      <td>2020-1</td>\n      <td>92315</td>\n      <td>Big Bear Lake</td>\n      <td>2-5 Units</td>\n      <td>3</td>\n      <td>2</td>\n      <td>10</td>\n      <td>8999599915</td>\n      <td>31</td>\n      <td>64516129</td>\n      <td>4499799957</td>\n      <td>52</td>\n      <td>3</td>\n      <td>2021-07</td>\n      <td>0</td>\n    </tr>\n    <tr>\n      <th>3</th>\n      <td>10000347</td>\n      <td>2020-1</td>\n      <td>92315</td>\n      <td>Big Bear Lake</td>\n      <td>2-5 Units</td>\n      <td>3</td>\n      <td>2</td>\n      <td>10</td>\n      <td>8999599915</td>\n      <td>31</td>\n      <td>64516129</td>\n      <td>4499799957</td>\n      <td>52</td>\n      <td>3</td>\n      <td>2021-06</td>\n      <td>0</td>\n    </tr>\n    <tr>\n      <th>4</th>\n      <td>10000347</td>\n      <td>2020-1</td>\n      <td>92315</td>\n      <td>Big Bear Lake</td>\n      <td>2-5 Units</td>\n      <td>3</td>\n      <td>2</td>\n      <td>10</td>\n      <td>8999599915</td>\n      <td>31</td>\n      <td>64516129</td>\n      <td>4499799957</td>\n      <td>52</td>\n      <td>3</td>\n      <td>2021-05</td>\n      <td>0</td>\n    </tr>\n    <tr>\n      <th>...</th>\n      <td>...</td>\n      <td>...</td>\n      <td>...</td>\n      <td>...</td>\n      <td>...</td>\n      <td>...</td>\n      <td>...</td>\n      <td>...</td>\n      <td>...</td>\n      <td>...</td>\n      <td>...</td>\n      <td>...</td>\n      <td>...</td>\n      <td>...</td>\n      <td>...</td>\n      <td>...</td>\n    </tr>\n    <tr>\n      <th>1548884</th>\n      <td>9996370</td>\n      <td>2022-7</td>\n      <td>92314</td>\n      <td>Big Bear City</td>\n      <td>Single Owners</td>\n      <td>3</td>\n      <td>1</td>\n      <td>8</td>\n      <td>730</td>\n      <td>31</td>\n      <td>129032258</td>\n      <td>1825</td>\n      <td>10,5</td>\n      <td>2</td>\n      <td>2020-05</td>\n      <td>0</td>\n    </tr>\n    <tr>\n      <th>1548885</th>\n      <td>9996370</td>\n      <td>2022-7</td>\n      <td>92314</td>\n      <td>Big Bear City</td>\n      <td>Single Owners</td>\n      <td>3</td>\n      <td>1</td>\n      <td>8</td>\n      <td>730</td>\n      <td>31</td>\n      <td>129032258</td>\n      <td>1825</td>\n      <td>10,5</td>\n      <td>2</td>\n      <td>2020-04</td>\n      <td>0</td>\n    </tr>\n    <tr>\n      <th>1548886</th>\n      <td>9996370</td>\n      <td>2022-7</td>\n      <td>92314</td>\n      <td>Big Bear City</td>\n      <td>Single Owners</td>\n      <td>3</td>\n      <td>1</td>\n      <td>8</td>\n      <td>730</td>\n      <td>31</td>\n      <td>129032258</td>\n      <td>1825</td>\n      <td>10,5</td>\n      <td>2</td>\n      <td>2020-03</td>\n      <td>0</td>\n    </tr>\n    <tr>\n      <th>1548887</th>\n      <td>9996370</td>\n      <td>2022-7</td>\n      <td>92314</td>\n      <td>Big Bear City</td>\n      <td>Single Owners</td>\n      <td>3</td>\n      <td>1</td>\n      <td>8</td>\n      <td>730</td>\n      <td>31</td>\n      <td>129032258</td>\n      <td>1825</td>\n      <td>10,5</td>\n      <td>2</td>\n      <td>2020-02</td>\n      <td>0</td>\n    </tr>\n    <tr>\n      <th>1548888</th>\n      <td>9996370</td>\n      <td>2022-7</td>\n      <td>92314</td>\n      <td>Big Bear City</td>\n      <td>Single Owners</td>\n      <td>3</td>\n      <td>1</td>\n      <td>8</td>\n      <td>730</td>\n      <td>31</td>\n      <td>129032258</td>\n      <td>1825</td>\n      <td>10,5</td>\n      <td>2</td>\n      <td>2020-01</td>\n      <td>0</td>\n    </tr>\n  </tbody>\n</table>\n<p>1358480 rows × 16 columns</p>\n</div>"
     },
     "execution_count": 82,
     "metadata": {},
     "output_type": "execute_result"
    }
   ],
   "source": [
    "mergedf[mergedf[\"occupancy\"] >= 1]"
   ],
   "metadata": {
    "collapsed": false,
    "pycharm": {
     "name": "#%%\n"
    }
   }
  },
  {
   "cell_type": "code",
   "execution_count": 83,
   "outputs": [
    {
     "data": {
      "text/plain": "        unified_id month_x zipcode           city      host_type bedrooms  \\\n0         10000347  2020-1   92315  Big Bear Lake      2-5 Units        3   \n1         10000347  2020-1   92315  Big Bear Lake      2-5 Units        3   \n2         10000347  2020-1   92315  Big Bear Lake      2-5 Units        3   \n3         10000347  2020-1   92315  Big Bear Lake      2-5 Units        3   \n4         10000347  2020-1   92315  Big Bear Lake      2-5 Units        3   \n...            ...     ...     ...            ...            ...      ...   \n1548884    9996370  2022-7   92314  Big Bear City  Single Owners        3   \n1548885    9996370  2022-7   92314  Big Bear City  Single Owners        3   \n1548886    9996370  2022-7   92314  Big Bear City  Single Owners        3   \n1548887    9996370  2022-7   92314  Big Bear City  Single Owners        3   \n1548888    9996370  2022-7   92314  Big Bear City  Single Owners        3   \n\n        bathrooms guests     revenue openness  occupancy nightly_rate  \\\n0               2     10  8999599915       31   64516129   4499799957   \n1               2     10  8999599915       31   64516129   4499799957   \n2               2     10  8999599915       31   64516129   4499799957   \n3               2     10  8999599915       31   64516129   4499799957   \n4               2     10  8999599915       31   64516129   4499799957   \n...           ...    ...         ...      ...        ...          ...   \n1548884         1      8         730       31  129032258         1825   \n1548885         1      8         730       31  129032258         1825   \n1548886         1      8         730       31  129032258         1825   \n1548887         1      8         730       31  129032258         1825   \n1548888         1      8         730       31  129032258         1825   \n\n        lead_time length_stay  month_y hot_tub;pool  \n0              52           3  2021-09            0  \n1              52           3  2021-08            0  \n2              52           3  2021-07            0  \n3              52           3  2021-06            0  \n4              52           3  2021-05            0  \n...           ...         ...      ...          ...  \n1548884      10,5           2  2020-05            0  \n1548885      10,5           2  2020-04            0  \n1548886      10,5           2  2020-03            0  \n1548887      10,5           2  2020-02            0  \n1548888      10,5           2  2020-01            0  \n\n[1358480 rows x 16 columns]",
      "text/html": "<div>\n<style scoped>\n    .dataframe tbody tr th:only-of-type {\n        vertical-align: middle;\n    }\n\n    .dataframe tbody tr th {\n        vertical-align: top;\n    }\n\n    .dataframe thead th {\n        text-align: right;\n    }\n</style>\n<table border=\"1\" class=\"dataframe\">\n  <thead>\n    <tr style=\"text-align: right;\">\n      <th></th>\n      <th>unified_id</th>\n      <th>month_x</th>\n      <th>zipcode</th>\n      <th>city</th>\n      <th>host_type</th>\n      <th>bedrooms</th>\n      <th>bathrooms</th>\n      <th>guests</th>\n      <th>revenue</th>\n      <th>openness</th>\n      <th>occupancy</th>\n      <th>nightly_rate</th>\n      <th>lead_time</th>\n      <th>length_stay</th>\n      <th>month_y</th>\n      <th>hot_tub;pool</th>\n    </tr>\n  </thead>\n  <tbody>\n    <tr>\n      <th>0</th>\n      <td>10000347</td>\n      <td>2020-1</td>\n      <td>92315</td>\n      <td>Big Bear Lake</td>\n      <td>2-5 Units</td>\n      <td>3</td>\n      <td>2</td>\n      <td>10</td>\n      <td>8999599915</td>\n      <td>31</td>\n      <td>64516129</td>\n      <td>4499799957</td>\n      <td>52</td>\n      <td>3</td>\n      <td>2021-09</td>\n      <td>0</td>\n    </tr>\n    <tr>\n      <th>1</th>\n      <td>10000347</td>\n      <td>2020-1</td>\n      <td>92315</td>\n      <td>Big Bear Lake</td>\n      <td>2-5 Units</td>\n      <td>3</td>\n      <td>2</td>\n      <td>10</td>\n      <td>8999599915</td>\n      <td>31</td>\n      <td>64516129</td>\n      <td>4499799957</td>\n      <td>52</td>\n      <td>3</td>\n      <td>2021-08</td>\n      <td>0</td>\n    </tr>\n    <tr>\n      <th>2</th>\n      <td>10000347</td>\n      <td>2020-1</td>\n      <td>92315</td>\n      <td>Big Bear Lake</td>\n      <td>2-5 Units</td>\n      <td>3</td>\n      <td>2</td>\n      <td>10</td>\n      <td>8999599915</td>\n      <td>31</td>\n      <td>64516129</td>\n      <td>4499799957</td>\n      <td>52</td>\n      <td>3</td>\n      <td>2021-07</td>\n      <td>0</td>\n    </tr>\n    <tr>\n      <th>3</th>\n      <td>10000347</td>\n      <td>2020-1</td>\n      <td>92315</td>\n      <td>Big Bear Lake</td>\n      <td>2-5 Units</td>\n      <td>3</td>\n      <td>2</td>\n      <td>10</td>\n      <td>8999599915</td>\n      <td>31</td>\n      <td>64516129</td>\n      <td>4499799957</td>\n      <td>52</td>\n      <td>3</td>\n      <td>2021-06</td>\n      <td>0</td>\n    </tr>\n    <tr>\n      <th>4</th>\n      <td>10000347</td>\n      <td>2020-1</td>\n      <td>92315</td>\n      <td>Big Bear Lake</td>\n      <td>2-5 Units</td>\n      <td>3</td>\n      <td>2</td>\n      <td>10</td>\n      <td>8999599915</td>\n      <td>31</td>\n      <td>64516129</td>\n      <td>4499799957</td>\n      <td>52</td>\n      <td>3</td>\n      <td>2021-05</td>\n      <td>0</td>\n    </tr>\n    <tr>\n      <th>...</th>\n      <td>...</td>\n      <td>...</td>\n      <td>...</td>\n      <td>...</td>\n      <td>...</td>\n      <td>...</td>\n      <td>...</td>\n      <td>...</td>\n      <td>...</td>\n      <td>...</td>\n      <td>...</td>\n      <td>...</td>\n      <td>...</td>\n      <td>...</td>\n      <td>...</td>\n      <td>...</td>\n    </tr>\n    <tr>\n      <th>1548884</th>\n      <td>9996370</td>\n      <td>2022-7</td>\n      <td>92314</td>\n      <td>Big Bear City</td>\n      <td>Single Owners</td>\n      <td>3</td>\n      <td>1</td>\n      <td>8</td>\n      <td>730</td>\n      <td>31</td>\n      <td>129032258</td>\n      <td>1825</td>\n      <td>10,5</td>\n      <td>2</td>\n      <td>2020-05</td>\n      <td>0</td>\n    </tr>\n    <tr>\n      <th>1548885</th>\n      <td>9996370</td>\n      <td>2022-7</td>\n      <td>92314</td>\n      <td>Big Bear City</td>\n      <td>Single Owners</td>\n      <td>3</td>\n      <td>1</td>\n      <td>8</td>\n      <td>730</td>\n      <td>31</td>\n      <td>129032258</td>\n      <td>1825</td>\n      <td>10,5</td>\n      <td>2</td>\n      <td>2020-04</td>\n      <td>0</td>\n    </tr>\n    <tr>\n      <th>1548886</th>\n      <td>9996370</td>\n      <td>2022-7</td>\n      <td>92314</td>\n      <td>Big Bear City</td>\n      <td>Single Owners</td>\n      <td>3</td>\n      <td>1</td>\n      <td>8</td>\n      <td>730</td>\n      <td>31</td>\n      <td>129032258</td>\n      <td>1825</td>\n      <td>10,5</td>\n      <td>2</td>\n      <td>2020-03</td>\n      <td>0</td>\n    </tr>\n    <tr>\n      <th>1548887</th>\n      <td>9996370</td>\n      <td>2022-7</td>\n      <td>92314</td>\n      <td>Big Bear City</td>\n      <td>Single Owners</td>\n      <td>3</td>\n      <td>1</td>\n      <td>8</td>\n      <td>730</td>\n      <td>31</td>\n      <td>129032258</td>\n      <td>1825</td>\n      <td>10,5</td>\n      <td>2</td>\n      <td>2020-02</td>\n      <td>0</td>\n    </tr>\n    <tr>\n      <th>1548888</th>\n      <td>9996370</td>\n      <td>2022-7</td>\n      <td>92314</td>\n      <td>Big Bear City</td>\n      <td>Single Owners</td>\n      <td>3</td>\n      <td>1</td>\n      <td>8</td>\n      <td>730</td>\n      <td>31</td>\n      <td>129032258</td>\n      <td>1825</td>\n      <td>10,5</td>\n      <td>2</td>\n      <td>2020-01</td>\n      <td>0</td>\n    </tr>\n  </tbody>\n</table>\n<p>1358480 rows × 16 columns</p>\n</div>"
     },
     "execution_count": 83,
     "metadata": {},
     "output_type": "execute_result"
    }
   ],
   "source": [
    "mergedf[mergedf[\"occupancy\"] >= 1]"
   ],
   "metadata": {
    "collapsed": false,
    "pycharm": {
     "name": "#%%\n"
    }
   }
  },
  {
   "cell_type": "code",
   "execution_count": 84,
   "outputs": [],
   "source": [
    "# mergedf.to_csv(\"mergedf.csv\")"
   ],
   "metadata": {
    "collapsed": false,
    "pycharm": {
     "name": "#%%\n"
    }
   }
  },
  {
   "cell_type": "code",
   "execution_count": 85,
   "outputs": [
    {
     "data": {
      "text/plain": "unified_id      0\nmonth_x         0\nzipcode         0\ncity            0\nhost_type       0\nbedrooms        0\nbathrooms       0\nguests          0\nrevenue         0\nopenness        0\noccupancy       0\nnightly_rate    0\nlead_time       0\nlength_stay     0\nmonth_y         0\nhot_tub;pool    0\ndtype: int64"
     },
     "execution_count": 85,
     "metadata": {},
     "output_type": "execute_result"
    }
   ],
   "source": [
    "mergedf.isnull().sum()"
   ],
   "metadata": {
    "collapsed": false,
    "pycharm": {
     "name": "#%%\n"
    }
   }
  },
  {
   "cell_type": "code",
   "execution_count": 86,
   "outputs": [
    {
     "data": {
      "text/plain": "unified_id      0\nmonth_x         0\nzipcode         0\ncity            0\nhost_type       0\nbedrooms        0\nbathrooms       0\nguests          0\nrevenue         0\nopenness        0\noccupancy       0\nnightly_rate    0\nlead_time       0\nlength_stay     0\nmonth_y         0\nhot_tub;pool    0\ndtype: int64"
     },
     "execution_count": 86,
     "metadata": {},
     "output_type": "execute_result"
    }
   ],
   "source": [
    "mergedf.isna().sum()"
   ],
   "metadata": {
    "collapsed": false,
    "pycharm": {
     "name": "#%%\n"
    }
   }
  },
  {
   "cell_type": "code",
   "execution_count": 87,
   "outputs": [],
   "source": [
    "# mergedf.to_csv(\"mergedfdata.csv\")"
   ],
   "metadata": {
    "collapsed": false,
    "pycharm": {
     "name": "#%%\n"
    }
   }
  },
  {
   "cell_type": "code",
   "execution_count": 88,
   "outputs": [
    {
     "data": {
      "text/plain": "Index(['unified_id', 'month_x', 'zipcode', 'city', 'host_type', 'bedrooms',\n       'bathrooms', 'guests', 'revenue', 'openness', 'occupancy',\n       'nightly_rate', 'lead_time', 'length_stay', 'month_y', 'hot_tub;pool'],\n      dtype='object')"
     },
     "execution_count": 88,
     "metadata": {},
     "output_type": "execute_result"
    }
   ],
   "source": [
    "mergedf.columns"
   ],
   "metadata": {
    "collapsed": false,
    "pycharm": {
     "name": "#%%\n"
    }
   }
  },
  {
   "cell_type": "code",
   "execution_count": 89,
   "outputs": [
    {
     "data": {
      "text/plain": "unified_id       2126\nmonth_x            36\nzipcode             4\ncity                4\nhost_type           3\nbedrooms            3\nbathrooms          12\nguests             13\nrevenue         16990\nopenness           31\noccupancy         302\nnightly_rate    28569\nlead_time        5869\nlength_stay       894\nmonth_y            36\nhot_tub;pool        2\ndtype: int64"
     },
     "execution_count": 89,
     "metadata": {},
     "output_type": "execute_result"
    }
   ],
   "source": [
    "mergedf.nunique()"
   ],
   "metadata": {
    "collapsed": false,
    "pycharm": {
     "name": "#%%\n"
    }
   }
  },
  {
   "cell_type": "code",
   "execution_count": 90,
   "outputs": [],
   "source": [
    "mergedf.drop(labels=[\"month_y\",\"lead_time\"],axis=1,inplace=True)"
   ],
   "metadata": {
    "collapsed": false,
    "pycharm": {
     "name": "#%%\n"
    }
   }
  },
  {
   "cell_type": "code",
   "execution_count": 91,
   "outputs": [],
   "source": [
    "from scipy.stats import norm\n",
    "import numpy as np\n",
    "import matplotlib.pyplot as plt"
   ],
   "metadata": {
    "collapsed": false,
    "pycharm": {
     "name": "#%%\n"
    }
   }
  },
  {
   "cell_type": "code",
   "execution_count": 92,
   "outputs": [
    {
     "data": {
      "text/plain": "unified_id      object\nmonth_x         object\nzipcode         object\ncity            object\nhost_type       object\nbedrooms        object\nbathrooms       object\nguests          object\nrevenue         object\nopenness        object\noccupancy        int32\nnightly_rate    object\nlength_stay     object\nhot_tub;pool    object\ndtype: object"
     },
     "execution_count": 92,
     "metadata": {},
     "output_type": "execute_result"
    }
   ],
   "source": [
    "mergedf.dtypes"
   ],
   "metadata": {
    "collapsed": false,
    "pycharm": {
     "name": "#%%\n"
    }
   }
  },
  {
   "cell_type": "code",
   "execution_count": 93,
   "outputs": [
    {
     "ename": "OverflowError",
     "evalue": "Python int too large to convert to C long",
     "output_type": "error",
     "traceback": [
      "\u001B[1;31m---------------------------------------------------------------------------\u001B[0m",
      "\u001B[1;31mOverflowError\u001B[0m                             Traceback (most recent call last)",
      "Cell \u001B[1;32mIn[93], line 1\u001B[0m\n\u001B[1;32m----> 1\u001B[0m \u001B[43mmergedf\u001B[49m\u001B[43m[\u001B[49m\u001B[38;5;124;43m\"\u001B[39;49m\u001B[38;5;124;43mrevenue\u001B[39;49m\u001B[38;5;124;43m\"\u001B[39;49m\u001B[43m]\u001B[49m\u001B[38;5;241;43m.\u001B[39;49m\u001B[43mastype\u001B[49m\u001B[43m(\u001B[49m\u001B[38;5;28;43mint\u001B[39;49m\u001B[43m)\u001B[49m\n",
      "File \u001B[1;32m~\\AppData\\Roaming\\Python\\Python310\\site-packages\\pandas\\core\\generic.py:6324\u001B[0m, in \u001B[0;36mNDFrame.astype\u001B[1;34m(self, dtype, copy, errors)\u001B[0m\n\u001B[0;32m   6317\u001B[0m     results \u001B[38;5;241m=\u001B[39m [\n\u001B[0;32m   6318\u001B[0m         \u001B[38;5;28mself\u001B[39m\u001B[38;5;241m.\u001B[39miloc[:, i]\u001B[38;5;241m.\u001B[39mastype(dtype, copy\u001B[38;5;241m=\u001B[39mcopy)\n\u001B[0;32m   6319\u001B[0m         \u001B[38;5;28;01mfor\u001B[39;00m i \u001B[38;5;129;01min\u001B[39;00m \u001B[38;5;28mrange\u001B[39m(\u001B[38;5;28mlen\u001B[39m(\u001B[38;5;28mself\u001B[39m\u001B[38;5;241m.\u001B[39mcolumns))\n\u001B[0;32m   6320\u001B[0m     ]\n\u001B[0;32m   6322\u001B[0m \u001B[38;5;28;01melse\u001B[39;00m:\n\u001B[0;32m   6323\u001B[0m     \u001B[38;5;66;03m# else, only a single dtype is given\u001B[39;00m\n\u001B[1;32m-> 6324\u001B[0m     new_data \u001B[38;5;241m=\u001B[39m \u001B[38;5;28;43mself\u001B[39;49m\u001B[38;5;241;43m.\u001B[39;49m\u001B[43m_mgr\u001B[49m\u001B[38;5;241;43m.\u001B[39;49m\u001B[43mastype\u001B[49m\u001B[43m(\u001B[49m\u001B[43mdtype\u001B[49m\u001B[38;5;241;43m=\u001B[39;49m\u001B[43mdtype\u001B[49m\u001B[43m,\u001B[49m\u001B[43m \u001B[49m\u001B[43mcopy\u001B[49m\u001B[38;5;241;43m=\u001B[39;49m\u001B[43mcopy\u001B[49m\u001B[43m,\u001B[49m\u001B[43m \u001B[49m\u001B[43merrors\u001B[49m\u001B[38;5;241;43m=\u001B[39;49m\u001B[43merrors\u001B[49m\u001B[43m)\u001B[49m\n\u001B[0;32m   6325\u001B[0m     \u001B[38;5;28;01mreturn\u001B[39;00m \u001B[38;5;28mself\u001B[39m\u001B[38;5;241m.\u001B[39m_constructor(new_data)\u001B[38;5;241m.\u001B[39m__finalize__(\u001B[38;5;28mself\u001B[39m, method\u001B[38;5;241m=\u001B[39m\u001B[38;5;124m\"\u001B[39m\u001B[38;5;124mastype\u001B[39m\u001B[38;5;124m\"\u001B[39m)\n\u001B[0;32m   6327\u001B[0m \u001B[38;5;66;03m# GH 33113: handle empty frame or series\u001B[39;00m\n",
      "File \u001B[1;32m~\\AppData\\Roaming\\Python\\Python310\\site-packages\\pandas\\core\\internals\\managers.py:451\u001B[0m, in \u001B[0;36mBaseBlockManager.astype\u001B[1;34m(self, dtype, copy, errors)\u001B[0m\n\u001B[0;32m    448\u001B[0m \u001B[38;5;28;01melif\u001B[39;00m using_copy_on_write():\n\u001B[0;32m    449\u001B[0m     copy \u001B[38;5;241m=\u001B[39m \u001B[38;5;28;01mFalse\u001B[39;00m\n\u001B[1;32m--> 451\u001B[0m \u001B[38;5;28;01mreturn\u001B[39;00m \u001B[38;5;28;43mself\u001B[39;49m\u001B[38;5;241;43m.\u001B[39;49m\u001B[43mapply\u001B[49m\u001B[43m(\u001B[49m\n\u001B[0;32m    452\u001B[0m \u001B[43m    \u001B[49m\u001B[38;5;124;43m\"\u001B[39;49m\u001B[38;5;124;43mastype\u001B[39;49m\u001B[38;5;124;43m\"\u001B[39;49m\u001B[43m,\u001B[49m\n\u001B[0;32m    453\u001B[0m \u001B[43m    \u001B[49m\u001B[43mdtype\u001B[49m\u001B[38;5;241;43m=\u001B[39;49m\u001B[43mdtype\u001B[49m\u001B[43m,\u001B[49m\n\u001B[0;32m    454\u001B[0m \u001B[43m    \u001B[49m\u001B[43mcopy\u001B[49m\u001B[38;5;241;43m=\u001B[39;49m\u001B[43mcopy\u001B[49m\u001B[43m,\u001B[49m\n\u001B[0;32m    455\u001B[0m \u001B[43m    \u001B[49m\u001B[43merrors\u001B[49m\u001B[38;5;241;43m=\u001B[39;49m\u001B[43merrors\u001B[49m\u001B[43m,\u001B[49m\n\u001B[0;32m    456\u001B[0m \u001B[43m    \u001B[49m\u001B[43musing_cow\u001B[49m\u001B[38;5;241;43m=\u001B[39;49m\u001B[43musing_copy_on_write\u001B[49m\u001B[43m(\u001B[49m\u001B[43m)\u001B[49m\u001B[43m,\u001B[49m\n\u001B[0;32m    457\u001B[0m \u001B[43m\u001B[49m\u001B[43m)\u001B[49m\n",
      "File \u001B[1;32m~\\AppData\\Roaming\\Python\\Python310\\site-packages\\pandas\\core\\internals\\managers.py:352\u001B[0m, in \u001B[0;36mBaseBlockManager.apply\u001B[1;34m(self, f, align_keys, **kwargs)\u001B[0m\n\u001B[0;32m    350\u001B[0m         applied \u001B[38;5;241m=\u001B[39m b\u001B[38;5;241m.\u001B[39mapply(f, \u001B[38;5;241m*\u001B[39m\u001B[38;5;241m*\u001B[39mkwargs)\n\u001B[0;32m    351\u001B[0m     \u001B[38;5;28;01melse\u001B[39;00m:\n\u001B[1;32m--> 352\u001B[0m         applied \u001B[38;5;241m=\u001B[39m \u001B[38;5;28mgetattr\u001B[39m(b, f)(\u001B[38;5;241m*\u001B[39m\u001B[38;5;241m*\u001B[39mkwargs)\n\u001B[0;32m    353\u001B[0m     result_blocks \u001B[38;5;241m=\u001B[39m extend_blocks(applied, result_blocks)\n\u001B[0;32m    355\u001B[0m out \u001B[38;5;241m=\u001B[39m \u001B[38;5;28mtype\u001B[39m(\u001B[38;5;28mself\u001B[39m)\u001B[38;5;241m.\u001B[39mfrom_blocks(result_blocks, \u001B[38;5;28mself\u001B[39m\u001B[38;5;241m.\u001B[39maxes)\n",
      "File \u001B[1;32m~\\AppData\\Roaming\\Python\\Python310\\site-packages\\pandas\\core\\internals\\blocks.py:511\u001B[0m, in \u001B[0;36mBlock.astype\u001B[1;34m(self, dtype, copy, errors, using_cow)\u001B[0m\n\u001B[0;32m    491\u001B[0m \u001B[38;5;250m\u001B[39m\u001B[38;5;124;03m\"\"\"\u001B[39;00m\n\u001B[0;32m    492\u001B[0m \u001B[38;5;124;03mCoerce to the new dtype.\u001B[39;00m\n\u001B[0;32m    493\u001B[0m \n\u001B[1;32m   (...)\u001B[0m\n\u001B[0;32m    507\u001B[0m \u001B[38;5;124;03mBlock\u001B[39;00m\n\u001B[0;32m    508\u001B[0m \u001B[38;5;124;03m\"\"\"\u001B[39;00m\n\u001B[0;32m    509\u001B[0m values \u001B[38;5;241m=\u001B[39m \u001B[38;5;28mself\u001B[39m\u001B[38;5;241m.\u001B[39mvalues\n\u001B[1;32m--> 511\u001B[0m new_values \u001B[38;5;241m=\u001B[39m \u001B[43mastype_array_safe\u001B[49m\u001B[43m(\u001B[49m\u001B[43mvalues\u001B[49m\u001B[43m,\u001B[49m\u001B[43m \u001B[49m\u001B[43mdtype\u001B[49m\u001B[43m,\u001B[49m\u001B[43m \u001B[49m\u001B[43mcopy\u001B[49m\u001B[38;5;241;43m=\u001B[39;49m\u001B[43mcopy\u001B[49m\u001B[43m,\u001B[49m\u001B[43m \u001B[49m\u001B[43merrors\u001B[49m\u001B[38;5;241;43m=\u001B[39;49m\u001B[43merrors\u001B[49m\u001B[43m)\u001B[49m\n\u001B[0;32m    513\u001B[0m new_values \u001B[38;5;241m=\u001B[39m maybe_coerce_values(new_values)\n\u001B[0;32m    515\u001B[0m refs \u001B[38;5;241m=\u001B[39m \u001B[38;5;28;01mNone\u001B[39;00m\n",
      "File \u001B[1;32m~\\AppData\\Roaming\\Python\\Python310\\site-packages\\pandas\\core\\dtypes\\astype.py:242\u001B[0m, in \u001B[0;36mastype_array_safe\u001B[1;34m(values, dtype, copy, errors)\u001B[0m\n\u001B[0;32m    239\u001B[0m     dtype \u001B[38;5;241m=\u001B[39m dtype\u001B[38;5;241m.\u001B[39mnumpy_dtype\n\u001B[0;32m    241\u001B[0m \u001B[38;5;28;01mtry\u001B[39;00m:\n\u001B[1;32m--> 242\u001B[0m     new_values \u001B[38;5;241m=\u001B[39m \u001B[43mastype_array\u001B[49m\u001B[43m(\u001B[49m\u001B[43mvalues\u001B[49m\u001B[43m,\u001B[49m\u001B[43m \u001B[49m\u001B[43mdtype\u001B[49m\u001B[43m,\u001B[49m\u001B[43m \u001B[49m\u001B[43mcopy\u001B[49m\u001B[38;5;241;43m=\u001B[39;49m\u001B[43mcopy\u001B[49m\u001B[43m)\u001B[49m\n\u001B[0;32m    243\u001B[0m \u001B[38;5;28;01mexcept\u001B[39;00m (\u001B[38;5;167;01mValueError\u001B[39;00m, \u001B[38;5;167;01mTypeError\u001B[39;00m):\n\u001B[0;32m    244\u001B[0m     \u001B[38;5;66;03m# e.g. _astype_nansafe can fail on object-dtype of strings\u001B[39;00m\n\u001B[0;32m    245\u001B[0m     \u001B[38;5;66;03m#  trying to convert to float\u001B[39;00m\n\u001B[0;32m    246\u001B[0m     \u001B[38;5;28;01mif\u001B[39;00m errors \u001B[38;5;241m==\u001B[39m \u001B[38;5;124m\"\u001B[39m\u001B[38;5;124mignore\u001B[39m\u001B[38;5;124m\"\u001B[39m:\n",
      "File \u001B[1;32m~\\AppData\\Roaming\\Python\\Python310\\site-packages\\pandas\\core\\dtypes\\astype.py:187\u001B[0m, in \u001B[0;36mastype_array\u001B[1;34m(values, dtype, copy)\u001B[0m\n\u001B[0;32m    184\u001B[0m     values \u001B[38;5;241m=\u001B[39m values\u001B[38;5;241m.\u001B[39mastype(dtype, copy\u001B[38;5;241m=\u001B[39mcopy)\n\u001B[0;32m    186\u001B[0m \u001B[38;5;28;01melse\u001B[39;00m:\n\u001B[1;32m--> 187\u001B[0m     values \u001B[38;5;241m=\u001B[39m \u001B[43m_astype_nansafe\u001B[49m\u001B[43m(\u001B[49m\u001B[43mvalues\u001B[49m\u001B[43m,\u001B[49m\u001B[43m \u001B[49m\u001B[43mdtype\u001B[49m\u001B[43m,\u001B[49m\u001B[43m \u001B[49m\u001B[43mcopy\u001B[49m\u001B[38;5;241;43m=\u001B[39;49m\u001B[43mcopy\u001B[49m\u001B[43m)\u001B[49m\n\u001B[0;32m    189\u001B[0m \u001B[38;5;66;03m# in pandas we don't store numpy str dtypes, so convert to object\u001B[39;00m\n\u001B[0;32m    190\u001B[0m \u001B[38;5;28;01mif\u001B[39;00m \u001B[38;5;28misinstance\u001B[39m(dtype, np\u001B[38;5;241m.\u001B[39mdtype) \u001B[38;5;129;01mand\u001B[39;00m \u001B[38;5;28missubclass\u001B[39m(values\u001B[38;5;241m.\u001B[39mdtype\u001B[38;5;241m.\u001B[39mtype, \u001B[38;5;28mstr\u001B[39m):\n",
      "File \u001B[1;32m~\\AppData\\Roaming\\Python\\Python310\\site-packages\\pandas\\core\\dtypes\\astype.py:138\u001B[0m, in \u001B[0;36m_astype_nansafe\u001B[1;34m(arr, dtype, copy, skipna)\u001B[0m\n\u001B[0;32m    134\u001B[0m     \u001B[38;5;28;01mraise\u001B[39;00m \u001B[38;5;167;01mValueError\u001B[39;00m(msg)\n\u001B[0;32m    136\u001B[0m \u001B[38;5;28;01mif\u001B[39;00m copy \u001B[38;5;129;01mor\u001B[39;00m is_object_dtype(arr\u001B[38;5;241m.\u001B[39mdtype) \u001B[38;5;129;01mor\u001B[39;00m is_object_dtype(dtype):\n\u001B[0;32m    137\u001B[0m     \u001B[38;5;66;03m# Explicit copy, or required since NumPy can't view from / to object.\u001B[39;00m\n\u001B[1;32m--> 138\u001B[0m     \u001B[38;5;28;01mreturn\u001B[39;00m \u001B[43marr\u001B[49m\u001B[38;5;241;43m.\u001B[39;49m\u001B[43mastype\u001B[49m\u001B[43m(\u001B[49m\u001B[43mdtype\u001B[49m\u001B[43m,\u001B[49m\u001B[43m \u001B[49m\u001B[43mcopy\u001B[49m\u001B[38;5;241;43m=\u001B[39;49m\u001B[38;5;28;43;01mTrue\u001B[39;49;00m\u001B[43m)\u001B[49m\n\u001B[0;32m    140\u001B[0m \u001B[38;5;28;01mreturn\u001B[39;00m arr\u001B[38;5;241m.\u001B[39mastype(dtype, copy\u001B[38;5;241m=\u001B[39mcopy)\n",
      "\u001B[1;31mOverflowError\u001B[0m: Python int too large to convert to C long"
     ]
    }
   ],
   "source": [
    "# mergedf[\"revenue\"].astype(int)"
   ],
   "metadata": {
    "collapsed": false,
    "pycharm": {
     "name": "#%%\n"
    }
   }
  },
  {
   "cell_type": "code",
   "execution_count": null,
   "outputs": [],
   "source": [
    "# mergedf[\"revenue\"] = mergedf[\"revenue\"].astype(float)"
   ],
   "metadata": {
    "collapsed": false,
    "pycharm": {
     "name": "#%%\n"
    }
   }
  },
  {
   "cell_type": "code",
   "execution_count": null,
   "outputs": [],
   "source": [
    "mergedf[\"revenue\"].dtype"
   ],
   "metadata": {
    "collapsed": false,
    "pycharm": {
     "name": "#%%\n"
    }
   }
  },
  {
   "cell_type": "code",
   "execution_count": null,
   "outputs": [],
   "source": [
    "# mergedf[\"revenue\"].astype(int)"
   ],
   "metadata": {
    "collapsed": false,
    "pycharm": {
     "name": "#%%\n"
    }
   }
  },
  {
   "cell_type": "code",
   "execution_count": null,
   "outputs": [],
   "source": [
    "# mergedf[\"revenue\"].mean()"
   ],
   "metadata": {
    "collapsed": false,
    "pycharm": {
     "name": "#%%\n"
    }
   }
  },
  {
   "cell_type": "code",
   "execution_count": 130,
   "outputs": [
    {
     "name": "stderr",
     "output_type": "stream",
     "text": [
      "C:\\Users\\aviji\\AppData\\Local\\Temp\\ipykernel_10372\\1102607098.py:1: DtypeWarning: Columns (12) have mixed types. Specify dtype option on import or set low_memory=False.\n",
      "  dfdata=pd.read_csv(r\"D:\\Pyn\\MSDSM\\Semester_2\\dm\\Assignment\\archive_2\\mergedfdata1.csv\")\n"
     ]
    }
   ],
   "source": [
    "dfdata=pd.read_csv(r\"D:\\Pyn\\MSDSM\\Semester_2\\dm\\Assignment\\archive_2\\mergedfdata1.csv\")"
   ],
   "metadata": {
    "collapsed": false,
    "pycharm": {
     "name": "#%%\n"
    }
   }
  },
  {
   "cell_type": "code",
   "execution_count": 131,
   "outputs": [
    {
     "data": {
      "text/plain": "        Unnamed: 0  unified_id  month_x  zipcode           city  host_type  \\\n0           174842    16428200   2020-6    92314  Big Bear City  2-5 Units   \n1           174843    16428200   2020-6    92314  Big Bear City  2-5 Units   \n2           174844    16428200   2020-6    92314  Big Bear City  2-5 Units   \n3           174845    16428200   2020-6    92314  Big Bear City  2-5 Units   \n4           174846    16428200   2020-6    92314  Big Bear City  2-5 Units   \n...            ...         ...      ...      ...            ...        ...   \n318582     1048520    34315354  2022-12    92252    Joshua Tree  2-5 Units   \n318583     1048521    34315354  2022-12    92252    Joshua Tree  2-5 Units   \n318584     1048522    34315354  2022-12    92252    Joshua Tree  2-5 Units   \n318585     1048523    34315354  2022-12    92252    Joshua Tree  2-5 Units   \n318586     1048524    34315354  2022-12    92252    Joshua Tree  2-5 Units   \n\n        bedrooms  bathrooms guests  revenue  openness  occupancy length_stay  \\\n0              4        4.0     13   7200.0        25         96         4,8   \n1              4        4.0     13   7200.0        25         96         4,8   \n2              4        4.0     13   7200.0        25         96         4,8   \n3              4        4.0     13   7200.0        25         96         4,8   \n4              4        4.0     13   7200.0        25         96         4,8   \n...          ...        ...    ...      ...       ...        ...         ...   \n318582         3        2.0      8      0.0        31          0         NaN   \n318583         3        2.0      8      0.0        31          0         NaN   \n318584         3        2.0      8      0.0        31          0         NaN   \n318585         3        2.0      8      0.0        31          0         NaN   \n318586         3        2.0      8      0.0        31          0         NaN   \n\n        hot_tub;pool  \n0                  1  \n1                  1  \n2                  1  \n3                  1  \n4                  1  \n...              ...  \n318582             1  \n318583             1  \n318584             1  \n318585             1  \n318586             1  \n\n[318587 rows x 14 columns]",
      "text/html": "<div>\n<style scoped>\n    .dataframe tbody tr th:only-of-type {\n        vertical-align: middle;\n    }\n\n    .dataframe tbody tr th {\n        vertical-align: top;\n    }\n\n    .dataframe thead th {\n        text-align: right;\n    }\n</style>\n<table border=\"1\" class=\"dataframe\">\n  <thead>\n    <tr style=\"text-align: right;\">\n      <th></th>\n      <th>Unnamed: 0</th>\n      <th>unified_id</th>\n      <th>month_x</th>\n      <th>zipcode</th>\n      <th>city</th>\n      <th>host_type</th>\n      <th>bedrooms</th>\n      <th>bathrooms</th>\n      <th>guests</th>\n      <th>revenue</th>\n      <th>openness</th>\n      <th>occupancy</th>\n      <th>length_stay</th>\n      <th>hot_tub;pool</th>\n    </tr>\n  </thead>\n  <tbody>\n    <tr>\n      <th>0</th>\n      <td>174842</td>\n      <td>16428200</td>\n      <td>2020-6</td>\n      <td>92314</td>\n      <td>Big Bear City</td>\n      <td>2-5 Units</td>\n      <td>4</td>\n      <td>4.0</td>\n      <td>13</td>\n      <td>7200.0</td>\n      <td>25</td>\n      <td>96</td>\n      <td>4,8</td>\n      <td>1</td>\n    </tr>\n    <tr>\n      <th>1</th>\n      <td>174843</td>\n      <td>16428200</td>\n      <td>2020-6</td>\n      <td>92314</td>\n      <td>Big Bear City</td>\n      <td>2-5 Units</td>\n      <td>4</td>\n      <td>4.0</td>\n      <td>13</td>\n      <td>7200.0</td>\n      <td>25</td>\n      <td>96</td>\n      <td>4,8</td>\n      <td>1</td>\n    </tr>\n    <tr>\n      <th>2</th>\n      <td>174844</td>\n      <td>16428200</td>\n      <td>2020-6</td>\n      <td>92314</td>\n      <td>Big Bear City</td>\n      <td>2-5 Units</td>\n      <td>4</td>\n      <td>4.0</td>\n      <td>13</td>\n      <td>7200.0</td>\n      <td>25</td>\n      <td>96</td>\n      <td>4,8</td>\n      <td>1</td>\n    </tr>\n    <tr>\n      <th>3</th>\n      <td>174845</td>\n      <td>16428200</td>\n      <td>2020-6</td>\n      <td>92314</td>\n      <td>Big Bear City</td>\n      <td>2-5 Units</td>\n      <td>4</td>\n      <td>4.0</td>\n      <td>13</td>\n      <td>7200.0</td>\n      <td>25</td>\n      <td>96</td>\n      <td>4,8</td>\n      <td>1</td>\n    </tr>\n    <tr>\n      <th>4</th>\n      <td>174846</td>\n      <td>16428200</td>\n      <td>2020-6</td>\n      <td>92314</td>\n      <td>Big Bear City</td>\n      <td>2-5 Units</td>\n      <td>4</td>\n      <td>4.0</td>\n      <td>13</td>\n      <td>7200.0</td>\n      <td>25</td>\n      <td>96</td>\n      <td>4,8</td>\n      <td>1</td>\n    </tr>\n    <tr>\n      <th>...</th>\n      <td>...</td>\n      <td>...</td>\n      <td>...</td>\n      <td>...</td>\n      <td>...</td>\n      <td>...</td>\n      <td>...</td>\n      <td>...</td>\n      <td>...</td>\n      <td>...</td>\n      <td>...</td>\n      <td>...</td>\n      <td>...</td>\n      <td>...</td>\n    </tr>\n    <tr>\n      <th>318582</th>\n      <td>1048520</td>\n      <td>34315354</td>\n      <td>2022-12</td>\n      <td>92252</td>\n      <td>Joshua Tree</td>\n      <td>2-5 Units</td>\n      <td>3</td>\n      <td>2.0</td>\n      <td>8</td>\n      <td>0.0</td>\n      <td>31</td>\n      <td>0</td>\n      <td>NaN</td>\n      <td>1</td>\n    </tr>\n    <tr>\n      <th>318583</th>\n      <td>1048521</td>\n      <td>34315354</td>\n      <td>2022-12</td>\n      <td>92252</td>\n      <td>Joshua Tree</td>\n      <td>2-5 Units</td>\n      <td>3</td>\n      <td>2.0</td>\n      <td>8</td>\n      <td>0.0</td>\n      <td>31</td>\n      <td>0</td>\n      <td>NaN</td>\n      <td>1</td>\n    </tr>\n    <tr>\n      <th>318584</th>\n      <td>1048522</td>\n      <td>34315354</td>\n      <td>2022-12</td>\n      <td>92252</td>\n      <td>Joshua Tree</td>\n      <td>2-5 Units</td>\n      <td>3</td>\n      <td>2.0</td>\n      <td>8</td>\n      <td>0.0</td>\n      <td>31</td>\n      <td>0</td>\n      <td>NaN</td>\n      <td>1</td>\n    </tr>\n    <tr>\n      <th>318585</th>\n      <td>1048523</td>\n      <td>34315354</td>\n      <td>2022-12</td>\n      <td>92252</td>\n      <td>Joshua Tree</td>\n      <td>2-5 Units</td>\n      <td>3</td>\n      <td>2.0</td>\n      <td>8</td>\n      <td>0.0</td>\n      <td>31</td>\n      <td>0</td>\n      <td>NaN</td>\n      <td>1</td>\n    </tr>\n    <tr>\n      <th>318586</th>\n      <td>1048524</td>\n      <td>34315354</td>\n      <td>2022-12</td>\n      <td>92252</td>\n      <td>Joshua Tree</td>\n      <td>2-5 Units</td>\n      <td>3</td>\n      <td>2.0</td>\n      <td>8</td>\n      <td>0.0</td>\n      <td>31</td>\n      <td>0</td>\n      <td>NaN</td>\n      <td>1</td>\n    </tr>\n  </tbody>\n</table>\n<p>318587 rows × 14 columns</p>\n</div>"
     },
     "execution_count": 131,
     "metadata": {},
     "output_type": "execute_result"
    }
   ],
   "source": [
    "dfdata"
   ],
   "metadata": {
    "collapsed": false,
    "pycharm": {
     "name": "#%%\n"
    }
   }
  },
  {
   "cell_type": "code",
   "execution_count": 132,
   "outputs": [],
   "source": [
    "dfdata.drop(\"Unnamed: 0\",axis=1,inplace=True)"
   ],
   "metadata": {
    "collapsed": false,
    "pycharm": {
     "name": "#%%\n"
    }
   }
  },
  {
   "cell_type": "code",
   "execution_count": 133,
   "outputs": [
    {
     "data": {
      "text/plain": "        unified_id  month_x  zipcode           city  host_type  bedrooms  \\\n0         16428200   2020-6    92314  Big Bear City  2-5 Units         4   \n1         16428200   2020-6    92314  Big Bear City  2-5 Units         4   \n2         16428200   2020-6    92314  Big Bear City  2-5 Units         4   \n3         16428200   2020-6    92314  Big Bear City  2-5 Units         4   \n4         16428200   2020-6    92314  Big Bear City  2-5 Units         4   \n...            ...      ...      ...            ...        ...       ...   \n318582    34315354  2022-12    92252    Joshua Tree  2-5 Units         3   \n318583    34315354  2022-12    92252    Joshua Tree  2-5 Units         3   \n318584    34315354  2022-12    92252    Joshua Tree  2-5 Units         3   \n318585    34315354  2022-12    92252    Joshua Tree  2-5 Units         3   \n318586    34315354  2022-12    92252    Joshua Tree  2-5 Units         3   \n\n        bathrooms guests  revenue  openness  occupancy length_stay  \\\n0             4.0     13   7200.0        25         96         4,8   \n1             4.0     13   7200.0        25         96         4,8   \n2             4.0     13   7200.0        25         96         4,8   \n3             4.0     13   7200.0        25         96         4,8   \n4             4.0     13   7200.0        25         96         4,8   \n...           ...    ...      ...       ...        ...         ...   \n318582        2.0      8      0.0        31          0         NaN   \n318583        2.0      8      0.0        31          0         NaN   \n318584        2.0      8      0.0        31          0         NaN   \n318585        2.0      8      0.0        31          0         NaN   \n318586        2.0      8      0.0        31          0         NaN   \n\n        hot_tub;pool  \n0                  1  \n1                  1  \n2                  1  \n3                  1  \n4                  1  \n...              ...  \n318582             1  \n318583             1  \n318584             1  \n318585             1  \n318586             1  \n\n[318587 rows x 13 columns]",
      "text/html": "<div>\n<style scoped>\n    .dataframe tbody tr th:only-of-type {\n        vertical-align: middle;\n    }\n\n    .dataframe tbody tr th {\n        vertical-align: top;\n    }\n\n    .dataframe thead th {\n        text-align: right;\n    }\n</style>\n<table border=\"1\" class=\"dataframe\">\n  <thead>\n    <tr style=\"text-align: right;\">\n      <th></th>\n      <th>unified_id</th>\n      <th>month_x</th>\n      <th>zipcode</th>\n      <th>city</th>\n      <th>host_type</th>\n      <th>bedrooms</th>\n      <th>bathrooms</th>\n      <th>guests</th>\n      <th>revenue</th>\n      <th>openness</th>\n      <th>occupancy</th>\n      <th>length_stay</th>\n      <th>hot_tub;pool</th>\n    </tr>\n  </thead>\n  <tbody>\n    <tr>\n      <th>0</th>\n      <td>16428200</td>\n      <td>2020-6</td>\n      <td>92314</td>\n      <td>Big Bear City</td>\n      <td>2-5 Units</td>\n      <td>4</td>\n      <td>4.0</td>\n      <td>13</td>\n      <td>7200.0</td>\n      <td>25</td>\n      <td>96</td>\n      <td>4,8</td>\n      <td>1</td>\n    </tr>\n    <tr>\n      <th>1</th>\n      <td>16428200</td>\n      <td>2020-6</td>\n      <td>92314</td>\n      <td>Big Bear City</td>\n      <td>2-5 Units</td>\n      <td>4</td>\n      <td>4.0</td>\n      <td>13</td>\n      <td>7200.0</td>\n      <td>25</td>\n      <td>96</td>\n      <td>4,8</td>\n      <td>1</td>\n    </tr>\n    <tr>\n      <th>2</th>\n      <td>16428200</td>\n      <td>2020-6</td>\n      <td>92314</td>\n      <td>Big Bear City</td>\n      <td>2-5 Units</td>\n      <td>4</td>\n      <td>4.0</td>\n      <td>13</td>\n      <td>7200.0</td>\n      <td>25</td>\n      <td>96</td>\n      <td>4,8</td>\n      <td>1</td>\n    </tr>\n    <tr>\n      <th>3</th>\n      <td>16428200</td>\n      <td>2020-6</td>\n      <td>92314</td>\n      <td>Big Bear City</td>\n      <td>2-5 Units</td>\n      <td>4</td>\n      <td>4.0</td>\n      <td>13</td>\n      <td>7200.0</td>\n      <td>25</td>\n      <td>96</td>\n      <td>4,8</td>\n      <td>1</td>\n    </tr>\n    <tr>\n      <th>4</th>\n      <td>16428200</td>\n      <td>2020-6</td>\n      <td>92314</td>\n      <td>Big Bear City</td>\n      <td>2-5 Units</td>\n      <td>4</td>\n      <td>4.0</td>\n      <td>13</td>\n      <td>7200.0</td>\n      <td>25</td>\n      <td>96</td>\n      <td>4,8</td>\n      <td>1</td>\n    </tr>\n    <tr>\n      <th>...</th>\n      <td>...</td>\n      <td>...</td>\n      <td>...</td>\n      <td>...</td>\n      <td>...</td>\n      <td>...</td>\n      <td>...</td>\n      <td>...</td>\n      <td>...</td>\n      <td>...</td>\n      <td>...</td>\n      <td>...</td>\n      <td>...</td>\n    </tr>\n    <tr>\n      <th>318582</th>\n      <td>34315354</td>\n      <td>2022-12</td>\n      <td>92252</td>\n      <td>Joshua Tree</td>\n      <td>2-5 Units</td>\n      <td>3</td>\n      <td>2.0</td>\n      <td>8</td>\n      <td>0.0</td>\n      <td>31</td>\n      <td>0</td>\n      <td>NaN</td>\n      <td>1</td>\n    </tr>\n    <tr>\n      <th>318583</th>\n      <td>34315354</td>\n      <td>2022-12</td>\n      <td>92252</td>\n      <td>Joshua Tree</td>\n      <td>2-5 Units</td>\n      <td>3</td>\n      <td>2.0</td>\n      <td>8</td>\n      <td>0.0</td>\n      <td>31</td>\n      <td>0</td>\n      <td>NaN</td>\n      <td>1</td>\n    </tr>\n    <tr>\n      <th>318584</th>\n      <td>34315354</td>\n      <td>2022-12</td>\n      <td>92252</td>\n      <td>Joshua Tree</td>\n      <td>2-5 Units</td>\n      <td>3</td>\n      <td>2.0</td>\n      <td>8</td>\n      <td>0.0</td>\n      <td>31</td>\n      <td>0</td>\n      <td>NaN</td>\n      <td>1</td>\n    </tr>\n    <tr>\n      <th>318585</th>\n      <td>34315354</td>\n      <td>2022-12</td>\n      <td>92252</td>\n      <td>Joshua Tree</td>\n      <td>2-5 Units</td>\n      <td>3</td>\n      <td>2.0</td>\n      <td>8</td>\n      <td>0.0</td>\n      <td>31</td>\n      <td>0</td>\n      <td>NaN</td>\n      <td>1</td>\n    </tr>\n    <tr>\n      <th>318586</th>\n      <td>34315354</td>\n      <td>2022-12</td>\n      <td>92252</td>\n      <td>Joshua Tree</td>\n      <td>2-5 Units</td>\n      <td>3</td>\n      <td>2.0</td>\n      <td>8</td>\n      <td>0.0</td>\n      <td>31</td>\n      <td>0</td>\n      <td>NaN</td>\n      <td>1</td>\n    </tr>\n  </tbody>\n</table>\n<p>318587 rows × 13 columns</p>\n</div>"
     },
     "execution_count": 133,
     "metadata": {},
     "output_type": "execute_result"
    }
   ],
   "source": [
    "dfdata"
   ],
   "metadata": {
    "collapsed": false,
    "pycharm": {
     "name": "#%%\n"
    }
   }
  },
  {
   "cell_type": "code",
   "execution_count": 134,
   "outputs": [],
   "source": [
    "dfdata[\"Year\"]=dfdata[\"month_x\"].str.split(\"-\").str[0]\n",
    "dfdata[\"Month\"]=dfdata[\"month_x\"].str.split(\"-\").str[1]"
   ],
   "metadata": {
    "collapsed": false,
    "pycharm": {
     "name": "#%%\n"
    }
   }
  },
  {
   "cell_type": "code",
   "execution_count": 135,
   "outputs": [],
   "source": [
    "dfdata.drop(\"month_x\",axis=1,inplace=True)"
   ],
   "metadata": {
    "collapsed": false,
    "pycharm": {
     "name": "#%%\n"
    }
   }
  },
  {
   "cell_type": "code",
   "execution_count": 136,
   "outputs": [],
   "source": [
    "dfdata[\"Min_length_stay\"]=dfdata[\"length_stay\"].str.split(\",\").str[0]\n",
    "dfdata[\"Max_length_stay\"]=dfdata[\"length_stay\"].str.split(\",\").str[-1]"
   ],
   "metadata": {
    "collapsed": false,
    "pycharm": {
     "name": "#%%\n"
    }
   }
  },
  {
   "cell_type": "code",
   "execution_count": 137,
   "outputs": [
    {
     "data": {
      "text/plain": "        unified_id  zipcode           city  host_type  bedrooms  bathrooms  \\\n0         16428200    92314  Big Bear City  2-5 Units         4        4.0   \n1         16428200    92314  Big Bear City  2-5 Units         4        4.0   \n2         16428200    92314  Big Bear City  2-5 Units         4        4.0   \n3         16428200    92314  Big Bear City  2-5 Units         4        4.0   \n4         16428200    92314  Big Bear City  2-5 Units         4        4.0   \n...            ...      ...            ...        ...       ...        ...   \n318582    34315354    92252    Joshua Tree  2-5 Units         3        2.0   \n318583    34315354    92252    Joshua Tree  2-5 Units         3        2.0   \n318584    34315354    92252    Joshua Tree  2-5 Units         3        2.0   \n318585    34315354    92252    Joshua Tree  2-5 Units         3        2.0   \n318586    34315354    92252    Joshua Tree  2-5 Units         3        2.0   \n\n       guests  revenue  openness  occupancy length_stay  hot_tub;pool  Year  \\\n0          13   7200.0        25         96         4,8             1  2020   \n1          13   7200.0        25         96         4,8             1  2020   \n2          13   7200.0        25         96         4,8             1  2020   \n3          13   7200.0        25         96         4,8             1  2020   \n4          13   7200.0        25         96         4,8             1  2020   \n...       ...      ...       ...        ...         ...           ...   ...   \n318582      8      0.0        31          0         NaN             1  2022   \n318583      8      0.0        31          0         NaN             1  2022   \n318584      8      0.0        31          0         NaN             1  2022   \n318585      8      0.0        31          0         NaN             1  2022   \n318586      8      0.0        31          0         NaN             1  2022   \n\n       Month Min_length_stay Max_length_stay  \n0          6               4               8  \n1          6               4               8  \n2          6               4               8  \n3          6               4               8  \n4          6               4               8  \n...      ...             ...             ...  \n318582    12             NaN             NaN  \n318583    12             NaN             NaN  \n318584    12             NaN             NaN  \n318585    12             NaN             NaN  \n318586    12             NaN             NaN  \n\n[318587 rows x 16 columns]",
      "text/html": "<div>\n<style scoped>\n    .dataframe tbody tr th:only-of-type {\n        vertical-align: middle;\n    }\n\n    .dataframe tbody tr th {\n        vertical-align: top;\n    }\n\n    .dataframe thead th {\n        text-align: right;\n    }\n</style>\n<table border=\"1\" class=\"dataframe\">\n  <thead>\n    <tr style=\"text-align: right;\">\n      <th></th>\n      <th>unified_id</th>\n      <th>zipcode</th>\n      <th>city</th>\n      <th>host_type</th>\n      <th>bedrooms</th>\n      <th>bathrooms</th>\n      <th>guests</th>\n      <th>revenue</th>\n      <th>openness</th>\n      <th>occupancy</th>\n      <th>length_stay</th>\n      <th>hot_tub;pool</th>\n      <th>Year</th>\n      <th>Month</th>\n      <th>Min_length_stay</th>\n      <th>Max_length_stay</th>\n    </tr>\n  </thead>\n  <tbody>\n    <tr>\n      <th>0</th>\n      <td>16428200</td>\n      <td>92314</td>\n      <td>Big Bear City</td>\n      <td>2-5 Units</td>\n      <td>4</td>\n      <td>4.0</td>\n      <td>13</td>\n      <td>7200.0</td>\n      <td>25</td>\n      <td>96</td>\n      <td>4,8</td>\n      <td>1</td>\n      <td>2020</td>\n      <td>6</td>\n      <td>4</td>\n      <td>8</td>\n    </tr>\n    <tr>\n      <th>1</th>\n      <td>16428200</td>\n      <td>92314</td>\n      <td>Big Bear City</td>\n      <td>2-5 Units</td>\n      <td>4</td>\n      <td>4.0</td>\n      <td>13</td>\n      <td>7200.0</td>\n      <td>25</td>\n      <td>96</td>\n      <td>4,8</td>\n      <td>1</td>\n      <td>2020</td>\n      <td>6</td>\n      <td>4</td>\n      <td>8</td>\n    </tr>\n    <tr>\n      <th>2</th>\n      <td>16428200</td>\n      <td>92314</td>\n      <td>Big Bear City</td>\n      <td>2-5 Units</td>\n      <td>4</td>\n      <td>4.0</td>\n      <td>13</td>\n      <td>7200.0</td>\n      <td>25</td>\n      <td>96</td>\n      <td>4,8</td>\n      <td>1</td>\n      <td>2020</td>\n      <td>6</td>\n      <td>4</td>\n      <td>8</td>\n    </tr>\n    <tr>\n      <th>3</th>\n      <td>16428200</td>\n      <td>92314</td>\n      <td>Big Bear City</td>\n      <td>2-5 Units</td>\n      <td>4</td>\n      <td>4.0</td>\n      <td>13</td>\n      <td>7200.0</td>\n      <td>25</td>\n      <td>96</td>\n      <td>4,8</td>\n      <td>1</td>\n      <td>2020</td>\n      <td>6</td>\n      <td>4</td>\n      <td>8</td>\n    </tr>\n    <tr>\n      <th>4</th>\n      <td>16428200</td>\n      <td>92314</td>\n      <td>Big Bear City</td>\n      <td>2-5 Units</td>\n      <td>4</td>\n      <td>4.0</td>\n      <td>13</td>\n      <td>7200.0</td>\n      <td>25</td>\n      <td>96</td>\n      <td>4,8</td>\n      <td>1</td>\n      <td>2020</td>\n      <td>6</td>\n      <td>4</td>\n      <td>8</td>\n    </tr>\n    <tr>\n      <th>...</th>\n      <td>...</td>\n      <td>...</td>\n      <td>...</td>\n      <td>...</td>\n      <td>...</td>\n      <td>...</td>\n      <td>...</td>\n      <td>...</td>\n      <td>...</td>\n      <td>...</td>\n      <td>...</td>\n      <td>...</td>\n      <td>...</td>\n      <td>...</td>\n      <td>...</td>\n      <td>...</td>\n    </tr>\n    <tr>\n      <th>318582</th>\n      <td>34315354</td>\n      <td>92252</td>\n      <td>Joshua Tree</td>\n      <td>2-5 Units</td>\n      <td>3</td>\n      <td>2.0</td>\n      <td>8</td>\n      <td>0.0</td>\n      <td>31</td>\n      <td>0</td>\n      <td>NaN</td>\n      <td>1</td>\n      <td>2022</td>\n      <td>12</td>\n      <td>NaN</td>\n      <td>NaN</td>\n    </tr>\n    <tr>\n      <th>318583</th>\n      <td>34315354</td>\n      <td>92252</td>\n      <td>Joshua Tree</td>\n      <td>2-5 Units</td>\n      <td>3</td>\n      <td>2.0</td>\n      <td>8</td>\n      <td>0.0</td>\n      <td>31</td>\n      <td>0</td>\n      <td>NaN</td>\n      <td>1</td>\n      <td>2022</td>\n      <td>12</td>\n      <td>NaN</td>\n      <td>NaN</td>\n    </tr>\n    <tr>\n      <th>318584</th>\n      <td>34315354</td>\n      <td>92252</td>\n      <td>Joshua Tree</td>\n      <td>2-5 Units</td>\n      <td>3</td>\n      <td>2.0</td>\n      <td>8</td>\n      <td>0.0</td>\n      <td>31</td>\n      <td>0</td>\n      <td>NaN</td>\n      <td>1</td>\n      <td>2022</td>\n      <td>12</td>\n      <td>NaN</td>\n      <td>NaN</td>\n    </tr>\n    <tr>\n      <th>318585</th>\n      <td>34315354</td>\n      <td>92252</td>\n      <td>Joshua Tree</td>\n      <td>2-5 Units</td>\n      <td>3</td>\n      <td>2.0</td>\n      <td>8</td>\n      <td>0.0</td>\n      <td>31</td>\n      <td>0</td>\n      <td>NaN</td>\n      <td>1</td>\n      <td>2022</td>\n      <td>12</td>\n      <td>NaN</td>\n      <td>NaN</td>\n    </tr>\n    <tr>\n      <th>318586</th>\n      <td>34315354</td>\n      <td>92252</td>\n      <td>Joshua Tree</td>\n      <td>2-5 Units</td>\n      <td>3</td>\n      <td>2.0</td>\n      <td>8</td>\n      <td>0.0</td>\n      <td>31</td>\n      <td>0</td>\n      <td>NaN</td>\n      <td>1</td>\n      <td>2022</td>\n      <td>12</td>\n      <td>NaN</td>\n      <td>NaN</td>\n    </tr>\n  </tbody>\n</table>\n<p>318587 rows × 16 columns</p>\n</div>"
     },
     "execution_count": 137,
     "metadata": {},
     "output_type": "execute_result"
    }
   ],
   "source": [
    "dfdata"
   ],
   "metadata": {
    "collapsed": false,
    "pycharm": {
     "name": "#%%\n"
    }
   }
  },
  {
   "cell_type": "code",
   "execution_count": 138,
   "outputs": [],
   "source": [
    "dfdata.drop(\"length_stay\",axis=1,inplace=True)"
   ],
   "metadata": {
    "collapsed": false,
    "pycharm": {
     "name": "#%%\n"
    }
   }
  },
  {
   "cell_type": "code",
   "execution_count": 139,
   "outputs": [
    {
     "data": {
      "text/plain": "188293"
     },
     "execution_count": 139,
     "metadata": {},
     "output_type": "execute_result"
    }
   ],
   "source": [
    "dfdata[\"Max_length_stay\"].isna().sum()"
   ],
   "metadata": {
    "collapsed": false,
    "pycharm": {
     "name": "#%%\n"
    }
   }
  },
  {
   "cell_type": "code",
   "execution_count": 140,
   "outputs": [
    {
     "data": {
      "text/plain": "unified_id              0\nzipcode                 0\ncity                    0\nhost_type               0\nbedrooms                0\nbathrooms               0\nguests                  0\nrevenue                46\nopenness                0\noccupancy               0\nhot_tub;pool            0\nYear                    0\nMonth                   0\nMin_length_stay    188293\nMax_length_stay    188293\ndtype: int64"
     },
     "execution_count": 140,
     "metadata": {},
     "output_type": "execute_result"
    }
   ],
   "source": [
    "dfdata.isna().sum()"
   ],
   "metadata": {
    "collapsed": false,
    "pycharm": {
     "name": "#%%\n"
    }
   }
  },
  {
   "cell_type": "code",
   "execution_count": 141,
   "outputs": [],
   "source": [
    "dfdata.drop(\"Max_length_stay\",axis=1,inplace=True)"
   ],
   "metadata": {
    "collapsed": false,
    "pycharm": {
     "name": "#%%\n"
    }
   }
  },
  {
   "cell_type": "code",
   "execution_count": 142,
   "outputs": [
    {
     "data": {
      "text/plain": "unified_id              0\nzipcode                 0\ncity                    0\nhost_type               0\nbedrooms                0\nbathrooms               0\nguests                  0\nrevenue                46\nopenness                0\noccupancy               0\nhot_tub;pool            0\nYear                    0\nMonth                   0\nMin_length_stay    188293\ndtype: int64"
     },
     "execution_count": 142,
     "metadata": {},
     "output_type": "execute_result"
    }
   ],
   "source": [
    "dfdata.isna().sum()"
   ],
   "metadata": {
    "collapsed": false,
    "pycharm": {
     "name": "#%%\n"
    }
   }
  },
  {
   "cell_type": "code",
   "execution_count": 143,
   "outputs": [
    {
     "data": {
      "text/plain": "        unified_id  zipcode           city      host_type  bedrooms  \\\n191586    10178668    92315  Big Bear Lake  Professionals         3   \n191587    10178668    92315  Big Bear Lake  Professionals         3   \n191588    10178668    92315  Big Bear Lake  Professionals         3   \n191589    10178668    92315  Big Bear Lake  Professionals         3   \n191590    10178668    92315  Big Bear Lake  Professionals         3   \n191591    10178668    92315  Big Bear Lake  Professionals         3   \n191592    10178668    92315  Big Bear Lake  Professionals         3   \n191593    10178668    92315  Big Bear Lake  Professionals         3   \n191594    10178668    92315  Big Bear Lake  Professionals         3   \n191595    10178668    92315  Big Bear Lake  Professionals         3   \n191596    10178668    92315  Big Bear Lake  Professionals         3   \n191597    10178668    92315  Big Bear Lake  Professionals         3   \n191598    10178668    92315  Big Bear Lake  Professionals         3   \n191599    10178668    92315  Big Bear Lake  Professionals         3   \n191600    10178668    92315  Big Bear Lake  Professionals         3   \n191601    10178668    92315  Big Bear Lake  Professionals         3   \n191602    10178668    92315  Big Bear Lake  Professionals         3   \n191603    10178668    92315  Big Bear Lake  Professionals         3   \n191604    10178668    92315  Big Bear Lake  Professionals         3   \n191605    10178668    92315  Big Bear Lake  Professionals         3   \n191606    10178668    92315  Big Bear Lake  Professionals         3   \n191607    10178668    92315  Big Bear Lake  Professionals         3   \n191608    10178668    92315  Big Bear Lake  Professionals         3   \n191609    10178668    92315  Big Bear Lake  Professionals         3   \n191610    10178668    92315  Big Bear Lake  Professionals         3   \n191611    10178668    92315  Big Bear Lake  Professionals         3   \n191612    10178668    92315  Big Bear Lake  Professionals         3   \n191613    10178668    92315  Big Bear Lake  Professionals         3   \n191614    10178668    92315  Big Bear Lake  Professionals         3   \n191615    10178668    92315  Big Bear Lake  Professionals         3   \n191616    10178668    92315  Big Bear Lake  Professionals         3   \n191617    10178668    92315  Big Bear Lake  Professionals         3   \n191618    10178668    92315  Big Bear Lake  Professionals         3   \n191619    10178668    92315  Big Bear Lake  Professionals         3   \n191620    10178668    92315  Big Bear Lake  Professionals         3   \n191621    10178668    92315  Big Bear Lake  Professionals         3   \n191622    21836501    92315  Big Bear Lake  Professionals         3   \n191623    21836501    92315  Big Bear Lake  Professionals         3   \n191624    21836501    92315  Big Bear Lake  Professionals         3   \n191625    21836501    92315  Big Bear Lake  Professionals         3   \n191626    21836501    92315  Big Bear Lake  Professionals         3   \n191627    22119231    92315  Big Bear Lake  Professionals         4   \n191628    22119231    92315  Big Bear Lake  Professionals         4   \n191629    22119231    92315  Big Bear Lake  Professionals         4   \n191630    22119231    92315  Big Bear Lake  Professionals         4   \n191631    22119231    92315  Big Bear Lake  Professionals         4   \n\n        bathrooms guests  revenue  openness  occupancy  hot_tub;pool  Year  \\\n191586        2.5      7      NaN         4          1             0  2020   \n191587        2.5      7      NaN         4          1             0  2020   \n191588        2.5      7      NaN         4          1             0  2020   \n191589        2.5      7      NaN         4          1             0  2020   \n191590        2.5      7      NaN         4          1             0  2020   \n191591        2.5      7      NaN         4          1             0  2020   \n191592        2.5      7      NaN         4          1             0  2020   \n191593        2.5      7      NaN         4          1             0  2020   \n191594        2.5      7      NaN         4          1             0  2020   \n191595        2.5      7      NaN         4          1             0  2020   \n191596        2.5      7      NaN         4          1             0  2020   \n191597        2.5      7      NaN         4          1             0  2020   \n191598        2.5      7      NaN         4          1             0  2020   \n191599        2.5      7      NaN         4          1             0  2020   \n191600        2.5      7      NaN         4          1             0  2020   \n191601        2.5      7      NaN         4          1             0  2020   \n191602        2.5      7      NaN         4          1             0  2020   \n191603        2.5      7      NaN         4          1             0  2020   \n191604        2.5      7      NaN         4          1             0  2020   \n191605        2.5      7      NaN         4          1             0  2020   \n191606        2.5      7      NaN         4          1             0  2020   \n191607        2.5      7      NaN         4          1             0  2020   \n191608        2.5      7      NaN         4          1             0  2020   \n191609        2.5      7      NaN         4          1             0  2020   \n191610        2.5      7      NaN         4          1             0  2020   \n191611        2.5      7      NaN         4          1             0  2020   \n191612        2.5      7      NaN         4          1             0  2020   \n191613        2.5      7      NaN         4          1             0  2020   \n191614        2.5      7      NaN         4          1             0  2020   \n191615        2.5      7      NaN         4          1             0  2020   \n191616        2.5      7      NaN         4          1             0  2020   \n191617        2.5      7      NaN         4          1             0  2020   \n191618        2.5      7      NaN         4          1             0  2020   \n191619        2.5      7      NaN         4          1             0  2020   \n191620        2.5      7      NaN         4          1             0  2020   \n191621        2.5      7      NaN         4          1             0  2020   \n191622        2.0      4      NaN        13          1             0  2020   \n191623        2.0      4      NaN        13          1             0  2020   \n191624        2.0      4      NaN        13          1             0  2020   \n191625        2.0      4      NaN        13          1             0  2020   \n191626        2.0      4      NaN        13          1             0  2020   \n191627        5.5     10      NaN         1          1             1  2020   \n191628        5.5     10      NaN         1          1             1  2020   \n191629        5.5     10      NaN         1          1             1  2020   \n191630        5.5     10      NaN         1          1             1  2020   \n191631        5.5     10      NaN         1          1             1  2020   \n\n       Month Min_length_stay  \n191586     7             NaN  \n191587     7             NaN  \n191588     7             NaN  \n191589     7             NaN  \n191590     7             NaN  \n191591     7             NaN  \n191592     7             NaN  \n191593     7             NaN  \n191594     7             NaN  \n191595     7             NaN  \n191596     7             NaN  \n191597     7             NaN  \n191598     7             NaN  \n191599     7             NaN  \n191600     7             NaN  \n191601     7             NaN  \n191602     7             NaN  \n191603     7             NaN  \n191604     7             NaN  \n191605     7             NaN  \n191606     7             NaN  \n191607     7             NaN  \n191608     7             NaN  \n191609     7             NaN  \n191610     7             NaN  \n191611     7             NaN  \n191612     7             NaN  \n191613     7             NaN  \n191614     7             NaN  \n191615     7             NaN  \n191616     7             NaN  \n191617     7             NaN  \n191618     7             NaN  \n191619     7             NaN  \n191620     7             NaN  \n191621     7             NaN  \n191622     7             NaN  \n191623     7             NaN  \n191624     7             NaN  \n191625     7             NaN  \n191626     7             NaN  \n191627     8             NaN  \n191628     8             NaN  \n191629     8             NaN  \n191630     8             NaN  \n191631     8             NaN  ",
      "text/html": "<div>\n<style scoped>\n    .dataframe tbody tr th:only-of-type {\n        vertical-align: middle;\n    }\n\n    .dataframe tbody tr th {\n        vertical-align: top;\n    }\n\n    .dataframe thead th {\n        text-align: right;\n    }\n</style>\n<table border=\"1\" class=\"dataframe\">\n  <thead>\n    <tr style=\"text-align: right;\">\n      <th></th>\n      <th>unified_id</th>\n      <th>zipcode</th>\n      <th>city</th>\n      <th>host_type</th>\n      <th>bedrooms</th>\n      <th>bathrooms</th>\n      <th>guests</th>\n      <th>revenue</th>\n      <th>openness</th>\n      <th>occupancy</th>\n      <th>hot_tub;pool</th>\n      <th>Year</th>\n      <th>Month</th>\n      <th>Min_length_stay</th>\n    </tr>\n  </thead>\n  <tbody>\n    <tr>\n      <th>191586</th>\n      <td>10178668</td>\n      <td>92315</td>\n      <td>Big Bear Lake</td>\n      <td>Professionals</td>\n      <td>3</td>\n      <td>2.5</td>\n      <td>7</td>\n      <td>NaN</td>\n      <td>4</td>\n      <td>1</td>\n      <td>0</td>\n      <td>2020</td>\n      <td>7</td>\n      <td>NaN</td>\n    </tr>\n    <tr>\n      <th>191587</th>\n      <td>10178668</td>\n      <td>92315</td>\n      <td>Big Bear Lake</td>\n      <td>Professionals</td>\n      <td>3</td>\n      <td>2.5</td>\n      <td>7</td>\n      <td>NaN</td>\n      <td>4</td>\n      <td>1</td>\n      <td>0</td>\n      <td>2020</td>\n      <td>7</td>\n      <td>NaN</td>\n    </tr>\n    <tr>\n      <th>191588</th>\n      <td>10178668</td>\n      <td>92315</td>\n      <td>Big Bear Lake</td>\n      <td>Professionals</td>\n      <td>3</td>\n      <td>2.5</td>\n      <td>7</td>\n      <td>NaN</td>\n      <td>4</td>\n      <td>1</td>\n      <td>0</td>\n      <td>2020</td>\n      <td>7</td>\n      <td>NaN</td>\n    </tr>\n    <tr>\n      <th>191589</th>\n      <td>10178668</td>\n      <td>92315</td>\n      <td>Big Bear Lake</td>\n      <td>Professionals</td>\n      <td>3</td>\n      <td>2.5</td>\n      <td>7</td>\n      <td>NaN</td>\n      <td>4</td>\n      <td>1</td>\n      <td>0</td>\n      <td>2020</td>\n      <td>7</td>\n      <td>NaN</td>\n    </tr>\n    <tr>\n      <th>191590</th>\n      <td>10178668</td>\n      <td>92315</td>\n      <td>Big Bear Lake</td>\n      <td>Professionals</td>\n      <td>3</td>\n      <td>2.5</td>\n      <td>7</td>\n      <td>NaN</td>\n      <td>4</td>\n      <td>1</td>\n      <td>0</td>\n      <td>2020</td>\n      <td>7</td>\n      <td>NaN</td>\n    </tr>\n    <tr>\n      <th>191591</th>\n      <td>10178668</td>\n      <td>92315</td>\n      <td>Big Bear Lake</td>\n      <td>Professionals</td>\n      <td>3</td>\n      <td>2.5</td>\n      <td>7</td>\n      <td>NaN</td>\n      <td>4</td>\n      <td>1</td>\n      <td>0</td>\n      <td>2020</td>\n      <td>7</td>\n      <td>NaN</td>\n    </tr>\n    <tr>\n      <th>191592</th>\n      <td>10178668</td>\n      <td>92315</td>\n      <td>Big Bear Lake</td>\n      <td>Professionals</td>\n      <td>3</td>\n      <td>2.5</td>\n      <td>7</td>\n      <td>NaN</td>\n      <td>4</td>\n      <td>1</td>\n      <td>0</td>\n      <td>2020</td>\n      <td>7</td>\n      <td>NaN</td>\n    </tr>\n    <tr>\n      <th>191593</th>\n      <td>10178668</td>\n      <td>92315</td>\n      <td>Big Bear Lake</td>\n      <td>Professionals</td>\n      <td>3</td>\n      <td>2.5</td>\n      <td>7</td>\n      <td>NaN</td>\n      <td>4</td>\n      <td>1</td>\n      <td>0</td>\n      <td>2020</td>\n      <td>7</td>\n      <td>NaN</td>\n    </tr>\n    <tr>\n      <th>191594</th>\n      <td>10178668</td>\n      <td>92315</td>\n      <td>Big Bear Lake</td>\n      <td>Professionals</td>\n      <td>3</td>\n      <td>2.5</td>\n      <td>7</td>\n      <td>NaN</td>\n      <td>4</td>\n      <td>1</td>\n      <td>0</td>\n      <td>2020</td>\n      <td>7</td>\n      <td>NaN</td>\n    </tr>\n    <tr>\n      <th>191595</th>\n      <td>10178668</td>\n      <td>92315</td>\n      <td>Big Bear Lake</td>\n      <td>Professionals</td>\n      <td>3</td>\n      <td>2.5</td>\n      <td>7</td>\n      <td>NaN</td>\n      <td>4</td>\n      <td>1</td>\n      <td>0</td>\n      <td>2020</td>\n      <td>7</td>\n      <td>NaN</td>\n    </tr>\n    <tr>\n      <th>191596</th>\n      <td>10178668</td>\n      <td>92315</td>\n      <td>Big Bear Lake</td>\n      <td>Professionals</td>\n      <td>3</td>\n      <td>2.5</td>\n      <td>7</td>\n      <td>NaN</td>\n      <td>4</td>\n      <td>1</td>\n      <td>0</td>\n      <td>2020</td>\n      <td>7</td>\n      <td>NaN</td>\n    </tr>\n    <tr>\n      <th>191597</th>\n      <td>10178668</td>\n      <td>92315</td>\n      <td>Big Bear Lake</td>\n      <td>Professionals</td>\n      <td>3</td>\n      <td>2.5</td>\n      <td>7</td>\n      <td>NaN</td>\n      <td>4</td>\n      <td>1</td>\n      <td>0</td>\n      <td>2020</td>\n      <td>7</td>\n      <td>NaN</td>\n    </tr>\n    <tr>\n      <th>191598</th>\n      <td>10178668</td>\n      <td>92315</td>\n      <td>Big Bear Lake</td>\n      <td>Professionals</td>\n      <td>3</td>\n      <td>2.5</td>\n      <td>7</td>\n      <td>NaN</td>\n      <td>4</td>\n      <td>1</td>\n      <td>0</td>\n      <td>2020</td>\n      <td>7</td>\n      <td>NaN</td>\n    </tr>\n    <tr>\n      <th>191599</th>\n      <td>10178668</td>\n      <td>92315</td>\n      <td>Big Bear Lake</td>\n      <td>Professionals</td>\n      <td>3</td>\n      <td>2.5</td>\n      <td>7</td>\n      <td>NaN</td>\n      <td>4</td>\n      <td>1</td>\n      <td>0</td>\n      <td>2020</td>\n      <td>7</td>\n      <td>NaN</td>\n    </tr>\n    <tr>\n      <th>191600</th>\n      <td>10178668</td>\n      <td>92315</td>\n      <td>Big Bear Lake</td>\n      <td>Professionals</td>\n      <td>3</td>\n      <td>2.5</td>\n      <td>7</td>\n      <td>NaN</td>\n      <td>4</td>\n      <td>1</td>\n      <td>0</td>\n      <td>2020</td>\n      <td>7</td>\n      <td>NaN</td>\n    </tr>\n    <tr>\n      <th>191601</th>\n      <td>10178668</td>\n      <td>92315</td>\n      <td>Big Bear Lake</td>\n      <td>Professionals</td>\n      <td>3</td>\n      <td>2.5</td>\n      <td>7</td>\n      <td>NaN</td>\n      <td>4</td>\n      <td>1</td>\n      <td>0</td>\n      <td>2020</td>\n      <td>7</td>\n      <td>NaN</td>\n    </tr>\n    <tr>\n      <th>191602</th>\n      <td>10178668</td>\n      <td>92315</td>\n      <td>Big Bear Lake</td>\n      <td>Professionals</td>\n      <td>3</td>\n      <td>2.5</td>\n      <td>7</td>\n      <td>NaN</td>\n      <td>4</td>\n      <td>1</td>\n      <td>0</td>\n      <td>2020</td>\n      <td>7</td>\n      <td>NaN</td>\n    </tr>\n    <tr>\n      <th>191603</th>\n      <td>10178668</td>\n      <td>92315</td>\n      <td>Big Bear Lake</td>\n      <td>Professionals</td>\n      <td>3</td>\n      <td>2.5</td>\n      <td>7</td>\n      <td>NaN</td>\n      <td>4</td>\n      <td>1</td>\n      <td>0</td>\n      <td>2020</td>\n      <td>7</td>\n      <td>NaN</td>\n    </tr>\n    <tr>\n      <th>191604</th>\n      <td>10178668</td>\n      <td>92315</td>\n      <td>Big Bear Lake</td>\n      <td>Professionals</td>\n      <td>3</td>\n      <td>2.5</td>\n      <td>7</td>\n      <td>NaN</td>\n      <td>4</td>\n      <td>1</td>\n      <td>0</td>\n      <td>2020</td>\n      <td>7</td>\n      <td>NaN</td>\n    </tr>\n    <tr>\n      <th>191605</th>\n      <td>10178668</td>\n      <td>92315</td>\n      <td>Big Bear Lake</td>\n      <td>Professionals</td>\n      <td>3</td>\n      <td>2.5</td>\n      <td>7</td>\n      <td>NaN</td>\n      <td>4</td>\n      <td>1</td>\n      <td>0</td>\n      <td>2020</td>\n      <td>7</td>\n      <td>NaN</td>\n    </tr>\n    <tr>\n      <th>191606</th>\n      <td>10178668</td>\n      <td>92315</td>\n      <td>Big Bear Lake</td>\n      <td>Professionals</td>\n      <td>3</td>\n      <td>2.5</td>\n      <td>7</td>\n      <td>NaN</td>\n      <td>4</td>\n      <td>1</td>\n      <td>0</td>\n      <td>2020</td>\n      <td>7</td>\n      <td>NaN</td>\n    </tr>\n    <tr>\n      <th>191607</th>\n      <td>10178668</td>\n      <td>92315</td>\n      <td>Big Bear Lake</td>\n      <td>Professionals</td>\n      <td>3</td>\n      <td>2.5</td>\n      <td>7</td>\n      <td>NaN</td>\n      <td>4</td>\n      <td>1</td>\n      <td>0</td>\n      <td>2020</td>\n      <td>7</td>\n      <td>NaN</td>\n    </tr>\n    <tr>\n      <th>191608</th>\n      <td>10178668</td>\n      <td>92315</td>\n      <td>Big Bear Lake</td>\n      <td>Professionals</td>\n      <td>3</td>\n      <td>2.5</td>\n      <td>7</td>\n      <td>NaN</td>\n      <td>4</td>\n      <td>1</td>\n      <td>0</td>\n      <td>2020</td>\n      <td>7</td>\n      <td>NaN</td>\n    </tr>\n    <tr>\n      <th>191609</th>\n      <td>10178668</td>\n      <td>92315</td>\n      <td>Big Bear Lake</td>\n      <td>Professionals</td>\n      <td>3</td>\n      <td>2.5</td>\n      <td>7</td>\n      <td>NaN</td>\n      <td>4</td>\n      <td>1</td>\n      <td>0</td>\n      <td>2020</td>\n      <td>7</td>\n      <td>NaN</td>\n    </tr>\n    <tr>\n      <th>191610</th>\n      <td>10178668</td>\n      <td>92315</td>\n      <td>Big Bear Lake</td>\n      <td>Professionals</td>\n      <td>3</td>\n      <td>2.5</td>\n      <td>7</td>\n      <td>NaN</td>\n      <td>4</td>\n      <td>1</td>\n      <td>0</td>\n      <td>2020</td>\n      <td>7</td>\n      <td>NaN</td>\n    </tr>\n    <tr>\n      <th>191611</th>\n      <td>10178668</td>\n      <td>92315</td>\n      <td>Big Bear Lake</td>\n      <td>Professionals</td>\n      <td>3</td>\n      <td>2.5</td>\n      <td>7</td>\n      <td>NaN</td>\n      <td>4</td>\n      <td>1</td>\n      <td>0</td>\n      <td>2020</td>\n      <td>7</td>\n      <td>NaN</td>\n    </tr>\n    <tr>\n      <th>191612</th>\n      <td>10178668</td>\n      <td>92315</td>\n      <td>Big Bear Lake</td>\n      <td>Professionals</td>\n      <td>3</td>\n      <td>2.5</td>\n      <td>7</td>\n      <td>NaN</td>\n      <td>4</td>\n      <td>1</td>\n      <td>0</td>\n      <td>2020</td>\n      <td>7</td>\n      <td>NaN</td>\n    </tr>\n    <tr>\n      <th>191613</th>\n      <td>10178668</td>\n      <td>92315</td>\n      <td>Big Bear Lake</td>\n      <td>Professionals</td>\n      <td>3</td>\n      <td>2.5</td>\n      <td>7</td>\n      <td>NaN</td>\n      <td>4</td>\n      <td>1</td>\n      <td>0</td>\n      <td>2020</td>\n      <td>7</td>\n      <td>NaN</td>\n    </tr>\n    <tr>\n      <th>191614</th>\n      <td>10178668</td>\n      <td>92315</td>\n      <td>Big Bear Lake</td>\n      <td>Professionals</td>\n      <td>3</td>\n      <td>2.5</td>\n      <td>7</td>\n      <td>NaN</td>\n      <td>4</td>\n      <td>1</td>\n      <td>0</td>\n      <td>2020</td>\n      <td>7</td>\n      <td>NaN</td>\n    </tr>\n    <tr>\n      <th>191615</th>\n      <td>10178668</td>\n      <td>92315</td>\n      <td>Big Bear Lake</td>\n      <td>Professionals</td>\n      <td>3</td>\n      <td>2.5</td>\n      <td>7</td>\n      <td>NaN</td>\n      <td>4</td>\n      <td>1</td>\n      <td>0</td>\n      <td>2020</td>\n      <td>7</td>\n      <td>NaN</td>\n    </tr>\n    <tr>\n      <th>191616</th>\n      <td>10178668</td>\n      <td>92315</td>\n      <td>Big Bear Lake</td>\n      <td>Professionals</td>\n      <td>3</td>\n      <td>2.5</td>\n      <td>7</td>\n      <td>NaN</td>\n      <td>4</td>\n      <td>1</td>\n      <td>0</td>\n      <td>2020</td>\n      <td>7</td>\n      <td>NaN</td>\n    </tr>\n    <tr>\n      <th>191617</th>\n      <td>10178668</td>\n      <td>92315</td>\n      <td>Big Bear Lake</td>\n      <td>Professionals</td>\n      <td>3</td>\n      <td>2.5</td>\n      <td>7</td>\n      <td>NaN</td>\n      <td>4</td>\n      <td>1</td>\n      <td>0</td>\n      <td>2020</td>\n      <td>7</td>\n      <td>NaN</td>\n    </tr>\n    <tr>\n      <th>191618</th>\n      <td>10178668</td>\n      <td>92315</td>\n      <td>Big Bear Lake</td>\n      <td>Professionals</td>\n      <td>3</td>\n      <td>2.5</td>\n      <td>7</td>\n      <td>NaN</td>\n      <td>4</td>\n      <td>1</td>\n      <td>0</td>\n      <td>2020</td>\n      <td>7</td>\n      <td>NaN</td>\n    </tr>\n    <tr>\n      <th>191619</th>\n      <td>10178668</td>\n      <td>92315</td>\n      <td>Big Bear Lake</td>\n      <td>Professionals</td>\n      <td>3</td>\n      <td>2.5</td>\n      <td>7</td>\n      <td>NaN</td>\n      <td>4</td>\n      <td>1</td>\n      <td>0</td>\n      <td>2020</td>\n      <td>7</td>\n      <td>NaN</td>\n    </tr>\n    <tr>\n      <th>191620</th>\n      <td>10178668</td>\n      <td>92315</td>\n      <td>Big Bear Lake</td>\n      <td>Professionals</td>\n      <td>3</td>\n      <td>2.5</td>\n      <td>7</td>\n      <td>NaN</td>\n      <td>4</td>\n      <td>1</td>\n      <td>0</td>\n      <td>2020</td>\n      <td>7</td>\n      <td>NaN</td>\n    </tr>\n    <tr>\n      <th>191621</th>\n      <td>10178668</td>\n      <td>92315</td>\n      <td>Big Bear Lake</td>\n      <td>Professionals</td>\n      <td>3</td>\n      <td>2.5</td>\n      <td>7</td>\n      <td>NaN</td>\n      <td>4</td>\n      <td>1</td>\n      <td>0</td>\n      <td>2020</td>\n      <td>7</td>\n      <td>NaN</td>\n    </tr>\n    <tr>\n      <th>191622</th>\n      <td>21836501</td>\n      <td>92315</td>\n      <td>Big Bear Lake</td>\n      <td>Professionals</td>\n      <td>3</td>\n      <td>2.0</td>\n      <td>4</td>\n      <td>NaN</td>\n      <td>13</td>\n      <td>1</td>\n      <td>0</td>\n      <td>2020</td>\n      <td>7</td>\n      <td>NaN</td>\n    </tr>\n    <tr>\n      <th>191623</th>\n      <td>21836501</td>\n      <td>92315</td>\n      <td>Big Bear Lake</td>\n      <td>Professionals</td>\n      <td>3</td>\n      <td>2.0</td>\n      <td>4</td>\n      <td>NaN</td>\n      <td>13</td>\n      <td>1</td>\n      <td>0</td>\n      <td>2020</td>\n      <td>7</td>\n      <td>NaN</td>\n    </tr>\n    <tr>\n      <th>191624</th>\n      <td>21836501</td>\n      <td>92315</td>\n      <td>Big Bear Lake</td>\n      <td>Professionals</td>\n      <td>3</td>\n      <td>2.0</td>\n      <td>4</td>\n      <td>NaN</td>\n      <td>13</td>\n      <td>1</td>\n      <td>0</td>\n      <td>2020</td>\n      <td>7</td>\n      <td>NaN</td>\n    </tr>\n    <tr>\n      <th>191625</th>\n      <td>21836501</td>\n      <td>92315</td>\n      <td>Big Bear Lake</td>\n      <td>Professionals</td>\n      <td>3</td>\n      <td>2.0</td>\n      <td>4</td>\n      <td>NaN</td>\n      <td>13</td>\n      <td>1</td>\n      <td>0</td>\n      <td>2020</td>\n      <td>7</td>\n      <td>NaN</td>\n    </tr>\n    <tr>\n      <th>191626</th>\n      <td>21836501</td>\n      <td>92315</td>\n      <td>Big Bear Lake</td>\n      <td>Professionals</td>\n      <td>3</td>\n      <td>2.0</td>\n      <td>4</td>\n      <td>NaN</td>\n      <td>13</td>\n      <td>1</td>\n      <td>0</td>\n      <td>2020</td>\n      <td>7</td>\n      <td>NaN</td>\n    </tr>\n    <tr>\n      <th>191627</th>\n      <td>22119231</td>\n      <td>92315</td>\n      <td>Big Bear Lake</td>\n      <td>Professionals</td>\n      <td>4</td>\n      <td>5.5</td>\n      <td>10</td>\n      <td>NaN</td>\n      <td>1</td>\n      <td>1</td>\n      <td>1</td>\n      <td>2020</td>\n      <td>8</td>\n      <td>NaN</td>\n    </tr>\n    <tr>\n      <th>191628</th>\n      <td>22119231</td>\n      <td>92315</td>\n      <td>Big Bear Lake</td>\n      <td>Professionals</td>\n      <td>4</td>\n      <td>5.5</td>\n      <td>10</td>\n      <td>NaN</td>\n      <td>1</td>\n      <td>1</td>\n      <td>1</td>\n      <td>2020</td>\n      <td>8</td>\n      <td>NaN</td>\n    </tr>\n    <tr>\n      <th>191629</th>\n      <td>22119231</td>\n      <td>92315</td>\n      <td>Big Bear Lake</td>\n      <td>Professionals</td>\n      <td>4</td>\n      <td>5.5</td>\n      <td>10</td>\n      <td>NaN</td>\n      <td>1</td>\n      <td>1</td>\n      <td>1</td>\n      <td>2020</td>\n      <td>8</td>\n      <td>NaN</td>\n    </tr>\n    <tr>\n      <th>191630</th>\n      <td>22119231</td>\n      <td>92315</td>\n      <td>Big Bear Lake</td>\n      <td>Professionals</td>\n      <td>4</td>\n      <td>5.5</td>\n      <td>10</td>\n      <td>NaN</td>\n      <td>1</td>\n      <td>1</td>\n      <td>1</td>\n      <td>2020</td>\n      <td>8</td>\n      <td>NaN</td>\n    </tr>\n    <tr>\n      <th>191631</th>\n      <td>22119231</td>\n      <td>92315</td>\n      <td>Big Bear Lake</td>\n      <td>Professionals</td>\n      <td>4</td>\n      <td>5.5</td>\n      <td>10</td>\n      <td>NaN</td>\n      <td>1</td>\n      <td>1</td>\n      <td>1</td>\n      <td>2020</td>\n      <td>8</td>\n      <td>NaN</td>\n    </tr>\n  </tbody>\n</table>\n</div>"
     },
     "execution_count": 143,
     "metadata": {},
     "output_type": "execute_result"
    }
   ],
   "source": [
    "dfdata[dfdata[\"revenue\"].isna()==True]"
   ],
   "metadata": {
    "collapsed": false,
    "pycharm": {
     "name": "#%%\n"
    }
   }
  },
  {
   "cell_type": "code",
   "execution_count": 144,
   "outputs": [],
   "source": [
    "# dfdata.fillna(0,inplace=True)"
   ],
   "metadata": {
    "collapsed": false,
    "pycharm": {
     "name": "#%%\n"
    }
   }
  },
  {
   "cell_type": "code",
   "execution_count": 145,
   "outputs": [
    {
     "data": {
      "text/plain": "        unified_id  zipcode           city  host_type  bedrooms  bathrooms  \\\n0         16428200    92314  Big Bear City  2-5 Units         4        4.0   \n1         16428200    92314  Big Bear City  2-5 Units         4        4.0   \n2         16428200    92314  Big Bear City  2-5 Units         4        4.0   \n3         16428200    92314  Big Bear City  2-5 Units         4        4.0   \n4         16428200    92314  Big Bear City  2-5 Units         4        4.0   \n...            ...      ...            ...        ...       ...        ...   \n318582    34315354    92252    Joshua Tree  2-5 Units         3        2.0   \n318583    34315354    92252    Joshua Tree  2-5 Units         3        2.0   \n318584    34315354    92252    Joshua Tree  2-5 Units         3        2.0   \n318585    34315354    92252    Joshua Tree  2-5 Units         3        2.0   \n318586    34315354    92252    Joshua Tree  2-5 Units         3        2.0   \n\n       guests  revenue  openness  occupancy  hot_tub;pool  Year Month  \\\n0          13   7200.0        25         96             1  2020     6   \n1          13   7200.0        25         96             1  2020     6   \n2          13   7200.0        25         96             1  2020     6   \n3          13   7200.0        25         96             1  2020     6   \n4          13   7200.0        25         96             1  2020     6   \n...       ...      ...       ...        ...           ...   ...   ...   \n318582      8      0.0        31          0             1  2022    12   \n318583      8      0.0        31          0             1  2022    12   \n318584      8      0.0        31          0             1  2022    12   \n318585      8      0.0        31          0             1  2022    12   \n318586      8      0.0        31          0             1  2022    12   \n\n       Min_length_stay  \n0                    4  \n1                    4  \n2                    4  \n3                    4  \n4                    4  \n...                ...  \n318582             NaN  \n318583             NaN  \n318584             NaN  \n318585             NaN  \n318586             NaN  \n\n[318587 rows x 14 columns]",
      "text/html": "<div>\n<style scoped>\n    .dataframe tbody tr th:only-of-type {\n        vertical-align: middle;\n    }\n\n    .dataframe tbody tr th {\n        vertical-align: top;\n    }\n\n    .dataframe thead th {\n        text-align: right;\n    }\n</style>\n<table border=\"1\" class=\"dataframe\">\n  <thead>\n    <tr style=\"text-align: right;\">\n      <th></th>\n      <th>unified_id</th>\n      <th>zipcode</th>\n      <th>city</th>\n      <th>host_type</th>\n      <th>bedrooms</th>\n      <th>bathrooms</th>\n      <th>guests</th>\n      <th>revenue</th>\n      <th>openness</th>\n      <th>occupancy</th>\n      <th>hot_tub;pool</th>\n      <th>Year</th>\n      <th>Month</th>\n      <th>Min_length_stay</th>\n    </tr>\n  </thead>\n  <tbody>\n    <tr>\n      <th>0</th>\n      <td>16428200</td>\n      <td>92314</td>\n      <td>Big Bear City</td>\n      <td>2-5 Units</td>\n      <td>4</td>\n      <td>4.0</td>\n      <td>13</td>\n      <td>7200.0</td>\n      <td>25</td>\n      <td>96</td>\n      <td>1</td>\n      <td>2020</td>\n      <td>6</td>\n      <td>4</td>\n    </tr>\n    <tr>\n      <th>1</th>\n      <td>16428200</td>\n      <td>92314</td>\n      <td>Big Bear City</td>\n      <td>2-5 Units</td>\n      <td>4</td>\n      <td>4.0</td>\n      <td>13</td>\n      <td>7200.0</td>\n      <td>25</td>\n      <td>96</td>\n      <td>1</td>\n      <td>2020</td>\n      <td>6</td>\n      <td>4</td>\n    </tr>\n    <tr>\n      <th>2</th>\n      <td>16428200</td>\n      <td>92314</td>\n      <td>Big Bear City</td>\n      <td>2-5 Units</td>\n      <td>4</td>\n      <td>4.0</td>\n      <td>13</td>\n      <td>7200.0</td>\n      <td>25</td>\n      <td>96</td>\n      <td>1</td>\n      <td>2020</td>\n      <td>6</td>\n      <td>4</td>\n    </tr>\n    <tr>\n      <th>3</th>\n      <td>16428200</td>\n      <td>92314</td>\n      <td>Big Bear City</td>\n      <td>2-5 Units</td>\n      <td>4</td>\n      <td>4.0</td>\n      <td>13</td>\n      <td>7200.0</td>\n      <td>25</td>\n      <td>96</td>\n      <td>1</td>\n      <td>2020</td>\n      <td>6</td>\n      <td>4</td>\n    </tr>\n    <tr>\n      <th>4</th>\n      <td>16428200</td>\n      <td>92314</td>\n      <td>Big Bear City</td>\n      <td>2-5 Units</td>\n      <td>4</td>\n      <td>4.0</td>\n      <td>13</td>\n      <td>7200.0</td>\n      <td>25</td>\n      <td>96</td>\n      <td>1</td>\n      <td>2020</td>\n      <td>6</td>\n      <td>4</td>\n    </tr>\n    <tr>\n      <th>...</th>\n      <td>...</td>\n      <td>...</td>\n      <td>...</td>\n      <td>...</td>\n      <td>...</td>\n      <td>...</td>\n      <td>...</td>\n      <td>...</td>\n      <td>...</td>\n      <td>...</td>\n      <td>...</td>\n      <td>...</td>\n      <td>...</td>\n      <td>...</td>\n    </tr>\n    <tr>\n      <th>318582</th>\n      <td>34315354</td>\n      <td>92252</td>\n      <td>Joshua Tree</td>\n      <td>2-5 Units</td>\n      <td>3</td>\n      <td>2.0</td>\n      <td>8</td>\n      <td>0.0</td>\n      <td>31</td>\n      <td>0</td>\n      <td>1</td>\n      <td>2022</td>\n      <td>12</td>\n      <td>NaN</td>\n    </tr>\n    <tr>\n      <th>318583</th>\n      <td>34315354</td>\n      <td>92252</td>\n      <td>Joshua Tree</td>\n      <td>2-5 Units</td>\n      <td>3</td>\n      <td>2.0</td>\n      <td>8</td>\n      <td>0.0</td>\n      <td>31</td>\n      <td>0</td>\n      <td>1</td>\n      <td>2022</td>\n      <td>12</td>\n      <td>NaN</td>\n    </tr>\n    <tr>\n      <th>318584</th>\n      <td>34315354</td>\n      <td>92252</td>\n      <td>Joshua Tree</td>\n      <td>2-5 Units</td>\n      <td>3</td>\n      <td>2.0</td>\n      <td>8</td>\n      <td>0.0</td>\n      <td>31</td>\n      <td>0</td>\n      <td>1</td>\n      <td>2022</td>\n      <td>12</td>\n      <td>NaN</td>\n    </tr>\n    <tr>\n      <th>318585</th>\n      <td>34315354</td>\n      <td>92252</td>\n      <td>Joshua Tree</td>\n      <td>2-5 Units</td>\n      <td>3</td>\n      <td>2.0</td>\n      <td>8</td>\n      <td>0.0</td>\n      <td>31</td>\n      <td>0</td>\n      <td>1</td>\n      <td>2022</td>\n      <td>12</td>\n      <td>NaN</td>\n    </tr>\n    <tr>\n      <th>318586</th>\n      <td>34315354</td>\n      <td>92252</td>\n      <td>Joshua Tree</td>\n      <td>2-5 Units</td>\n      <td>3</td>\n      <td>2.0</td>\n      <td>8</td>\n      <td>0.0</td>\n      <td>31</td>\n      <td>0</td>\n      <td>1</td>\n      <td>2022</td>\n      <td>12</td>\n      <td>NaN</td>\n    </tr>\n  </tbody>\n</table>\n<p>318587 rows × 14 columns</p>\n</div>"
     },
     "execution_count": 145,
     "metadata": {},
     "output_type": "execute_result"
    }
   ],
   "source": [
    "dfdata"
   ],
   "metadata": {
    "collapsed": false,
    "pycharm": {
     "name": "#%%\n"
    }
   }
  },
  {
   "cell_type": "code",
   "execution_count": 147,
   "outputs": [
    {
     "data": {
      "text/plain": "unified_id              0\nzipcode                 0\ncity                    0\nhost_type               0\nbedrooms                0\nbathrooms               0\nguests                  0\nrevenue                46\nopenness                0\noccupancy               0\nhot_tub;pool            0\nYear                    0\nMonth                   0\nMin_length_stay    188293\ndtype: int64"
     },
     "execution_count": 147,
     "metadata": {},
     "output_type": "execute_result"
    }
   ],
   "source": [
    "dfdata.isna().sum()"
   ],
   "metadata": {
    "collapsed": false,
    "pycharm": {
     "name": "#%%\n"
    }
   }
  },
  {
   "cell_type": "code",
   "execution_count": 148,
   "outputs": [],
   "source": [
    "dfdata.dropna(axis=0,inplace=True)"
   ],
   "metadata": {
    "collapsed": false,
    "pycharm": {
     "name": "#%%\n"
    }
   }
  },
  {
   "cell_type": "code",
   "execution_count": 149,
   "outputs": [
    {
     "data": {
      "text/plain": "        unified_id  zipcode           city      host_type  bedrooms  \\\n0         16428200    92314  Big Bear City      2-5 Units         4   \n1         16428200    92314  Big Bear City      2-5 Units         4   \n2         16428200    92314  Big Bear City      2-5 Units         4   \n3         16428200    92314  Big Bear City      2-5 Units         4   \n4         16428200    92314  Big Bear City      2-5 Units         4   \n...            ...      ...            ...            ...       ...   \n131067    12873603    92315  Big Bear Lake  Single Owners         3   \n131068    12873603    92315  Big Bear Lake  Single Owners         3   \n131069    12873603    92315  Big Bear Lake  Single Owners         3   \n131070    12873603    92315  Big Bear Lake  Single Owners         3   \n131071    12873603    92315  Big Bear Lake  Single Owners         3   \n\n        bathrooms guests  revenue  openness  occupancy  hot_tub;pool  Year  \\\n0             4.0     13   7200.0        25         96             1  2020   \n1             4.0     13   7200.0        25         96             1  2020   \n2             4.0     13   7200.0        25         96             1  2020   \n3             4.0     13   7200.0        25         96             1  2020   \n4             4.0     13   7200.0        25         96             1  2020   \n...           ...    ...      ...       ...        ...           ...   ...   \n131067        2.0      8  11885.0        31          1             1  2021   \n131068        2.0      8  11885.0        31          1             1  2021   \n131069        2.0      8  11885.0        31          1             1  2021   \n131070        2.0      8  11885.0        31          1             1  2021   \n131071        2.0      8  11885.0        31          1             1  2021   \n\n       Month Min_length_stay  \n0          6               4  \n1          6               4  \n2          6               4  \n3          6               4  \n4          6               4  \n...      ...             ...  \n131067     1              16  \n131068     1              16  \n131069     1              16  \n131070     1              16  \n131071     1              16  \n\n[130294 rows x 14 columns]",
      "text/html": "<div>\n<style scoped>\n    .dataframe tbody tr th:only-of-type {\n        vertical-align: middle;\n    }\n\n    .dataframe tbody tr th {\n        vertical-align: top;\n    }\n\n    .dataframe thead th {\n        text-align: right;\n    }\n</style>\n<table border=\"1\" class=\"dataframe\">\n  <thead>\n    <tr style=\"text-align: right;\">\n      <th></th>\n      <th>unified_id</th>\n      <th>zipcode</th>\n      <th>city</th>\n      <th>host_type</th>\n      <th>bedrooms</th>\n      <th>bathrooms</th>\n      <th>guests</th>\n      <th>revenue</th>\n      <th>openness</th>\n      <th>occupancy</th>\n      <th>hot_tub;pool</th>\n      <th>Year</th>\n      <th>Month</th>\n      <th>Min_length_stay</th>\n    </tr>\n  </thead>\n  <tbody>\n    <tr>\n      <th>0</th>\n      <td>16428200</td>\n      <td>92314</td>\n      <td>Big Bear City</td>\n      <td>2-5 Units</td>\n      <td>4</td>\n      <td>4.0</td>\n      <td>13</td>\n      <td>7200.0</td>\n      <td>25</td>\n      <td>96</td>\n      <td>1</td>\n      <td>2020</td>\n      <td>6</td>\n      <td>4</td>\n    </tr>\n    <tr>\n      <th>1</th>\n      <td>16428200</td>\n      <td>92314</td>\n      <td>Big Bear City</td>\n      <td>2-5 Units</td>\n      <td>4</td>\n      <td>4.0</td>\n      <td>13</td>\n      <td>7200.0</td>\n      <td>25</td>\n      <td>96</td>\n      <td>1</td>\n      <td>2020</td>\n      <td>6</td>\n      <td>4</td>\n    </tr>\n    <tr>\n      <th>2</th>\n      <td>16428200</td>\n      <td>92314</td>\n      <td>Big Bear City</td>\n      <td>2-5 Units</td>\n      <td>4</td>\n      <td>4.0</td>\n      <td>13</td>\n      <td>7200.0</td>\n      <td>25</td>\n      <td>96</td>\n      <td>1</td>\n      <td>2020</td>\n      <td>6</td>\n      <td>4</td>\n    </tr>\n    <tr>\n      <th>3</th>\n      <td>16428200</td>\n      <td>92314</td>\n      <td>Big Bear City</td>\n      <td>2-5 Units</td>\n      <td>4</td>\n      <td>4.0</td>\n      <td>13</td>\n      <td>7200.0</td>\n      <td>25</td>\n      <td>96</td>\n      <td>1</td>\n      <td>2020</td>\n      <td>6</td>\n      <td>4</td>\n    </tr>\n    <tr>\n      <th>4</th>\n      <td>16428200</td>\n      <td>92314</td>\n      <td>Big Bear City</td>\n      <td>2-5 Units</td>\n      <td>4</td>\n      <td>4.0</td>\n      <td>13</td>\n      <td>7200.0</td>\n      <td>25</td>\n      <td>96</td>\n      <td>1</td>\n      <td>2020</td>\n      <td>6</td>\n      <td>4</td>\n    </tr>\n    <tr>\n      <th>...</th>\n      <td>...</td>\n      <td>...</td>\n      <td>...</td>\n      <td>...</td>\n      <td>...</td>\n      <td>...</td>\n      <td>...</td>\n      <td>...</td>\n      <td>...</td>\n      <td>...</td>\n      <td>...</td>\n      <td>...</td>\n      <td>...</td>\n      <td>...</td>\n    </tr>\n    <tr>\n      <th>131067</th>\n      <td>12873603</td>\n      <td>92315</td>\n      <td>Big Bear Lake</td>\n      <td>Single Owners</td>\n      <td>3</td>\n      <td>2.0</td>\n      <td>8</td>\n      <td>11885.0</td>\n      <td>31</td>\n      <td>1</td>\n      <td>1</td>\n      <td>2021</td>\n      <td>1</td>\n      <td>16</td>\n    </tr>\n    <tr>\n      <th>131068</th>\n      <td>12873603</td>\n      <td>92315</td>\n      <td>Big Bear Lake</td>\n      <td>Single Owners</td>\n      <td>3</td>\n      <td>2.0</td>\n      <td>8</td>\n      <td>11885.0</td>\n      <td>31</td>\n      <td>1</td>\n      <td>1</td>\n      <td>2021</td>\n      <td>1</td>\n      <td>16</td>\n    </tr>\n    <tr>\n      <th>131069</th>\n      <td>12873603</td>\n      <td>92315</td>\n      <td>Big Bear Lake</td>\n      <td>Single Owners</td>\n      <td>3</td>\n      <td>2.0</td>\n      <td>8</td>\n      <td>11885.0</td>\n      <td>31</td>\n      <td>1</td>\n      <td>1</td>\n      <td>2021</td>\n      <td>1</td>\n      <td>16</td>\n    </tr>\n    <tr>\n      <th>131070</th>\n      <td>12873603</td>\n      <td>92315</td>\n      <td>Big Bear Lake</td>\n      <td>Single Owners</td>\n      <td>3</td>\n      <td>2.0</td>\n      <td>8</td>\n      <td>11885.0</td>\n      <td>31</td>\n      <td>1</td>\n      <td>1</td>\n      <td>2021</td>\n      <td>1</td>\n      <td>16</td>\n    </tr>\n    <tr>\n      <th>131071</th>\n      <td>12873603</td>\n      <td>92315</td>\n      <td>Big Bear Lake</td>\n      <td>Single Owners</td>\n      <td>3</td>\n      <td>2.0</td>\n      <td>8</td>\n      <td>11885.0</td>\n      <td>31</td>\n      <td>1</td>\n      <td>1</td>\n      <td>2021</td>\n      <td>1</td>\n      <td>16</td>\n    </tr>\n  </tbody>\n</table>\n<p>130294 rows × 14 columns</p>\n</div>"
     },
     "execution_count": 149,
     "metadata": {},
     "output_type": "execute_result"
    }
   ],
   "source": [
    "dfdata"
   ],
   "metadata": {
    "collapsed": false,
    "pycharm": {
     "name": "#%%\n"
    }
   }
  },
  {
   "cell_type": "code",
   "execution_count": 150,
   "outputs": [
    {
     "data": {
      "text/plain": "(130294, 14)"
     },
     "execution_count": 150,
     "metadata": {},
     "output_type": "execute_result"
    }
   ],
   "source": [
    "dfdata.shape"
   ],
   "metadata": {
    "collapsed": false,
    "pycharm": {
     "name": "#%%\n"
    }
   }
  },
  {
   "cell_type": "code",
   "execution_count": 151,
   "outputs": [],
   "source": [
    "dfdata.to_csv(\"dfdata_new.csv\")"
   ],
   "metadata": {
    "collapsed": false,
    "pycharm": {
     "name": "#%%\n"
    }
   }
  },
  {
   "cell_type": "code",
   "execution_count": 152,
   "outputs": [
    {
     "data": {
      "text/plain": "        unified_id  zipcode           city      host_type  bedrooms  \\\n0         16428200    92314  Big Bear City      2-5 Units         4   \n1         16428200    92314  Big Bear City      2-5 Units         4   \n2         16428200    92314  Big Bear City      2-5 Units         4   \n3         16428200    92314  Big Bear City      2-5 Units         4   \n4         16428200    92314  Big Bear City      2-5 Units         4   \n...            ...      ...            ...            ...       ...   \n131067    12873603    92315  Big Bear Lake  Single Owners         3   \n131068    12873603    92315  Big Bear Lake  Single Owners         3   \n131069    12873603    92315  Big Bear Lake  Single Owners         3   \n131070    12873603    92315  Big Bear Lake  Single Owners         3   \n131071    12873603    92315  Big Bear Lake  Single Owners         3   \n\n        bathrooms guests  revenue  openness  occupancy  hot_tub;pool  Year  \\\n0             4.0     13   7200.0        25         96             1  2020   \n1             4.0     13   7200.0        25         96             1  2020   \n2             4.0     13   7200.0        25         96             1  2020   \n3             4.0     13   7200.0        25         96             1  2020   \n4             4.0     13   7200.0        25         96             1  2020   \n...           ...    ...      ...       ...        ...           ...   ...   \n131067        2.0      8  11885.0        31          1             1  2021   \n131068        2.0      8  11885.0        31          1             1  2021   \n131069        2.0      8  11885.0        31          1             1  2021   \n131070        2.0      8  11885.0        31          1             1  2021   \n131071        2.0      8  11885.0        31          1             1  2021   \n\n       Month Min_length_stay  \n0          6               4  \n1          6               4  \n2          6               4  \n3          6               4  \n4          6               4  \n...      ...             ...  \n131067     1              16  \n131068     1              16  \n131069     1              16  \n131070     1              16  \n131071     1              16  \n\n[130294 rows x 14 columns]",
      "text/html": "<div>\n<style scoped>\n    .dataframe tbody tr th:only-of-type {\n        vertical-align: middle;\n    }\n\n    .dataframe tbody tr th {\n        vertical-align: top;\n    }\n\n    .dataframe thead th {\n        text-align: right;\n    }\n</style>\n<table border=\"1\" class=\"dataframe\">\n  <thead>\n    <tr style=\"text-align: right;\">\n      <th></th>\n      <th>unified_id</th>\n      <th>zipcode</th>\n      <th>city</th>\n      <th>host_type</th>\n      <th>bedrooms</th>\n      <th>bathrooms</th>\n      <th>guests</th>\n      <th>revenue</th>\n      <th>openness</th>\n      <th>occupancy</th>\n      <th>hot_tub;pool</th>\n      <th>Year</th>\n      <th>Month</th>\n      <th>Min_length_stay</th>\n    </tr>\n  </thead>\n  <tbody>\n    <tr>\n      <th>0</th>\n      <td>16428200</td>\n      <td>92314</td>\n      <td>Big Bear City</td>\n      <td>2-5 Units</td>\n      <td>4</td>\n      <td>4.0</td>\n      <td>13</td>\n      <td>7200.0</td>\n      <td>25</td>\n      <td>96</td>\n      <td>1</td>\n      <td>2020</td>\n      <td>6</td>\n      <td>4</td>\n    </tr>\n    <tr>\n      <th>1</th>\n      <td>16428200</td>\n      <td>92314</td>\n      <td>Big Bear City</td>\n      <td>2-5 Units</td>\n      <td>4</td>\n      <td>4.0</td>\n      <td>13</td>\n      <td>7200.0</td>\n      <td>25</td>\n      <td>96</td>\n      <td>1</td>\n      <td>2020</td>\n      <td>6</td>\n      <td>4</td>\n    </tr>\n    <tr>\n      <th>2</th>\n      <td>16428200</td>\n      <td>92314</td>\n      <td>Big Bear City</td>\n      <td>2-5 Units</td>\n      <td>4</td>\n      <td>4.0</td>\n      <td>13</td>\n      <td>7200.0</td>\n      <td>25</td>\n      <td>96</td>\n      <td>1</td>\n      <td>2020</td>\n      <td>6</td>\n      <td>4</td>\n    </tr>\n    <tr>\n      <th>3</th>\n      <td>16428200</td>\n      <td>92314</td>\n      <td>Big Bear City</td>\n      <td>2-5 Units</td>\n      <td>4</td>\n      <td>4.0</td>\n      <td>13</td>\n      <td>7200.0</td>\n      <td>25</td>\n      <td>96</td>\n      <td>1</td>\n      <td>2020</td>\n      <td>6</td>\n      <td>4</td>\n    </tr>\n    <tr>\n      <th>4</th>\n      <td>16428200</td>\n      <td>92314</td>\n      <td>Big Bear City</td>\n      <td>2-5 Units</td>\n      <td>4</td>\n      <td>4.0</td>\n      <td>13</td>\n      <td>7200.0</td>\n      <td>25</td>\n      <td>96</td>\n      <td>1</td>\n      <td>2020</td>\n      <td>6</td>\n      <td>4</td>\n    </tr>\n    <tr>\n      <th>...</th>\n      <td>...</td>\n      <td>...</td>\n      <td>...</td>\n      <td>...</td>\n      <td>...</td>\n      <td>...</td>\n      <td>...</td>\n      <td>...</td>\n      <td>...</td>\n      <td>...</td>\n      <td>...</td>\n      <td>...</td>\n      <td>...</td>\n      <td>...</td>\n    </tr>\n    <tr>\n      <th>131067</th>\n      <td>12873603</td>\n      <td>92315</td>\n      <td>Big Bear Lake</td>\n      <td>Single Owners</td>\n      <td>3</td>\n      <td>2.0</td>\n      <td>8</td>\n      <td>11885.0</td>\n      <td>31</td>\n      <td>1</td>\n      <td>1</td>\n      <td>2021</td>\n      <td>1</td>\n      <td>16</td>\n    </tr>\n    <tr>\n      <th>131068</th>\n      <td>12873603</td>\n      <td>92315</td>\n      <td>Big Bear Lake</td>\n      <td>Single Owners</td>\n      <td>3</td>\n      <td>2.0</td>\n      <td>8</td>\n      <td>11885.0</td>\n      <td>31</td>\n      <td>1</td>\n      <td>1</td>\n      <td>2021</td>\n      <td>1</td>\n      <td>16</td>\n    </tr>\n    <tr>\n      <th>131069</th>\n      <td>12873603</td>\n      <td>92315</td>\n      <td>Big Bear Lake</td>\n      <td>Single Owners</td>\n      <td>3</td>\n      <td>2.0</td>\n      <td>8</td>\n      <td>11885.0</td>\n      <td>31</td>\n      <td>1</td>\n      <td>1</td>\n      <td>2021</td>\n      <td>1</td>\n      <td>16</td>\n    </tr>\n    <tr>\n      <th>131070</th>\n      <td>12873603</td>\n      <td>92315</td>\n      <td>Big Bear Lake</td>\n      <td>Single Owners</td>\n      <td>3</td>\n      <td>2.0</td>\n      <td>8</td>\n      <td>11885.0</td>\n      <td>31</td>\n      <td>1</td>\n      <td>1</td>\n      <td>2021</td>\n      <td>1</td>\n      <td>16</td>\n    </tr>\n    <tr>\n      <th>131071</th>\n      <td>12873603</td>\n      <td>92315</td>\n      <td>Big Bear Lake</td>\n      <td>Single Owners</td>\n      <td>3</td>\n      <td>2.0</td>\n      <td>8</td>\n      <td>11885.0</td>\n      <td>31</td>\n      <td>1</td>\n      <td>1</td>\n      <td>2021</td>\n      <td>1</td>\n      <td>16</td>\n    </tr>\n  </tbody>\n</table>\n<p>130294 rows × 14 columns</p>\n</div>"
     },
     "execution_count": 152,
     "metadata": {},
     "output_type": "execute_result"
    }
   ],
   "source": [
    "dfdata"
   ],
   "metadata": {
    "collapsed": false,
    "pycharm": {
     "name": "#%%\n"
    }
   }
  },
  {
   "cell_type": "code",
   "execution_count": 169,
   "outputs": [
    {
     "data": {
      "text/plain": "Index(['unified_id', 'zipcode', 'city', 'host_type', 'bedrooms', 'bathrooms',\n       'guests', 'revenue', 'openness', 'occupancy', 'hot_tub;pool', 'Year',\n       'Month', 'Min_length_stay'],\n      dtype='object')"
     },
     "execution_count": 169,
     "metadata": {},
     "output_type": "execute_result"
    }
   ],
   "source": [
    "dfdata.columns"
   ],
   "metadata": {
    "collapsed": false,
    "pycharm": {
     "name": "#%%\n"
    }
   }
  },
  {
   "cell_type": "code",
   "execution_count": 155,
   "outputs": [
    {
     "data": {
      "text/plain": "city\nBig Bear Lake    73262\nBig Bear City    24329\nJoshua Tree      20803\nYucca Valley     11900\nName: count, dtype: int64"
     },
     "execution_count": 155,
     "metadata": {},
     "output_type": "execute_result"
    }
   ],
   "source": [
    "dfdata[\"city\"].value_counts()"
   ],
   "metadata": {
    "collapsed": false,
    "pycharm": {
     "name": "#%%\n"
    }
   }
  },
  {
   "cell_type": "code",
   "execution_count": 157,
   "outputs": [],
   "source": [
    "State_map = {\"Big Bear Lake\":1,\"Big Bear City\":2 ,\"Joshua Tree\":3 ,\"Yucca Valley\":4 }"
   ],
   "metadata": {
    "collapsed": false,
    "pycharm": {
     "name": "#%%\n"
    }
   }
  },
  {
   "cell_type": "code",
   "execution_count": 158,
   "outputs": [],
   "source": [
    "dfdata[\"city\"]=dfdata[\"city\"].map(State_map)"
   ],
   "metadata": {
    "collapsed": false,
    "pycharm": {
     "name": "#%%\n"
    }
   }
  },
  {
   "cell_type": "code",
   "execution_count": 159,
   "outputs": [
    {
     "data": {
      "text/plain": "        unified_id  zipcode  city      host_type  bedrooms  bathrooms guests  \\\n0         16428200    92314     2      2-5 Units         4        4.0     13   \n1         16428200    92314     2      2-5 Units         4        4.0     13   \n2         16428200    92314     2      2-5 Units         4        4.0     13   \n3         16428200    92314     2      2-5 Units         4        4.0     13   \n4         16428200    92314     2      2-5 Units         4        4.0     13   \n...            ...      ...   ...            ...       ...        ...    ...   \n131067    12873603    92315     1  Single Owners         3        2.0      8   \n131068    12873603    92315     1  Single Owners         3        2.0      8   \n131069    12873603    92315     1  Single Owners         3        2.0      8   \n131070    12873603    92315     1  Single Owners         3        2.0      8   \n131071    12873603    92315     1  Single Owners         3        2.0      8   \n\n        revenue  openness  occupancy  hot_tub;pool  Year Month Min_length_stay  \n0        7200.0        25         96             1  2020     6               4  \n1        7200.0        25         96             1  2020     6               4  \n2        7200.0        25         96             1  2020     6               4  \n3        7200.0        25         96             1  2020     6               4  \n4        7200.0        25         96             1  2020     6               4  \n...         ...       ...        ...           ...   ...   ...             ...  \n131067  11885.0        31          1             1  2021     1              16  \n131068  11885.0        31          1             1  2021     1              16  \n131069  11885.0        31          1             1  2021     1              16  \n131070  11885.0        31          1             1  2021     1              16  \n131071  11885.0        31          1             1  2021     1              16  \n\n[130294 rows x 14 columns]",
      "text/html": "<div>\n<style scoped>\n    .dataframe tbody tr th:only-of-type {\n        vertical-align: middle;\n    }\n\n    .dataframe tbody tr th {\n        vertical-align: top;\n    }\n\n    .dataframe thead th {\n        text-align: right;\n    }\n</style>\n<table border=\"1\" class=\"dataframe\">\n  <thead>\n    <tr style=\"text-align: right;\">\n      <th></th>\n      <th>unified_id</th>\n      <th>zipcode</th>\n      <th>city</th>\n      <th>host_type</th>\n      <th>bedrooms</th>\n      <th>bathrooms</th>\n      <th>guests</th>\n      <th>revenue</th>\n      <th>openness</th>\n      <th>occupancy</th>\n      <th>hot_tub;pool</th>\n      <th>Year</th>\n      <th>Month</th>\n      <th>Min_length_stay</th>\n    </tr>\n  </thead>\n  <tbody>\n    <tr>\n      <th>0</th>\n      <td>16428200</td>\n      <td>92314</td>\n      <td>2</td>\n      <td>2-5 Units</td>\n      <td>4</td>\n      <td>4.0</td>\n      <td>13</td>\n      <td>7200.0</td>\n      <td>25</td>\n      <td>96</td>\n      <td>1</td>\n      <td>2020</td>\n      <td>6</td>\n      <td>4</td>\n    </tr>\n    <tr>\n      <th>1</th>\n      <td>16428200</td>\n      <td>92314</td>\n      <td>2</td>\n      <td>2-5 Units</td>\n      <td>4</td>\n      <td>4.0</td>\n      <td>13</td>\n      <td>7200.0</td>\n      <td>25</td>\n      <td>96</td>\n      <td>1</td>\n      <td>2020</td>\n      <td>6</td>\n      <td>4</td>\n    </tr>\n    <tr>\n      <th>2</th>\n      <td>16428200</td>\n      <td>92314</td>\n      <td>2</td>\n      <td>2-5 Units</td>\n      <td>4</td>\n      <td>4.0</td>\n      <td>13</td>\n      <td>7200.0</td>\n      <td>25</td>\n      <td>96</td>\n      <td>1</td>\n      <td>2020</td>\n      <td>6</td>\n      <td>4</td>\n    </tr>\n    <tr>\n      <th>3</th>\n      <td>16428200</td>\n      <td>92314</td>\n      <td>2</td>\n      <td>2-5 Units</td>\n      <td>4</td>\n      <td>4.0</td>\n      <td>13</td>\n      <td>7200.0</td>\n      <td>25</td>\n      <td>96</td>\n      <td>1</td>\n      <td>2020</td>\n      <td>6</td>\n      <td>4</td>\n    </tr>\n    <tr>\n      <th>4</th>\n      <td>16428200</td>\n      <td>92314</td>\n      <td>2</td>\n      <td>2-5 Units</td>\n      <td>4</td>\n      <td>4.0</td>\n      <td>13</td>\n      <td>7200.0</td>\n      <td>25</td>\n      <td>96</td>\n      <td>1</td>\n      <td>2020</td>\n      <td>6</td>\n      <td>4</td>\n    </tr>\n    <tr>\n      <th>...</th>\n      <td>...</td>\n      <td>...</td>\n      <td>...</td>\n      <td>...</td>\n      <td>...</td>\n      <td>...</td>\n      <td>...</td>\n      <td>...</td>\n      <td>...</td>\n      <td>...</td>\n      <td>...</td>\n      <td>...</td>\n      <td>...</td>\n      <td>...</td>\n    </tr>\n    <tr>\n      <th>131067</th>\n      <td>12873603</td>\n      <td>92315</td>\n      <td>1</td>\n      <td>Single Owners</td>\n      <td>3</td>\n      <td>2.0</td>\n      <td>8</td>\n      <td>11885.0</td>\n      <td>31</td>\n      <td>1</td>\n      <td>1</td>\n      <td>2021</td>\n      <td>1</td>\n      <td>16</td>\n    </tr>\n    <tr>\n      <th>131068</th>\n      <td>12873603</td>\n      <td>92315</td>\n      <td>1</td>\n      <td>Single Owners</td>\n      <td>3</td>\n      <td>2.0</td>\n      <td>8</td>\n      <td>11885.0</td>\n      <td>31</td>\n      <td>1</td>\n      <td>1</td>\n      <td>2021</td>\n      <td>1</td>\n      <td>16</td>\n    </tr>\n    <tr>\n      <th>131069</th>\n      <td>12873603</td>\n      <td>92315</td>\n      <td>1</td>\n      <td>Single Owners</td>\n      <td>3</td>\n      <td>2.0</td>\n      <td>8</td>\n      <td>11885.0</td>\n      <td>31</td>\n      <td>1</td>\n      <td>1</td>\n      <td>2021</td>\n      <td>1</td>\n      <td>16</td>\n    </tr>\n    <tr>\n      <th>131070</th>\n      <td>12873603</td>\n      <td>92315</td>\n      <td>1</td>\n      <td>Single Owners</td>\n      <td>3</td>\n      <td>2.0</td>\n      <td>8</td>\n      <td>11885.0</td>\n      <td>31</td>\n      <td>1</td>\n      <td>1</td>\n      <td>2021</td>\n      <td>1</td>\n      <td>16</td>\n    </tr>\n    <tr>\n      <th>131071</th>\n      <td>12873603</td>\n      <td>92315</td>\n      <td>1</td>\n      <td>Single Owners</td>\n      <td>3</td>\n      <td>2.0</td>\n      <td>8</td>\n      <td>11885.0</td>\n      <td>31</td>\n      <td>1</td>\n      <td>1</td>\n      <td>2021</td>\n      <td>1</td>\n      <td>16</td>\n    </tr>\n  </tbody>\n</table>\n<p>130294 rows × 14 columns</p>\n</div>"
     },
     "execution_count": 159,
     "metadata": {},
     "output_type": "execute_result"
    }
   ],
   "source": [
    "dfdata"
   ],
   "metadata": {
    "collapsed": false,
    "pycharm": {
     "name": "#%%\n"
    }
   }
  },
  {
   "cell_type": "code",
   "execution_count": 156,
   "outputs": [
    {
     "data": {
      "text/plain": "host_type\nProfessionals    61586\nSingle Owners    36210\n2-5 Units        32498\nName: count, dtype: int64"
     },
     "execution_count": 156,
     "metadata": {},
     "output_type": "execute_result"
    }
   ],
   "source": [
    "dfdata[\"host_type\"].value_counts()"
   ],
   "metadata": {
    "collapsed": false,
    "pycharm": {
     "name": "#%%\n"
    }
   }
  },
  {
   "cell_type": "code",
   "execution_count": 160,
   "outputs": [],
   "source": [
    "State_map = {\"Professionals\":1,\"Single Owners\":2 ,\"2-5 Units\":3 }\n",
    "dfdata[\"host_type\"]=dfdata[\"host_type\"].map(State_map)"
   ],
   "metadata": {
    "collapsed": false,
    "pycharm": {
     "name": "#%%\n"
    }
   }
  },
  {
   "cell_type": "code",
   "execution_count": 161,
   "outputs": [
    {
     "data": {
      "text/plain": "        unified_id  zipcode  city  host_type  bedrooms  bathrooms guests  \\\n0         16428200    92314     2          3         4        4.0     13   \n1         16428200    92314     2          3         4        4.0     13   \n2         16428200    92314     2          3         4        4.0     13   \n3         16428200    92314     2          3         4        4.0     13   \n4         16428200    92314     2          3         4        4.0     13   \n...            ...      ...   ...        ...       ...        ...    ...   \n131067    12873603    92315     1          2         3        2.0      8   \n131068    12873603    92315     1          2         3        2.0      8   \n131069    12873603    92315     1          2         3        2.0      8   \n131070    12873603    92315     1          2         3        2.0      8   \n131071    12873603    92315     1          2         3        2.0      8   \n\n        revenue  openness  occupancy  hot_tub;pool  Year Month Min_length_stay  \n0        7200.0        25         96             1  2020     6               4  \n1        7200.0        25         96             1  2020     6               4  \n2        7200.0        25         96             1  2020     6               4  \n3        7200.0        25         96             1  2020     6               4  \n4        7200.0        25         96             1  2020     6               4  \n...         ...       ...        ...           ...   ...   ...             ...  \n131067  11885.0        31          1             1  2021     1              16  \n131068  11885.0        31          1             1  2021     1              16  \n131069  11885.0        31          1             1  2021     1              16  \n131070  11885.0        31          1             1  2021     1              16  \n131071  11885.0        31          1             1  2021     1              16  \n\n[130294 rows x 14 columns]",
      "text/html": "<div>\n<style scoped>\n    .dataframe tbody tr th:only-of-type {\n        vertical-align: middle;\n    }\n\n    .dataframe tbody tr th {\n        vertical-align: top;\n    }\n\n    .dataframe thead th {\n        text-align: right;\n    }\n</style>\n<table border=\"1\" class=\"dataframe\">\n  <thead>\n    <tr style=\"text-align: right;\">\n      <th></th>\n      <th>unified_id</th>\n      <th>zipcode</th>\n      <th>city</th>\n      <th>host_type</th>\n      <th>bedrooms</th>\n      <th>bathrooms</th>\n      <th>guests</th>\n      <th>revenue</th>\n      <th>openness</th>\n      <th>occupancy</th>\n      <th>hot_tub;pool</th>\n      <th>Year</th>\n      <th>Month</th>\n      <th>Min_length_stay</th>\n    </tr>\n  </thead>\n  <tbody>\n    <tr>\n      <th>0</th>\n      <td>16428200</td>\n      <td>92314</td>\n      <td>2</td>\n      <td>3</td>\n      <td>4</td>\n      <td>4.0</td>\n      <td>13</td>\n      <td>7200.0</td>\n      <td>25</td>\n      <td>96</td>\n      <td>1</td>\n      <td>2020</td>\n      <td>6</td>\n      <td>4</td>\n    </tr>\n    <tr>\n      <th>1</th>\n      <td>16428200</td>\n      <td>92314</td>\n      <td>2</td>\n      <td>3</td>\n      <td>4</td>\n      <td>4.0</td>\n      <td>13</td>\n      <td>7200.0</td>\n      <td>25</td>\n      <td>96</td>\n      <td>1</td>\n      <td>2020</td>\n      <td>6</td>\n      <td>4</td>\n    </tr>\n    <tr>\n      <th>2</th>\n      <td>16428200</td>\n      <td>92314</td>\n      <td>2</td>\n      <td>3</td>\n      <td>4</td>\n      <td>4.0</td>\n      <td>13</td>\n      <td>7200.0</td>\n      <td>25</td>\n      <td>96</td>\n      <td>1</td>\n      <td>2020</td>\n      <td>6</td>\n      <td>4</td>\n    </tr>\n    <tr>\n      <th>3</th>\n      <td>16428200</td>\n      <td>92314</td>\n      <td>2</td>\n      <td>3</td>\n      <td>4</td>\n      <td>4.0</td>\n      <td>13</td>\n      <td>7200.0</td>\n      <td>25</td>\n      <td>96</td>\n      <td>1</td>\n      <td>2020</td>\n      <td>6</td>\n      <td>4</td>\n    </tr>\n    <tr>\n      <th>4</th>\n      <td>16428200</td>\n      <td>92314</td>\n      <td>2</td>\n      <td>3</td>\n      <td>4</td>\n      <td>4.0</td>\n      <td>13</td>\n      <td>7200.0</td>\n      <td>25</td>\n      <td>96</td>\n      <td>1</td>\n      <td>2020</td>\n      <td>6</td>\n      <td>4</td>\n    </tr>\n    <tr>\n      <th>...</th>\n      <td>...</td>\n      <td>...</td>\n      <td>...</td>\n      <td>...</td>\n      <td>...</td>\n      <td>...</td>\n      <td>...</td>\n      <td>...</td>\n      <td>...</td>\n      <td>...</td>\n      <td>...</td>\n      <td>...</td>\n      <td>...</td>\n      <td>...</td>\n    </tr>\n    <tr>\n      <th>131067</th>\n      <td>12873603</td>\n      <td>92315</td>\n      <td>1</td>\n      <td>2</td>\n      <td>3</td>\n      <td>2.0</td>\n      <td>8</td>\n      <td>11885.0</td>\n      <td>31</td>\n      <td>1</td>\n      <td>1</td>\n      <td>2021</td>\n      <td>1</td>\n      <td>16</td>\n    </tr>\n    <tr>\n      <th>131068</th>\n      <td>12873603</td>\n      <td>92315</td>\n      <td>1</td>\n      <td>2</td>\n      <td>3</td>\n      <td>2.0</td>\n      <td>8</td>\n      <td>11885.0</td>\n      <td>31</td>\n      <td>1</td>\n      <td>1</td>\n      <td>2021</td>\n      <td>1</td>\n      <td>16</td>\n    </tr>\n    <tr>\n      <th>131069</th>\n      <td>12873603</td>\n      <td>92315</td>\n      <td>1</td>\n      <td>2</td>\n      <td>3</td>\n      <td>2.0</td>\n      <td>8</td>\n      <td>11885.0</td>\n      <td>31</td>\n      <td>1</td>\n      <td>1</td>\n      <td>2021</td>\n      <td>1</td>\n      <td>16</td>\n    </tr>\n    <tr>\n      <th>131070</th>\n      <td>12873603</td>\n      <td>92315</td>\n      <td>1</td>\n      <td>2</td>\n      <td>3</td>\n      <td>2.0</td>\n      <td>8</td>\n      <td>11885.0</td>\n      <td>31</td>\n      <td>1</td>\n      <td>1</td>\n      <td>2021</td>\n      <td>1</td>\n      <td>16</td>\n    </tr>\n    <tr>\n      <th>131071</th>\n      <td>12873603</td>\n      <td>92315</td>\n      <td>1</td>\n      <td>2</td>\n      <td>3</td>\n      <td>2.0</td>\n      <td>8</td>\n      <td>11885.0</td>\n      <td>31</td>\n      <td>1</td>\n      <td>1</td>\n      <td>2021</td>\n      <td>1</td>\n      <td>16</td>\n    </tr>\n  </tbody>\n</table>\n<p>130294 rows × 14 columns</p>\n</div>"
     },
     "execution_count": 161,
     "metadata": {},
     "output_type": "execute_result"
    }
   ],
   "source": [
    "dfdata"
   ],
   "metadata": {
    "collapsed": false,
    "pycharm": {
     "name": "#%%\n"
    }
   }
  },
  {
   "cell_type": "code",
   "execution_count": 162,
   "outputs": [],
   "source": [
    "x= dfdata.drop(columns=['city','host_type','guests'])"
   ],
   "metadata": {
    "collapsed": false,
    "pycharm": {
     "name": "#%%\n"
    }
   }
  },
  {
   "cell_type": "code",
   "execution_count": 171,
   "outputs": [
    {
     "data": {
      "text/plain": "unified_id           int64\nzipcode              int64\nbedrooms             int64\nbathrooms          float64\nrevenue            float64\nopenness             int64\noccupancy            int64\nhot_tub;pool         int64\nYear                object\nMonth               object\nMin_length_stay     object\ndtype: object"
     },
     "execution_count": 171,
     "metadata": {},
     "output_type": "execute_result"
    }
   ],
   "source": [
    "x.dtypes"
   ],
   "metadata": {
    "collapsed": false,
    "pycharm": {
     "name": "#%%\n"
    }
   }
  },
  {
   "cell_type": "code",
   "execution_count": 167,
   "outputs": [
    {
     "data": {
      "text/plain": "        unified_id  zipcode  bedrooms  bathrooms  revenue  openness  \\\n0         16428200    92314         4        4.0   7200.0        25   \n1         16428200    92314         4        4.0   7200.0        25   \n2         16428200    92314         4        4.0   7200.0        25   \n3         16428200    92314         4        4.0   7200.0        25   \n4         16428200    92314         4        4.0   7200.0        25   \n...            ...      ...       ...        ...      ...       ...   \n131067    12873603    92315         3        2.0  11885.0        31   \n131068    12873603    92315         3        2.0  11885.0        31   \n131069    12873603    92315         3        2.0  11885.0        31   \n131070    12873603    92315         3        2.0  11885.0        31   \n131071    12873603    92315         3        2.0  11885.0        31   \n\n        occupancy  hot_tub;pool  Year Month Min_length_stay  \n0              96             1  2020     6               4  \n1              96             1  2020     6               4  \n2              96             1  2020     6               4  \n3              96             1  2020     6               4  \n4              96             1  2020     6               4  \n...           ...           ...   ...   ...             ...  \n131067          1             1  2021     1              16  \n131068          1             1  2021     1              16  \n131069          1             1  2021     1              16  \n131070          1             1  2021     1              16  \n131071          1             1  2021     1              16  \n\n[130294 rows x 11 columns]",
      "text/html": "<div>\n<style scoped>\n    .dataframe tbody tr th:only-of-type {\n        vertical-align: middle;\n    }\n\n    .dataframe tbody tr th {\n        vertical-align: top;\n    }\n\n    .dataframe thead th {\n        text-align: right;\n    }\n</style>\n<table border=\"1\" class=\"dataframe\">\n  <thead>\n    <tr style=\"text-align: right;\">\n      <th></th>\n      <th>unified_id</th>\n      <th>zipcode</th>\n      <th>bedrooms</th>\n      <th>bathrooms</th>\n      <th>revenue</th>\n      <th>openness</th>\n      <th>occupancy</th>\n      <th>hot_tub;pool</th>\n      <th>Year</th>\n      <th>Month</th>\n      <th>Min_length_stay</th>\n    </tr>\n  </thead>\n  <tbody>\n    <tr>\n      <th>0</th>\n      <td>16428200</td>\n      <td>92314</td>\n      <td>4</td>\n      <td>4.0</td>\n      <td>7200.0</td>\n      <td>25</td>\n      <td>96</td>\n      <td>1</td>\n      <td>2020</td>\n      <td>6</td>\n      <td>4</td>\n    </tr>\n    <tr>\n      <th>1</th>\n      <td>16428200</td>\n      <td>92314</td>\n      <td>4</td>\n      <td>4.0</td>\n      <td>7200.0</td>\n      <td>25</td>\n      <td>96</td>\n      <td>1</td>\n      <td>2020</td>\n      <td>6</td>\n      <td>4</td>\n    </tr>\n    <tr>\n      <th>2</th>\n      <td>16428200</td>\n      <td>92314</td>\n      <td>4</td>\n      <td>4.0</td>\n      <td>7200.0</td>\n      <td>25</td>\n      <td>96</td>\n      <td>1</td>\n      <td>2020</td>\n      <td>6</td>\n      <td>4</td>\n    </tr>\n    <tr>\n      <th>3</th>\n      <td>16428200</td>\n      <td>92314</td>\n      <td>4</td>\n      <td>4.0</td>\n      <td>7200.0</td>\n      <td>25</td>\n      <td>96</td>\n      <td>1</td>\n      <td>2020</td>\n      <td>6</td>\n      <td>4</td>\n    </tr>\n    <tr>\n      <th>4</th>\n      <td>16428200</td>\n      <td>92314</td>\n      <td>4</td>\n      <td>4.0</td>\n      <td>7200.0</td>\n      <td>25</td>\n      <td>96</td>\n      <td>1</td>\n      <td>2020</td>\n      <td>6</td>\n      <td>4</td>\n    </tr>\n    <tr>\n      <th>...</th>\n      <td>...</td>\n      <td>...</td>\n      <td>...</td>\n      <td>...</td>\n      <td>...</td>\n      <td>...</td>\n      <td>...</td>\n      <td>...</td>\n      <td>...</td>\n      <td>...</td>\n      <td>...</td>\n    </tr>\n    <tr>\n      <th>131067</th>\n      <td>12873603</td>\n      <td>92315</td>\n      <td>3</td>\n      <td>2.0</td>\n      <td>11885.0</td>\n      <td>31</td>\n      <td>1</td>\n      <td>1</td>\n      <td>2021</td>\n      <td>1</td>\n      <td>16</td>\n    </tr>\n    <tr>\n      <th>131068</th>\n      <td>12873603</td>\n      <td>92315</td>\n      <td>3</td>\n      <td>2.0</td>\n      <td>11885.0</td>\n      <td>31</td>\n      <td>1</td>\n      <td>1</td>\n      <td>2021</td>\n      <td>1</td>\n      <td>16</td>\n    </tr>\n    <tr>\n      <th>131069</th>\n      <td>12873603</td>\n      <td>92315</td>\n      <td>3</td>\n      <td>2.0</td>\n      <td>11885.0</td>\n      <td>31</td>\n      <td>1</td>\n      <td>1</td>\n      <td>2021</td>\n      <td>1</td>\n      <td>16</td>\n    </tr>\n    <tr>\n      <th>131070</th>\n      <td>12873603</td>\n      <td>92315</td>\n      <td>3</td>\n      <td>2.0</td>\n      <td>11885.0</td>\n      <td>31</td>\n      <td>1</td>\n      <td>1</td>\n      <td>2021</td>\n      <td>1</td>\n      <td>16</td>\n    </tr>\n    <tr>\n      <th>131071</th>\n      <td>12873603</td>\n      <td>92315</td>\n      <td>3</td>\n      <td>2.0</td>\n      <td>11885.0</td>\n      <td>31</td>\n      <td>1</td>\n      <td>1</td>\n      <td>2021</td>\n      <td>1</td>\n      <td>16</td>\n    </tr>\n  </tbody>\n</table>\n<p>130294 rows × 11 columns</p>\n</div>"
     },
     "execution_count": 167,
     "metadata": {},
     "output_type": "execute_result"
    }
   ],
   "source": [
    "x"
   ],
   "metadata": {
    "collapsed": false,
    "pycharm": {
     "name": "#%%\n"
    }
   }
  },
  {
   "cell_type": "code",
   "execution_count": 177,
   "outputs": [],
   "source": [
    "for i in x.columns[x.dtypes==\"object\"]:\n",
    "    x[i]=x[i].astype(int)"
   ],
   "metadata": {
    "collapsed": false,
    "pycharm": {
     "name": "#%%\n"
    }
   }
  },
  {
   "cell_type": "code",
   "execution_count": 178,
   "outputs": [
    {
     "data": {
      "text/plain": "unified_id           int64\nzipcode              int64\nbedrooms             int64\nbathrooms          float64\nrevenue            float64\nopenness             int64\noccupancy            int64\nhot_tub;pool         int64\nYear                 int32\nMonth                int32\nMin_length_stay      int32\ndtype: object"
     },
     "execution_count": 178,
     "metadata": {},
     "output_type": "execute_result"
    }
   ],
   "source": [
    "x.dtypes"
   ],
   "metadata": {
    "collapsed": false,
    "pycharm": {
     "name": "#%%\n"
    }
   }
  },
  {
   "cell_type": "code",
   "execution_count": 179,
   "outputs": [],
   "source": [
    "def detect_outliers_zscore(data):\n",
    "    z_scores = np.abs((data - data.mean()) / data.std())\n",
    "    return z_scores > 3  # Threshold for outliers"
   ],
   "metadata": {
    "collapsed": false,
    "pycharm": {
     "name": "#%%\n"
    }
   }
  },
  {
   "cell_type": "code",
   "execution_count": 180,
   "outputs": [],
   "source": [
    "outliers_zscore = detect_outliers_zscore(x)\n",
    "cleaned_data = x[~outliers_zscore.any(axis=1)]"
   ],
   "metadata": {
    "collapsed": false,
    "pycharm": {
     "name": "#%%\n"
    }
   }
  },
  {
   "cell_type": "code",
   "execution_count": 181,
   "outputs": [
    {
     "data": {
      "text/plain": "        unified_id  zipcode  bedrooms  bathrooms  revenue  openness  \\\n6607      15958885    92315         3        1.5   2038.0        25   \n6608      15958885    92315         3        1.5   2038.0        25   \n6609      15958885    92315         3        1.5   2038.0        25   \n6610      15958885    92315         3        1.5   2038.0        25   \n6611      15958885    92315         3        1.5   2038.0        25   \n...            ...      ...       ...        ...      ...       ...   \n131067    12873603    92315         3        2.0  11885.0        31   \n131068    12873603    92315         3        2.0  11885.0        31   \n131069    12873603    92315         3        2.0  11885.0        31   \n131070    12873603    92315         3        2.0  11885.0        31   \n131071    12873603    92315         3        2.0  11885.0        31   \n\n        occupancy  hot_tub;pool  Year  Month  Min_length_stay  \n6607           56             1  2020      3                3  \n6608           56             1  2020      3                3  \n6609           56             1  2020      3                3  \n6610           56             1  2020      3                3  \n6611           56             1  2020      3                3  \n...           ...           ...   ...    ...              ...  \n131067          1             1  2021      1               16  \n131068          1             1  2021      1               16  \n131069          1             1  2021      1               16  \n131070          1             1  2021      1               16  \n131071          1             1  2021      1               16  \n\n[112743 rows x 11 columns]",
      "text/html": "<div>\n<style scoped>\n    .dataframe tbody tr th:only-of-type {\n        vertical-align: middle;\n    }\n\n    .dataframe tbody tr th {\n        vertical-align: top;\n    }\n\n    .dataframe thead th {\n        text-align: right;\n    }\n</style>\n<table border=\"1\" class=\"dataframe\">\n  <thead>\n    <tr style=\"text-align: right;\">\n      <th></th>\n      <th>unified_id</th>\n      <th>zipcode</th>\n      <th>bedrooms</th>\n      <th>bathrooms</th>\n      <th>revenue</th>\n      <th>openness</th>\n      <th>occupancy</th>\n      <th>hot_tub;pool</th>\n      <th>Year</th>\n      <th>Month</th>\n      <th>Min_length_stay</th>\n    </tr>\n  </thead>\n  <tbody>\n    <tr>\n      <th>6607</th>\n      <td>15958885</td>\n      <td>92315</td>\n      <td>3</td>\n      <td>1.5</td>\n      <td>2038.0</td>\n      <td>25</td>\n      <td>56</td>\n      <td>1</td>\n      <td>2020</td>\n      <td>3</td>\n      <td>3</td>\n    </tr>\n    <tr>\n      <th>6608</th>\n      <td>15958885</td>\n      <td>92315</td>\n      <td>3</td>\n      <td>1.5</td>\n      <td>2038.0</td>\n      <td>25</td>\n      <td>56</td>\n      <td>1</td>\n      <td>2020</td>\n      <td>3</td>\n      <td>3</td>\n    </tr>\n    <tr>\n      <th>6609</th>\n      <td>15958885</td>\n      <td>92315</td>\n      <td>3</td>\n      <td>1.5</td>\n      <td>2038.0</td>\n      <td>25</td>\n      <td>56</td>\n      <td>1</td>\n      <td>2020</td>\n      <td>3</td>\n      <td>3</td>\n    </tr>\n    <tr>\n      <th>6610</th>\n      <td>15958885</td>\n      <td>92315</td>\n      <td>3</td>\n      <td>1.5</td>\n      <td>2038.0</td>\n      <td>25</td>\n      <td>56</td>\n      <td>1</td>\n      <td>2020</td>\n      <td>3</td>\n      <td>3</td>\n    </tr>\n    <tr>\n      <th>6611</th>\n      <td>15958885</td>\n      <td>92315</td>\n      <td>3</td>\n      <td>1.5</td>\n      <td>2038.0</td>\n      <td>25</td>\n      <td>56</td>\n      <td>1</td>\n      <td>2020</td>\n      <td>3</td>\n      <td>3</td>\n    </tr>\n    <tr>\n      <th>...</th>\n      <td>...</td>\n      <td>...</td>\n      <td>...</td>\n      <td>...</td>\n      <td>...</td>\n      <td>...</td>\n      <td>...</td>\n      <td>...</td>\n      <td>...</td>\n      <td>...</td>\n      <td>...</td>\n    </tr>\n    <tr>\n      <th>131067</th>\n      <td>12873603</td>\n      <td>92315</td>\n      <td>3</td>\n      <td>2.0</td>\n      <td>11885.0</td>\n      <td>31</td>\n      <td>1</td>\n      <td>1</td>\n      <td>2021</td>\n      <td>1</td>\n      <td>16</td>\n    </tr>\n    <tr>\n      <th>131068</th>\n      <td>12873603</td>\n      <td>92315</td>\n      <td>3</td>\n      <td>2.0</td>\n      <td>11885.0</td>\n      <td>31</td>\n      <td>1</td>\n      <td>1</td>\n      <td>2021</td>\n      <td>1</td>\n      <td>16</td>\n    </tr>\n    <tr>\n      <th>131069</th>\n      <td>12873603</td>\n      <td>92315</td>\n      <td>3</td>\n      <td>2.0</td>\n      <td>11885.0</td>\n      <td>31</td>\n      <td>1</td>\n      <td>1</td>\n      <td>2021</td>\n      <td>1</td>\n      <td>16</td>\n    </tr>\n    <tr>\n      <th>131070</th>\n      <td>12873603</td>\n      <td>92315</td>\n      <td>3</td>\n      <td>2.0</td>\n      <td>11885.0</td>\n      <td>31</td>\n      <td>1</td>\n      <td>1</td>\n      <td>2021</td>\n      <td>1</td>\n      <td>16</td>\n    </tr>\n    <tr>\n      <th>131071</th>\n      <td>12873603</td>\n      <td>92315</td>\n      <td>3</td>\n      <td>2.0</td>\n      <td>11885.0</td>\n      <td>31</td>\n      <td>1</td>\n      <td>1</td>\n      <td>2021</td>\n      <td>1</td>\n      <td>16</td>\n    </tr>\n  </tbody>\n</table>\n<p>112743 rows × 11 columns</p>\n</div>"
     },
     "execution_count": 181,
     "metadata": {},
     "output_type": "execute_result"
    }
   ],
   "source": [
    "cleaned_data"
   ],
   "metadata": {
    "collapsed": false,
    "pycharm": {
     "name": "#%%\n"
    }
   }
  },
  {
   "cell_type": "code",
   "execution_count": 182,
   "outputs": [],
   "source": [
    "# cleaned_data.to_csv(\"cleaned_data.csv\")"
   ],
   "metadata": {
    "collapsed": false,
    "pycharm": {
     "name": "#%%\n"
    }
   }
  },
  {
   "cell_type": "code",
   "execution_count": null,
   "outputs": [],
   "source": [
    "from sklearn.cluster import DBSCAN\n",
    "from sklearn.cluster import KMeans\n",
    "from sklearn.preprocessing import StandardScaler\n",
    "import numpy as np\n",
    "import pandas as pd\n",
    "from matplotlib import pyplot as plt\n",
    "from sklearn.cluster import KMeans"
   ],
   "metadata": {
    "collapsed": false,
    "pycharm": {
     "name": "#%%\n"
    }
   }
  },
  {
   "cell_type": "code",
   "execution_count": null,
   "outputs": [],
   "source": [
    "eps = np.random.rand(10) * 0.15\n",
    "\n",
    "# m.fit(X)\n",
    "\n",
    "# preds = m.labels_\n",
    "\n",
    "epsilons = 0.05 + np.random.rand(5) * 0.10\n",
    "min_samples_list = np.random.randint(3, 25, size=len(eps))\n",
    "\n",
    "fig, ax = plt.subplots(5, 5, figsize=(20, 20))\n",
    "\n",
    "ax = ax.flat\n",
    "\n",
    "for epsilon in epsilons:\n",
    "  for min_samples in min_samples_list:\n",
    "    m = DBSCAN(eps=epsilon, min_samples=min_samples)\n",
    "    m.fit(X)\n",
    "    preds = m.labels_\n",
    "    axis = next(ax)\n",
    "    axis.scatter(X[:,0], X[:,1], c=preds)\n",
    "    axis.set_title(f'{epsilon}, {min_samples}')"
   ],
   "metadata": {
    "collapsed": false,
    "pycharm": {
     "name": "#%%\n"
    }
   }
  },
  {
   "cell_type": "code",
   "execution_count": null,
   "outputs": [],
   "source": [],
   "metadata": {
    "collapsed": false,
    "pycharm": {
     "name": "#%%\n"
    }
   }
  },
  {
   "cell_type": "code",
   "execution_count": null,
   "outputs": [],
   "source": [],
   "metadata": {
    "collapsed": false,
    "pycharm": {
     "name": "#%%\n"
    }
   }
  },
  {
   "cell_type": "code",
   "execution_count": null,
   "outputs": [],
   "source": [],
   "metadata": {
    "collapsed": false,
    "pycharm": {
     "name": "#%%\n"
    }
   }
  }
 ],
 "metadata": {
  "kernelspec": {
   "display_name": "Python 3",
   "language": "python",
   "name": "python3"
  },
  "language_info": {
   "codemirror_mode": {
    "name": "ipython",
    "version": 2
   },
   "file_extension": ".py",
   "mimetype": "text/x-python",
   "name": "python",
   "nbconvert_exporter": "python",
   "pygments_lexer": "ipython2",
   "version": "2.7.6"
  }
 },
 "nbformat": 4,
 "nbformat_minor": 0
}