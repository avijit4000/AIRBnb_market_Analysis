{
 "cells": [
  {
   "cell_type": "code",
   "execution_count": 4,
   "metadata": {
    "collapsed": true,
    "pycharm": {
     "name": "#%%\n"
    }
   },
   "outputs": [],
   "source": [
    "import pandas as pd"
   ]
  },
  {
   "cell_type": "code",
   "execution_count": 5,
   "outputs": [],
   "source": [
    "df1=pd.read_csv(r\"D:\\Pyn\\MSDSM\\Semester_2\\dm\\Assignment\\archive_2\\amenities.csv\")"
   ],
   "metadata": {
    "collapsed": false,
    "pycharm": {
     "name": "#%%\n"
    }
   }
  },
  {
   "cell_type": "code",
   "execution_count": 6,
   "outputs": [
    {
     "data": {
      "text/plain": "      unified_id;month;hot_tub;pool\n0           AIR10052559;2022-12;1;0\n1           AIR10178668;2022-12;0;0\n2           AIR10211700;2022-12;0;0\n3           AIR10344705;2022-12;0;0\n4           AIR10424683;2022-12;0;1\n...                             ...\n49306        AIR9959855;2020-01;1;0\n49307        AIR9960008;2020-01;0;0\n49308        AIR9976790;2020-01;1;0\n49309        AIR9986505;2020-01;1;0\n49310        AIR9996370;2020-01;0;0\n\n[49311 rows x 1 columns]",
      "text/html": "<div>\n<style scoped>\n    .dataframe tbody tr th:only-of-type {\n        vertical-align: middle;\n    }\n\n    .dataframe tbody tr th {\n        vertical-align: top;\n    }\n\n    .dataframe thead th {\n        text-align: right;\n    }\n</style>\n<table border=\"1\" class=\"dataframe\">\n  <thead>\n    <tr style=\"text-align: right;\">\n      <th></th>\n      <th>unified_id;month;hot_tub;pool</th>\n    </tr>\n  </thead>\n  <tbody>\n    <tr>\n      <th>0</th>\n      <td>AIR10052559;2022-12;1;0</td>\n    </tr>\n    <tr>\n      <th>1</th>\n      <td>AIR10178668;2022-12;0;0</td>\n    </tr>\n    <tr>\n      <th>2</th>\n      <td>AIR10211700;2022-12;0;0</td>\n    </tr>\n    <tr>\n      <th>3</th>\n      <td>AIR10344705;2022-12;0;0</td>\n    </tr>\n    <tr>\n      <th>4</th>\n      <td>AIR10424683;2022-12;0;1</td>\n    </tr>\n    <tr>\n      <th>...</th>\n      <td>...</td>\n    </tr>\n    <tr>\n      <th>49306</th>\n      <td>AIR9959855;2020-01;1;0</td>\n    </tr>\n    <tr>\n      <th>49307</th>\n      <td>AIR9960008;2020-01;0;0</td>\n    </tr>\n    <tr>\n      <th>49308</th>\n      <td>AIR9976790;2020-01;1;0</td>\n    </tr>\n    <tr>\n      <th>49309</th>\n      <td>AIR9986505;2020-01;1;0</td>\n    </tr>\n    <tr>\n      <th>49310</th>\n      <td>AIR9996370;2020-01;0;0</td>\n    </tr>\n  </tbody>\n</table>\n<p>49311 rows × 1 columns</p>\n</div>"
     },
     "execution_count": 6,
     "metadata": {},
     "output_type": "execute_result"
    }
   ],
   "source": [
    "df1"
   ],
   "metadata": {
    "collapsed": false,
    "pycharm": {
     "name": "#%%\n"
    }
   }
  },
  {
   "cell_type": "code",
   "execution_count": 7,
   "outputs": [],
   "source": [
    "df2=pd.read_csv(r\"D:\\Pyn\\MSDSM\\Semester_2\\dm\\Assignment\\archive_2\\geolocation.csv\")"
   ],
   "metadata": {
    "collapsed": false,
    "pycharm": {
     "name": "#%%\n"
    }
   }
  },
  {
   "cell_type": "code",
   "execution_count": 8,
   "outputs": [
    {
     "data": {
      "text/plain": "                                                            unified_id;month;street_name;latitude;longitude\nAIR10052559;2022-12;Heavenly Valley Road;34  23948;-116                                               87991\nAIR10178668;2022-12;Round Drive;34           25095;-116                                               94139\nAIR10211700;2022-12;;34                      24516;-116                                               87618\nAIR10344705;2022-12;;34                      2675;-116                                                86089\nAIR10424683;2022-12;Starvation Flats Road;34 25341;-116                                               88025\n...                                                                                                     ...\nAIR9959855;2020-01;Peregrine Avenue;34       23760869;-116                                          8700886\nAIR9960008;2020-01;Waterview Drive;34        24621713;-116                                          9461685\nAIR9976790;2020-01;Starvation Flats Road;34  25097351;-116                                          8804907\nAIR9986505;2020-01;Rocking Chair Road;34     10087101;-116                                          2876788\nAIR9996370;2020-01;Eagle Mountain Drive;34   26706673;-116                                          8611341\n\n[49311 rows x 1 columns]",
      "text/html": "<div>\n<style scoped>\n    .dataframe tbody tr th:only-of-type {\n        vertical-align: middle;\n    }\n\n    .dataframe tbody tr th {\n        vertical-align: top;\n    }\n\n    .dataframe thead th {\n        text-align: right;\n    }\n</style>\n<table border=\"1\" class=\"dataframe\">\n  <thead>\n    <tr style=\"text-align: right;\">\n      <th></th>\n      <th></th>\n      <th>unified_id;month;street_name;latitude;longitude</th>\n    </tr>\n  </thead>\n  <tbody>\n    <tr>\n      <th>AIR10052559;2022-12;Heavenly Valley Road;34</th>\n      <th>23948;-116</th>\n      <td>87991</td>\n    </tr>\n    <tr>\n      <th>AIR10178668;2022-12;Round Drive;34</th>\n      <th>25095;-116</th>\n      <td>94139</td>\n    </tr>\n    <tr>\n      <th>AIR10211700;2022-12;;34</th>\n      <th>24516;-116</th>\n      <td>87618</td>\n    </tr>\n    <tr>\n      <th>AIR10344705;2022-12;;34</th>\n      <th>2675;-116</th>\n      <td>86089</td>\n    </tr>\n    <tr>\n      <th>AIR10424683;2022-12;Starvation Flats Road;34</th>\n      <th>25341;-116</th>\n      <td>88025</td>\n    </tr>\n    <tr>\n      <th>...</th>\n      <th>...</th>\n      <td>...</td>\n    </tr>\n    <tr>\n      <th>AIR9959855;2020-01;Peregrine Avenue;34</th>\n      <th>23760869;-116</th>\n      <td>8700886</td>\n    </tr>\n    <tr>\n      <th>AIR9960008;2020-01;Waterview Drive;34</th>\n      <th>24621713;-116</th>\n      <td>9461685</td>\n    </tr>\n    <tr>\n      <th>AIR9976790;2020-01;Starvation Flats Road;34</th>\n      <th>25097351;-116</th>\n      <td>8804907</td>\n    </tr>\n    <tr>\n      <th>AIR9986505;2020-01;Rocking Chair Road;34</th>\n      <th>10087101;-116</th>\n      <td>2876788</td>\n    </tr>\n    <tr>\n      <th>AIR9996370;2020-01;Eagle Mountain Drive;34</th>\n      <th>26706673;-116</th>\n      <td>8611341</td>\n    </tr>\n  </tbody>\n</table>\n<p>49311 rows × 1 columns</p>\n</div>"
     },
     "execution_count": 8,
     "metadata": {},
     "output_type": "execute_result"
    }
   ],
   "source": [
    "df2"
   ],
   "metadata": {
    "collapsed": false,
    "pycharm": {
     "name": "#%%\n"
    }
   }
  },
  {
   "cell_type": "code",
   "execution_count": 9,
   "outputs": [
    {
     "name": "stderr",
     "output_type": "stream",
     "text": [
      "C:\\Users\\aviji\\AppData\\Local\\Temp\\ipykernel_13844\\876302800.py:1: ParserWarning: Falling back to the 'python' engine because the 'c' engine does not support regex separators (separators > 1 char and different from '\\s+' are interpreted as regex); you can avoid this warning by specifying engine='python'.\n",
      "  df3 = pd.read_csv(r\"D:\\Pyn\\MSDSM\\Semester_2\\dm\\Assignment\\archive_2\\market_analysis.csv\", sep='delimiter', header=None)\n"
     ]
    }
   ],
   "source": [
    "df3 = pd.read_csv(r\"D:\\Pyn\\MSDSM\\Semester_2\\dm\\Assignment\\archive_2\\market_analysis.csv\", sep='delimiter', header=None)"
   ],
   "metadata": {
    "collapsed": false,
    "pycharm": {
     "name": "#%%\n"
    }
   }
  },
  {
   "cell_type": "code",
   "execution_count": 10,
   "outputs": [
    {
     "data": {
      "text/plain": "                                                        0\n0       unified_id;month;zipcode;city;host_type;bedroo...\n1       10000347;2020-1;92315;Big Bear Lake;2-5 Units;...\n2       10000347;2020-10;92315;Big Bear Lake;2-5 Units...\n3       10000347;2020-11;92315;Big Bear Lake;2-5 Units...\n4       10000347;2020-12;92315;Big Bear Lake;2-5 Units...\n...                                                   ...\n116615  9996370;2022-5;92314;Big Bear City;Single Owne...\n116616  9996370;2022-6;92314;Big Bear City;Single Owne...\n116617  9996370;2022-7;92314;Big Bear City;Single Owne...\n116618  9996370;2022-8;92314;Big Bear City;Single Owne...\n116619  9996370;2022-9;92314;Big Bear City;Single Owne...\n\n[116620 rows x 1 columns]",
      "text/html": "<div>\n<style scoped>\n    .dataframe tbody tr th:only-of-type {\n        vertical-align: middle;\n    }\n\n    .dataframe tbody tr th {\n        vertical-align: top;\n    }\n\n    .dataframe thead th {\n        text-align: right;\n    }\n</style>\n<table border=\"1\" class=\"dataframe\">\n  <thead>\n    <tr style=\"text-align: right;\">\n      <th></th>\n      <th>0</th>\n    </tr>\n  </thead>\n  <tbody>\n    <tr>\n      <th>0</th>\n      <td>unified_id;month;zipcode;city;host_type;bedroo...</td>\n    </tr>\n    <tr>\n      <th>1</th>\n      <td>10000347;2020-1;92315;Big Bear Lake;2-5 Units;...</td>\n    </tr>\n    <tr>\n      <th>2</th>\n      <td>10000347;2020-10;92315;Big Bear Lake;2-5 Units...</td>\n    </tr>\n    <tr>\n      <th>3</th>\n      <td>10000347;2020-11;92315;Big Bear Lake;2-5 Units...</td>\n    </tr>\n    <tr>\n      <th>4</th>\n      <td>10000347;2020-12;92315;Big Bear Lake;2-5 Units...</td>\n    </tr>\n    <tr>\n      <th>...</th>\n      <td>...</td>\n    </tr>\n    <tr>\n      <th>116615</th>\n      <td>9996370;2022-5;92314;Big Bear City;Single Owne...</td>\n    </tr>\n    <tr>\n      <th>116616</th>\n      <td>9996370;2022-6;92314;Big Bear City;Single Owne...</td>\n    </tr>\n    <tr>\n      <th>116617</th>\n      <td>9996370;2022-7;92314;Big Bear City;Single Owne...</td>\n    </tr>\n    <tr>\n      <th>116618</th>\n      <td>9996370;2022-8;92314;Big Bear City;Single Owne...</td>\n    </tr>\n    <tr>\n      <th>116619</th>\n      <td>9996370;2022-9;92314;Big Bear City;Single Owne...</td>\n    </tr>\n  </tbody>\n</table>\n<p>116620 rows × 1 columns</p>\n</div>"
     },
     "execution_count": 10,
     "metadata": {},
     "output_type": "execute_result"
    }
   ],
   "source": [
    "df3"
   ],
   "metadata": {
    "collapsed": false,
    "pycharm": {
     "name": "#%%\n"
    }
   }
  },
  {
   "cell_type": "code",
   "execution_count": 11,
   "outputs": [
    {
     "data": {
      "text/plain": "pandas.core.frame.DataFrame"
     },
     "execution_count": 11,
     "metadata": {},
     "output_type": "execute_result"
    }
   ],
   "source": [
    "type(df3)"
   ],
   "metadata": {
    "collapsed": false,
    "pycharm": {
     "name": "#%%\n"
    }
   }
  },
  {
   "cell_type": "code",
   "execution_count": 12,
   "outputs": [
    {
     "data": {
      "text/plain": "Index([0], dtype='int64')"
     },
     "execution_count": 12,
     "metadata": {},
     "output_type": "execute_result"
    }
   ],
   "source": [
    "df3.columns"
   ],
   "metadata": {
    "collapsed": false,
    "pycharm": {
     "name": "#%%\n"
    }
   }
  },
  {
   "cell_type": "code",
   "execution_count": 13,
   "outputs": [
    {
     "name": "stderr",
     "output_type": "stream",
     "text": [
      "C:\\Users\\aviji\\AppData\\Local\\Temp\\ipykernel_13844\\231953697.py:1: ParserWarning: Falling back to the 'python' engine because the 'c' engine does not support regex separators (separators > 1 char and different from '\\s+' are interpreted as regex); you can avoid this warning by specifying engine='python'.\n",
      "  df4=pd.read_csv(r\"D:\\Pyn\\MSDSM\\Semester_2\\dm\\Assignment\\archive_2\\market_analysis_2019.csv\", sep='delimiter', header=None)\n"
     ]
    }
   ],
   "source": [
    "df4=pd.read_csv(r\"D:\\Pyn\\MSDSM\\Semester_2\\dm\\Assignment\\archive_2\\market_analysis_2019.csv\", sep='delimiter', header=None)"
   ],
   "metadata": {
    "collapsed": false,
    "pycharm": {
     "name": "#%%\n"
    }
   }
  },
  {
   "cell_type": "code",
   "execution_count": 14,
   "outputs": [
    {
     "data": {
      "text/plain": "                                                       0\n0      unified_id;month;zipcode;city;host_type;bedroo...\n1      AIR10000347;2019-1;92315;Big Bear Lake;2-5 Uni...\n2      AIR10000347;2019-10;92315;Big Bear Lake;2-5 Un...\n3      AIR10000347;2019-11;92315;Big Bear Lake;2-5 Un...\n4      AIR10000347;2019-12;92315;Big Bear Lake;2-5 Un...\n...                                                  ...\n29924  AIR9996370;2019-5;92314;Big Bear City;Single O...\n29925  AIR9996370;2019-6;92314;Big Bear City;Single O...\n29926  AIR9996370;2019-7;92314;Big Bear City;Single O...\n29927  AIR9996370;2019-8;92314;Big Bear City;Single O...\n29928  AIR9996370;2019-9;92314;Big Bear City;Single O...\n\n[29929 rows x 1 columns]",
      "text/html": "<div>\n<style scoped>\n    .dataframe tbody tr th:only-of-type {\n        vertical-align: middle;\n    }\n\n    .dataframe tbody tr th {\n        vertical-align: top;\n    }\n\n    .dataframe thead th {\n        text-align: right;\n    }\n</style>\n<table border=\"1\" class=\"dataframe\">\n  <thead>\n    <tr style=\"text-align: right;\">\n      <th></th>\n      <th>0</th>\n    </tr>\n  </thead>\n  <tbody>\n    <tr>\n      <th>0</th>\n      <td>unified_id;month;zipcode;city;host_type;bedroo...</td>\n    </tr>\n    <tr>\n      <th>1</th>\n      <td>AIR10000347;2019-1;92315;Big Bear Lake;2-5 Uni...</td>\n    </tr>\n    <tr>\n      <th>2</th>\n      <td>AIR10000347;2019-10;92315;Big Bear Lake;2-5 Un...</td>\n    </tr>\n    <tr>\n      <th>3</th>\n      <td>AIR10000347;2019-11;92315;Big Bear Lake;2-5 Un...</td>\n    </tr>\n    <tr>\n      <th>4</th>\n      <td>AIR10000347;2019-12;92315;Big Bear Lake;2-5 Un...</td>\n    </tr>\n    <tr>\n      <th>...</th>\n      <td>...</td>\n    </tr>\n    <tr>\n      <th>29924</th>\n      <td>AIR9996370;2019-5;92314;Big Bear City;Single O...</td>\n    </tr>\n    <tr>\n      <th>29925</th>\n      <td>AIR9996370;2019-6;92314;Big Bear City;Single O...</td>\n    </tr>\n    <tr>\n      <th>29926</th>\n      <td>AIR9996370;2019-7;92314;Big Bear City;Single O...</td>\n    </tr>\n    <tr>\n      <th>29927</th>\n      <td>AIR9996370;2019-8;92314;Big Bear City;Single O...</td>\n    </tr>\n    <tr>\n      <th>29928</th>\n      <td>AIR9996370;2019-9;92314;Big Bear City;Single O...</td>\n    </tr>\n  </tbody>\n</table>\n<p>29929 rows × 1 columns</p>\n</div>"
     },
     "execution_count": 14,
     "metadata": {},
     "output_type": "execute_result"
    }
   ],
   "source": [
    "df4"
   ],
   "metadata": {
    "collapsed": false,
    "pycharm": {
     "name": "#%%\n"
    }
   }
  },
  {
   "cell_type": "code",
   "execution_count": 15,
   "outputs": [
    {
     "name": "stderr",
     "output_type": "stream",
     "text": [
      "C:\\Users\\aviji\\AppData\\Local\\Temp\\ipykernel_13844\\2704827730.py:1: ParserWarning: Falling back to the 'python' engine because the 'c' engine does not support regex separators (separators > 1 char and different from '\\s+' are interpreted as regex); you can avoid this warning by specifying engine='python'.\n",
      "  df5=pd.read_csv(r\"D:\\Pyn\\MSDSM\\Semester_2\\dm\\Assignment\\archive_2\\sales_properties_total_zipcode_92252.csv\", sep='delimiter', header=None)\n"
     ]
    }
   ],
   "source": [
    "df5=pd.read_csv(r\"D:\\Pyn\\MSDSM\\Semester_2\\dm\\Assignment\\archive_2\\sales_properties_total_zipcode_92252.csv\", sep='delimiter', header=None)"
   ],
   "metadata": {
    "collapsed": false,
    "pycharm": {
     "name": "#%%\n"
    }
   }
  },
  {
   "cell_type": "code",
   "execution_count": 16,
   "outputs": [
    {
     "name": "stderr",
     "output_type": "stream",
     "text": [
      "C:\\Users\\aviji\\AppData\\Local\\Temp\\ipykernel_13844\\3685649608.py:1: ParserWarning: Falling back to the 'python' engine because the 'c' engine does not support regex separators (separators > 1 char and different from '\\s+' are interpreted as regex); you can avoid this warning by specifying engine='python'.\n",
      "  df6=pd.read_csv(r\"D:\\Pyn\\MSDSM\\Semester_2\\dm\\Assignment\\archive_2\\sales_properties_total_zipcode_92284.csv\", sep='delimiter', header=None)\n"
     ]
    }
   ],
   "source": [
    "df6=pd.read_csv(r\"D:\\Pyn\\MSDSM\\Semester_2\\dm\\Assignment\\archive_2\\sales_properties_total_zipcode_92284.csv\", sep='delimiter', header=None)"
   ],
   "metadata": {
    "collapsed": false,
    "pycharm": {
     "name": "#%%\n"
    }
   }
  },
  {
   "cell_type": "code",
   "execution_count": 17,
   "outputs": [
    {
     "data": {
      "text/plain": "                                                    0\n0   Url;Zestimate;Price;Rent Zestimate;Days On Zil...\n1   https://www.zillow.com/homedetails/8198-Uphill...\n2   https://www.zillow.com/homedetails/4757-Avenid...\n3   https://www.zillow.com/homedetails/61018-Presc...\n4   https://www.zillow.com/homedetails/61875-Anaco...\n..                                                ...\n69  https://www.zillow.com/homedetails/64873-Choll...\n70  https://www.zillow.com/homedetails/62036-Bonai...\n71  https://www.zillow.com/homedetails/7320-Sherwo...\n72  https://www.zillow.com/homedetails/0-Sunfair-R...\n73  https://www.zillow.com/homedetails/7160-Olympi...\n\n[74 rows x 1 columns]",
      "text/html": "<div>\n<style scoped>\n    .dataframe tbody tr th:only-of-type {\n        vertical-align: middle;\n    }\n\n    .dataframe tbody tr th {\n        vertical-align: top;\n    }\n\n    .dataframe thead th {\n        text-align: right;\n    }\n</style>\n<table border=\"1\" class=\"dataframe\">\n  <thead>\n    <tr style=\"text-align: right;\">\n      <th></th>\n      <th>0</th>\n    </tr>\n  </thead>\n  <tbody>\n    <tr>\n      <th>0</th>\n      <td>Url;Zestimate;Price;Rent Zestimate;Days On Zil...</td>\n    </tr>\n    <tr>\n      <th>1</th>\n      <td>https://www.zillow.com/homedetails/8198-Uphill...</td>\n    </tr>\n    <tr>\n      <th>2</th>\n      <td>https://www.zillow.com/homedetails/4757-Avenid...</td>\n    </tr>\n    <tr>\n      <th>3</th>\n      <td>https://www.zillow.com/homedetails/61018-Presc...</td>\n    </tr>\n    <tr>\n      <th>4</th>\n      <td>https://www.zillow.com/homedetails/61875-Anaco...</td>\n    </tr>\n    <tr>\n      <th>...</th>\n      <td>...</td>\n    </tr>\n    <tr>\n      <th>69</th>\n      <td>https://www.zillow.com/homedetails/64873-Choll...</td>\n    </tr>\n    <tr>\n      <th>70</th>\n      <td>https://www.zillow.com/homedetails/62036-Bonai...</td>\n    </tr>\n    <tr>\n      <th>71</th>\n      <td>https://www.zillow.com/homedetails/7320-Sherwo...</td>\n    </tr>\n    <tr>\n      <th>72</th>\n      <td>https://www.zillow.com/homedetails/0-Sunfair-R...</td>\n    </tr>\n    <tr>\n      <th>73</th>\n      <td>https://www.zillow.com/homedetails/7160-Olympi...</td>\n    </tr>\n  </tbody>\n</table>\n<p>74 rows × 1 columns</p>\n</div>"
     },
     "execution_count": 17,
     "metadata": {},
     "output_type": "execute_result"
    }
   ],
   "source": [
    "df5"
   ],
   "metadata": {
    "collapsed": false,
    "pycharm": {
     "name": "#%%\n"
    }
   }
  },
  {
   "cell_type": "code",
   "execution_count": 18,
   "outputs": [
    {
     "data": {
      "text/plain": "                                                     0\n0    Url;Zestimate;Price;Rent Zestimate;Days On Zil...\n1    https://www.zillow.com/homedetails/58176-Deser...\n2    https://www.zillow.com/homedetails/9025-Warren...\n3    https://www.zillow.com/homedetails/57557-Sunny...\n4    https://www.zillow.com/homedetails/56276-Breez...\n..                                                 ...\n113  https://www.zillow.com/homedetails/57055-Antel...\n114  https://www.zillow.com/homedetails/7812-Condal...\n115  https://www.zillow.com/homedetails/3832-Avalon...\n116  https://www.zillow.com/homedetails/58713-Sun-V...\n117  https://www.zillow.com/homedetails/5253-Puente...\n\n[118 rows x 1 columns]",
      "text/html": "<div>\n<style scoped>\n    .dataframe tbody tr th:only-of-type {\n        vertical-align: middle;\n    }\n\n    .dataframe tbody tr th {\n        vertical-align: top;\n    }\n\n    .dataframe thead th {\n        text-align: right;\n    }\n</style>\n<table border=\"1\" class=\"dataframe\">\n  <thead>\n    <tr style=\"text-align: right;\">\n      <th></th>\n      <th>0</th>\n    </tr>\n  </thead>\n  <tbody>\n    <tr>\n      <th>0</th>\n      <td>Url;Zestimate;Price;Rent Zestimate;Days On Zil...</td>\n    </tr>\n    <tr>\n      <th>1</th>\n      <td>https://www.zillow.com/homedetails/58176-Deser...</td>\n    </tr>\n    <tr>\n      <th>2</th>\n      <td>https://www.zillow.com/homedetails/9025-Warren...</td>\n    </tr>\n    <tr>\n      <th>3</th>\n      <td>https://www.zillow.com/homedetails/57557-Sunny...</td>\n    </tr>\n    <tr>\n      <th>4</th>\n      <td>https://www.zillow.com/homedetails/56276-Breez...</td>\n    </tr>\n    <tr>\n      <th>...</th>\n      <td>...</td>\n    </tr>\n    <tr>\n      <th>113</th>\n      <td>https://www.zillow.com/homedetails/57055-Antel...</td>\n    </tr>\n    <tr>\n      <th>114</th>\n      <td>https://www.zillow.com/homedetails/7812-Condal...</td>\n    </tr>\n    <tr>\n      <th>115</th>\n      <td>https://www.zillow.com/homedetails/3832-Avalon...</td>\n    </tr>\n    <tr>\n      <th>116</th>\n      <td>https://www.zillow.com/homedetails/58713-Sun-V...</td>\n    </tr>\n    <tr>\n      <th>117</th>\n      <td>https://www.zillow.com/homedetails/5253-Puente...</td>\n    </tr>\n  </tbody>\n</table>\n<p>118 rows × 1 columns</p>\n</div>"
     },
     "execution_count": 18,
     "metadata": {},
     "output_type": "execute_result"
    }
   ],
   "source": [
    "df6"
   ],
   "metadata": {
    "collapsed": false,
    "pycharm": {
     "name": "#%%\n"
    }
   }
  },
  {
   "cell_type": "code",
   "execution_count": 19,
   "outputs": [
    {
     "name": "stderr",
     "output_type": "stream",
     "text": [
      "C:\\Users\\aviji\\AppData\\Local\\Temp\\ipykernel_13844\\3096076451.py:1: ParserWarning: Falling back to the 'python' engine because the 'c' engine does not support regex separators (separators > 1 char and different from '\\s+' are interpreted as regex); you can avoid this warning by specifying engine='python'.\n",
      "  df6=pd.read_csv(r\"D:\\Pyn\\MSDSM\\Semester_2\\dm\\Assignment\\archive_2\\sales_properties_total_zipcode_92314.csv\", sep='delimiter', header=None)\n"
     ]
    }
   ],
   "source": [
    "df6=pd.read_csv(r\"D:\\Pyn\\MSDSM\\Semester_2\\dm\\Assignment\\archive_2\\sales_properties_total_zipcode_92314.csv\", sep='delimiter', header=None)"
   ],
   "metadata": {
    "collapsed": false,
    "pycharm": {
     "name": "#%%\n"
    }
   }
  },
  {
   "cell_type": "code",
   "execution_count": 20,
   "outputs": [
    {
     "name": "stderr",
     "output_type": "stream",
     "text": [
      "C:\\Users\\aviji\\AppData\\Local\\Temp\\ipykernel_13844\\2033750228.py:1: ParserWarning: Falling back to the 'python' engine because the 'c' engine does not support regex separators (separators > 1 char and different from '\\s+' are interpreted as regex); you can avoid this warning by specifying engine='python'.\n",
      "  df7=pd.read_csv(r\"D:\\Pyn\\MSDSM\\Semester_2\\dm\\Assignment\\archive_2\\sales_properties_total_zipcode_92315.csv\", sep='delimiter', header=None)\n"
     ]
    }
   ],
   "source": [
    "df7=pd.read_csv(r\"D:\\Pyn\\MSDSM\\Semester_2\\dm\\Assignment\\archive_2\\sales_properties_total_zipcode_92315.csv\", sep='delimiter', header=None)"
   ],
   "metadata": {
    "collapsed": false,
    "pycharm": {
     "name": "#%%\n"
    }
   }
  },
  {
   "cell_type": "code",
   "execution_count": 21,
   "outputs": [
    {
     "name": "stderr",
     "output_type": "stream",
     "text": [
      "C:\\Users\\aviji\\AppData\\Local\\Temp\\ipykernel_13844\\495500197.py:1: ParserWarning: Falling back to the 'python' engine because the 'c' engine does not support regex separators (separators > 1 char and different from '\\s+' are interpreted as regex); you can avoid this warning by specifying engine='python'.\n",
      "  df7=pd.read_csv(r\"D:\\Pyn\\MSDSM\\Semester_2\\dm\\Assignment\\archive_2\\sales_properties_with_pool_zipcode_92252.csv\", sep='delimiter', header=None)\n"
     ]
    }
   ],
   "source": [
    "df7=pd.read_csv(r\"D:\\Pyn\\MSDSM\\Semester_2\\dm\\Assignment\\archive_2\\sales_properties_with_pool_zipcode_92252.csv\", sep='delimiter', header=None)"
   ],
   "metadata": {
    "collapsed": false,
    "pycharm": {
     "name": "#%%\n"
    }
   }
  },
  {
   "cell_type": "code",
   "execution_count": 22,
   "outputs": [
    {
     "name": "stderr",
     "output_type": "stream",
     "text": [
      "C:\\Users\\aviji\\AppData\\Local\\Temp\\ipykernel_13844\\670656805.py:1: ParserWarning: Falling back to the 'python' engine because the 'c' engine does not support regex separators (separators > 1 char and different from '\\s+' are interpreted as regex); you can avoid this warning by specifying engine='python'.\n",
      "  df7=pd.read_csv(r\"D:\\Pyn\\MSDSM\\Semester_2\\dm\\Assignment\\archive_2\\sales_properties_with_pool_zipcode_92284.csv\", sep='delimiter', header=None)\n"
     ]
    }
   ],
   "source": [
    "df7=pd.read_csv(r\"D:\\Pyn\\MSDSM\\Semester_2\\dm\\Assignment\\archive_2\\sales_properties_with_pool_zipcode_92284.csv\", sep='delimiter', header=None)"
   ],
   "metadata": {
    "collapsed": false,
    "pycharm": {
     "name": "#%%\n"
    }
   }
  },
  {
   "cell_type": "code",
   "execution_count": 23,
   "outputs": [
    {
     "name": "stderr",
     "output_type": "stream",
     "text": [
      "C:\\Users\\aviji\\AppData\\Local\\Temp\\ipykernel_13844\\502104160.py:1: ParserWarning: Falling back to the 'python' engine because the 'c' engine does not support regex separators (separators > 1 char and different from '\\s+' are interpreted as regex); you can avoid this warning by specifying engine='python'.\n",
      "  df85=pd.read_csv(r\"D:\\Pyn\\MSDSM\\Semester_2\\dm\\Assignment\\archive_2\\sales_properties_with_pool_zipcode_92284.csv\", sep='delimiter', header=None)\n"
     ]
    }
   ],
   "source": [
    "df85=pd.read_csv(r\"D:\\Pyn\\MSDSM\\Semester_2\\dm\\Assignment\\archive_2\\sales_properties_with_pool_zipcode_92284.csv\", sep='delimiter', header=None)"
   ],
   "metadata": {
    "collapsed": false,
    "pycharm": {
     "name": "#%%\n"
    }
   }
  },
  {
   "cell_type": "code",
   "execution_count": 24,
   "outputs": [
    {
     "data": {
      "text/plain": "(16, 1)"
     },
     "execution_count": 24,
     "metadata": {},
     "output_type": "execute_result"
    }
   ],
   "source": [
    "df7.shape"
   ],
   "metadata": {
    "collapsed": false,
    "pycharm": {
     "name": "#%%\n"
    }
   }
  },
  {
   "cell_type": "code",
   "execution_count": 25,
   "outputs": [
    {
     "data": {
      "text/plain": "                                                    0\n0   Url;Zestimate;Price;Rent Zestimate;Days On Zil...\n1   https://www.zillow.com/homedetails/9025-Warren...\n2   https://www.zillow.com/homedetails/7552-Cardil...\n3   https://www.zillow.com/homedetails/8552-Taft-C...\n4   https://www.zillow.com/homedetails/5088-Elata-...\n5   https://www.zillow.com/homedetails/7478-Goleta...\n6   https://www.zillow.com/homedetails/7629-Rockaw...\n7   https://www.zillow.com/homedetails/7354-Rubido...\n8   https://www.zillow.com/homedetails/7399-Paloma...\n9   https://www.zillow.com/homedetails/8210-Church...\n10  https://www.zillow.com/homedetails/55960-Onaga...\n11  https://www.zillow.com/homedetails/58783-Santa...\n12  https://www.zillow.com/homedetails/56763-Java-...\n13  https://www.zillow.com/homedetails/56839-Bonan...\n14  https://www.zillow.com/homedetails/7731-Arrowh...\n15  https://www.zillow.com/homedetails/58345-Bonan...",
      "text/html": "<div>\n<style scoped>\n    .dataframe tbody tr th:only-of-type {\n        vertical-align: middle;\n    }\n\n    .dataframe tbody tr th {\n        vertical-align: top;\n    }\n\n    .dataframe thead th {\n        text-align: right;\n    }\n</style>\n<table border=\"1\" class=\"dataframe\">\n  <thead>\n    <tr style=\"text-align: right;\">\n      <th></th>\n      <th>0</th>\n    </tr>\n  </thead>\n  <tbody>\n    <tr>\n      <th>0</th>\n      <td>Url;Zestimate;Price;Rent Zestimate;Days On Zil...</td>\n    </tr>\n    <tr>\n      <th>1</th>\n      <td>https://www.zillow.com/homedetails/9025-Warren...</td>\n    </tr>\n    <tr>\n      <th>2</th>\n      <td>https://www.zillow.com/homedetails/7552-Cardil...</td>\n    </tr>\n    <tr>\n      <th>3</th>\n      <td>https://www.zillow.com/homedetails/8552-Taft-C...</td>\n    </tr>\n    <tr>\n      <th>4</th>\n      <td>https://www.zillow.com/homedetails/5088-Elata-...</td>\n    </tr>\n    <tr>\n      <th>5</th>\n      <td>https://www.zillow.com/homedetails/7478-Goleta...</td>\n    </tr>\n    <tr>\n      <th>6</th>\n      <td>https://www.zillow.com/homedetails/7629-Rockaw...</td>\n    </tr>\n    <tr>\n      <th>7</th>\n      <td>https://www.zillow.com/homedetails/7354-Rubido...</td>\n    </tr>\n    <tr>\n      <th>8</th>\n      <td>https://www.zillow.com/homedetails/7399-Paloma...</td>\n    </tr>\n    <tr>\n      <th>9</th>\n      <td>https://www.zillow.com/homedetails/8210-Church...</td>\n    </tr>\n    <tr>\n      <th>10</th>\n      <td>https://www.zillow.com/homedetails/55960-Onaga...</td>\n    </tr>\n    <tr>\n      <th>11</th>\n      <td>https://www.zillow.com/homedetails/58783-Santa...</td>\n    </tr>\n    <tr>\n      <th>12</th>\n      <td>https://www.zillow.com/homedetails/56763-Java-...</td>\n    </tr>\n    <tr>\n      <th>13</th>\n      <td>https://www.zillow.com/homedetails/56839-Bonan...</td>\n    </tr>\n    <tr>\n      <th>14</th>\n      <td>https://www.zillow.com/homedetails/7731-Arrowh...</td>\n    </tr>\n    <tr>\n      <th>15</th>\n      <td>https://www.zillow.com/homedetails/58345-Bonan...</td>\n    </tr>\n  </tbody>\n</table>\n</div>"
     },
     "execution_count": 25,
     "metadata": {},
     "output_type": "execute_result"
    }
   ],
   "source": [
    "df85"
   ],
   "metadata": {
    "collapsed": false,
    "pycharm": {
     "name": "#%%\n"
    }
   }
  },
  {
   "cell_type": "code",
   "execution_count": 26,
   "outputs": [
    {
     "data": {
      "text/plain": "(58, 1)"
     },
     "execution_count": 26,
     "metadata": {},
     "output_type": "execute_result"
    }
   ],
   "source": [
    "df6.shape"
   ],
   "metadata": {
    "collapsed": false,
    "pycharm": {
     "name": "#%%\n"
    }
   }
  },
  {
   "cell_type": "code",
   "execution_count": 27,
   "outputs": [
    {
     "data": {
      "text/plain": "(74, 1)"
     },
     "execution_count": 27,
     "metadata": {},
     "output_type": "execute_result"
    }
   ],
   "source": [
    "df5.shape"
   ],
   "metadata": {
    "collapsed": false,
    "pycharm": {
     "name": "#%%\n"
    }
   }
  },
  {
   "cell_type": "code",
   "execution_count": 28,
   "outputs": [
    {
     "data": {
      "text/plain": "(29929, 1)"
     },
     "execution_count": 28,
     "metadata": {},
     "output_type": "execute_result"
    }
   ],
   "source": [
    "df4.shape"
   ],
   "metadata": {
    "collapsed": false,
    "pycharm": {
     "name": "#%%\n"
    }
   }
  },
  {
   "cell_type": "code",
   "execution_count": 29,
   "outputs": [
    {
     "data": {
      "text/plain": "                                                    0\n0   Url;Zestimate;Price;Rent Zestimate;Days On Zil...\n1   https://www.zillow.com/homedetails/9025-Warren...\n2   https://www.zillow.com/homedetails/7552-Cardil...\n3   https://www.zillow.com/homedetails/8552-Taft-C...\n4   https://www.zillow.com/homedetails/5088-Elata-...\n5   https://www.zillow.com/homedetails/7478-Goleta...\n6   https://www.zillow.com/homedetails/7629-Rockaw...\n7   https://www.zillow.com/homedetails/7354-Rubido...\n8   https://www.zillow.com/homedetails/7399-Paloma...\n9   https://www.zillow.com/homedetails/8210-Church...\n10  https://www.zillow.com/homedetails/55960-Onaga...\n11  https://www.zillow.com/homedetails/58783-Santa...\n12  https://www.zillow.com/homedetails/56763-Java-...\n13  https://www.zillow.com/homedetails/56839-Bonan...\n14  https://www.zillow.com/homedetails/7731-Arrowh...\n15  https://www.zillow.com/homedetails/58345-Bonan...",
      "text/html": "<div>\n<style scoped>\n    .dataframe tbody tr th:only-of-type {\n        vertical-align: middle;\n    }\n\n    .dataframe tbody tr th {\n        vertical-align: top;\n    }\n\n    .dataframe thead th {\n        text-align: right;\n    }\n</style>\n<table border=\"1\" class=\"dataframe\">\n  <thead>\n    <tr style=\"text-align: right;\">\n      <th></th>\n      <th>0</th>\n    </tr>\n  </thead>\n  <tbody>\n    <tr>\n      <th>0</th>\n      <td>Url;Zestimate;Price;Rent Zestimate;Days On Zil...</td>\n    </tr>\n    <tr>\n      <th>1</th>\n      <td>https://www.zillow.com/homedetails/9025-Warren...</td>\n    </tr>\n    <tr>\n      <th>2</th>\n      <td>https://www.zillow.com/homedetails/7552-Cardil...</td>\n    </tr>\n    <tr>\n      <th>3</th>\n      <td>https://www.zillow.com/homedetails/8552-Taft-C...</td>\n    </tr>\n    <tr>\n      <th>4</th>\n      <td>https://www.zillow.com/homedetails/5088-Elata-...</td>\n    </tr>\n    <tr>\n      <th>5</th>\n      <td>https://www.zillow.com/homedetails/7478-Goleta...</td>\n    </tr>\n    <tr>\n      <th>6</th>\n      <td>https://www.zillow.com/homedetails/7629-Rockaw...</td>\n    </tr>\n    <tr>\n      <th>7</th>\n      <td>https://www.zillow.com/homedetails/7354-Rubido...</td>\n    </tr>\n    <tr>\n      <th>8</th>\n      <td>https://www.zillow.com/homedetails/7399-Paloma...</td>\n    </tr>\n    <tr>\n      <th>9</th>\n      <td>https://www.zillow.com/homedetails/8210-Church...</td>\n    </tr>\n    <tr>\n      <th>10</th>\n      <td>https://www.zillow.com/homedetails/55960-Onaga...</td>\n    </tr>\n    <tr>\n      <th>11</th>\n      <td>https://www.zillow.com/homedetails/58783-Santa...</td>\n    </tr>\n    <tr>\n      <th>12</th>\n      <td>https://www.zillow.com/homedetails/56763-Java-...</td>\n    </tr>\n    <tr>\n      <th>13</th>\n      <td>https://www.zillow.com/homedetails/56839-Bonan...</td>\n    </tr>\n    <tr>\n      <th>14</th>\n      <td>https://www.zillow.com/homedetails/7731-Arrowh...</td>\n    </tr>\n    <tr>\n      <th>15</th>\n      <td>https://www.zillow.com/homedetails/58345-Bonan...</td>\n    </tr>\n  </tbody>\n</table>\n</div>"
     },
     "execution_count": 29,
     "metadata": {},
     "output_type": "execute_result"
    }
   ],
   "source": [
    "df7"
   ],
   "metadata": {
    "collapsed": false,
    "pycharm": {
     "name": "#%%\n"
    }
   }
  },
  {
   "cell_type": "code",
   "execution_count": 30,
   "outputs": [],
   "source": [
    "df3[1]=df3[0].str.split(\";\").str[0]"
   ],
   "metadata": {
    "collapsed": false,
    "pycharm": {
     "name": "#%%\n"
    }
   }
  },
  {
   "cell_type": "code",
   "execution_count": 31,
   "outputs": [],
   "source": [
    "df3[2]=df3[0].str.split(\";\").str[1]\n",
    "df3[3]=df3[0].str.split(\";\").str[2]\n",
    "df3[4]=df3[0].str.split(\";\").str[3]\n",
    "df3[5]=df3[0].str.split(\";\").str[4]\n",
    "df3[6]=df3[0].str.split(\";\").str[5]\n",
    "df3[7]=df3[0].str.split(\";\").str[6]\n",
    "df3[8]=df3[0].str.split(\";\").str[7]\n",
    "df3[9]=df3[0].str.split(\";\").str[8]\n",
    "df3[10]=df3[0].str.split(\";\").str[9]\n",
    "df3[11]=df3[0].str.split(\";\").str[10]\n",
    "df3[12]=df3[0].str.split(\";\").str[11]\n",
    "df3[13]=df3[0].str.split(\";\").str[12]"
   ],
   "metadata": {
    "collapsed": false,
    "pycharm": {
     "name": "#%%\n"
    }
   }
  },
  {
   "cell_type": "code",
   "execution_count": 32,
   "outputs": [
    {
     "data": {
      "text/plain": "0         unified_id\n1           10000347\n2           10000347\n3           10000347\n4           10000347\n             ...    \n116615       9996370\n116616       9996370\n116617       9996370\n116618       9996370\n116619       9996370\nName: 0, Length: 116620, dtype: object"
     },
     "execution_count": 32,
     "metadata": {},
     "output_type": "execute_result"
    }
   ],
   "source": [
    "df3[0].str.split(\";\").str[0]"
   ],
   "metadata": {
    "collapsed": false,
    "pycharm": {
     "name": "#%%\n"
    }
   }
  },
  {
   "cell_type": "code",
   "execution_count": 33,
   "outputs": [
    {
     "data": {
      "text/plain": "                                                       0           1   \\\n0       unified_id;month;zipcode;city;host_type;bedroo...  unified_id   \n1       10000347;2020-1;92315;Big Bear Lake;2-5 Units;...    10000347   \n2       10000347;2020-10;92315;Big Bear Lake;2-5 Units...    10000347   \n3       10000347;2020-11;92315;Big Bear Lake;2-5 Units...    10000347   \n4       10000347;2020-12;92315;Big Bear Lake;2-5 Units...    10000347   \n...                                                   ...         ...   \n116615  9996370;2022-5;92314;Big Bear City;Single Owne...     9996370   \n116616  9996370;2022-6;92314;Big Bear City;Single Owne...     9996370   \n116617  9996370;2022-7;92314;Big Bear City;Single Owne...     9996370   \n116618  9996370;2022-8;92314;Big Bear City;Single Owne...     9996370   \n116619  9996370;2022-9;92314;Big Bear City;Single Owne...     9996370   \n\n             2        3              4              5         6          7   \\\n0         month  zipcode           city      host_type  bedrooms  bathrooms   \n1        2020-1    92315  Big Bear Lake      2-5 Units         3          2   \n2       2020-10    92315  Big Bear Lake      2-5 Units         3          2   \n3       2020-11    92315  Big Bear Lake      2-5 Units         3          2   \n4       2020-12    92315  Big Bear Lake      2-5 Units         3          2   \n...         ...      ...            ...            ...       ...        ...   \n116615   2022-5    92314  Big Bear City  Single Owners         3          1   \n116616   2022-6    92314  Big Bear City  Single Owners         3          1   \n116617   2022-7    92314  Big Bear City  Single Owners         3          1   \n116618   2022-8    92314  Big Bear City  Single Owners         3          1   \n116619   2022-9    92314  Big Bear City  Single Owners         3          1   \n\n            8            9         10           11            12         13  \n0       guests      revenue  openness    occupancy  nightly rate  lead time  \n1           10  899,9599915        31  0,064516129   449,9799957         52  \n2           10        13950        31            1           450             \n3           10        13500        30            1           450             \n4           10        13950        31            1           450             \n...        ...          ...       ...          ...           ...        ...  \n116615       8            0        31            0                           \n116616       8            0        30            0                           \n116617       8          730        31  0,129032258         182,5       10,5  \n116618       8            0        31            0                           \n116619       8            0        30            0                           \n\n[116620 rows x 14 columns]",
      "text/html": "<div>\n<style scoped>\n    .dataframe tbody tr th:only-of-type {\n        vertical-align: middle;\n    }\n\n    .dataframe tbody tr th {\n        vertical-align: top;\n    }\n\n    .dataframe thead th {\n        text-align: right;\n    }\n</style>\n<table border=\"1\" class=\"dataframe\">\n  <thead>\n    <tr style=\"text-align: right;\">\n      <th></th>\n      <th>0</th>\n      <th>1</th>\n      <th>2</th>\n      <th>3</th>\n      <th>4</th>\n      <th>5</th>\n      <th>6</th>\n      <th>7</th>\n      <th>8</th>\n      <th>9</th>\n      <th>10</th>\n      <th>11</th>\n      <th>12</th>\n      <th>13</th>\n    </tr>\n  </thead>\n  <tbody>\n    <tr>\n      <th>0</th>\n      <td>unified_id;month;zipcode;city;host_type;bedroo...</td>\n      <td>unified_id</td>\n      <td>month</td>\n      <td>zipcode</td>\n      <td>city</td>\n      <td>host_type</td>\n      <td>bedrooms</td>\n      <td>bathrooms</td>\n      <td>guests</td>\n      <td>revenue</td>\n      <td>openness</td>\n      <td>occupancy</td>\n      <td>nightly rate</td>\n      <td>lead time</td>\n    </tr>\n    <tr>\n      <th>1</th>\n      <td>10000347;2020-1;92315;Big Bear Lake;2-5 Units;...</td>\n      <td>10000347</td>\n      <td>2020-1</td>\n      <td>92315</td>\n      <td>Big Bear Lake</td>\n      <td>2-5 Units</td>\n      <td>3</td>\n      <td>2</td>\n      <td>10</td>\n      <td>899,9599915</td>\n      <td>31</td>\n      <td>0,064516129</td>\n      <td>449,9799957</td>\n      <td>52</td>\n    </tr>\n    <tr>\n      <th>2</th>\n      <td>10000347;2020-10;92315;Big Bear Lake;2-5 Units...</td>\n      <td>10000347</td>\n      <td>2020-10</td>\n      <td>92315</td>\n      <td>Big Bear Lake</td>\n      <td>2-5 Units</td>\n      <td>3</td>\n      <td>2</td>\n      <td>10</td>\n      <td>13950</td>\n      <td>31</td>\n      <td>1</td>\n      <td>450</td>\n      <td></td>\n    </tr>\n    <tr>\n      <th>3</th>\n      <td>10000347;2020-11;92315;Big Bear Lake;2-5 Units...</td>\n      <td>10000347</td>\n      <td>2020-11</td>\n      <td>92315</td>\n      <td>Big Bear Lake</td>\n      <td>2-5 Units</td>\n      <td>3</td>\n      <td>2</td>\n      <td>10</td>\n      <td>13500</td>\n      <td>30</td>\n      <td>1</td>\n      <td>450</td>\n      <td></td>\n    </tr>\n    <tr>\n      <th>4</th>\n      <td>10000347;2020-12;92315;Big Bear Lake;2-5 Units...</td>\n      <td>10000347</td>\n      <td>2020-12</td>\n      <td>92315</td>\n      <td>Big Bear Lake</td>\n      <td>2-5 Units</td>\n      <td>3</td>\n      <td>2</td>\n      <td>10</td>\n      <td>13950</td>\n      <td>31</td>\n      <td>1</td>\n      <td>450</td>\n      <td></td>\n    </tr>\n    <tr>\n      <th>...</th>\n      <td>...</td>\n      <td>...</td>\n      <td>...</td>\n      <td>...</td>\n      <td>...</td>\n      <td>...</td>\n      <td>...</td>\n      <td>...</td>\n      <td>...</td>\n      <td>...</td>\n      <td>...</td>\n      <td>...</td>\n      <td>...</td>\n      <td>...</td>\n    </tr>\n    <tr>\n      <th>116615</th>\n      <td>9996370;2022-5;92314;Big Bear City;Single Owne...</td>\n      <td>9996370</td>\n      <td>2022-5</td>\n      <td>92314</td>\n      <td>Big Bear City</td>\n      <td>Single Owners</td>\n      <td>3</td>\n      <td>1</td>\n      <td>8</td>\n      <td>0</td>\n      <td>31</td>\n      <td>0</td>\n      <td></td>\n      <td></td>\n    </tr>\n    <tr>\n      <th>116616</th>\n      <td>9996370;2022-6;92314;Big Bear City;Single Owne...</td>\n      <td>9996370</td>\n      <td>2022-6</td>\n      <td>92314</td>\n      <td>Big Bear City</td>\n      <td>Single Owners</td>\n      <td>3</td>\n      <td>1</td>\n      <td>8</td>\n      <td>0</td>\n      <td>30</td>\n      <td>0</td>\n      <td></td>\n      <td></td>\n    </tr>\n    <tr>\n      <th>116617</th>\n      <td>9996370;2022-7;92314;Big Bear City;Single Owne...</td>\n      <td>9996370</td>\n      <td>2022-7</td>\n      <td>92314</td>\n      <td>Big Bear City</td>\n      <td>Single Owners</td>\n      <td>3</td>\n      <td>1</td>\n      <td>8</td>\n      <td>730</td>\n      <td>31</td>\n      <td>0,129032258</td>\n      <td>182,5</td>\n      <td>10,5</td>\n    </tr>\n    <tr>\n      <th>116618</th>\n      <td>9996370;2022-8;92314;Big Bear City;Single Owne...</td>\n      <td>9996370</td>\n      <td>2022-8</td>\n      <td>92314</td>\n      <td>Big Bear City</td>\n      <td>Single Owners</td>\n      <td>3</td>\n      <td>1</td>\n      <td>8</td>\n      <td>0</td>\n      <td>31</td>\n      <td>0</td>\n      <td></td>\n      <td></td>\n    </tr>\n    <tr>\n      <th>116619</th>\n      <td>9996370;2022-9;92314;Big Bear City;Single Owne...</td>\n      <td>9996370</td>\n      <td>2022-9</td>\n      <td>92314</td>\n      <td>Big Bear City</td>\n      <td>Single Owners</td>\n      <td>3</td>\n      <td>1</td>\n      <td>8</td>\n      <td>0</td>\n      <td>30</td>\n      <td>0</td>\n      <td></td>\n      <td></td>\n    </tr>\n  </tbody>\n</table>\n<p>116620 rows × 14 columns</p>\n</div>"
     },
     "execution_count": 33,
     "metadata": {},
     "output_type": "execute_result"
    }
   ],
   "source": [
    "df3"
   ],
   "metadata": {
    "collapsed": false,
    "pycharm": {
     "name": "#%%\n"
    }
   }
  },
  {
   "cell_type": "code",
   "execution_count": 34,
   "outputs": [],
   "source": [
    "df4[1]=df4[0].str.split(\";\").str[0]\n",
    "df4[2]=df4[0].str.split(\";\").str[1]\n",
    "df4[3]=df4[0].str.split(\";\").str[2]\n",
    "df4[4]=df4[0].str.split(\";\").str[3]\n",
    "df4[5]=df4[0].str.split(\";\").str[4]\n",
    "df3[6]=df4[0].str.split(\";\").str[5]\n",
    "df3[7]=df4[0].str.split(\";\").str[6]\n",
    "df3[8]=df4[0].str.split(\";\").str[7]\n",
    "df3[9]=df4[0].str.split(\";\").str[8]\n",
    "df3[10]=df4[0].str.split(\";\").str[9]\n",
    "df3[11]=df4[0].str.split(\";\").str[10]\n",
    "df3[12]=df4[0].str.split(\";\").str[11]\n",
    "df3[13]=df4[0].str.split(\";\").str[12]"
   ],
   "metadata": {
    "collapsed": false,
    "pycharm": {
     "name": "#%%\n"
    }
   }
  },
  {
   "cell_type": "code",
   "execution_count": 35,
   "outputs": [],
   "source": [
    "df5[1]=df5[0].str.split(\";\").str[0]\n",
    "df5[2]=df5[0].str.split(\";\").str[1]\n",
    "df5[3]=df5[0].str.split(\";\").str[2]\n",
    "df5[4]=df5[0].str.split(\";\").str[3]\n",
    "df5[5]=df5[0].str.split(\";\").str[4]\n",
    "df5[6]=df5[0].str.split(\";\").str[5]\n",
    "df5[7]=df5[0].str.split(\";\").str[6]\n",
    "df5[8]=df5[0].str.split(\";\").str[7]\n",
    "df5[9]=df5[0].str.split(\";\").str[8]\n",
    "df5[10]=df5[0].str.split(\";\").str[9]\n",
    "df5[11]=df5[0].str.split(\";\").str[10]\n",
    "df5[12]=df5[0].str.split(\";\").str[11]\n",
    "df5[13]=df5[0].str.split(\";\").str[12]"
   ],
   "metadata": {
    "collapsed": false,
    "pycharm": {
     "name": "#%%\n"
    }
   }
  },
  {
   "cell_type": "code",
   "execution_count": 36,
   "outputs": [],
   "source": [
    "df6[1]=df6[0].str.split(\";\").str[0]\n",
    "df6[2]=df6[0].str.split(\";\").str[1]\n",
    "df6[3]=df6[0].str.split(\";\").str[2]\n",
    "df6[4]=df6[0].str.split(\";\").str[3]\n",
    "df6[5]=df6[0].str.split(\";\").str[4]\n",
    "df6[6]=df6[0].str.split(\";\").str[5]\n",
    "df6[7]=df6[0].str.split(\";\").str[6]\n",
    "df6[8]=df6[0].str.split(\";\").str[7]\n",
    "df6[9]=df6[0].str.split(\";\").str[8]\n",
    "df6[10]=df6[0].str.split(\";\").str[9]\n",
    "df6[11]=df6[0].str.split(\";\").str[10]\n",
    "df6[12]=df6[0].str.split(\";\").str[11]\n",
    "df6[13]=df6[0].str.split(\";\").str[12]"
   ],
   "metadata": {
    "collapsed": false,
    "pycharm": {
     "name": "#%%\n"
    }
   }
  },
  {
   "cell_type": "code",
   "execution_count": 37,
   "outputs": [],
   "source": [
    "df7[1]=df7[0].str.split(\";\").str[0]\n",
    "df7[2]=df7[0].str.split(\";\").str[1]\n",
    "df7[3]=df7[0].str.split(\";\").str[2]\n",
    "df7[4]=df7[0].str.split(\";\").str[3]\n",
    "df7[5]=df7[0].str.split(\";\").str[4]\n",
    "df7[6]=df7[0].str.split(\";\").str[5]\n",
    "df7[7]=df7[0].str.split(\";\").str[6]\n",
    "df7[8]=df7[0].str.split(\";\").str[7]\n",
    "df7[9]=df7[0].str.split(\";\").str[8]\n",
    "df7[10]=df7[0].str.split(\";\").str[9]\n",
    "df7[11]=df7[0].str.split(\";\").str[10]\n",
    "df7[12]=df7[0].str.split(\";\").str[11]\n",
    "df7[13]=df7[0].str.split(\";\").str[12]"
   ],
   "metadata": {
    "collapsed": false,
    "pycharm": {
     "name": "#%%\n"
    }
   }
  },
  {
   "cell_type": "code",
   "execution_count": 38,
   "outputs": [
    {
     "data": {
      "text/plain": "0         0\n1         0\n2         0\n3         0\n4         0\n5         0\n6     86691\n7     86691\n8     86691\n9     86691\n10    86691\n11    86691\n12    86691\n13    86691\ndtype: int64"
     },
     "execution_count": 38,
     "metadata": {},
     "output_type": "execute_result"
    }
   ],
   "source": [
    "df3.isnull().sum()"
   ],
   "metadata": {
    "collapsed": false,
    "pycharm": {
     "name": "#%%\n"
    }
   }
  },
  {
   "cell_type": "code",
   "execution_count": 39,
   "outputs": [
    {
     "data": {
      "text/plain": "(116620, 14)"
     },
     "execution_count": 39,
     "metadata": {},
     "output_type": "execute_result"
    }
   ],
   "source": [
    "df3.shape"
   ],
   "metadata": {
    "collapsed": false,
    "pycharm": {
     "name": "#%%\n"
    }
   }
  },
  {
   "cell_type": "code",
   "execution_count": 40,
   "outputs": [
    {
     "data": {
      "text/plain": "                                                       0           1   \\\n0       unified_id;month;zipcode;city;host_type;bedroo...  unified_id   \n1       10000347;2020-1;92315;Big Bear Lake;2-5 Units;...    10000347   \n2       10000347;2020-10;92315;Big Bear Lake;2-5 Units...    10000347   \n3       10000347;2020-11;92315;Big Bear Lake;2-5 Units...    10000347   \n4       10000347;2020-12;92315;Big Bear Lake;2-5 Units...    10000347   \n...                                                   ...         ...   \n116615  9996370;2022-5;92314;Big Bear City;Single Owne...     9996370   \n116616  9996370;2022-6;92314;Big Bear City;Single Owne...     9996370   \n116617  9996370;2022-7;92314;Big Bear City;Single Owne...     9996370   \n116618  9996370;2022-8;92314;Big Bear City;Single Owne...     9996370   \n116619  9996370;2022-9;92314;Big Bear City;Single Owne...     9996370   \n\n             2        3              4              5         6          7   \\\n0         month  zipcode           city      host_type  bedrooms  bathrooms   \n1        2020-1    92315  Big Bear Lake      2-5 Units         3          2   \n2       2020-10    92315  Big Bear Lake      2-5 Units         3          2   \n3       2020-11    92315  Big Bear Lake      2-5 Units         3          2   \n4       2020-12    92315  Big Bear Lake      2-5 Units         3          2   \n...         ...      ...            ...            ...       ...        ...   \n116615   2022-5    92314  Big Bear City  Single Owners       NaN        NaN   \n116616   2022-6    92314  Big Bear City  Single Owners       NaN        NaN   \n116617   2022-7    92314  Big Bear City  Single Owners       NaN        NaN   \n116618   2022-8    92314  Big Bear City  Single Owners       NaN        NaN   \n116619   2022-9    92314  Big Bear City  Single Owners       NaN        NaN   \n\n            8            9         10           11            12         13  \n0       guests      revenue  openness    occupancy  nightly rate  lead time  \n1           10  13948,75974        31            1   449,9599915          8  \n2           10  449,9599915        31  0,032258065   449,9599915          8  \n3           10            0        30            0                           \n4           10  4949,679932        31   0,35483871   449,9709029         41  \n...        ...          ...       ...          ...           ...        ...  \n116615     NaN          NaN       NaN          NaN           NaN        NaN  \n116616     NaN          NaN       NaN          NaN           NaN        NaN  \n116617     NaN          NaN       NaN          NaN           NaN        NaN  \n116618     NaN          NaN       NaN          NaN           NaN        NaN  \n116619     NaN          NaN       NaN          NaN           NaN        NaN  \n\n[116620 rows x 14 columns]",
      "text/html": "<div>\n<style scoped>\n    .dataframe tbody tr th:only-of-type {\n        vertical-align: middle;\n    }\n\n    .dataframe tbody tr th {\n        vertical-align: top;\n    }\n\n    .dataframe thead th {\n        text-align: right;\n    }\n</style>\n<table border=\"1\" class=\"dataframe\">\n  <thead>\n    <tr style=\"text-align: right;\">\n      <th></th>\n      <th>0</th>\n      <th>1</th>\n      <th>2</th>\n      <th>3</th>\n      <th>4</th>\n      <th>5</th>\n      <th>6</th>\n      <th>7</th>\n      <th>8</th>\n      <th>9</th>\n      <th>10</th>\n      <th>11</th>\n      <th>12</th>\n      <th>13</th>\n    </tr>\n  </thead>\n  <tbody>\n    <tr>\n      <th>0</th>\n      <td>unified_id;month;zipcode;city;host_type;bedroo...</td>\n      <td>unified_id</td>\n      <td>month</td>\n      <td>zipcode</td>\n      <td>city</td>\n      <td>host_type</td>\n      <td>bedrooms</td>\n      <td>bathrooms</td>\n      <td>guests</td>\n      <td>revenue</td>\n      <td>openness</td>\n      <td>occupancy</td>\n      <td>nightly rate</td>\n      <td>lead time</td>\n    </tr>\n    <tr>\n      <th>1</th>\n      <td>10000347;2020-1;92315;Big Bear Lake;2-5 Units;...</td>\n      <td>10000347</td>\n      <td>2020-1</td>\n      <td>92315</td>\n      <td>Big Bear Lake</td>\n      <td>2-5 Units</td>\n      <td>3</td>\n      <td>2</td>\n      <td>10</td>\n      <td>13948,75974</td>\n      <td>31</td>\n      <td>1</td>\n      <td>449,9599915</td>\n      <td>8</td>\n    </tr>\n    <tr>\n      <th>2</th>\n      <td>10000347;2020-10;92315;Big Bear Lake;2-5 Units...</td>\n      <td>10000347</td>\n      <td>2020-10</td>\n      <td>92315</td>\n      <td>Big Bear Lake</td>\n      <td>2-5 Units</td>\n      <td>3</td>\n      <td>2</td>\n      <td>10</td>\n      <td>449,9599915</td>\n      <td>31</td>\n      <td>0,032258065</td>\n      <td>449,9599915</td>\n      <td>8</td>\n    </tr>\n    <tr>\n      <th>3</th>\n      <td>10000347;2020-11;92315;Big Bear Lake;2-5 Units...</td>\n      <td>10000347</td>\n      <td>2020-11</td>\n      <td>92315</td>\n      <td>Big Bear Lake</td>\n      <td>2-5 Units</td>\n      <td>3</td>\n      <td>2</td>\n      <td>10</td>\n      <td>0</td>\n      <td>30</td>\n      <td>0</td>\n      <td></td>\n      <td></td>\n    </tr>\n    <tr>\n      <th>4</th>\n      <td>10000347;2020-12;92315;Big Bear Lake;2-5 Units...</td>\n      <td>10000347</td>\n      <td>2020-12</td>\n      <td>92315</td>\n      <td>Big Bear Lake</td>\n      <td>2-5 Units</td>\n      <td>3</td>\n      <td>2</td>\n      <td>10</td>\n      <td>4949,679932</td>\n      <td>31</td>\n      <td>0,35483871</td>\n      <td>449,9709029</td>\n      <td>41</td>\n    </tr>\n    <tr>\n      <th>...</th>\n      <td>...</td>\n      <td>...</td>\n      <td>...</td>\n      <td>...</td>\n      <td>...</td>\n      <td>...</td>\n      <td>...</td>\n      <td>...</td>\n      <td>...</td>\n      <td>...</td>\n      <td>...</td>\n      <td>...</td>\n      <td>...</td>\n      <td>...</td>\n    </tr>\n    <tr>\n      <th>116615</th>\n      <td>9996370;2022-5;92314;Big Bear City;Single Owne...</td>\n      <td>9996370</td>\n      <td>2022-5</td>\n      <td>92314</td>\n      <td>Big Bear City</td>\n      <td>Single Owners</td>\n      <td>NaN</td>\n      <td>NaN</td>\n      <td>NaN</td>\n      <td>NaN</td>\n      <td>NaN</td>\n      <td>NaN</td>\n      <td>NaN</td>\n      <td>NaN</td>\n    </tr>\n    <tr>\n      <th>116616</th>\n      <td>9996370;2022-6;92314;Big Bear City;Single Owne...</td>\n      <td>9996370</td>\n      <td>2022-6</td>\n      <td>92314</td>\n      <td>Big Bear City</td>\n      <td>Single Owners</td>\n      <td>NaN</td>\n      <td>NaN</td>\n      <td>NaN</td>\n      <td>NaN</td>\n      <td>NaN</td>\n      <td>NaN</td>\n      <td>NaN</td>\n      <td>NaN</td>\n    </tr>\n    <tr>\n      <th>116617</th>\n      <td>9996370;2022-7;92314;Big Bear City;Single Owne...</td>\n      <td>9996370</td>\n      <td>2022-7</td>\n      <td>92314</td>\n      <td>Big Bear City</td>\n      <td>Single Owners</td>\n      <td>NaN</td>\n      <td>NaN</td>\n      <td>NaN</td>\n      <td>NaN</td>\n      <td>NaN</td>\n      <td>NaN</td>\n      <td>NaN</td>\n      <td>NaN</td>\n    </tr>\n    <tr>\n      <th>116618</th>\n      <td>9996370;2022-8;92314;Big Bear City;Single Owne...</td>\n      <td>9996370</td>\n      <td>2022-8</td>\n      <td>92314</td>\n      <td>Big Bear City</td>\n      <td>Single Owners</td>\n      <td>NaN</td>\n      <td>NaN</td>\n      <td>NaN</td>\n      <td>NaN</td>\n      <td>NaN</td>\n      <td>NaN</td>\n      <td>NaN</td>\n      <td>NaN</td>\n    </tr>\n    <tr>\n      <th>116619</th>\n      <td>9996370;2022-9;92314;Big Bear City;Single Owne...</td>\n      <td>9996370</td>\n      <td>2022-9</td>\n      <td>92314</td>\n      <td>Big Bear City</td>\n      <td>Single Owners</td>\n      <td>NaN</td>\n      <td>NaN</td>\n      <td>NaN</td>\n      <td>NaN</td>\n      <td>NaN</td>\n      <td>NaN</td>\n      <td>NaN</td>\n      <td>NaN</td>\n    </tr>\n  </tbody>\n</table>\n<p>116620 rows × 14 columns</p>\n</div>"
     },
     "execution_count": 40,
     "metadata": {},
     "output_type": "execute_result"
    }
   ],
   "source": [
    "df3"
   ],
   "metadata": {
    "collapsed": false,
    "pycharm": {
     "name": "#%%\n"
    }
   }
  },
  {
   "cell_type": "code",
   "execution_count": 41,
   "outputs": [],
   "source": [
    "df3.drop(0,axis=1,inplace=True)\n",
    "df4.drop(0,axis=1,inplace=True)\n",
    "df5.drop(0,axis=1,inplace=True)\n",
    "df6.drop(0,axis=1,inplace=True)\n",
    "df7.drop(0,axis=1,inplace=True)"
   ],
   "metadata": {
    "collapsed": false,
    "pycharm": {
     "name": "#%%\n"
    }
   }
  },
  {
   "cell_type": "code",
   "execution_count": 42,
   "outputs": [
    {
     "data": {
      "text/plain": "                1        2        3              4              5         6   \\\n0       unified_id    month  zipcode           city      host_type  bedrooms   \n1         10000347   2020-1    92315  Big Bear Lake      2-5 Units         3   \n2         10000347  2020-10    92315  Big Bear Lake      2-5 Units         3   \n3         10000347  2020-11    92315  Big Bear Lake      2-5 Units         3   \n4         10000347  2020-12    92315  Big Bear Lake      2-5 Units         3   \n...            ...      ...      ...            ...            ...       ...   \n116615     9996370   2022-5    92314  Big Bear City  Single Owners       NaN   \n116616     9996370   2022-6    92314  Big Bear City  Single Owners       NaN   \n116617     9996370   2022-7    92314  Big Bear City  Single Owners       NaN   \n116618     9996370   2022-8    92314  Big Bear City  Single Owners       NaN   \n116619     9996370   2022-9    92314  Big Bear City  Single Owners       NaN   \n\n               7       8            9         10           11            12  \\\n0       bathrooms  guests      revenue  openness    occupancy  nightly rate   \n1               2      10  13948,75974        31            1   449,9599915   \n2               2      10  449,9599915        31  0,032258065   449,9599915   \n3               2      10            0        30            0                 \n4               2      10  4949,679932        31   0,35483871   449,9709029   \n...           ...     ...          ...       ...          ...           ...   \n116615        NaN     NaN          NaN       NaN          NaN           NaN   \n116616        NaN     NaN          NaN       NaN          NaN           NaN   \n116617        NaN     NaN          NaN       NaN          NaN           NaN   \n116618        NaN     NaN          NaN       NaN          NaN           NaN   \n116619        NaN     NaN          NaN       NaN          NaN           NaN   \n\n               13  \n0       lead time  \n1               8  \n2               8  \n3                  \n4              41  \n...           ...  \n116615        NaN  \n116616        NaN  \n116617        NaN  \n116618        NaN  \n116619        NaN  \n\n[116620 rows x 13 columns]",
      "text/html": "<div>\n<style scoped>\n    .dataframe tbody tr th:only-of-type {\n        vertical-align: middle;\n    }\n\n    .dataframe tbody tr th {\n        vertical-align: top;\n    }\n\n    .dataframe thead th {\n        text-align: right;\n    }\n</style>\n<table border=\"1\" class=\"dataframe\">\n  <thead>\n    <tr style=\"text-align: right;\">\n      <th></th>\n      <th>1</th>\n      <th>2</th>\n      <th>3</th>\n      <th>4</th>\n      <th>5</th>\n      <th>6</th>\n      <th>7</th>\n      <th>8</th>\n      <th>9</th>\n      <th>10</th>\n      <th>11</th>\n      <th>12</th>\n      <th>13</th>\n    </tr>\n  </thead>\n  <tbody>\n    <tr>\n      <th>0</th>\n      <td>unified_id</td>\n      <td>month</td>\n      <td>zipcode</td>\n      <td>city</td>\n      <td>host_type</td>\n      <td>bedrooms</td>\n      <td>bathrooms</td>\n      <td>guests</td>\n      <td>revenue</td>\n      <td>openness</td>\n      <td>occupancy</td>\n      <td>nightly rate</td>\n      <td>lead time</td>\n    </tr>\n    <tr>\n      <th>1</th>\n      <td>10000347</td>\n      <td>2020-1</td>\n      <td>92315</td>\n      <td>Big Bear Lake</td>\n      <td>2-5 Units</td>\n      <td>3</td>\n      <td>2</td>\n      <td>10</td>\n      <td>13948,75974</td>\n      <td>31</td>\n      <td>1</td>\n      <td>449,9599915</td>\n      <td>8</td>\n    </tr>\n    <tr>\n      <th>2</th>\n      <td>10000347</td>\n      <td>2020-10</td>\n      <td>92315</td>\n      <td>Big Bear Lake</td>\n      <td>2-5 Units</td>\n      <td>3</td>\n      <td>2</td>\n      <td>10</td>\n      <td>449,9599915</td>\n      <td>31</td>\n      <td>0,032258065</td>\n      <td>449,9599915</td>\n      <td>8</td>\n    </tr>\n    <tr>\n      <th>3</th>\n      <td>10000347</td>\n      <td>2020-11</td>\n      <td>92315</td>\n      <td>Big Bear Lake</td>\n      <td>2-5 Units</td>\n      <td>3</td>\n      <td>2</td>\n      <td>10</td>\n      <td>0</td>\n      <td>30</td>\n      <td>0</td>\n      <td></td>\n      <td></td>\n    </tr>\n    <tr>\n      <th>4</th>\n      <td>10000347</td>\n      <td>2020-12</td>\n      <td>92315</td>\n      <td>Big Bear Lake</td>\n      <td>2-5 Units</td>\n      <td>3</td>\n      <td>2</td>\n      <td>10</td>\n      <td>4949,679932</td>\n      <td>31</td>\n      <td>0,35483871</td>\n      <td>449,9709029</td>\n      <td>41</td>\n    </tr>\n    <tr>\n      <th>...</th>\n      <td>...</td>\n      <td>...</td>\n      <td>...</td>\n      <td>...</td>\n      <td>...</td>\n      <td>...</td>\n      <td>...</td>\n      <td>...</td>\n      <td>...</td>\n      <td>...</td>\n      <td>...</td>\n      <td>...</td>\n      <td>...</td>\n    </tr>\n    <tr>\n      <th>116615</th>\n      <td>9996370</td>\n      <td>2022-5</td>\n      <td>92314</td>\n      <td>Big Bear City</td>\n      <td>Single Owners</td>\n      <td>NaN</td>\n      <td>NaN</td>\n      <td>NaN</td>\n      <td>NaN</td>\n      <td>NaN</td>\n      <td>NaN</td>\n      <td>NaN</td>\n      <td>NaN</td>\n    </tr>\n    <tr>\n      <th>116616</th>\n      <td>9996370</td>\n      <td>2022-6</td>\n      <td>92314</td>\n      <td>Big Bear City</td>\n      <td>Single Owners</td>\n      <td>NaN</td>\n      <td>NaN</td>\n      <td>NaN</td>\n      <td>NaN</td>\n      <td>NaN</td>\n      <td>NaN</td>\n      <td>NaN</td>\n      <td>NaN</td>\n    </tr>\n    <tr>\n      <th>116617</th>\n      <td>9996370</td>\n      <td>2022-7</td>\n      <td>92314</td>\n      <td>Big Bear City</td>\n      <td>Single Owners</td>\n      <td>NaN</td>\n      <td>NaN</td>\n      <td>NaN</td>\n      <td>NaN</td>\n      <td>NaN</td>\n      <td>NaN</td>\n      <td>NaN</td>\n      <td>NaN</td>\n    </tr>\n    <tr>\n      <th>116618</th>\n      <td>9996370</td>\n      <td>2022-8</td>\n      <td>92314</td>\n      <td>Big Bear City</td>\n      <td>Single Owners</td>\n      <td>NaN</td>\n      <td>NaN</td>\n      <td>NaN</td>\n      <td>NaN</td>\n      <td>NaN</td>\n      <td>NaN</td>\n      <td>NaN</td>\n      <td>NaN</td>\n    </tr>\n    <tr>\n      <th>116619</th>\n      <td>9996370</td>\n      <td>2022-9</td>\n      <td>92314</td>\n      <td>Big Bear City</td>\n      <td>Single Owners</td>\n      <td>NaN</td>\n      <td>NaN</td>\n      <td>NaN</td>\n      <td>NaN</td>\n      <td>NaN</td>\n      <td>NaN</td>\n      <td>NaN</td>\n      <td>NaN</td>\n    </tr>\n  </tbody>\n</table>\n<p>116620 rows × 13 columns</p>\n</div>"
     },
     "execution_count": 42,
     "metadata": {},
     "output_type": "execute_result"
    }
   ],
   "source": [
    "df3"
   ],
   "metadata": {
    "collapsed": false,
    "pycharm": {
     "name": "#%%\n"
    }
   }
  },
  {
   "cell_type": "code",
   "execution_count": 43,
   "outputs": [],
   "source": [
    "df4.drop(0,axis=0,inplace=True)"
   ],
   "metadata": {
    "collapsed": false,
    "pycharm": {
     "name": "#%%\n"
    }
   }
  },
  {
   "cell_type": "code",
   "execution_count": 44,
   "outputs": [],
   "source": [
    "df5.drop(0,axis=0,inplace=True)\n",
    "df6.drop(0,axis=0,inplace=True)\n",
    "df7.drop(0,axis=0,inplace=True)"
   ],
   "metadata": {
    "collapsed": false,
    "pycharm": {
     "name": "#%%\n"
    }
   }
  },
  {
   "cell_type": "code",
   "execution_count": 45,
   "outputs": [
    {
     "data": {
      "text/plain": "                1        2        3              4              5         6   \\\n0       unified_id    month  zipcode           city      host_type  bedrooms   \n1         10000347   2020-1    92315  Big Bear Lake      2-5 Units         3   \n2         10000347  2020-10    92315  Big Bear Lake      2-5 Units         3   \n3         10000347  2020-11    92315  Big Bear Lake      2-5 Units         3   \n4         10000347  2020-12    92315  Big Bear Lake      2-5 Units         3   \n...            ...      ...      ...            ...            ...       ...   \n116615     9996370   2022-5    92314  Big Bear City  Single Owners       NaN   \n116616     9996370   2022-6    92314  Big Bear City  Single Owners       NaN   \n116617     9996370   2022-7    92314  Big Bear City  Single Owners       NaN   \n116618     9996370   2022-8    92314  Big Bear City  Single Owners       NaN   \n116619     9996370   2022-9    92314  Big Bear City  Single Owners       NaN   \n\n               7       8            9         10           11            12  \\\n0       bathrooms  guests      revenue  openness    occupancy  nightly rate   \n1               2      10  13948,75974        31            1   449,9599915   \n2               2      10  449,9599915        31  0,032258065   449,9599915   \n3               2      10            0        30            0                 \n4               2      10  4949,679932        31   0,35483871   449,9709029   \n...           ...     ...          ...       ...          ...           ...   \n116615        NaN     NaN          NaN       NaN          NaN           NaN   \n116616        NaN     NaN          NaN       NaN          NaN           NaN   \n116617        NaN     NaN          NaN       NaN          NaN           NaN   \n116618        NaN     NaN          NaN       NaN          NaN           NaN   \n116619        NaN     NaN          NaN       NaN          NaN           NaN   \n\n               13  \n0       lead time  \n1               8  \n2               8  \n3                  \n4              41  \n...           ...  \n116615        NaN  \n116616        NaN  \n116617        NaN  \n116618        NaN  \n116619        NaN  \n\n[116620 rows x 13 columns]",
      "text/html": "<div>\n<style scoped>\n    .dataframe tbody tr th:only-of-type {\n        vertical-align: middle;\n    }\n\n    .dataframe tbody tr th {\n        vertical-align: top;\n    }\n\n    .dataframe thead th {\n        text-align: right;\n    }\n</style>\n<table border=\"1\" class=\"dataframe\">\n  <thead>\n    <tr style=\"text-align: right;\">\n      <th></th>\n      <th>1</th>\n      <th>2</th>\n      <th>3</th>\n      <th>4</th>\n      <th>5</th>\n      <th>6</th>\n      <th>7</th>\n      <th>8</th>\n      <th>9</th>\n      <th>10</th>\n      <th>11</th>\n      <th>12</th>\n      <th>13</th>\n    </tr>\n  </thead>\n  <tbody>\n    <tr>\n      <th>0</th>\n      <td>unified_id</td>\n      <td>month</td>\n      <td>zipcode</td>\n      <td>city</td>\n      <td>host_type</td>\n      <td>bedrooms</td>\n      <td>bathrooms</td>\n      <td>guests</td>\n      <td>revenue</td>\n      <td>openness</td>\n      <td>occupancy</td>\n      <td>nightly rate</td>\n      <td>lead time</td>\n    </tr>\n    <tr>\n      <th>1</th>\n      <td>10000347</td>\n      <td>2020-1</td>\n      <td>92315</td>\n      <td>Big Bear Lake</td>\n      <td>2-5 Units</td>\n      <td>3</td>\n      <td>2</td>\n      <td>10</td>\n      <td>13948,75974</td>\n      <td>31</td>\n      <td>1</td>\n      <td>449,9599915</td>\n      <td>8</td>\n    </tr>\n    <tr>\n      <th>2</th>\n      <td>10000347</td>\n      <td>2020-10</td>\n      <td>92315</td>\n      <td>Big Bear Lake</td>\n      <td>2-5 Units</td>\n      <td>3</td>\n      <td>2</td>\n      <td>10</td>\n      <td>449,9599915</td>\n      <td>31</td>\n      <td>0,032258065</td>\n      <td>449,9599915</td>\n      <td>8</td>\n    </tr>\n    <tr>\n      <th>3</th>\n      <td>10000347</td>\n      <td>2020-11</td>\n      <td>92315</td>\n      <td>Big Bear Lake</td>\n      <td>2-5 Units</td>\n      <td>3</td>\n      <td>2</td>\n      <td>10</td>\n      <td>0</td>\n      <td>30</td>\n      <td>0</td>\n      <td></td>\n      <td></td>\n    </tr>\n    <tr>\n      <th>4</th>\n      <td>10000347</td>\n      <td>2020-12</td>\n      <td>92315</td>\n      <td>Big Bear Lake</td>\n      <td>2-5 Units</td>\n      <td>3</td>\n      <td>2</td>\n      <td>10</td>\n      <td>4949,679932</td>\n      <td>31</td>\n      <td>0,35483871</td>\n      <td>449,9709029</td>\n      <td>41</td>\n    </tr>\n    <tr>\n      <th>...</th>\n      <td>...</td>\n      <td>...</td>\n      <td>...</td>\n      <td>...</td>\n      <td>...</td>\n      <td>...</td>\n      <td>...</td>\n      <td>...</td>\n      <td>...</td>\n      <td>...</td>\n      <td>...</td>\n      <td>...</td>\n      <td>...</td>\n    </tr>\n    <tr>\n      <th>116615</th>\n      <td>9996370</td>\n      <td>2022-5</td>\n      <td>92314</td>\n      <td>Big Bear City</td>\n      <td>Single Owners</td>\n      <td>NaN</td>\n      <td>NaN</td>\n      <td>NaN</td>\n      <td>NaN</td>\n      <td>NaN</td>\n      <td>NaN</td>\n      <td>NaN</td>\n      <td>NaN</td>\n    </tr>\n    <tr>\n      <th>116616</th>\n      <td>9996370</td>\n      <td>2022-6</td>\n      <td>92314</td>\n      <td>Big Bear City</td>\n      <td>Single Owners</td>\n      <td>NaN</td>\n      <td>NaN</td>\n      <td>NaN</td>\n      <td>NaN</td>\n      <td>NaN</td>\n      <td>NaN</td>\n      <td>NaN</td>\n      <td>NaN</td>\n    </tr>\n    <tr>\n      <th>116617</th>\n      <td>9996370</td>\n      <td>2022-7</td>\n      <td>92314</td>\n      <td>Big Bear City</td>\n      <td>Single Owners</td>\n      <td>NaN</td>\n      <td>NaN</td>\n      <td>NaN</td>\n      <td>NaN</td>\n      <td>NaN</td>\n      <td>NaN</td>\n      <td>NaN</td>\n      <td>NaN</td>\n    </tr>\n    <tr>\n      <th>116618</th>\n      <td>9996370</td>\n      <td>2022-8</td>\n      <td>92314</td>\n      <td>Big Bear City</td>\n      <td>Single Owners</td>\n      <td>NaN</td>\n      <td>NaN</td>\n      <td>NaN</td>\n      <td>NaN</td>\n      <td>NaN</td>\n      <td>NaN</td>\n      <td>NaN</td>\n      <td>NaN</td>\n    </tr>\n    <tr>\n      <th>116619</th>\n      <td>9996370</td>\n      <td>2022-9</td>\n      <td>92314</td>\n      <td>Big Bear City</td>\n      <td>Single Owners</td>\n      <td>NaN</td>\n      <td>NaN</td>\n      <td>NaN</td>\n      <td>NaN</td>\n      <td>NaN</td>\n      <td>NaN</td>\n      <td>NaN</td>\n      <td>NaN</td>\n    </tr>\n  </tbody>\n</table>\n<p>116620 rows × 13 columns</p>\n</div>"
     },
     "execution_count": 45,
     "metadata": {},
     "output_type": "execute_result"
    }
   ],
   "source": [
    "df3"
   ],
   "metadata": {
    "collapsed": false,
    "pycharm": {
     "name": "#%%\n"
    }
   }
  },
  {
   "cell_type": "code",
   "execution_count": 46,
   "outputs": [
    {
     "name": "stdout",
     "output_type": "stream",
     "text": [
      "0      unified_id    month zipcode           city      host_type bedrooms  \\\n",
      "0        10000347   2020-1   92315  Big Bear Lake      2-5 Units        3   \n",
      "1        10000347  2020-10   92315  Big Bear Lake      2-5 Units        3   \n",
      "2        10000347  2020-11   92315  Big Bear Lake      2-5 Units        3   \n",
      "3        10000347  2020-12   92315  Big Bear Lake      2-5 Units        3   \n",
      "4        10000347   2020-2   92315  Big Bear Lake      2-5 Units        3   \n",
      "...           ...      ...     ...            ...            ...      ...   \n",
      "116614    9996370   2022-5   92314  Big Bear City  Single Owners      NaN   \n",
      "116615    9996370   2022-6   92314  Big Bear City  Single Owners      NaN   \n",
      "116616    9996370   2022-7   92314  Big Bear City  Single Owners      NaN   \n",
      "116617    9996370   2022-8   92314  Big Bear City  Single Owners      NaN   \n",
      "116618    9996370   2022-9   92314  Big Bear City  Single Owners      NaN   \n",
      "\n",
      "0      bathrooms guests      revenue openness    occupancy nightly rate  \\\n",
      "0              2     10  13948,75974       31            1  449,9599915   \n",
      "1              2     10  449,9599915       31  0,032258065  449,9599915   \n",
      "2              2     10            0       30            0                \n",
      "3              2     10  4949,679932       31   0,35483871  449,9709029   \n",
      "4              2     10            0       28            0                \n",
      "...          ...    ...          ...      ...          ...          ...   \n",
      "116614       NaN    NaN          NaN      NaN          NaN          NaN   \n",
      "116615       NaN    NaN          NaN      NaN          NaN          NaN   \n",
      "116616       NaN    NaN          NaN      NaN          NaN          NaN   \n",
      "116617       NaN    NaN          NaN      NaN          NaN          NaN   \n",
      "116618       NaN    NaN          NaN      NaN          NaN          NaN   \n",
      "\n",
      "0      lead time  \n",
      "0              8  \n",
      "1              8  \n",
      "2                 \n",
      "3             41  \n",
      "4                 \n",
      "...          ...  \n",
      "116614       NaN  \n",
      "116615       NaN  \n",
      "116616       NaN  \n",
      "116617       NaN  \n",
      "116618       NaN  \n",
      "\n",
      "[116619 rows x 13 columns]\n"
     ]
    }
   ],
   "source": [
    "df3.columns = df3.iloc[0]\n",
    "df3 = df3.iloc[1:].reset_index(drop=True)\n",
    "print(df3)\n"
   ],
   "metadata": {
    "collapsed": false,
    "pycharm": {
     "name": "#%%\n"
    }
   }
  },
  {
   "cell_type": "code",
   "execution_count": 47,
   "outputs": [],
   "source": [
    "df3.columns = df3.iloc[0]\n",
    "df3 = df3.iloc[1:].reset_index(drop=True)"
   ],
   "metadata": {
    "collapsed": false,
    "pycharm": {
     "name": "#%%\n"
    }
   }
  },
  {
   "cell_type": "code",
   "execution_count": 48,
   "outputs": [
    {
     "data": {
      "text/plain": "0       10000347   2020-1  92315  Big Bear Lake      2-5 Units    3    2   10  \\\n0       10000347  2020-10  92315  Big Bear Lake      2-5 Units    3    2   10   \n1       10000347  2020-11  92315  Big Bear Lake      2-5 Units    3    2   10   \n2       10000347  2020-12  92315  Big Bear Lake      2-5 Units    3    2   10   \n3       10000347   2020-2  92315  Big Bear Lake      2-5 Units    3    2   10   \n4       10000347   2020-3  92315  Big Bear Lake      2-5 Units    3    2   10   \n...          ...      ...    ...            ...            ...  ...  ...  ...   \n116613   9996370   2022-5  92314  Big Bear City  Single Owners  NaN  NaN  NaN   \n116614   9996370   2022-6  92314  Big Bear City  Single Owners  NaN  NaN  NaN   \n116615   9996370   2022-7  92314  Big Bear City  Single Owners  NaN  NaN  NaN   \n116616   9996370   2022-8  92314  Big Bear City  Single Owners  NaN  NaN  NaN   \n116617   9996370   2022-9  92314  Big Bear City  Single Owners  NaN  NaN  NaN   \n\n0       13948,75974   31            1  449,9599915    8  \n0       449,9599915   31  0,032258065  449,9599915    8  \n1                 0   30            0                    \n2       4949,679932   31   0,35483871  449,9709029   41  \n3                 0   28            0                    \n4       899,9199829   31  0,064516129  449,9599915    8  \n...             ...  ...          ...          ...  ...  \n116613          NaN  NaN          NaN          NaN  NaN  \n116614          NaN  NaN          NaN          NaN  NaN  \n116615          NaN  NaN          NaN          NaN  NaN  \n116616          NaN  NaN          NaN          NaN  NaN  \n116617          NaN  NaN          NaN          NaN  NaN  \n\n[116618 rows x 13 columns]",
      "text/html": "<div>\n<style scoped>\n    .dataframe tbody tr th:only-of-type {\n        vertical-align: middle;\n    }\n\n    .dataframe tbody tr th {\n        vertical-align: top;\n    }\n\n    .dataframe thead th {\n        text-align: right;\n    }\n</style>\n<table border=\"1\" class=\"dataframe\">\n  <thead>\n    <tr style=\"text-align: right;\">\n      <th></th>\n      <th>10000347</th>\n      <th>2020-1</th>\n      <th>92315</th>\n      <th>Big Bear Lake</th>\n      <th>2-5 Units</th>\n      <th>3</th>\n      <th>2</th>\n      <th>10</th>\n      <th>13948,75974</th>\n      <th>31</th>\n      <th>1</th>\n      <th>449,9599915</th>\n      <th>8</th>\n    </tr>\n  </thead>\n  <tbody>\n    <tr>\n      <th>0</th>\n      <td>10000347</td>\n      <td>2020-10</td>\n      <td>92315</td>\n      <td>Big Bear Lake</td>\n      <td>2-5 Units</td>\n      <td>3</td>\n      <td>2</td>\n      <td>10</td>\n      <td>449,9599915</td>\n      <td>31</td>\n      <td>0,032258065</td>\n      <td>449,9599915</td>\n      <td>8</td>\n    </tr>\n    <tr>\n      <th>1</th>\n      <td>10000347</td>\n      <td>2020-11</td>\n      <td>92315</td>\n      <td>Big Bear Lake</td>\n      <td>2-5 Units</td>\n      <td>3</td>\n      <td>2</td>\n      <td>10</td>\n      <td>0</td>\n      <td>30</td>\n      <td>0</td>\n      <td></td>\n      <td></td>\n    </tr>\n    <tr>\n      <th>2</th>\n      <td>10000347</td>\n      <td>2020-12</td>\n      <td>92315</td>\n      <td>Big Bear Lake</td>\n      <td>2-5 Units</td>\n      <td>3</td>\n      <td>2</td>\n      <td>10</td>\n      <td>4949,679932</td>\n      <td>31</td>\n      <td>0,35483871</td>\n      <td>449,9709029</td>\n      <td>41</td>\n    </tr>\n    <tr>\n      <th>3</th>\n      <td>10000347</td>\n      <td>2020-2</td>\n      <td>92315</td>\n      <td>Big Bear Lake</td>\n      <td>2-5 Units</td>\n      <td>3</td>\n      <td>2</td>\n      <td>10</td>\n      <td>0</td>\n      <td>28</td>\n      <td>0</td>\n      <td></td>\n      <td></td>\n    </tr>\n    <tr>\n      <th>4</th>\n      <td>10000347</td>\n      <td>2020-3</td>\n      <td>92315</td>\n      <td>Big Bear Lake</td>\n      <td>2-5 Units</td>\n      <td>3</td>\n      <td>2</td>\n      <td>10</td>\n      <td>899,9199829</td>\n      <td>31</td>\n      <td>0,064516129</td>\n      <td>449,9599915</td>\n      <td>8</td>\n    </tr>\n    <tr>\n      <th>...</th>\n      <td>...</td>\n      <td>...</td>\n      <td>...</td>\n      <td>...</td>\n      <td>...</td>\n      <td>...</td>\n      <td>...</td>\n      <td>...</td>\n      <td>...</td>\n      <td>...</td>\n      <td>...</td>\n      <td>...</td>\n      <td>...</td>\n    </tr>\n    <tr>\n      <th>116613</th>\n      <td>9996370</td>\n      <td>2022-5</td>\n      <td>92314</td>\n      <td>Big Bear City</td>\n      <td>Single Owners</td>\n      <td>NaN</td>\n      <td>NaN</td>\n      <td>NaN</td>\n      <td>NaN</td>\n      <td>NaN</td>\n      <td>NaN</td>\n      <td>NaN</td>\n      <td>NaN</td>\n    </tr>\n    <tr>\n      <th>116614</th>\n      <td>9996370</td>\n      <td>2022-6</td>\n      <td>92314</td>\n      <td>Big Bear City</td>\n      <td>Single Owners</td>\n      <td>NaN</td>\n      <td>NaN</td>\n      <td>NaN</td>\n      <td>NaN</td>\n      <td>NaN</td>\n      <td>NaN</td>\n      <td>NaN</td>\n      <td>NaN</td>\n    </tr>\n    <tr>\n      <th>116615</th>\n      <td>9996370</td>\n      <td>2022-7</td>\n      <td>92314</td>\n      <td>Big Bear City</td>\n      <td>Single Owners</td>\n      <td>NaN</td>\n      <td>NaN</td>\n      <td>NaN</td>\n      <td>NaN</td>\n      <td>NaN</td>\n      <td>NaN</td>\n      <td>NaN</td>\n      <td>NaN</td>\n    </tr>\n    <tr>\n      <th>116616</th>\n      <td>9996370</td>\n      <td>2022-8</td>\n      <td>92314</td>\n      <td>Big Bear City</td>\n      <td>Single Owners</td>\n      <td>NaN</td>\n      <td>NaN</td>\n      <td>NaN</td>\n      <td>NaN</td>\n      <td>NaN</td>\n      <td>NaN</td>\n      <td>NaN</td>\n      <td>NaN</td>\n    </tr>\n    <tr>\n      <th>116617</th>\n      <td>9996370</td>\n      <td>2022-9</td>\n      <td>92314</td>\n      <td>Big Bear City</td>\n      <td>Single Owners</td>\n      <td>NaN</td>\n      <td>NaN</td>\n      <td>NaN</td>\n      <td>NaN</td>\n      <td>NaN</td>\n      <td>NaN</td>\n      <td>NaN</td>\n      <td>NaN</td>\n    </tr>\n  </tbody>\n</table>\n<p>116618 rows × 13 columns</p>\n</div>"
     },
     "execution_count": 48,
     "metadata": {},
     "output_type": "execute_result"
    }
   ],
   "source": [
    "df3"
   ],
   "metadata": {
    "collapsed": false,
    "pycharm": {
     "name": "#%%\n"
    }
   }
  },
  {
   "cell_type": "code",
   "execution_count": 49,
   "outputs": [
    {
     "data": {
      "text/plain": "                 1        2      3              4              5\n1      AIR10000347   2019-1  92315  Big Bear Lake      2-5 Units\n2      AIR10000347  2019-10  92315  Big Bear Lake      2-5 Units\n3      AIR10000347  2019-11  92315  Big Bear Lake      2-5 Units\n4      AIR10000347  2019-12  92315  Big Bear Lake      2-5 Units\n5      AIR10000347   2019-2  92315  Big Bear Lake      2-5 Units\n...            ...      ...    ...            ...            ...\n29924   AIR9996370   2019-5  92314  Big Bear City  Single Owners\n29925   AIR9996370   2019-6  92314  Big Bear City  Single Owners\n29926   AIR9996370   2019-7  92314  Big Bear City  Single Owners\n29927   AIR9996370   2019-8  92314  Big Bear City  Single Owners\n29928   AIR9996370   2019-9  92314  Big Bear City  Single Owners\n\n[29928 rows x 5 columns]",
      "text/html": "<div>\n<style scoped>\n    .dataframe tbody tr th:only-of-type {\n        vertical-align: middle;\n    }\n\n    .dataframe tbody tr th {\n        vertical-align: top;\n    }\n\n    .dataframe thead th {\n        text-align: right;\n    }\n</style>\n<table border=\"1\" class=\"dataframe\">\n  <thead>\n    <tr style=\"text-align: right;\">\n      <th></th>\n      <th>1</th>\n      <th>2</th>\n      <th>3</th>\n      <th>4</th>\n      <th>5</th>\n    </tr>\n  </thead>\n  <tbody>\n    <tr>\n      <th>1</th>\n      <td>AIR10000347</td>\n      <td>2019-1</td>\n      <td>92315</td>\n      <td>Big Bear Lake</td>\n      <td>2-5 Units</td>\n    </tr>\n    <tr>\n      <th>2</th>\n      <td>AIR10000347</td>\n      <td>2019-10</td>\n      <td>92315</td>\n      <td>Big Bear Lake</td>\n      <td>2-5 Units</td>\n    </tr>\n    <tr>\n      <th>3</th>\n      <td>AIR10000347</td>\n      <td>2019-11</td>\n      <td>92315</td>\n      <td>Big Bear Lake</td>\n      <td>2-5 Units</td>\n    </tr>\n    <tr>\n      <th>4</th>\n      <td>AIR10000347</td>\n      <td>2019-12</td>\n      <td>92315</td>\n      <td>Big Bear Lake</td>\n      <td>2-5 Units</td>\n    </tr>\n    <tr>\n      <th>5</th>\n      <td>AIR10000347</td>\n      <td>2019-2</td>\n      <td>92315</td>\n      <td>Big Bear Lake</td>\n      <td>2-5 Units</td>\n    </tr>\n    <tr>\n      <th>...</th>\n      <td>...</td>\n      <td>...</td>\n      <td>...</td>\n      <td>...</td>\n      <td>...</td>\n    </tr>\n    <tr>\n      <th>29924</th>\n      <td>AIR9996370</td>\n      <td>2019-5</td>\n      <td>92314</td>\n      <td>Big Bear City</td>\n      <td>Single Owners</td>\n    </tr>\n    <tr>\n      <th>29925</th>\n      <td>AIR9996370</td>\n      <td>2019-6</td>\n      <td>92314</td>\n      <td>Big Bear City</td>\n      <td>Single Owners</td>\n    </tr>\n    <tr>\n      <th>29926</th>\n      <td>AIR9996370</td>\n      <td>2019-7</td>\n      <td>92314</td>\n      <td>Big Bear City</td>\n      <td>Single Owners</td>\n    </tr>\n    <tr>\n      <th>29927</th>\n      <td>AIR9996370</td>\n      <td>2019-8</td>\n      <td>92314</td>\n      <td>Big Bear City</td>\n      <td>Single Owners</td>\n    </tr>\n    <tr>\n      <th>29928</th>\n      <td>AIR9996370</td>\n      <td>2019-9</td>\n      <td>92314</td>\n      <td>Big Bear City</td>\n      <td>Single Owners</td>\n    </tr>\n  </tbody>\n</table>\n<p>29928 rows × 5 columns</p>\n</div>"
     },
     "execution_count": 49,
     "metadata": {},
     "output_type": "execute_result"
    }
   ],
   "source": [
    "df4"
   ],
   "metadata": {
    "collapsed": false,
    "pycharm": {
     "name": "#%%\n"
    }
   }
  },
  {
   "cell_type": "code",
   "execution_count": 50,
   "outputs": [
    {
     "data": {
      "text/plain": "                                                   1        2        3     4   \\\n1   https://www.zillow.com/homedetails/316-Maple-R...   614000   670000  3750   \n2   https://www.zillow.com/homedetails/1113-Michae...   533300   649000  2999   \n3   https://www.zillow.com/homedetails/919-Robinho...   470600   539000  2300   \n4   https://www.zillow.com/homedetails/824-Raleigh...   632272   650000  2990   \n5   https://www.zillow.com/homedetails/1000-Willow...   575001   575000  2996   \n6   https://www.zillow.com/homedetails/913-Mount-D...            479900  2808   \n7   https://www.zillow.com/homedetails/281-Pine-Ln...   525000   525000  3499   \n8   https://www.zillow.com/homedetails/701-Villa-G...   599000   599000  2999   \n9   https://www.zillow.com/homedetails/352-Lookout...  1070564  1125000  4805   \n10  https://www.zillow.com/homedetails/1526-Monte-...   418057   419000  2728   \n11  https://www.zillow.com/homedetails/1281-Minton...   498800   499000  2600   \n12  https://www.zillow.com/homedetails/1635-Shenan...  1436140  1535000         \n13  https://www.zillow.com/homedetails/1130-Rocky-...   939300   965000         \n14  https://www.zillow.com/homedetails/277-Greensp...   498900   499000  2699   \n15  https://www.zillow.com/homedetails/305-Lookout...   876523   900000  4500   \n16  https://www.zillow.com/homedetails/329-E-Sherw...   490500   630000  2999   \n17  https://www.zillow.com/homedetails/369-Greensp...   464900   380000         \n18  https://www.zillow.com/homedetails/1009-Herita...   963217  1010000  4113   \n19  https://www.zillow.com/homedetails/1194-Alamed...           1100000         \n20  https://www.zillow.com/homedetails/1658-Tuolum...  1799652  1900000  1950   \n21  https://www.zillow.com/homedetails/1242-Panora...   637891   655000  3696   \n22  https://www.zillow.com/homedetails/46125-Vale-...   851800   950000  3658   \n23  https://www.zillow.com/homedetails/764-Panamin...   537945   549900  2999   \n24  https://www.zillow.com/homedetails/1048-Hemloc...   634900   649000  3127   \n25  https://www.zillow.com/homedetails/1842-Baldwi...   493900   495000  3069   \n26  https://www.zillow.com/homedetails/1185-Mitche...   936576   960000  4800   \n27  https://www.zillow.com/homedetails/666-Butte-A...   804600   824888  3073   \n28  https://www.zillow.com/homedetails/1526-Malaba...   376000   409000  2228   \n29  https://www.zillow.com/homedetails/929-Myrtle-...   684700   697000  3421   \n30  https://www.zillow.com/homedetails/2149-1st-Ln...   289000   289000  2028   \n31  https://www.zillow.com/homedetails/1416-Klamat...   677600   699900  2999   \n32  https://www.zillow.com/homedetails/46647-Arast...  1171624  1275000  4886   \n33  https://www.zillow.com/homedetails/1020-Whispe...   770873   794000  3406   \n34  https://www.zillow.com/homedetails/46895-Estac...   815376   849900  4500   \n35  https://www.zillow.com/homedetails/1125-W-Big-...   933153   949000  4320   \n36  https://www.zillow.com/homedetails/1027-Herita...  1804200  2289000  7545   \n37  https://www.zillow.com/homedetails/109-Palomin...  1166674  1250000  4187   \n38  https://www.zillow.com/homedetails/1331-La-Cre...   631276   645000  2999   \n39  https://www.zillow.com/homedetails/160-Yosemit...  1044000  1100000  4411   \n40  https://www.zillow.com/homedetails/449-E-Barke...   531951   550000  2350   \n41  https://www.zillow.com/homedetails/1037-Van-Du...            599000         \n42  https://www.zillow.com/homedetails/42539-Bear-...  1132327  1226688  5114   \n43  https://www.zillow.com/homedetails/1112-Cedar-...   711600   725000  3349   \n44  https://www.zillow.com/homedetails/1033-Herita...  1771560  1950000  7723   \n45  https://www.zillow.com/homedetails/2047-7th-Ln...   323300   349000         \n46  https://www.zillow.com/homedetails/2111-7th-Ln...   768356   799000  3196   \n47  https://www.zillow.com/homedetails/1690-Cascad...  1081411  1149000  4641   \n48  https://www.zillow.com/homedetails/46242-Curva...   711219   729000  3634   \n49  https://www.zillow.com/homedetails/1150-Valley...   624781   634000  3399   \n50  https://www.zillow.com/homedetails/350-Brewer-...   640491   659900  3858   \n51  https://www.zillow.com/homedetails/1640-Shenan...  1918200  2099999  9797   \n52  https://www.zillow.com/homedetails/236-Greensp...            549900         \n53  https://www.zillow.com/homedetails/998-Feather...   991400  1050000  4214   \n54  https://www.zillow.com/homedetails/433-Eton-Ln...   724838   749000  3298   \n55  https://www.zillow.com/homedetails/400-San-Mar...   445500   449500  2484   \n56  https://www.zillow.com/homedetails/912-Bear-Mo...   535400   624900  2778   \n57  https://www.zillow.com/homedetails/512-Bernhar...   634900   699900  3206   \n\n               5   6  7     8  9              10                         11  \\\n1   Not specified   3  3  2122     SINGLE_FAMILY         316 Maple Ridge Dr   \n2   Not specified   3  4  1975     SINGLE_FAMILY           1113 Michael Ave   \n3   Not specified   2  3  1185     SINGLE_FAMILY         919 Robinhood Blvd   \n4   Not specified   2  3  1686     SINGLE_FAMILY             824 Raleigh Dr   \n5   Not specified   2  3  1850     SINGLE_FAMILY             1000 Willow Ln   \n6   Not specified   2  3  1456     SINGLE_FAMILY         913 Mount Doble Dr   \n7   Not specified   3  3  1954     SINGLE_FAMILY                281 Pine Ln   \n8   Not specified   2  4  1443     SINGLE_FAMILY        701 Villa Grove Ave   \n9   Not specified   5  4  3752     SINGLE_FAMILY             352 Lookout Dr   \n10  Not specified   2  3  1428     SINGLE_FAMILY        1526 Monte Vista Dr   \n11  Not specified   2  3  1128     SINGLE_FAMILY             1281 Minton Dr   \n12  Not specified   4  3  2936     SINGLE_FAMILY        1635 Shenandoah Way   \n13  Not specified   2  3  2425     SINGLE_FAMILY     1130 Rocky Mountain Rd   \n14  Not specified   3  3  1344     SINGLE_FAMILY         277 Greenspot Blvd   \n15  Not specified   2  3  2758     SINGLE_FAMILY             305 Lookout Dr   \n16  Not specified   2  3  1689     SINGLE_FAMILY        329 E Sherwood Blvd   \n17  Not specified   2  3  1322     SINGLE_FAMILY         369 Greenspot Blvd   \n18  Not specified   2  4  2334     SINGLE_FAMILY          1009 Heritage Trl   \n19  Not specified   3  4  2421     SINGLE_FAMILY            1194 Alameda Ct   \n20  Not specified   6  5  4400     SINGLE_FAMILY           1658 Tuolumne Rd   \n21  Not specified   3  3  2111     SINGLE_FAMILY           1242 Panorama Dr   \n22  Not specified   3  5  3108     SINGLE_FAMILY              46125 Vale Dr   \n23  Not specified   3  4  1636     SINGLE_FAMILY   764 Panamint Mountain Dr   \n24  Not specified   3  4  1974     SINGLE_FAMILY            1048 Hemlock Ln   \n25  Not specified   3  3  1807     SINGLE_FAMILY       1842 Baldwin Lake Rd   \n26  Not specified   3  4  3415     SINGLE_FAMILY           1185 Mitchell Ln   \n27  Not specified   3  4  2012     SINGLE_FAMILY              666 Butte Ave   \n28  Not specified   1  3  1188     SINGLE_FAMILY           1526 Malabar Way   \n29  Not specified   3  4  1945     SINGLE_FAMILY             929 Myrtle Ave   \n30  Not specified   2  3   903     SINGLE_FAMILY                2149 1st Ln   \n31  Not specified   2  3  1600     SINGLE_FAMILY            1416 Klamath Rd   \n32  Not specified   4  4  4575     SINGLE_FAMILY           46647 Arastre Rd   \n33  Not specified   3  3  1973     SINGLE_FAMILY  1020 Whispering Forest Dr   \n34  Not specified   3  3  2698     SINGLE_FAMILY           46895 Estacia Rd   \n35  Not specified   4  4  2062     SINGLE_FAMILY       1125 W Big Bear Blvd   \n36  Not specified  10  6  6534     SINGLE_FAMILY          1027 Heritage Trl   \n37  Not specified   4  4  3894     SINGLE_FAMILY            109 Palomino Dr   \n38  Not specified   3  3  1829     SINGLE_FAMILY       1331 La Crescenta Dr   \n39  Not specified   3  4  3478     SINGLE_FAMILY            160 Yosemite Dr   \n40  Not specified   2  3  1214     SINGLE_FAMILY          449 E Barker Blvd   \n41  Not specified   2  3  1800     SINGLE_FAMILY   1037 Van Dusen Canyon Rd   \n42  Not specified   5  5  3626     SINGLE_FAMILY            42539 Bear Loop   \n43  Not specified   3  4  2830     SINGLE_FAMILY     1112 Cedar Mountain Rd   \n44  Not specified   5  5  4188     SINGLE_FAMILY          1033 Heritage Trl   \n45  Not specified   1  3   840     SINGLE_FAMILY                2047 7th Ln   \n46  Not specified   2  3  2304     SINGLE_FAMILY                2111 7th Ln   \n47  Not specified   4  3  2803     SINGLE_FAMILY            1690 Cascade Rd   \n48  Not specified   3  4  2768     SINGLE_FAMILY           46242 Curvate Dr   \n49  Not specified   2  3  2264     SINGLE_FAMILY        1150 Valley View Dr   \n50  Not specified   3  5  2208     SINGLE_FAMILY             350 Brewer Way   \n51  Not specified   5  6  4668     SINGLE_FAMILY        1640 Shenandoah Way   \n52  Not specified   2  3  1440     SINGLE_FAMILY         236 Greenspot Blvd   \n53  Not specified   6  8  6200     SINGLE_FAMILY    998 Feather Mountain Dr   \n54  Not specified   3  3  1716     SINGLE_FAMILY                433 Eton Ln   \n55  Not specified   2  3  1326     SINGLE_FAMILY          400 San Martin St   \n56  Not specified   2  3  1420     SINGLE_FAMILY       912 Bear Mountain Rd   \n57  Not specified   2  3  1832     SINGLE_FAMILY           512 Bernhardt Ln   \n\n               12     13  \n1   Big Bear City  92314  \n2   Big Bear City  92314  \n3   Big Bear City  92314  \n4   Big Bear City  92314  \n5   Big Bear City  92314  \n6   Big Bear City  92314  \n7   Big Bear City  92314  \n8   Big Bear City  92314  \n9   Big Bear City  92314  \n10  Big Bear City  92314  \n11  Big Bear City  92314  \n12  Big Bear City  92314  \n13  Big Bear City  92314  \n14  Big Bear City  92314  \n15  Big Bear City  92314  \n16  Big Bear City  92314  \n17  Big Bear City  92314  \n18  Big Bear City  92314  \n19  Big Bear City  92314  \n20  Big Bear City  92314  \n21  Big Bear City  92314  \n22  Big Bear City  92314  \n23  Big Bear City  92314  \n24  Big Bear City  92314  \n25  Big Bear City  92314  \n26  Big Bear City  92314  \n27  Big Bear City  92314  \n28  Big Bear City  92314  \n29  Big Bear City  92314  \n30  Big Bear City  92314  \n31  Big Bear City  92314  \n32  Big Bear City  92314  \n33  Big Bear City  92314  \n34  Big Bear City  92314  \n35  Big Bear City  92314  \n36  Big Bear City  92314  \n37  Big Bear City  92314  \n38  Big Bear City  92314  \n39  Big Bear City  92314  \n40  Big Bear City  92314  \n41  Big Bear City  92314  \n42  Big Bear City  92314  \n43  Big Bear City  92314  \n44  Big Bear City  92314  \n45  Big Bear City  92314  \n46  Big Bear City  92314  \n47  Big Bear City  92314  \n48  Big Bear City  92314  \n49  Big Bear City  92314  \n50  Big Bear City  92314  \n51  Big Bear City  92314  \n52  Big Bear City  92314  \n53  Big Bear City  92314  \n54  Big Bear City  92314  \n55  Big Bear City  92314  \n56  Big Bear City  92314  \n57  Big Bear City  92314  ",
      "text/html": "<div>\n<style scoped>\n    .dataframe tbody tr th:only-of-type {\n        vertical-align: middle;\n    }\n\n    .dataframe tbody tr th {\n        vertical-align: top;\n    }\n\n    .dataframe thead th {\n        text-align: right;\n    }\n</style>\n<table border=\"1\" class=\"dataframe\">\n  <thead>\n    <tr style=\"text-align: right;\">\n      <th></th>\n      <th>1</th>\n      <th>2</th>\n      <th>3</th>\n      <th>4</th>\n      <th>5</th>\n      <th>6</th>\n      <th>7</th>\n      <th>8</th>\n      <th>9</th>\n      <th>10</th>\n      <th>11</th>\n      <th>12</th>\n      <th>13</th>\n    </tr>\n  </thead>\n  <tbody>\n    <tr>\n      <th>1</th>\n      <td>https://www.zillow.com/homedetails/316-Maple-R...</td>\n      <td>614000</td>\n      <td>670000</td>\n      <td>3750</td>\n      <td>Not specified</td>\n      <td>3</td>\n      <td>3</td>\n      <td>2122</td>\n      <td></td>\n      <td>SINGLE_FAMILY</td>\n      <td>316 Maple Ridge Dr</td>\n      <td>Big Bear City</td>\n      <td>92314</td>\n    </tr>\n    <tr>\n      <th>2</th>\n      <td>https://www.zillow.com/homedetails/1113-Michae...</td>\n      <td>533300</td>\n      <td>649000</td>\n      <td>2999</td>\n      <td>Not specified</td>\n      <td>3</td>\n      <td>4</td>\n      <td>1975</td>\n      <td></td>\n      <td>SINGLE_FAMILY</td>\n      <td>1113 Michael Ave</td>\n      <td>Big Bear City</td>\n      <td>92314</td>\n    </tr>\n    <tr>\n      <th>3</th>\n      <td>https://www.zillow.com/homedetails/919-Robinho...</td>\n      <td>470600</td>\n      <td>539000</td>\n      <td>2300</td>\n      <td>Not specified</td>\n      <td>2</td>\n      <td>3</td>\n      <td>1185</td>\n      <td></td>\n      <td>SINGLE_FAMILY</td>\n      <td>919 Robinhood Blvd</td>\n      <td>Big Bear City</td>\n      <td>92314</td>\n    </tr>\n    <tr>\n      <th>4</th>\n      <td>https://www.zillow.com/homedetails/824-Raleigh...</td>\n      <td>632272</td>\n      <td>650000</td>\n      <td>2990</td>\n      <td>Not specified</td>\n      <td>2</td>\n      <td>3</td>\n      <td>1686</td>\n      <td></td>\n      <td>SINGLE_FAMILY</td>\n      <td>824 Raleigh Dr</td>\n      <td>Big Bear City</td>\n      <td>92314</td>\n    </tr>\n    <tr>\n      <th>5</th>\n      <td>https://www.zillow.com/homedetails/1000-Willow...</td>\n      <td>575001</td>\n      <td>575000</td>\n      <td>2996</td>\n      <td>Not specified</td>\n      <td>2</td>\n      <td>3</td>\n      <td>1850</td>\n      <td></td>\n      <td>SINGLE_FAMILY</td>\n      <td>1000 Willow Ln</td>\n      <td>Big Bear City</td>\n      <td>92314</td>\n    </tr>\n    <tr>\n      <th>6</th>\n      <td>https://www.zillow.com/homedetails/913-Mount-D...</td>\n      <td></td>\n      <td>479900</td>\n      <td>2808</td>\n      <td>Not specified</td>\n      <td>2</td>\n      <td>3</td>\n      <td>1456</td>\n      <td></td>\n      <td>SINGLE_FAMILY</td>\n      <td>913 Mount Doble Dr</td>\n      <td>Big Bear City</td>\n      <td>92314</td>\n    </tr>\n    <tr>\n      <th>7</th>\n      <td>https://www.zillow.com/homedetails/281-Pine-Ln...</td>\n      <td>525000</td>\n      <td>525000</td>\n      <td>3499</td>\n      <td>Not specified</td>\n      <td>3</td>\n      <td>3</td>\n      <td>1954</td>\n      <td></td>\n      <td>SINGLE_FAMILY</td>\n      <td>281 Pine Ln</td>\n      <td>Big Bear City</td>\n      <td>92314</td>\n    </tr>\n    <tr>\n      <th>8</th>\n      <td>https://www.zillow.com/homedetails/701-Villa-G...</td>\n      <td>599000</td>\n      <td>599000</td>\n      <td>2999</td>\n      <td>Not specified</td>\n      <td>2</td>\n      <td>4</td>\n      <td>1443</td>\n      <td></td>\n      <td>SINGLE_FAMILY</td>\n      <td>701 Villa Grove Ave</td>\n      <td>Big Bear City</td>\n      <td>92314</td>\n    </tr>\n    <tr>\n      <th>9</th>\n      <td>https://www.zillow.com/homedetails/352-Lookout...</td>\n      <td>1070564</td>\n      <td>1125000</td>\n      <td>4805</td>\n      <td>Not specified</td>\n      <td>5</td>\n      <td>4</td>\n      <td>3752</td>\n      <td></td>\n      <td>SINGLE_FAMILY</td>\n      <td>352 Lookout Dr</td>\n      <td>Big Bear City</td>\n      <td>92314</td>\n    </tr>\n    <tr>\n      <th>10</th>\n      <td>https://www.zillow.com/homedetails/1526-Monte-...</td>\n      <td>418057</td>\n      <td>419000</td>\n      <td>2728</td>\n      <td>Not specified</td>\n      <td>2</td>\n      <td>3</td>\n      <td>1428</td>\n      <td></td>\n      <td>SINGLE_FAMILY</td>\n      <td>1526 Monte Vista Dr</td>\n      <td>Big Bear City</td>\n      <td>92314</td>\n    </tr>\n    <tr>\n      <th>11</th>\n      <td>https://www.zillow.com/homedetails/1281-Minton...</td>\n      <td>498800</td>\n      <td>499000</td>\n      <td>2600</td>\n      <td>Not specified</td>\n      <td>2</td>\n      <td>3</td>\n      <td>1128</td>\n      <td></td>\n      <td>SINGLE_FAMILY</td>\n      <td>1281 Minton Dr</td>\n      <td>Big Bear City</td>\n      <td>92314</td>\n    </tr>\n    <tr>\n      <th>12</th>\n      <td>https://www.zillow.com/homedetails/1635-Shenan...</td>\n      <td>1436140</td>\n      <td>1535000</td>\n      <td></td>\n      <td>Not specified</td>\n      <td>4</td>\n      <td>3</td>\n      <td>2936</td>\n      <td></td>\n      <td>SINGLE_FAMILY</td>\n      <td>1635 Shenandoah Way</td>\n      <td>Big Bear City</td>\n      <td>92314</td>\n    </tr>\n    <tr>\n      <th>13</th>\n      <td>https://www.zillow.com/homedetails/1130-Rocky-...</td>\n      <td>939300</td>\n      <td>965000</td>\n      <td></td>\n      <td>Not specified</td>\n      <td>2</td>\n      <td>3</td>\n      <td>2425</td>\n      <td></td>\n      <td>SINGLE_FAMILY</td>\n      <td>1130 Rocky Mountain Rd</td>\n      <td>Big Bear City</td>\n      <td>92314</td>\n    </tr>\n    <tr>\n      <th>14</th>\n      <td>https://www.zillow.com/homedetails/277-Greensp...</td>\n      <td>498900</td>\n      <td>499000</td>\n      <td>2699</td>\n      <td>Not specified</td>\n      <td>3</td>\n      <td>3</td>\n      <td>1344</td>\n      <td></td>\n      <td>SINGLE_FAMILY</td>\n      <td>277 Greenspot Blvd</td>\n      <td>Big Bear City</td>\n      <td>92314</td>\n    </tr>\n    <tr>\n      <th>15</th>\n      <td>https://www.zillow.com/homedetails/305-Lookout...</td>\n      <td>876523</td>\n      <td>900000</td>\n      <td>4500</td>\n      <td>Not specified</td>\n      <td>2</td>\n      <td>3</td>\n      <td>2758</td>\n      <td></td>\n      <td>SINGLE_FAMILY</td>\n      <td>305 Lookout Dr</td>\n      <td>Big Bear City</td>\n      <td>92314</td>\n    </tr>\n    <tr>\n      <th>16</th>\n      <td>https://www.zillow.com/homedetails/329-E-Sherw...</td>\n      <td>490500</td>\n      <td>630000</td>\n      <td>2999</td>\n      <td>Not specified</td>\n      <td>2</td>\n      <td>3</td>\n      <td>1689</td>\n      <td></td>\n      <td>SINGLE_FAMILY</td>\n      <td>329 E Sherwood Blvd</td>\n      <td>Big Bear City</td>\n      <td>92314</td>\n    </tr>\n    <tr>\n      <th>17</th>\n      <td>https://www.zillow.com/homedetails/369-Greensp...</td>\n      <td>464900</td>\n      <td>380000</td>\n      <td></td>\n      <td>Not specified</td>\n      <td>2</td>\n      <td>3</td>\n      <td>1322</td>\n      <td></td>\n      <td>SINGLE_FAMILY</td>\n      <td>369 Greenspot Blvd</td>\n      <td>Big Bear City</td>\n      <td>92314</td>\n    </tr>\n    <tr>\n      <th>18</th>\n      <td>https://www.zillow.com/homedetails/1009-Herita...</td>\n      <td>963217</td>\n      <td>1010000</td>\n      <td>4113</td>\n      <td>Not specified</td>\n      <td>2</td>\n      <td>4</td>\n      <td>2334</td>\n      <td></td>\n      <td>SINGLE_FAMILY</td>\n      <td>1009 Heritage Trl</td>\n      <td>Big Bear City</td>\n      <td>92314</td>\n    </tr>\n    <tr>\n      <th>19</th>\n      <td>https://www.zillow.com/homedetails/1194-Alamed...</td>\n      <td></td>\n      <td>1100000</td>\n      <td></td>\n      <td>Not specified</td>\n      <td>3</td>\n      <td>4</td>\n      <td>2421</td>\n      <td></td>\n      <td>SINGLE_FAMILY</td>\n      <td>1194 Alameda Ct</td>\n      <td>Big Bear City</td>\n      <td>92314</td>\n    </tr>\n    <tr>\n      <th>20</th>\n      <td>https://www.zillow.com/homedetails/1658-Tuolum...</td>\n      <td>1799652</td>\n      <td>1900000</td>\n      <td>1950</td>\n      <td>Not specified</td>\n      <td>6</td>\n      <td>5</td>\n      <td>4400</td>\n      <td></td>\n      <td>SINGLE_FAMILY</td>\n      <td>1658 Tuolumne Rd</td>\n      <td>Big Bear City</td>\n      <td>92314</td>\n    </tr>\n    <tr>\n      <th>21</th>\n      <td>https://www.zillow.com/homedetails/1242-Panora...</td>\n      <td>637891</td>\n      <td>655000</td>\n      <td>3696</td>\n      <td>Not specified</td>\n      <td>3</td>\n      <td>3</td>\n      <td>2111</td>\n      <td></td>\n      <td>SINGLE_FAMILY</td>\n      <td>1242 Panorama Dr</td>\n      <td>Big Bear City</td>\n      <td>92314</td>\n    </tr>\n    <tr>\n      <th>22</th>\n      <td>https://www.zillow.com/homedetails/46125-Vale-...</td>\n      <td>851800</td>\n      <td>950000</td>\n      <td>3658</td>\n      <td>Not specified</td>\n      <td>3</td>\n      <td>5</td>\n      <td>3108</td>\n      <td></td>\n      <td>SINGLE_FAMILY</td>\n      <td>46125 Vale Dr</td>\n      <td>Big Bear City</td>\n      <td>92314</td>\n    </tr>\n    <tr>\n      <th>23</th>\n      <td>https://www.zillow.com/homedetails/764-Panamin...</td>\n      <td>537945</td>\n      <td>549900</td>\n      <td>2999</td>\n      <td>Not specified</td>\n      <td>3</td>\n      <td>4</td>\n      <td>1636</td>\n      <td></td>\n      <td>SINGLE_FAMILY</td>\n      <td>764 Panamint Mountain Dr</td>\n      <td>Big Bear City</td>\n      <td>92314</td>\n    </tr>\n    <tr>\n      <th>24</th>\n      <td>https://www.zillow.com/homedetails/1048-Hemloc...</td>\n      <td>634900</td>\n      <td>649000</td>\n      <td>3127</td>\n      <td>Not specified</td>\n      <td>3</td>\n      <td>4</td>\n      <td>1974</td>\n      <td></td>\n      <td>SINGLE_FAMILY</td>\n      <td>1048 Hemlock Ln</td>\n      <td>Big Bear City</td>\n      <td>92314</td>\n    </tr>\n    <tr>\n      <th>25</th>\n      <td>https://www.zillow.com/homedetails/1842-Baldwi...</td>\n      <td>493900</td>\n      <td>495000</td>\n      <td>3069</td>\n      <td>Not specified</td>\n      <td>3</td>\n      <td>3</td>\n      <td>1807</td>\n      <td></td>\n      <td>SINGLE_FAMILY</td>\n      <td>1842 Baldwin Lake Rd</td>\n      <td>Big Bear City</td>\n      <td>92314</td>\n    </tr>\n    <tr>\n      <th>26</th>\n      <td>https://www.zillow.com/homedetails/1185-Mitche...</td>\n      <td>936576</td>\n      <td>960000</td>\n      <td>4800</td>\n      <td>Not specified</td>\n      <td>3</td>\n      <td>4</td>\n      <td>3415</td>\n      <td></td>\n      <td>SINGLE_FAMILY</td>\n      <td>1185 Mitchell Ln</td>\n      <td>Big Bear City</td>\n      <td>92314</td>\n    </tr>\n    <tr>\n      <th>27</th>\n      <td>https://www.zillow.com/homedetails/666-Butte-A...</td>\n      <td>804600</td>\n      <td>824888</td>\n      <td>3073</td>\n      <td>Not specified</td>\n      <td>3</td>\n      <td>4</td>\n      <td>2012</td>\n      <td></td>\n      <td>SINGLE_FAMILY</td>\n      <td>666 Butte Ave</td>\n      <td>Big Bear City</td>\n      <td>92314</td>\n    </tr>\n    <tr>\n      <th>28</th>\n      <td>https://www.zillow.com/homedetails/1526-Malaba...</td>\n      <td>376000</td>\n      <td>409000</td>\n      <td>2228</td>\n      <td>Not specified</td>\n      <td>1</td>\n      <td>3</td>\n      <td>1188</td>\n      <td></td>\n      <td>SINGLE_FAMILY</td>\n      <td>1526 Malabar Way</td>\n      <td>Big Bear City</td>\n      <td>92314</td>\n    </tr>\n    <tr>\n      <th>29</th>\n      <td>https://www.zillow.com/homedetails/929-Myrtle-...</td>\n      <td>684700</td>\n      <td>697000</td>\n      <td>3421</td>\n      <td>Not specified</td>\n      <td>3</td>\n      <td>4</td>\n      <td>1945</td>\n      <td></td>\n      <td>SINGLE_FAMILY</td>\n      <td>929 Myrtle Ave</td>\n      <td>Big Bear City</td>\n      <td>92314</td>\n    </tr>\n    <tr>\n      <th>30</th>\n      <td>https://www.zillow.com/homedetails/2149-1st-Ln...</td>\n      <td>289000</td>\n      <td>289000</td>\n      <td>2028</td>\n      <td>Not specified</td>\n      <td>2</td>\n      <td>3</td>\n      <td>903</td>\n      <td></td>\n      <td>SINGLE_FAMILY</td>\n      <td>2149 1st Ln</td>\n      <td>Big Bear City</td>\n      <td>92314</td>\n    </tr>\n    <tr>\n      <th>31</th>\n      <td>https://www.zillow.com/homedetails/1416-Klamat...</td>\n      <td>677600</td>\n      <td>699900</td>\n      <td>2999</td>\n      <td>Not specified</td>\n      <td>2</td>\n      <td>3</td>\n      <td>1600</td>\n      <td></td>\n      <td>SINGLE_FAMILY</td>\n      <td>1416 Klamath Rd</td>\n      <td>Big Bear City</td>\n      <td>92314</td>\n    </tr>\n    <tr>\n      <th>32</th>\n      <td>https://www.zillow.com/homedetails/46647-Arast...</td>\n      <td>1171624</td>\n      <td>1275000</td>\n      <td>4886</td>\n      <td>Not specified</td>\n      <td>4</td>\n      <td>4</td>\n      <td>4575</td>\n      <td></td>\n      <td>SINGLE_FAMILY</td>\n      <td>46647 Arastre Rd</td>\n      <td>Big Bear City</td>\n      <td>92314</td>\n    </tr>\n    <tr>\n      <th>33</th>\n      <td>https://www.zillow.com/homedetails/1020-Whispe...</td>\n      <td>770873</td>\n      <td>794000</td>\n      <td>3406</td>\n      <td>Not specified</td>\n      <td>3</td>\n      <td>3</td>\n      <td>1973</td>\n      <td></td>\n      <td>SINGLE_FAMILY</td>\n      <td>1020 Whispering Forest Dr</td>\n      <td>Big Bear City</td>\n      <td>92314</td>\n    </tr>\n    <tr>\n      <th>34</th>\n      <td>https://www.zillow.com/homedetails/46895-Estac...</td>\n      <td>815376</td>\n      <td>849900</td>\n      <td>4500</td>\n      <td>Not specified</td>\n      <td>3</td>\n      <td>3</td>\n      <td>2698</td>\n      <td></td>\n      <td>SINGLE_FAMILY</td>\n      <td>46895 Estacia Rd</td>\n      <td>Big Bear City</td>\n      <td>92314</td>\n    </tr>\n    <tr>\n      <th>35</th>\n      <td>https://www.zillow.com/homedetails/1125-W-Big-...</td>\n      <td>933153</td>\n      <td>949000</td>\n      <td>4320</td>\n      <td>Not specified</td>\n      <td>4</td>\n      <td>4</td>\n      <td>2062</td>\n      <td></td>\n      <td>SINGLE_FAMILY</td>\n      <td>1125 W Big Bear Blvd</td>\n      <td>Big Bear City</td>\n      <td>92314</td>\n    </tr>\n    <tr>\n      <th>36</th>\n      <td>https://www.zillow.com/homedetails/1027-Herita...</td>\n      <td>1804200</td>\n      <td>2289000</td>\n      <td>7545</td>\n      <td>Not specified</td>\n      <td>10</td>\n      <td>6</td>\n      <td>6534</td>\n      <td></td>\n      <td>SINGLE_FAMILY</td>\n      <td>1027 Heritage Trl</td>\n      <td>Big Bear City</td>\n      <td>92314</td>\n    </tr>\n    <tr>\n      <th>37</th>\n      <td>https://www.zillow.com/homedetails/109-Palomin...</td>\n      <td>1166674</td>\n      <td>1250000</td>\n      <td>4187</td>\n      <td>Not specified</td>\n      <td>4</td>\n      <td>4</td>\n      <td>3894</td>\n      <td></td>\n      <td>SINGLE_FAMILY</td>\n      <td>109 Palomino Dr</td>\n      <td>Big Bear City</td>\n      <td>92314</td>\n    </tr>\n    <tr>\n      <th>38</th>\n      <td>https://www.zillow.com/homedetails/1331-La-Cre...</td>\n      <td>631276</td>\n      <td>645000</td>\n      <td>2999</td>\n      <td>Not specified</td>\n      <td>3</td>\n      <td>3</td>\n      <td>1829</td>\n      <td></td>\n      <td>SINGLE_FAMILY</td>\n      <td>1331 La Crescenta Dr</td>\n      <td>Big Bear City</td>\n      <td>92314</td>\n    </tr>\n    <tr>\n      <th>39</th>\n      <td>https://www.zillow.com/homedetails/160-Yosemit...</td>\n      <td>1044000</td>\n      <td>1100000</td>\n      <td>4411</td>\n      <td>Not specified</td>\n      <td>3</td>\n      <td>4</td>\n      <td>3478</td>\n      <td></td>\n      <td>SINGLE_FAMILY</td>\n      <td>160 Yosemite Dr</td>\n      <td>Big Bear City</td>\n      <td>92314</td>\n    </tr>\n    <tr>\n      <th>40</th>\n      <td>https://www.zillow.com/homedetails/449-E-Barke...</td>\n      <td>531951</td>\n      <td>550000</td>\n      <td>2350</td>\n      <td>Not specified</td>\n      <td>2</td>\n      <td>3</td>\n      <td>1214</td>\n      <td></td>\n      <td>SINGLE_FAMILY</td>\n      <td>449 E Barker Blvd</td>\n      <td>Big Bear City</td>\n      <td>92314</td>\n    </tr>\n    <tr>\n      <th>41</th>\n      <td>https://www.zillow.com/homedetails/1037-Van-Du...</td>\n      <td></td>\n      <td>599000</td>\n      <td></td>\n      <td>Not specified</td>\n      <td>2</td>\n      <td>3</td>\n      <td>1800</td>\n      <td></td>\n      <td>SINGLE_FAMILY</td>\n      <td>1037 Van Dusen Canyon Rd</td>\n      <td>Big Bear City</td>\n      <td>92314</td>\n    </tr>\n    <tr>\n      <th>42</th>\n      <td>https://www.zillow.com/homedetails/42539-Bear-...</td>\n      <td>1132327</td>\n      <td>1226688</td>\n      <td>5114</td>\n      <td>Not specified</td>\n      <td>5</td>\n      <td>5</td>\n      <td>3626</td>\n      <td></td>\n      <td>SINGLE_FAMILY</td>\n      <td>42539 Bear Loop</td>\n      <td>Big Bear City</td>\n      <td>92314</td>\n    </tr>\n    <tr>\n      <th>43</th>\n      <td>https://www.zillow.com/homedetails/1112-Cedar-...</td>\n      <td>711600</td>\n      <td>725000</td>\n      <td>3349</td>\n      <td>Not specified</td>\n      <td>3</td>\n      <td>4</td>\n      <td>2830</td>\n      <td></td>\n      <td>SINGLE_FAMILY</td>\n      <td>1112 Cedar Mountain Rd</td>\n      <td>Big Bear City</td>\n      <td>92314</td>\n    </tr>\n    <tr>\n      <th>44</th>\n      <td>https://www.zillow.com/homedetails/1033-Herita...</td>\n      <td>1771560</td>\n      <td>1950000</td>\n      <td>7723</td>\n      <td>Not specified</td>\n      <td>5</td>\n      <td>5</td>\n      <td>4188</td>\n      <td></td>\n      <td>SINGLE_FAMILY</td>\n      <td>1033 Heritage Trl</td>\n      <td>Big Bear City</td>\n      <td>92314</td>\n    </tr>\n    <tr>\n      <th>45</th>\n      <td>https://www.zillow.com/homedetails/2047-7th-Ln...</td>\n      <td>323300</td>\n      <td>349000</td>\n      <td></td>\n      <td>Not specified</td>\n      <td>1</td>\n      <td>3</td>\n      <td>840</td>\n      <td></td>\n      <td>SINGLE_FAMILY</td>\n      <td>2047 7th Ln</td>\n      <td>Big Bear City</td>\n      <td>92314</td>\n    </tr>\n    <tr>\n      <th>46</th>\n      <td>https://www.zillow.com/homedetails/2111-7th-Ln...</td>\n      <td>768356</td>\n      <td>799000</td>\n      <td>3196</td>\n      <td>Not specified</td>\n      <td>2</td>\n      <td>3</td>\n      <td>2304</td>\n      <td></td>\n      <td>SINGLE_FAMILY</td>\n      <td>2111 7th Ln</td>\n      <td>Big Bear City</td>\n      <td>92314</td>\n    </tr>\n    <tr>\n      <th>47</th>\n      <td>https://www.zillow.com/homedetails/1690-Cascad...</td>\n      <td>1081411</td>\n      <td>1149000</td>\n      <td>4641</td>\n      <td>Not specified</td>\n      <td>4</td>\n      <td>3</td>\n      <td>2803</td>\n      <td></td>\n      <td>SINGLE_FAMILY</td>\n      <td>1690 Cascade Rd</td>\n      <td>Big Bear City</td>\n      <td>92314</td>\n    </tr>\n    <tr>\n      <th>48</th>\n      <td>https://www.zillow.com/homedetails/46242-Curva...</td>\n      <td>711219</td>\n      <td>729000</td>\n      <td>3634</td>\n      <td>Not specified</td>\n      <td>3</td>\n      <td>4</td>\n      <td>2768</td>\n      <td></td>\n      <td>SINGLE_FAMILY</td>\n      <td>46242 Curvate Dr</td>\n      <td>Big Bear City</td>\n      <td>92314</td>\n    </tr>\n    <tr>\n      <th>49</th>\n      <td>https://www.zillow.com/homedetails/1150-Valley...</td>\n      <td>624781</td>\n      <td>634000</td>\n      <td>3399</td>\n      <td>Not specified</td>\n      <td>2</td>\n      <td>3</td>\n      <td>2264</td>\n      <td></td>\n      <td>SINGLE_FAMILY</td>\n      <td>1150 Valley View Dr</td>\n      <td>Big Bear City</td>\n      <td>92314</td>\n    </tr>\n    <tr>\n      <th>50</th>\n      <td>https://www.zillow.com/homedetails/350-Brewer-...</td>\n      <td>640491</td>\n      <td>659900</td>\n      <td>3858</td>\n      <td>Not specified</td>\n      <td>3</td>\n      <td>5</td>\n      <td>2208</td>\n      <td></td>\n      <td>SINGLE_FAMILY</td>\n      <td>350 Brewer Way</td>\n      <td>Big Bear City</td>\n      <td>92314</td>\n    </tr>\n    <tr>\n      <th>51</th>\n      <td>https://www.zillow.com/homedetails/1640-Shenan...</td>\n      <td>1918200</td>\n      <td>2099999</td>\n      <td>9797</td>\n      <td>Not specified</td>\n      <td>5</td>\n      <td>6</td>\n      <td>4668</td>\n      <td></td>\n      <td>SINGLE_FAMILY</td>\n      <td>1640 Shenandoah Way</td>\n      <td>Big Bear City</td>\n      <td>92314</td>\n    </tr>\n    <tr>\n      <th>52</th>\n      <td>https://www.zillow.com/homedetails/236-Greensp...</td>\n      <td></td>\n      <td>549900</td>\n      <td></td>\n      <td>Not specified</td>\n      <td>2</td>\n      <td>3</td>\n      <td>1440</td>\n      <td></td>\n      <td>SINGLE_FAMILY</td>\n      <td>236 Greenspot Blvd</td>\n      <td>Big Bear City</td>\n      <td>92314</td>\n    </tr>\n    <tr>\n      <th>53</th>\n      <td>https://www.zillow.com/homedetails/998-Feather...</td>\n      <td>991400</td>\n      <td>1050000</td>\n      <td>4214</td>\n      <td>Not specified</td>\n      <td>6</td>\n      <td>8</td>\n      <td>6200</td>\n      <td></td>\n      <td>SINGLE_FAMILY</td>\n      <td>998 Feather Mountain Dr</td>\n      <td>Big Bear City</td>\n      <td>92314</td>\n    </tr>\n    <tr>\n      <th>54</th>\n      <td>https://www.zillow.com/homedetails/433-Eton-Ln...</td>\n      <td>724838</td>\n      <td>749000</td>\n      <td>3298</td>\n      <td>Not specified</td>\n      <td>3</td>\n      <td>3</td>\n      <td>1716</td>\n      <td></td>\n      <td>SINGLE_FAMILY</td>\n      <td>433 Eton Ln</td>\n      <td>Big Bear City</td>\n      <td>92314</td>\n    </tr>\n    <tr>\n      <th>55</th>\n      <td>https://www.zillow.com/homedetails/400-San-Mar...</td>\n      <td>445500</td>\n      <td>449500</td>\n      <td>2484</td>\n      <td>Not specified</td>\n      <td>2</td>\n      <td>3</td>\n      <td>1326</td>\n      <td></td>\n      <td>SINGLE_FAMILY</td>\n      <td>400 San Martin St</td>\n      <td>Big Bear City</td>\n      <td>92314</td>\n    </tr>\n    <tr>\n      <th>56</th>\n      <td>https://www.zillow.com/homedetails/912-Bear-Mo...</td>\n      <td>535400</td>\n      <td>624900</td>\n      <td>2778</td>\n      <td>Not specified</td>\n      <td>2</td>\n      <td>3</td>\n      <td>1420</td>\n      <td></td>\n      <td>SINGLE_FAMILY</td>\n      <td>912 Bear Mountain Rd</td>\n      <td>Big Bear City</td>\n      <td>92314</td>\n    </tr>\n    <tr>\n      <th>57</th>\n      <td>https://www.zillow.com/homedetails/512-Bernhar...</td>\n      <td>634900</td>\n      <td>699900</td>\n      <td>3206</td>\n      <td>Not specified</td>\n      <td>2</td>\n      <td>3</td>\n      <td>1832</td>\n      <td></td>\n      <td>SINGLE_FAMILY</td>\n      <td>512 Bernhardt Ln</td>\n      <td>Big Bear City</td>\n      <td>92314</td>\n    </tr>\n  </tbody>\n</table>\n</div>"
     },
     "execution_count": 50,
     "metadata": {},
     "output_type": "execute_result"
    }
   ],
   "source": [
    "df6"
   ],
   "metadata": {
    "collapsed": false,
    "pycharm": {
     "name": "#%%\n"
    }
   }
  },
  {
   "cell_type": "code",
   "execution_count": 51,
   "outputs": [
    {
     "data": {
      "text/plain": "                                                   1       2         3     4   \\\n1   https://www.zillow.com/homedetails/8198-Uphill...          18000000  2435   \n2   https://www.zillow.com/homedetails/4757-Avenid...  223200    399990  1786   \n3   https://www.zillow.com/homedetails/61018-Presc...  568947    575000  2300   \n4   https://www.zillow.com/homedetails/61875-Anaco...  851656    899000  4798   \n5   https://www.zillow.com/homedetails/61879-Petun...            369900  1825   \n..                                                ...     ...       ...   ...   \n69  https://www.zillow.com/homedetails/64873-Choll...  331900    399995  1853   \n70  https://www.zillow.com/homedetails/62036-Bonai...  400438    413000  2400   \n71  https://www.zillow.com/homedetails/7320-Sherwo...  850155    879000  2398   \n72  https://www.zillow.com/homedetails/0-Sunfair-R...           1800000  3499   \n73  https://www.zillow.com/homedetails/7160-Olympi...            850000  4500   \n\n               5  6  7     8  9              10                           11  \\\n1   Not specified  4  3  5470     SINGLE_FAMILY               8198 Uphill Rd   \n2   Not specified  2  3  1056     SINGLE_FAMILY  4757 Avenida La Espana Daga   \n3   Not specified  2  3  1577     SINGLE_FAMILY           61018 Prescott Trl   \n4   Not specified  2  3  1434     SINGLE_FAMILY            61875 Anaconda Dr   \n5   Not specified  1  3  1040     SINGLE_FAMILY             61879 Petunia Dr   \n..            ... .. ..   ... ..            ...                          ...   \n69  Not specified  1  3  1080     SINGLE_FAMILY            64873 Chollita Rd   \n70  Not specified  2  3  1386     SINGLE_FAMILY              62036 Bonair Rd   \n71  Not specified  2  3  1700     SINGLE_FAMILY             7320 Sherwood Rd   \n72  Not specified  4  4  2200     SINGLE_FAMILY                 0 Sunfair Rd   \n73  Not specified  3  4  2600     SINGLE_FAMILY              7160 Olympic Rd   \n\n             12     13  \n1   Joshua Tree  92252  \n2   Joshua Tree  92252  \n3   Joshua Tree  92252  \n4   Joshua Tree  92252  \n5   Joshua Tree  92252  \n..          ...    ...  \n69  Joshua Tree  92252  \n70  Joshua Tree  92252  \n71  Joshua Tree  92252  \n72  Joshua Tree  92252  \n73  Joshua Tree  92252  \n\n[73 rows x 13 columns]",
      "text/html": "<div>\n<style scoped>\n    .dataframe tbody tr th:only-of-type {\n        vertical-align: middle;\n    }\n\n    .dataframe tbody tr th {\n        vertical-align: top;\n    }\n\n    .dataframe thead th {\n        text-align: right;\n    }\n</style>\n<table border=\"1\" class=\"dataframe\">\n  <thead>\n    <tr style=\"text-align: right;\">\n      <th></th>\n      <th>1</th>\n      <th>2</th>\n      <th>3</th>\n      <th>4</th>\n      <th>5</th>\n      <th>6</th>\n      <th>7</th>\n      <th>8</th>\n      <th>9</th>\n      <th>10</th>\n      <th>11</th>\n      <th>12</th>\n      <th>13</th>\n    </tr>\n  </thead>\n  <tbody>\n    <tr>\n      <th>1</th>\n      <td>https://www.zillow.com/homedetails/8198-Uphill...</td>\n      <td></td>\n      <td>18000000</td>\n      <td>2435</td>\n      <td>Not specified</td>\n      <td>4</td>\n      <td>3</td>\n      <td>5470</td>\n      <td></td>\n      <td>SINGLE_FAMILY</td>\n      <td>8198 Uphill Rd</td>\n      <td>Joshua Tree</td>\n      <td>92252</td>\n    </tr>\n    <tr>\n      <th>2</th>\n      <td>https://www.zillow.com/homedetails/4757-Avenid...</td>\n      <td>223200</td>\n      <td>399990</td>\n      <td>1786</td>\n      <td>Not specified</td>\n      <td>2</td>\n      <td>3</td>\n      <td>1056</td>\n      <td></td>\n      <td>SINGLE_FAMILY</td>\n      <td>4757 Avenida La Espana Daga</td>\n      <td>Joshua Tree</td>\n      <td>92252</td>\n    </tr>\n    <tr>\n      <th>3</th>\n      <td>https://www.zillow.com/homedetails/61018-Presc...</td>\n      <td>568947</td>\n      <td>575000</td>\n      <td>2300</td>\n      <td>Not specified</td>\n      <td>2</td>\n      <td>3</td>\n      <td>1577</td>\n      <td></td>\n      <td>SINGLE_FAMILY</td>\n      <td>61018 Prescott Trl</td>\n      <td>Joshua Tree</td>\n      <td>92252</td>\n    </tr>\n    <tr>\n      <th>4</th>\n      <td>https://www.zillow.com/homedetails/61875-Anaco...</td>\n      <td>851656</td>\n      <td>899000</td>\n      <td>4798</td>\n      <td>Not specified</td>\n      <td>2</td>\n      <td>3</td>\n      <td>1434</td>\n      <td></td>\n      <td>SINGLE_FAMILY</td>\n      <td>61875 Anaconda Dr</td>\n      <td>Joshua Tree</td>\n      <td>92252</td>\n    </tr>\n    <tr>\n      <th>5</th>\n      <td>https://www.zillow.com/homedetails/61879-Petun...</td>\n      <td></td>\n      <td>369900</td>\n      <td>1825</td>\n      <td>Not specified</td>\n      <td>1</td>\n      <td>3</td>\n      <td>1040</td>\n      <td></td>\n      <td>SINGLE_FAMILY</td>\n      <td>61879 Petunia Dr</td>\n      <td>Joshua Tree</td>\n      <td>92252</td>\n    </tr>\n    <tr>\n      <th>...</th>\n      <td>...</td>\n      <td>...</td>\n      <td>...</td>\n      <td>...</td>\n      <td>...</td>\n      <td>...</td>\n      <td>...</td>\n      <td>...</td>\n      <td>...</td>\n      <td>...</td>\n      <td>...</td>\n      <td>...</td>\n      <td>...</td>\n    </tr>\n    <tr>\n      <th>69</th>\n      <td>https://www.zillow.com/homedetails/64873-Choll...</td>\n      <td>331900</td>\n      <td>399995</td>\n      <td>1853</td>\n      <td>Not specified</td>\n      <td>1</td>\n      <td>3</td>\n      <td>1080</td>\n      <td></td>\n      <td>SINGLE_FAMILY</td>\n      <td>64873 Chollita Rd</td>\n      <td>Joshua Tree</td>\n      <td>92252</td>\n    </tr>\n    <tr>\n      <th>70</th>\n      <td>https://www.zillow.com/homedetails/62036-Bonai...</td>\n      <td>400438</td>\n      <td>413000</td>\n      <td>2400</td>\n      <td>Not specified</td>\n      <td>2</td>\n      <td>3</td>\n      <td>1386</td>\n      <td></td>\n      <td>SINGLE_FAMILY</td>\n      <td>62036 Bonair Rd</td>\n      <td>Joshua Tree</td>\n      <td>92252</td>\n    </tr>\n    <tr>\n      <th>71</th>\n      <td>https://www.zillow.com/homedetails/7320-Sherwo...</td>\n      <td>850155</td>\n      <td>879000</td>\n      <td>2398</td>\n      <td>Not specified</td>\n      <td>2</td>\n      <td>3</td>\n      <td>1700</td>\n      <td></td>\n      <td>SINGLE_FAMILY</td>\n      <td>7320 Sherwood Rd</td>\n      <td>Joshua Tree</td>\n      <td>92252</td>\n    </tr>\n    <tr>\n      <th>72</th>\n      <td>https://www.zillow.com/homedetails/0-Sunfair-R...</td>\n      <td></td>\n      <td>1800000</td>\n      <td>3499</td>\n      <td>Not specified</td>\n      <td>4</td>\n      <td>4</td>\n      <td>2200</td>\n      <td></td>\n      <td>SINGLE_FAMILY</td>\n      <td>0 Sunfair Rd</td>\n      <td>Joshua Tree</td>\n      <td>92252</td>\n    </tr>\n    <tr>\n      <th>73</th>\n      <td>https://www.zillow.com/homedetails/7160-Olympi...</td>\n      <td></td>\n      <td>850000</td>\n      <td>4500</td>\n      <td>Not specified</td>\n      <td>3</td>\n      <td>4</td>\n      <td>2600</td>\n      <td></td>\n      <td>SINGLE_FAMILY</td>\n      <td>7160 Olympic Rd</td>\n      <td>Joshua Tree</td>\n      <td>92252</td>\n    </tr>\n  </tbody>\n</table>\n<p>73 rows × 13 columns</p>\n</div>"
     },
     "execution_count": 51,
     "metadata": {},
     "output_type": "execute_result"
    }
   ],
   "source": [
    "df5"
   ],
   "metadata": {
    "collapsed": false,
    "pycharm": {
     "name": "#%%\n"
    }
   }
  },
  {
   "cell_type": "code",
   "execution_count": 52,
   "outputs": [
    {
     "data": {
      "text/plain": "                                                   1        2        3     4   \\\n1   https://www.zillow.com/homedetails/9025-Warren...   890416   949000  3058   \n2   https://www.zillow.com/homedetails/7552-Cardil...   543600   749000  2922   \n3   https://www.zillow.com/homedetails/8552-Taft-C...   467500   530000  2710   \n4   https://www.zillow.com/homedetails/5088-Elata-...   684150   699000  3034   \n5   https://www.zillow.com/homedetails/7478-Goleta...   525004   525000  2199   \n6   https://www.zillow.com/homedetails/7629-Rockaw...   764822   775000  3539   \n7   https://www.zillow.com/homedetails/7354-Rubido...   880671   900000  2400   \n8   https://www.zillow.com/homedetails/7399-Paloma...   478372   489900  2350   \n9   https://www.zillow.com/homedetails/8210-Church...   418600   479000  2907   \n10  https://www.zillow.com/homedetails/55960-Onaga...   277830   285000  1829   \n11  https://www.zillow.com/homedetails/58783-Santa...   674473   699000  3240   \n12  https://www.zillow.com/homedetails/56763-Java-...   489600   489600  2362   \n13  https://www.zillow.com/homedetails/56839-Bonan...   374800   545000  4217   \n14  https://www.zillow.com/homedetails/7731-Arrowh...  1076582  1100000  3410   \n15  https://www.zillow.com/homedetails/58345-Bonan...   478884   499950  3204   \n\n               5  6  7     8  9              10                      11  \\\n1   Not specified  4  4  3542     SINGLE_FAMILY   9025 Warren Vista Ave   \n2   Not specified  3  3  1678     SINGLE_FAMILY       7552 Cardillo Trl   \n3   Not specified  3  3  2134     SINGLE_FAMILY            8552 Taft Ct   \n4   Not specified  3  3  1929     SINGLE_FAMILY          5088 Elata Ave   \n5   Not specified  2  3  1508     SINGLE_FAMILY         7478 Goleta Ave   \n6   Not specified  2  3  2235     SINGLE_FAMILY       7629 Rockaway Ave   \n7   Not specified  2  3  1764     SINGLE_FAMILY       7354 Rubidoux Ave   \n8   Not specified  2  3  1530     SINGLE_FAMILY        7399 Palomar Ave   \n9   Not specified  2  4  1820     SINGLE_FAMILY          8210 Church St   \n10  Not specified  1  3   750     SINGLE_FAMILY         55960 Onaga Trl   \n11  Not specified  2  3  2809     SINGLE_FAMILY  58783 Santa Barbara Dr   \n12  Not specified  2  3  1534     SINGLE_FAMILY           56763 Java Dr   \n13  Not specified  5  5  2877     SINGLE_FAMILY        56839 Bonanza Dr   \n14  Not specified  2  3  2076     SINGLE_FAMILY       7731 Arrowhead Dr   \n15  Not specified  3  4  2363     SINGLE_FAMILY        58345 Bonanza Dr   \n\n              12     13  \n1   Yucca Valley  92284  \n2   Yucca Valley  92284  \n3   Yucca Valley  92284  \n4   Yucca Valley  92284  \n5   Yucca Valley  92284  \n6   Yucca Valley  92284  \n7   Yucca Valley  92284  \n8   Yucca Valley  92284  \n9   Yucca Valley  92284  \n10  Yucca Valley  92284  \n11  Yucca Valley  92284  \n12  Yucca Valley  92284  \n13  Yucca Valley  92284  \n14  Yucca Valley  92284  \n15  Yucca Valley  92284  ",
      "text/html": "<div>\n<style scoped>\n    .dataframe tbody tr th:only-of-type {\n        vertical-align: middle;\n    }\n\n    .dataframe tbody tr th {\n        vertical-align: top;\n    }\n\n    .dataframe thead th {\n        text-align: right;\n    }\n</style>\n<table border=\"1\" class=\"dataframe\">\n  <thead>\n    <tr style=\"text-align: right;\">\n      <th></th>\n      <th>1</th>\n      <th>2</th>\n      <th>3</th>\n      <th>4</th>\n      <th>5</th>\n      <th>6</th>\n      <th>7</th>\n      <th>8</th>\n      <th>9</th>\n      <th>10</th>\n      <th>11</th>\n      <th>12</th>\n      <th>13</th>\n    </tr>\n  </thead>\n  <tbody>\n    <tr>\n      <th>1</th>\n      <td>https://www.zillow.com/homedetails/9025-Warren...</td>\n      <td>890416</td>\n      <td>949000</td>\n      <td>3058</td>\n      <td>Not specified</td>\n      <td>4</td>\n      <td>4</td>\n      <td>3542</td>\n      <td></td>\n      <td>SINGLE_FAMILY</td>\n      <td>9025 Warren Vista Ave</td>\n      <td>Yucca Valley</td>\n      <td>92284</td>\n    </tr>\n    <tr>\n      <th>2</th>\n      <td>https://www.zillow.com/homedetails/7552-Cardil...</td>\n      <td>543600</td>\n      <td>749000</td>\n      <td>2922</td>\n      <td>Not specified</td>\n      <td>3</td>\n      <td>3</td>\n      <td>1678</td>\n      <td></td>\n      <td>SINGLE_FAMILY</td>\n      <td>7552 Cardillo Trl</td>\n      <td>Yucca Valley</td>\n      <td>92284</td>\n    </tr>\n    <tr>\n      <th>3</th>\n      <td>https://www.zillow.com/homedetails/8552-Taft-C...</td>\n      <td>467500</td>\n      <td>530000</td>\n      <td>2710</td>\n      <td>Not specified</td>\n      <td>3</td>\n      <td>3</td>\n      <td>2134</td>\n      <td></td>\n      <td>SINGLE_FAMILY</td>\n      <td>8552 Taft Ct</td>\n      <td>Yucca Valley</td>\n      <td>92284</td>\n    </tr>\n    <tr>\n      <th>4</th>\n      <td>https://www.zillow.com/homedetails/5088-Elata-...</td>\n      <td>684150</td>\n      <td>699000</td>\n      <td>3034</td>\n      <td>Not specified</td>\n      <td>3</td>\n      <td>3</td>\n      <td>1929</td>\n      <td></td>\n      <td>SINGLE_FAMILY</td>\n      <td>5088 Elata Ave</td>\n      <td>Yucca Valley</td>\n      <td>92284</td>\n    </tr>\n    <tr>\n      <th>5</th>\n      <td>https://www.zillow.com/homedetails/7478-Goleta...</td>\n      <td>525004</td>\n      <td>525000</td>\n      <td>2199</td>\n      <td>Not specified</td>\n      <td>2</td>\n      <td>3</td>\n      <td>1508</td>\n      <td></td>\n      <td>SINGLE_FAMILY</td>\n      <td>7478 Goleta Ave</td>\n      <td>Yucca Valley</td>\n      <td>92284</td>\n    </tr>\n    <tr>\n      <th>6</th>\n      <td>https://www.zillow.com/homedetails/7629-Rockaw...</td>\n      <td>764822</td>\n      <td>775000</td>\n      <td>3539</td>\n      <td>Not specified</td>\n      <td>2</td>\n      <td>3</td>\n      <td>2235</td>\n      <td></td>\n      <td>SINGLE_FAMILY</td>\n      <td>7629 Rockaway Ave</td>\n      <td>Yucca Valley</td>\n      <td>92284</td>\n    </tr>\n    <tr>\n      <th>7</th>\n      <td>https://www.zillow.com/homedetails/7354-Rubido...</td>\n      <td>880671</td>\n      <td>900000</td>\n      <td>2400</td>\n      <td>Not specified</td>\n      <td>2</td>\n      <td>3</td>\n      <td>1764</td>\n      <td></td>\n      <td>SINGLE_FAMILY</td>\n      <td>7354 Rubidoux Ave</td>\n      <td>Yucca Valley</td>\n      <td>92284</td>\n    </tr>\n    <tr>\n      <th>8</th>\n      <td>https://www.zillow.com/homedetails/7399-Paloma...</td>\n      <td>478372</td>\n      <td>489900</td>\n      <td>2350</td>\n      <td>Not specified</td>\n      <td>2</td>\n      <td>3</td>\n      <td>1530</td>\n      <td></td>\n      <td>SINGLE_FAMILY</td>\n      <td>7399 Palomar Ave</td>\n      <td>Yucca Valley</td>\n      <td>92284</td>\n    </tr>\n    <tr>\n      <th>9</th>\n      <td>https://www.zillow.com/homedetails/8210-Church...</td>\n      <td>418600</td>\n      <td>479000</td>\n      <td>2907</td>\n      <td>Not specified</td>\n      <td>2</td>\n      <td>4</td>\n      <td>1820</td>\n      <td></td>\n      <td>SINGLE_FAMILY</td>\n      <td>8210 Church St</td>\n      <td>Yucca Valley</td>\n      <td>92284</td>\n    </tr>\n    <tr>\n      <th>10</th>\n      <td>https://www.zillow.com/homedetails/55960-Onaga...</td>\n      <td>277830</td>\n      <td>285000</td>\n      <td>1829</td>\n      <td>Not specified</td>\n      <td>1</td>\n      <td>3</td>\n      <td>750</td>\n      <td></td>\n      <td>SINGLE_FAMILY</td>\n      <td>55960 Onaga Trl</td>\n      <td>Yucca Valley</td>\n      <td>92284</td>\n    </tr>\n    <tr>\n      <th>11</th>\n      <td>https://www.zillow.com/homedetails/58783-Santa...</td>\n      <td>674473</td>\n      <td>699000</td>\n      <td>3240</td>\n      <td>Not specified</td>\n      <td>2</td>\n      <td>3</td>\n      <td>2809</td>\n      <td></td>\n      <td>SINGLE_FAMILY</td>\n      <td>58783 Santa Barbara Dr</td>\n      <td>Yucca Valley</td>\n      <td>92284</td>\n    </tr>\n    <tr>\n      <th>12</th>\n      <td>https://www.zillow.com/homedetails/56763-Java-...</td>\n      <td>489600</td>\n      <td>489600</td>\n      <td>2362</td>\n      <td>Not specified</td>\n      <td>2</td>\n      <td>3</td>\n      <td>1534</td>\n      <td></td>\n      <td>SINGLE_FAMILY</td>\n      <td>56763 Java Dr</td>\n      <td>Yucca Valley</td>\n      <td>92284</td>\n    </tr>\n    <tr>\n      <th>13</th>\n      <td>https://www.zillow.com/homedetails/56839-Bonan...</td>\n      <td>374800</td>\n      <td>545000</td>\n      <td>4217</td>\n      <td>Not specified</td>\n      <td>5</td>\n      <td>5</td>\n      <td>2877</td>\n      <td></td>\n      <td>SINGLE_FAMILY</td>\n      <td>56839 Bonanza Dr</td>\n      <td>Yucca Valley</td>\n      <td>92284</td>\n    </tr>\n    <tr>\n      <th>14</th>\n      <td>https://www.zillow.com/homedetails/7731-Arrowh...</td>\n      <td>1076582</td>\n      <td>1100000</td>\n      <td>3410</td>\n      <td>Not specified</td>\n      <td>2</td>\n      <td>3</td>\n      <td>2076</td>\n      <td></td>\n      <td>SINGLE_FAMILY</td>\n      <td>7731 Arrowhead Dr</td>\n      <td>Yucca Valley</td>\n      <td>92284</td>\n    </tr>\n    <tr>\n      <th>15</th>\n      <td>https://www.zillow.com/homedetails/58345-Bonan...</td>\n      <td>478884</td>\n      <td>499950</td>\n      <td>3204</td>\n      <td>Not specified</td>\n      <td>3</td>\n      <td>4</td>\n      <td>2363</td>\n      <td></td>\n      <td>SINGLE_FAMILY</td>\n      <td>58345 Bonanza Dr</td>\n      <td>Yucca Valley</td>\n      <td>92284</td>\n    </tr>\n  </tbody>\n</table>\n</div>"
     },
     "execution_count": 52,
     "metadata": {},
     "output_type": "execute_result"
    }
   ],
   "source": [
    "df7"
   ],
   "metadata": {
    "collapsed": false,
    "pycharm": {
     "name": "#%%\n"
    }
   }
  },
  {
   "cell_type": "code",
   "execution_count": 53,
   "outputs": [],
   "source": [
    "# df5.drop(1,axis=1,inplace=True)\n",
    "# df6.drop(1,axis=1,inplace=True)\n",
    "# df7.drop(1,axis=1,inplace=True)"
   ],
   "metadata": {
    "collapsed": false,
    "pycharm": {
     "name": "#%%\n"
    }
   }
  },
  {
   "cell_type": "code",
   "execution_count": 54,
   "outputs": [
    {
     "data": {
      "text/plain": "                                                   1       2         3     4   \\\n1   https://www.zillow.com/homedetails/8198-Uphill...          18000000  2435   \n2   https://www.zillow.com/homedetails/4757-Avenid...  223200    399990  1786   \n3   https://www.zillow.com/homedetails/61018-Presc...  568947    575000  2300   \n4   https://www.zillow.com/homedetails/61875-Anaco...  851656    899000  4798   \n5   https://www.zillow.com/homedetails/61879-Petun...            369900  1825   \n..                                                ...     ...       ...   ...   \n69  https://www.zillow.com/homedetails/64873-Choll...  331900    399995  1853   \n70  https://www.zillow.com/homedetails/62036-Bonai...  400438    413000  2400   \n71  https://www.zillow.com/homedetails/7320-Sherwo...  850155    879000  2398   \n72  https://www.zillow.com/homedetails/0-Sunfair-R...           1800000  3499   \n73  https://www.zillow.com/homedetails/7160-Olympi...            850000  4500   \n\n               5  6  7     8  9              10                           11  \\\n1   Not specified  4  3  5470     SINGLE_FAMILY               8198 Uphill Rd   \n2   Not specified  2  3  1056     SINGLE_FAMILY  4757 Avenida La Espana Daga   \n3   Not specified  2  3  1577     SINGLE_FAMILY           61018 Prescott Trl   \n4   Not specified  2  3  1434     SINGLE_FAMILY            61875 Anaconda Dr   \n5   Not specified  1  3  1040     SINGLE_FAMILY             61879 Petunia Dr   \n..            ... .. ..   ... ..            ...                          ...   \n69  Not specified  1  3  1080     SINGLE_FAMILY            64873 Chollita Rd   \n70  Not specified  2  3  1386     SINGLE_FAMILY              62036 Bonair Rd   \n71  Not specified  2  3  1700     SINGLE_FAMILY             7320 Sherwood Rd   \n72  Not specified  4  4  2200     SINGLE_FAMILY                 0 Sunfair Rd   \n73  Not specified  3  4  2600     SINGLE_FAMILY              7160 Olympic Rd   \n\n             12     13  \n1   Joshua Tree  92252  \n2   Joshua Tree  92252  \n3   Joshua Tree  92252  \n4   Joshua Tree  92252  \n5   Joshua Tree  92252  \n..          ...    ...  \n69  Joshua Tree  92252  \n70  Joshua Tree  92252  \n71  Joshua Tree  92252  \n72  Joshua Tree  92252  \n73  Joshua Tree  92252  \n\n[73 rows x 13 columns]",
      "text/html": "<div>\n<style scoped>\n    .dataframe tbody tr th:only-of-type {\n        vertical-align: middle;\n    }\n\n    .dataframe tbody tr th {\n        vertical-align: top;\n    }\n\n    .dataframe thead th {\n        text-align: right;\n    }\n</style>\n<table border=\"1\" class=\"dataframe\">\n  <thead>\n    <tr style=\"text-align: right;\">\n      <th></th>\n      <th>1</th>\n      <th>2</th>\n      <th>3</th>\n      <th>4</th>\n      <th>5</th>\n      <th>6</th>\n      <th>7</th>\n      <th>8</th>\n      <th>9</th>\n      <th>10</th>\n      <th>11</th>\n      <th>12</th>\n      <th>13</th>\n    </tr>\n  </thead>\n  <tbody>\n    <tr>\n      <th>1</th>\n      <td>https://www.zillow.com/homedetails/8198-Uphill...</td>\n      <td></td>\n      <td>18000000</td>\n      <td>2435</td>\n      <td>Not specified</td>\n      <td>4</td>\n      <td>3</td>\n      <td>5470</td>\n      <td></td>\n      <td>SINGLE_FAMILY</td>\n      <td>8198 Uphill Rd</td>\n      <td>Joshua Tree</td>\n      <td>92252</td>\n    </tr>\n    <tr>\n      <th>2</th>\n      <td>https://www.zillow.com/homedetails/4757-Avenid...</td>\n      <td>223200</td>\n      <td>399990</td>\n      <td>1786</td>\n      <td>Not specified</td>\n      <td>2</td>\n      <td>3</td>\n      <td>1056</td>\n      <td></td>\n      <td>SINGLE_FAMILY</td>\n      <td>4757 Avenida La Espana Daga</td>\n      <td>Joshua Tree</td>\n      <td>92252</td>\n    </tr>\n    <tr>\n      <th>3</th>\n      <td>https://www.zillow.com/homedetails/61018-Presc...</td>\n      <td>568947</td>\n      <td>575000</td>\n      <td>2300</td>\n      <td>Not specified</td>\n      <td>2</td>\n      <td>3</td>\n      <td>1577</td>\n      <td></td>\n      <td>SINGLE_FAMILY</td>\n      <td>61018 Prescott Trl</td>\n      <td>Joshua Tree</td>\n      <td>92252</td>\n    </tr>\n    <tr>\n      <th>4</th>\n      <td>https://www.zillow.com/homedetails/61875-Anaco...</td>\n      <td>851656</td>\n      <td>899000</td>\n      <td>4798</td>\n      <td>Not specified</td>\n      <td>2</td>\n      <td>3</td>\n      <td>1434</td>\n      <td></td>\n      <td>SINGLE_FAMILY</td>\n      <td>61875 Anaconda Dr</td>\n      <td>Joshua Tree</td>\n      <td>92252</td>\n    </tr>\n    <tr>\n      <th>5</th>\n      <td>https://www.zillow.com/homedetails/61879-Petun...</td>\n      <td></td>\n      <td>369900</td>\n      <td>1825</td>\n      <td>Not specified</td>\n      <td>1</td>\n      <td>3</td>\n      <td>1040</td>\n      <td></td>\n      <td>SINGLE_FAMILY</td>\n      <td>61879 Petunia Dr</td>\n      <td>Joshua Tree</td>\n      <td>92252</td>\n    </tr>\n    <tr>\n      <th>...</th>\n      <td>...</td>\n      <td>...</td>\n      <td>...</td>\n      <td>...</td>\n      <td>...</td>\n      <td>...</td>\n      <td>...</td>\n      <td>...</td>\n      <td>...</td>\n      <td>...</td>\n      <td>...</td>\n      <td>...</td>\n      <td>...</td>\n    </tr>\n    <tr>\n      <th>69</th>\n      <td>https://www.zillow.com/homedetails/64873-Choll...</td>\n      <td>331900</td>\n      <td>399995</td>\n      <td>1853</td>\n      <td>Not specified</td>\n      <td>1</td>\n      <td>3</td>\n      <td>1080</td>\n      <td></td>\n      <td>SINGLE_FAMILY</td>\n      <td>64873 Chollita Rd</td>\n      <td>Joshua Tree</td>\n      <td>92252</td>\n    </tr>\n    <tr>\n      <th>70</th>\n      <td>https://www.zillow.com/homedetails/62036-Bonai...</td>\n      <td>400438</td>\n      <td>413000</td>\n      <td>2400</td>\n      <td>Not specified</td>\n      <td>2</td>\n      <td>3</td>\n      <td>1386</td>\n      <td></td>\n      <td>SINGLE_FAMILY</td>\n      <td>62036 Bonair Rd</td>\n      <td>Joshua Tree</td>\n      <td>92252</td>\n    </tr>\n    <tr>\n      <th>71</th>\n      <td>https://www.zillow.com/homedetails/7320-Sherwo...</td>\n      <td>850155</td>\n      <td>879000</td>\n      <td>2398</td>\n      <td>Not specified</td>\n      <td>2</td>\n      <td>3</td>\n      <td>1700</td>\n      <td></td>\n      <td>SINGLE_FAMILY</td>\n      <td>7320 Sherwood Rd</td>\n      <td>Joshua Tree</td>\n      <td>92252</td>\n    </tr>\n    <tr>\n      <th>72</th>\n      <td>https://www.zillow.com/homedetails/0-Sunfair-R...</td>\n      <td></td>\n      <td>1800000</td>\n      <td>3499</td>\n      <td>Not specified</td>\n      <td>4</td>\n      <td>4</td>\n      <td>2200</td>\n      <td></td>\n      <td>SINGLE_FAMILY</td>\n      <td>0 Sunfair Rd</td>\n      <td>Joshua Tree</td>\n      <td>92252</td>\n    </tr>\n    <tr>\n      <th>73</th>\n      <td>https://www.zillow.com/homedetails/7160-Olympi...</td>\n      <td></td>\n      <td>850000</td>\n      <td>4500</td>\n      <td>Not specified</td>\n      <td>3</td>\n      <td>4</td>\n      <td>2600</td>\n      <td></td>\n      <td>SINGLE_FAMILY</td>\n      <td>7160 Olympic Rd</td>\n      <td>Joshua Tree</td>\n      <td>92252</td>\n    </tr>\n  </tbody>\n</table>\n<p>73 rows × 13 columns</p>\n</div>"
     },
     "execution_count": 54,
     "metadata": {},
     "output_type": "execute_result"
    }
   ],
   "source": [
    "df5"
   ],
   "metadata": {
    "collapsed": false,
    "pycharm": {
     "name": "#%%\n"
    }
   }
  },
  {
   "cell_type": "code",
   "execution_count": 55,
   "outputs": [
    {
     "data": {
      "text/plain": "                 1        2      3              4              5\n1      AIR10000347   2019-1  92315  Big Bear Lake      2-5 Units\n2      AIR10000347  2019-10  92315  Big Bear Lake      2-5 Units\n3      AIR10000347  2019-11  92315  Big Bear Lake      2-5 Units\n4      AIR10000347  2019-12  92315  Big Bear Lake      2-5 Units\n5      AIR10000347   2019-2  92315  Big Bear Lake      2-5 Units\n...            ...      ...    ...            ...            ...\n29924   AIR9996370   2019-5  92314  Big Bear City  Single Owners\n29925   AIR9996370   2019-6  92314  Big Bear City  Single Owners\n29926   AIR9996370   2019-7  92314  Big Bear City  Single Owners\n29927   AIR9996370   2019-8  92314  Big Bear City  Single Owners\n29928   AIR9996370   2019-9  92314  Big Bear City  Single Owners\n\n[29928 rows x 5 columns]",
      "text/html": "<div>\n<style scoped>\n    .dataframe tbody tr th:only-of-type {\n        vertical-align: middle;\n    }\n\n    .dataframe tbody tr th {\n        vertical-align: top;\n    }\n\n    .dataframe thead th {\n        text-align: right;\n    }\n</style>\n<table border=\"1\" class=\"dataframe\">\n  <thead>\n    <tr style=\"text-align: right;\">\n      <th></th>\n      <th>1</th>\n      <th>2</th>\n      <th>3</th>\n      <th>4</th>\n      <th>5</th>\n    </tr>\n  </thead>\n  <tbody>\n    <tr>\n      <th>1</th>\n      <td>AIR10000347</td>\n      <td>2019-1</td>\n      <td>92315</td>\n      <td>Big Bear Lake</td>\n      <td>2-5 Units</td>\n    </tr>\n    <tr>\n      <th>2</th>\n      <td>AIR10000347</td>\n      <td>2019-10</td>\n      <td>92315</td>\n      <td>Big Bear Lake</td>\n      <td>2-5 Units</td>\n    </tr>\n    <tr>\n      <th>3</th>\n      <td>AIR10000347</td>\n      <td>2019-11</td>\n      <td>92315</td>\n      <td>Big Bear Lake</td>\n      <td>2-5 Units</td>\n    </tr>\n    <tr>\n      <th>4</th>\n      <td>AIR10000347</td>\n      <td>2019-12</td>\n      <td>92315</td>\n      <td>Big Bear Lake</td>\n      <td>2-5 Units</td>\n    </tr>\n    <tr>\n      <th>5</th>\n      <td>AIR10000347</td>\n      <td>2019-2</td>\n      <td>92315</td>\n      <td>Big Bear Lake</td>\n      <td>2-5 Units</td>\n    </tr>\n    <tr>\n      <th>...</th>\n      <td>...</td>\n      <td>...</td>\n      <td>...</td>\n      <td>...</td>\n      <td>...</td>\n    </tr>\n    <tr>\n      <th>29924</th>\n      <td>AIR9996370</td>\n      <td>2019-5</td>\n      <td>92314</td>\n      <td>Big Bear City</td>\n      <td>Single Owners</td>\n    </tr>\n    <tr>\n      <th>29925</th>\n      <td>AIR9996370</td>\n      <td>2019-6</td>\n      <td>92314</td>\n      <td>Big Bear City</td>\n      <td>Single Owners</td>\n    </tr>\n    <tr>\n      <th>29926</th>\n      <td>AIR9996370</td>\n      <td>2019-7</td>\n      <td>92314</td>\n      <td>Big Bear City</td>\n      <td>Single Owners</td>\n    </tr>\n    <tr>\n      <th>29927</th>\n      <td>AIR9996370</td>\n      <td>2019-8</td>\n      <td>92314</td>\n      <td>Big Bear City</td>\n      <td>Single Owners</td>\n    </tr>\n    <tr>\n      <th>29928</th>\n      <td>AIR9996370</td>\n      <td>2019-9</td>\n      <td>92314</td>\n      <td>Big Bear City</td>\n      <td>Single Owners</td>\n    </tr>\n  </tbody>\n</table>\n<p>29928 rows × 5 columns</p>\n</div>"
     },
     "execution_count": 55,
     "metadata": {},
     "output_type": "execute_result"
    }
   ],
   "source": [
    "df4"
   ],
   "metadata": {
    "collapsed": false,
    "pycharm": {
     "name": "#%%\n"
    }
   }
  },
  {
   "cell_type": "code",
   "execution_count": 56,
   "outputs": [
    {
     "data": {
      "text/plain": "                                                   1        2        3     4   \\\n1   https://www.zillow.com/homedetails/316-Maple-R...   614000   670000  3750   \n2   https://www.zillow.com/homedetails/1113-Michae...   533300   649000  2999   \n3   https://www.zillow.com/homedetails/919-Robinho...   470600   539000  2300   \n4   https://www.zillow.com/homedetails/824-Raleigh...   632272   650000  2990   \n5   https://www.zillow.com/homedetails/1000-Willow...   575001   575000  2996   \n6   https://www.zillow.com/homedetails/913-Mount-D...            479900  2808   \n7   https://www.zillow.com/homedetails/281-Pine-Ln...   525000   525000  3499   \n8   https://www.zillow.com/homedetails/701-Villa-G...   599000   599000  2999   \n9   https://www.zillow.com/homedetails/352-Lookout...  1070564  1125000  4805   \n10  https://www.zillow.com/homedetails/1526-Monte-...   418057   419000  2728   \n11  https://www.zillow.com/homedetails/1281-Minton...   498800   499000  2600   \n12  https://www.zillow.com/homedetails/1635-Shenan...  1436140  1535000         \n13  https://www.zillow.com/homedetails/1130-Rocky-...   939300   965000         \n14  https://www.zillow.com/homedetails/277-Greensp...   498900   499000  2699   \n15  https://www.zillow.com/homedetails/305-Lookout...   876523   900000  4500   \n16  https://www.zillow.com/homedetails/329-E-Sherw...   490500   630000  2999   \n17  https://www.zillow.com/homedetails/369-Greensp...   464900   380000         \n18  https://www.zillow.com/homedetails/1009-Herita...   963217  1010000  4113   \n19  https://www.zillow.com/homedetails/1194-Alamed...           1100000         \n20  https://www.zillow.com/homedetails/1658-Tuolum...  1799652  1900000  1950   \n21  https://www.zillow.com/homedetails/1242-Panora...   637891   655000  3696   \n22  https://www.zillow.com/homedetails/46125-Vale-...   851800   950000  3658   \n23  https://www.zillow.com/homedetails/764-Panamin...   537945   549900  2999   \n24  https://www.zillow.com/homedetails/1048-Hemloc...   634900   649000  3127   \n25  https://www.zillow.com/homedetails/1842-Baldwi...   493900   495000  3069   \n26  https://www.zillow.com/homedetails/1185-Mitche...   936576   960000  4800   \n27  https://www.zillow.com/homedetails/666-Butte-A...   804600   824888  3073   \n28  https://www.zillow.com/homedetails/1526-Malaba...   376000   409000  2228   \n29  https://www.zillow.com/homedetails/929-Myrtle-...   684700   697000  3421   \n30  https://www.zillow.com/homedetails/2149-1st-Ln...   289000   289000  2028   \n31  https://www.zillow.com/homedetails/1416-Klamat...   677600   699900  2999   \n32  https://www.zillow.com/homedetails/46647-Arast...  1171624  1275000  4886   \n33  https://www.zillow.com/homedetails/1020-Whispe...   770873   794000  3406   \n34  https://www.zillow.com/homedetails/46895-Estac...   815376   849900  4500   \n35  https://www.zillow.com/homedetails/1125-W-Big-...   933153   949000  4320   \n36  https://www.zillow.com/homedetails/1027-Herita...  1804200  2289000  7545   \n37  https://www.zillow.com/homedetails/109-Palomin...  1166674  1250000  4187   \n38  https://www.zillow.com/homedetails/1331-La-Cre...   631276   645000  2999   \n39  https://www.zillow.com/homedetails/160-Yosemit...  1044000  1100000  4411   \n40  https://www.zillow.com/homedetails/449-E-Barke...   531951   550000  2350   \n41  https://www.zillow.com/homedetails/1037-Van-Du...            599000         \n42  https://www.zillow.com/homedetails/42539-Bear-...  1132327  1226688  5114   \n43  https://www.zillow.com/homedetails/1112-Cedar-...   711600   725000  3349   \n44  https://www.zillow.com/homedetails/1033-Herita...  1771560  1950000  7723   \n45  https://www.zillow.com/homedetails/2047-7th-Ln...   323300   349000         \n46  https://www.zillow.com/homedetails/2111-7th-Ln...   768356   799000  3196   \n47  https://www.zillow.com/homedetails/1690-Cascad...  1081411  1149000  4641   \n48  https://www.zillow.com/homedetails/46242-Curva...   711219   729000  3634   \n49  https://www.zillow.com/homedetails/1150-Valley...   624781   634000  3399   \n50  https://www.zillow.com/homedetails/350-Brewer-...   640491   659900  3858   \n51  https://www.zillow.com/homedetails/1640-Shenan...  1918200  2099999  9797   \n52  https://www.zillow.com/homedetails/236-Greensp...            549900         \n53  https://www.zillow.com/homedetails/998-Feather...   991400  1050000  4214   \n54  https://www.zillow.com/homedetails/433-Eton-Ln...   724838   749000  3298   \n55  https://www.zillow.com/homedetails/400-San-Mar...   445500   449500  2484   \n56  https://www.zillow.com/homedetails/912-Bear-Mo...   535400   624900  2778   \n57  https://www.zillow.com/homedetails/512-Bernhar...   634900   699900  3206   \n\n               5   6  7     8  9              10                         11  \\\n1   Not specified   3  3  2122     SINGLE_FAMILY         316 Maple Ridge Dr   \n2   Not specified   3  4  1975     SINGLE_FAMILY           1113 Michael Ave   \n3   Not specified   2  3  1185     SINGLE_FAMILY         919 Robinhood Blvd   \n4   Not specified   2  3  1686     SINGLE_FAMILY             824 Raleigh Dr   \n5   Not specified   2  3  1850     SINGLE_FAMILY             1000 Willow Ln   \n6   Not specified   2  3  1456     SINGLE_FAMILY         913 Mount Doble Dr   \n7   Not specified   3  3  1954     SINGLE_FAMILY                281 Pine Ln   \n8   Not specified   2  4  1443     SINGLE_FAMILY        701 Villa Grove Ave   \n9   Not specified   5  4  3752     SINGLE_FAMILY             352 Lookout Dr   \n10  Not specified   2  3  1428     SINGLE_FAMILY        1526 Monte Vista Dr   \n11  Not specified   2  3  1128     SINGLE_FAMILY             1281 Minton Dr   \n12  Not specified   4  3  2936     SINGLE_FAMILY        1635 Shenandoah Way   \n13  Not specified   2  3  2425     SINGLE_FAMILY     1130 Rocky Mountain Rd   \n14  Not specified   3  3  1344     SINGLE_FAMILY         277 Greenspot Blvd   \n15  Not specified   2  3  2758     SINGLE_FAMILY             305 Lookout Dr   \n16  Not specified   2  3  1689     SINGLE_FAMILY        329 E Sherwood Blvd   \n17  Not specified   2  3  1322     SINGLE_FAMILY         369 Greenspot Blvd   \n18  Not specified   2  4  2334     SINGLE_FAMILY          1009 Heritage Trl   \n19  Not specified   3  4  2421     SINGLE_FAMILY            1194 Alameda Ct   \n20  Not specified   6  5  4400     SINGLE_FAMILY           1658 Tuolumne Rd   \n21  Not specified   3  3  2111     SINGLE_FAMILY           1242 Panorama Dr   \n22  Not specified   3  5  3108     SINGLE_FAMILY              46125 Vale Dr   \n23  Not specified   3  4  1636     SINGLE_FAMILY   764 Panamint Mountain Dr   \n24  Not specified   3  4  1974     SINGLE_FAMILY            1048 Hemlock Ln   \n25  Not specified   3  3  1807     SINGLE_FAMILY       1842 Baldwin Lake Rd   \n26  Not specified   3  4  3415     SINGLE_FAMILY           1185 Mitchell Ln   \n27  Not specified   3  4  2012     SINGLE_FAMILY              666 Butte Ave   \n28  Not specified   1  3  1188     SINGLE_FAMILY           1526 Malabar Way   \n29  Not specified   3  4  1945     SINGLE_FAMILY             929 Myrtle Ave   \n30  Not specified   2  3   903     SINGLE_FAMILY                2149 1st Ln   \n31  Not specified   2  3  1600     SINGLE_FAMILY            1416 Klamath Rd   \n32  Not specified   4  4  4575     SINGLE_FAMILY           46647 Arastre Rd   \n33  Not specified   3  3  1973     SINGLE_FAMILY  1020 Whispering Forest Dr   \n34  Not specified   3  3  2698     SINGLE_FAMILY           46895 Estacia Rd   \n35  Not specified   4  4  2062     SINGLE_FAMILY       1125 W Big Bear Blvd   \n36  Not specified  10  6  6534     SINGLE_FAMILY          1027 Heritage Trl   \n37  Not specified   4  4  3894     SINGLE_FAMILY            109 Palomino Dr   \n38  Not specified   3  3  1829     SINGLE_FAMILY       1331 La Crescenta Dr   \n39  Not specified   3  4  3478     SINGLE_FAMILY            160 Yosemite Dr   \n40  Not specified   2  3  1214     SINGLE_FAMILY          449 E Barker Blvd   \n41  Not specified   2  3  1800     SINGLE_FAMILY   1037 Van Dusen Canyon Rd   \n42  Not specified   5  5  3626     SINGLE_FAMILY            42539 Bear Loop   \n43  Not specified   3  4  2830     SINGLE_FAMILY     1112 Cedar Mountain Rd   \n44  Not specified   5  5  4188     SINGLE_FAMILY          1033 Heritage Trl   \n45  Not specified   1  3   840     SINGLE_FAMILY                2047 7th Ln   \n46  Not specified   2  3  2304     SINGLE_FAMILY                2111 7th Ln   \n47  Not specified   4  3  2803     SINGLE_FAMILY            1690 Cascade Rd   \n48  Not specified   3  4  2768     SINGLE_FAMILY           46242 Curvate Dr   \n49  Not specified   2  3  2264     SINGLE_FAMILY        1150 Valley View Dr   \n50  Not specified   3  5  2208     SINGLE_FAMILY             350 Brewer Way   \n51  Not specified   5  6  4668     SINGLE_FAMILY        1640 Shenandoah Way   \n52  Not specified   2  3  1440     SINGLE_FAMILY         236 Greenspot Blvd   \n53  Not specified   6  8  6200     SINGLE_FAMILY    998 Feather Mountain Dr   \n54  Not specified   3  3  1716     SINGLE_FAMILY                433 Eton Ln   \n55  Not specified   2  3  1326     SINGLE_FAMILY          400 San Martin St   \n56  Not specified   2  3  1420     SINGLE_FAMILY       912 Bear Mountain Rd   \n57  Not specified   2  3  1832     SINGLE_FAMILY           512 Bernhardt Ln   \n\n               12     13  \n1   Big Bear City  92314  \n2   Big Bear City  92314  \n3   Big Bear City  92314  \n4   Big Bear City  92314  \n5   Big Bear City  92314  \n6   Big Bear City  92314  \n7   Big Bear City  92314  \n8   Big Bear City  92314  \n9   Big Bear City  92314  \n10  Big Bear City  92314  \n11  Big Bear City  92314  \n12  Big Bear City  92314  \n13  Big Bear City  92314  \n14  Big Bear City  92314  \n15  Big Bear City  92314  \n16  Big Bear City  92314  \n17  Big Bear City  92314  \n18  Big Bear City  92314  \n19  Big Bear City  92314  \n20  Big Bear City  92314  \n21  Big Bear City  92314  \n22  Big Bear City  92314  \n23  Big Bear City  92314  \n24  Big Bear City  92314  \n25  Big Bear City  92314  \n26  Big Bear City  92314  \n27  Big Bear City  92314  \n28  Big Bear City  92314  \n29  Big Bear City  92314  \n30  Big Bear City  92314  \n31  Big Bear City  92314  \n32  Big Bear City  92314  \n33  Big Bear City  92314  \n34  Big Bear City  92314  \n35  Big Bear City  92314  \n36  Big Bear City  92314  \n37  Big Bear City  92314  \n38  Big Bear City  92314  \n39  Big Bear City  92314  \n40  Big Bear City  92314  \n41  Big Bear City  92314  \n42  Big Bear City  92314  \n43  Big Bear City  92314  \n44  Big Bear City  92314  \n45  Big Bear City  92314  \n46  Big Bear City  92314  \n47  Big Bear City  92314  \n48  Big Bear City  92314  \n49  Big Bear City  92314  \n50  Big Bear City  92314  \n51  Big Bear City  92314  \n52  Big Bear City  92314  \n53  Big Bear City  92314  \n54  Big Bear City  92314  \n55  Big Bear City  92314  \n56  Big Bear City  92314  \n57  Big Bear City  92314  ",
      "text/html": "<div>\n<style scoped>\n    .dataframe tbody tr th:only-of-type {\n        vertical-align: middle;\n    }\n\n    .dataframe tbody tr th {\n        vertical-align: top;\n    }\n\n    .dataframe thead th {\n        text-align: right;\n    }\n</style>\n<table border=\"1\" class=\"dataframe\">\n  <thead>\n    <tr style=\"text-align: right;\">\n      <th></th>\n      <th>1</th>\n      <th>2</th>\n      <th>3</th>\n      <th>4</th>\n      <th>5</th>\n      <th>6</th>\n      <th>7</th>\n      <th>8</th>\n      <th>9</th>\n      <th>10</th>\n      <th>11</th>\n      <th>12</th>\n      <th>13</th>\n    </tr>\n  </thead>\n  <tbody>\n    <tr>\n      <th>1</th>\n      <td>https://www.zillow.com/homedetails/316-Maple-R...</td>\n      <td>614000</td>\n      <td>670000</td>\n      <td>3750</td>\n      <td>Not specified</td>\n      <td>3</td>\n      <td>3</td>\n      <td>2122</td>\n      <td></td>\n      <td>SINGLE_FAMILY</td>\n      <td>316 Maple Ridge Dr</td>\n      <td>Big Bear City</td>\n      <td>92314</td>\n    </tr>\n    <tr>\n      <th>2</th>\n      <td>https://www.zillow.com/homedetails/1113-Michae...</td>\n      <td>533300</td>\n      <td>649000</td>\n      <td>2999</td>\n      <td>Not specified</td>\n      <td>3</td>\n      <td>4</td>\n      <td>1975</td>\n      <td></td>\n      <td>SINGLE_FAMILY</td>\n      <td>1113 Michael Ave</td>\n      <td>Big Bear City</td>\n      <td>92314</td>\n    </tr>\n    <tr>\n      <th>3</th>\n      <td>https://www.zillow.com/homedetails/919-Robinho...</td>\n      <td>470600</td>\n      <td>539000</td>\n      <td>2300</td>\n      <td>Not specified</td>\n      <td>2</td>\n      <td>3</td>\n      <td>1185</td>\n      <td></td>\n      <td>SINGLE_FAMILY</td>\n      <td>919 Robinhood Blvd</td>\n      <td>Big Bear City</td>\n      <td>92314</td>\n    </tr>\n    <tr>\n      <th>4</th>\n      <td>https://www.zillow.com/homedetails/824-Raleigh...</td>\n      <td>632272</td>\n      <td>650000</td>\n      <td>2990</td>\n      <td>Not specified</td>\n      <td>2</td>\n      <td>3</td>\n      <td>1686</td>\n      <td></td>\n      <td>SINGLE_FAMILY</td>\n      <td>824 Raleigh Dr</td>\n      <td>Big Bear City</td>\n      <td>92314</td>\n    </tr>\n    <tr>\n      <th>5</th>\n      <td>https://www.zillow.com/homedetails/1000-Willow...</td>\n      <td>575001</td>\n      <td>575000</td>\n      <td>2996</td>\n      <td>Not specified</td>\n      <td>2</td>\n      <td>3</td>\n      <td>1850</td>\n      <td></td>\n      <td>SINGLE_FAMILY</td>\n      <td>1000 Willow Ln</td>\n      <td>Big Bear City</td>\n      <td>92314</td>\n    </tr>\n    <tr>\n      <th>6</th>\n      <td>https://www.zillow.com/homedetails/913-Mount-D...</td>\n      <td></td>\n      <td>479900</td>\n      <td>2808</td>\n      <td>Not specified</td>\n      <td>2</td>\n      <td>3</td>\n      <td>1456</td>\n      <td></td>\n      <td>SINGLE_FAMILY</td>\n      <td>913 Mount Doble Dr</td>\n      <td>Big Bear City</td>\n      <td>92314</td>\n    </tr>\n    <tr>\n      <th>7</th>\n      <td>https://www.zillow.com/homedetails/281-Pine-Ln...</td>\n      <td>525000</td>\n      <td>525000</td>\n      <td>3499</td>\n      <td>Not specified</td>\n      <td>3</td>\n      <td>3</td>\n      <td>1954</td>\n      <td></td>\n      <td>SINGLE_FAMILY</td>\n      <td>281 Pine Ln</td>\n      <td>Big Bear City</td>\n      <td>92314</td>\n    </tr>\n    <tr>\n      <th>8</th>\n      <td>https://www.zillow.com/homedetails/701-Villa-G...</td>\n      <td>599000</td>\n      <td>599000</td>\n      <td>2999</td>\n      <td>Not specified</td>\n      <td>2</td>\n      <td>4</td>\n      <td>1443</td>\n      <td></td>\n      <td>SINGLE_FAMILY</td>\n      <td>701 Villa Grove Ave</td>\n      <td>Big Bear City</td>\n      <td>92314</td>\n    </tr>\n    <tr>\n      <th>9</th>\n      <td>https://www.zillow.com/homedetails/352-Lookout...</td>\n      <td>1070564</td>\n      <td>1125000</td>\n      <td>4805</td>\n      <td>Not specified</td>\n      <td>5</td>\n      <td>4</td>\n      <td>3752</td>\n      <td></td>\n      <td>SINGLE_FAMILY</td>\n      <td>352 Lookout Dr</td>\n      <td>Big Bear City</td>\n      <td>92314</td>\n    </tr>\n    <tr>\n      <th>10</th>\n      <td>https://www.zillow.com/homedetails/1526-Monte-...</td>\n      <td>418057</td>\n      <td>419000</td>\n      <td>2728</td>\n      <td>Not specified</td>\n      <td>2</td>\n      <td>3</td>\n      <td>1428</td>\n      <td></td>\n      <td>SINGLE_FAMILY</td>\n      <td>1526 Monte Vista Dr</td>\n      <td>Big Bear City</td>\n      <td>92314</td>\n    </tr>\n    <tr>\n      <th>11</th>\n      <td>https://www.zillow.com/homedetails/1281-Minton...</td>\n      <td>498800</td>\n      <td>499000</td>\n      <td>2600</td>\n      <td>Not specified</td>\n      <td>2</td>\n      <td>3</td>\n      <td>1128</td>\n      <td></td>\n      <td>SINGLE_FAMILY</td>\n      <td>1281 Minton Dr</td>\n      <td>Big Bear City</td>\n      <td>92314</td>\n    </tr>\n    <tr>\n      <th>12</th>\n      <td>https://www.zillow.com/homedetails/1635-Shenan...</td>\n      <td>1436140</td>\n      <td>1535000</td>\n      <td></td>\n      <td>Not specified</td>\n      <td>4</td>\n      <td>3</td>\n      <td>2936</td>\n      <td></td>\n      <td>SINGLE_FAMILY</td>\n      <td>1635 Shenandoah Way</td>\n      <td>Big Bear City</td>\n      <td>92314</td>\n    </tr>\n    <tr>\n      <th>13</th>\n      <td>https://www.zillow.com/homedetails/1130-Rocky-...</td>\n      <td>939300</td>\n      <td>965000</td>\n      <td></td>\n      <td>Not specified</td>\n      <td>2</td>\n      <td>3</td>\n      <td>2425</td>\n      <td></td>\n      <td>SINGLE_FAMILY</td>\n      <td>1130 Rocky Mountain Rd</td>\n      <td>Big Bear City</td>\n      <td>92314</td>\n    </tr>\n    <tr>\n      <th>14</th>\n      <td>https://www.zillow.com/homedetails/277-Greensp...</td>\n      <td>498900</td>\n      <td>499000</td>\n      <td>2699</td>\n      <td>Not specified</td>\n      <td>3</td>\n      <td>3</td>\n      <td>1344</td>\n      <td></td>\n      <td>SINGLE_FAMILY</td>\n      <td>277 Greenspot Blvd</td>\n      <td>Big Bear City</td>\n      <td>92314</td>\n    </tr>\n    <tr>\n      <th>15</th>\n      <td>https://www.zillow.com/homedetails/305-Lookout...</td>\n      <td>876523</td>\n      <td>900000</td>\n      <td>4500</td>\n      <td>Not specified</td>\n      <td>2</td>\n      <td>3</td>\n      <td>2758</td>\n      <td></td>\n      <td>SINGLE_FAMILY</td>\n      <td>305 Lookout Dr</td>\n      <td>Big Bear City</td>\n      <td>92314</td>\n    </tr>\n    <tr>\n      <th>16</th>\n      <td>https://www.zillow.com/homedetails/329-E-Sherw...</td>\n      <td>490500</td>\n      <td>630000</td>\n      <td>2999</td>\n      <td>Not specified</td>\n      <td>2</td>\n      <td>3</td>\n      <td>1689</td>\n      <td></td>\n      <td>SINGLE_FAMILY</td>\n      <td>329 E Sherwood Blvd</td>\n      <td>Big Bear City</td>\n      <td>92314</td>\n    </tr>\n    <tr>\n      <th>17</th>\n      <td>https://www.zillow.com/homedetails/369-Greensp...</td>\n      <td>464900</td>\n      <td>380000</td>\n      <td></td>\n      <td>Not specified</td>\n      <td>2</td>\n      <td>3</td>\n      <td>1322</td>\n      <td></td>\n      <td>SINGLE_FAMILY</td>\n      <td>369 Greenspot Blvd</td>\n      <td>Big Bear City</td>\n      <td>92314</td>\n    </tr>\n    <tr>\n      <th>18</th>\n      <td>https://www.zillow.com/homedetails/1009-Herita...</td>\n      <td>963217</td>\n      <td>1010000</td>\n      <td>4113</td>\n      <td>Not specified</td>\n      <td>2</td>\n      <td>4</td>\n      <td>2334</td>\n      <td></td>\n      <td>SINGLE_FAMILY</td>\n      <td>1009 Heritage Trl</td>\n      <td>Big Bear City</td>\n      <td>92314</td>\n    </tr>\n    <tr>\n      <th>19</th>\n      <td>https://www.zillow.com/homedetails/1194-Alamed...</td>\n      <td></td>\n      <td>1100000</td>\n      <td></td>\n      <td>Not specified</td>\n      <td>3</td>\n      <td>4</td>\n      <td>2421</td>\n      <td></td>\n      <td>SINGLE_FAMILY</td>\n      <td>1194 Alameda Ct</td>\n      <td>Big Bear City</td>\n      <td>92314</td>\n    </tr>\n    <tr>\n      <th>20</th>\n      <td>https://www.zillow.com/homedetails/1658-Tuolum...</td>\n      <td>1799652</td>\n      <td>1900000</td>\n      <td>1950</td>\n      <td>Not specified</td>\n      <td>6</td>\n      <td>5</td>\n      <td>4400</td>\n      <td></td>\n      <td>SINGLE_FAMILY</td>\n      <td>1658 Tuolumne Rd</td>\n      <td>Big Bear City</td>\n      <td>92314</td>\n    </tr>\n    <tr>\n      <th>21</th>\n      <td>https://www.zillow.com/homedetails/1242-Panora...</td>\n      <td>637891</td>\n      <td>655000</td>\n      <td>3696</td>\n      <td>Not specified</td>\n      <td>3</td>\n      <td>3</td>\n      <td>2111</td>\n      <td></td>\n      <td>SINGLE_FAMILY</td>\n      <td>1242 Panorama Dr</td>\n      <td>Big Bear City</td>\n      <td>92314</td>\n    </tr>\n    <tr>\n      <th>22</th>\n      <td>https://www.zillow.com/homedetails/46125-Vale-...</td>\n      <td>851800</td>\n      <td>950000</td>\n      <td>3658</td>\n      <td>Not specified</td>\n      <td>3</td>\n      <td>5</td>\n      <td>3108</td>\n      <td></td>\n      <td>SINGLE_FAMILY</td>\n      <td>46125 Vale Dr</td>\n      <td>Big Bear City</td>\n      <td>92314</td>\n    </tr>\n    <tr>\n      <th>23</th>\n      <td>https://www.zillow.com/homedetails/764-Panamin...</td>\n      <td>537945</td>\n      <td>549900</td>\n      <td>2999</td>\n      <td>Not specified</td>\n      <td>3</td>\n      <td>4</td>\n      <td>1636</td>\n      <td></td>\n      <td>SINGLE_FAMILY</td>\n      <td>764 Panamint Mountain Dr</td>\n      <td>Big Bear City</td>\n      <td>92314</td>\n    </tr>\n    <tr>\n      <th>24</th>\n      <td>https://www.zillow.com/homedetails/1048-Hemloc...</td>\n      <td>634900</td>\n      <td>649000</td>\n      <td>3127</td>\n      <td>Not specified</td>\n      <td>3</td>\n      <td>4</td>\n      <td>1974</td>\n      <td></td>\n      <td>SINGLE_FAMILY</td>\n      <td>1048 Hemlock Ln</td>\n      <td>Big Bear City</td>\n      <td>92314</td>\n    </tr>\n    <tr>\n      <th>25</th>\n      <td>https://www.zillow.com/homedetails/1842-Baldwi...</td>\n      <td>493900</td>\n      <td>495000</td>\n      <td>3069</td>\n      <td>Not specified</td>\n      <td>3</td>\n      <td>3</td>\n      <td>1807</td>\n      <td></td>\n      <td>SINGLE_FAMILY</td>\n      <td>1842 Baldwin Lake Rd</td>\n      <td>Big Bear City</td>\n      <td>92314</td>\n    </tr>\n    <tr>\n      <th>26</th>\n      <td>https://www.zillow.com/homedetails/1185-Mitche...</td>\n      <td>936576</td>\n      <td>960000</td>\n      <td>4800</td>\n      <td>Not specified</td>\n      <td>3</td>\n      <td>4</td>\n      <td>3415</td>\n      <td></td>\n      <td>SINGLE_FAMILY</td>\n      <td>1185 Mitchell Ln</td>\n      <td>Big Bear City</td>\n      <td>92314</td>\n    </tr>\n    <tr>\n      <th>27</th>\n      <td>https://www.zillow.com/homedetails/666-Butte-A...</td>\n      <td>804600</td>\n      <td>824888</td>\n      <td>3073</td>\n      <td>Not specified</td>\n      <td>3</td>\n      <td>4</td>\n      <td>2012</td>\n      <td></td>\n      <td>SINGLE_FAMILY</td>\n      <td>666 Butte Ave</td>\n      <td>Big Bear City</td>\n      <td>92314</td>\n    </tr>\n    <tr>\n      <th>28</th>\n      <td>https://www.zillow.com/homedetails/1526-Malaba...</td>\n      <td>376000</td>\n      <td>409000</td>\n      <td>2228</td>\n      <td>Not specified</td>\n      <td>1</td>\n      <td>3</td>\n      <td>1188</td>\n      <td></td>\n      <td>SINGLE_FAMILY</td>\n      <td>1526 Malabar Way</td>\n      <td>Big Bear City</td>\n      <td>92314</td>\n    </tr>\n    <tr>\n      <th>29</th>\n      <td>https://www.zillow.com/homedetails/929-Myrtle-...</td>\n      <td>684700</td>\n      <td>697000</td>\n      <td>3421</td>\n      <td>Not specified</td>\n      <td>3</td>\n      <td>4</td>\n      <td>1945</td>\n      <td></td>\n      <td>SINGLE_FAMILY</td>\n      <td>929 Myrtle Ave</td>\n      <td>Big Bear City</td>\n      <td>92314</td>\n    </tr>\n    <tr>\n      <th>30</th>\n      <td>https://www.zillow.com/homedetails/2149-1st-Ln...</td>\n      <td>289000</td>\n      <td>289000</td>\n      <td>2028</td>\n      <td>Not specified</td>\n      <td>2</td>\n      <td>3</td>\n      <td>903</td>\n      <td></td>\n      <td>SINGLE_FAMILY</td>\n      <td>2149 1st Ln</td>\n      <td>Big Bear City</td>\n      <td>92314</td>\n    </tr>\n    <tr>\n      <th>31</th>\n      <td>https://www.zillow.com/homedetails/1416-Klamat...</td>\n      <td>677600</td>\n      <td>699900</td>\n      <td>2999</td>\n      <td>Not specified</td>\n      <td>2</td>\n      <td>3</td>\n      <td>1600</td>\n      <td></td>\n      <td>SINGLE_FAMILY</td>\n      <td>1416 Klamath Rd</td>\n      <td>Big Bear City</td>\n      <td>92314</td>\n    </tr>\n    <tr>\n      <th>32</th>\n      <td>https://www.zillow.com/homedetails/46647-Arast...</td>\n      <td>1171624</td>\n      <td>1275000</td>\n      <td>4886</td>\n      <td>Not specified</td>\n      <td>4</td>\n      <td>4</td>\n      <td>4575</td>\n      <td></td>\n      <td>SINGLE_FAMILY</td>\n      <td>46647 Arastre Rd</td>\n      <td>Big Bear City</td>\n      <td>92314</td>\n    </tr>\n    <tr>\n      <th>33</th>\n      <td>https://www.zillow.com/homedetails/1020-Whispe...</td>\n      <td>770873</td>\n      <td>794000</td>\n      <td>3406</td>\n      <td>Not specified</td>\n      <td>3</td>\n      <td>3</td>\n      <td>1973</td>\n      <td></td>\n      <td>SINGLE_FAMILY</td>\n      <td>1020 Whispering Forest Dr</td>\n      <td>Big Bear City</td>\n      <td>92314</td>\n    </tr>\n    <tr>\n      <th>34</th>\n      <td>https://www.zillow.com/homedetails/46895-Estac...</td>\n      <td>815376</td>\n      <td>849900</td>\n      <td>4500</td>\n      <td>Not specified</td>\n      <td>3</td>\n      <td>3</td>\n      <td>2698</td>\n      <td></td>\n      <td>SINGLE_FAMILY</td>\n      <td>46895 Estacia Rd</td>\n      <td>Big Bear City</td>\n      <td>92314</td>\n    </tr>\n    <tr>\n      <th>35</th>\n      <td>https://www.zillow.com/homedetails/1125-W-Big-...</td>\n      <td>933153</td>\n      <td>949000</td>\n      <td>4320</td>\n      <td>Not specified</td>\n      <td>4</td>\n      <td>4</td>\n      <td>2062</td>\n      <td></td>\n      <td>SINGLE_FAMILY</td>\n      <td>1125 W Big Bear Blvd</td>\n      <td>Big Bear City</td>\n      <td>92314</td>\n    </tr>\n    <tr>\n      <th>36</th>\n      <td>https://www.zillow.com/homedetails/1027-Herita...</td>\n      <td>1804200</td>\n      <td>2289000</td>\n      <td>7545</td>\n      <td>Not specified</td>\n      <td>10</td>\n      <td>6</td>\n      <td>6534</td>\n      <td></td>\n      <td>SINGLE_FAMILY</td>\n      <td>1027 Heritage Trl</td>\n      <td>Big Bear City</td>\n      <td>92314</td>\n    </tr>\n    <tr>\n      <th>37</th>\n      <td>https://www.zillow.com/homedetails/109-Palomin...</td>\n      <td>1166674</td>\n      <td>1250000</td>\n      <td>4187</td>\n      <td>Not specified</td>\n      <td>4</td>\n      <td>4</td>\n      <td>3894</td>\n      <td></td>\n      <td>SINGLE_FAMILY</td>\n      <td>109 Palomino Dr</td>\n      <td>Big Bear City</td>\n      <td>92314</td>\n    </tr>\n    <tr>\n      <th>38</th>\n      <td>https://www.zillow.com/homedetails/1331-La-Cre...</td>\n      <td>631276</td>\n      <td>645000</td>\n      <td>2999</td>\n      <td>Not specified</td>\n      <td>3</td>\n      <td>3</td>\n      <td>1829</td>\n      <td></td>\n      <td>SINGLE_FAMILY</td>\n      <td>1331 La Crescenta Dr</td>\n      <td>Big Bear City</td>\n      <td>92314</td>\n    </tr>\n    <tr>\n      <th>39</th>\n      <td>https://www.zillow.com/homedetails/160-Yosemit...</td>\n      <td>1044000</td>\n      <td>1100000</td>\n      <td>4411</td>\n      <td>Not specified</td>\n      <td>3</td>\n      <td>4</td>\n      <td>3478</td>\n      <td></td>\n      <td>SINGLE_FAMILY</td>\n      <td>160 Yosemite Dr</td>\n      <td>Big Bear City</td>\n      <td>92314</td>\n    </tr>\n    <tr>\n      <th>40</th>\n      <td>https://www.zillow.com/homedetails/449-E-Barke...</td>\n      <td>531951</td>\n      <td>550000</td>\n      <td>2350</td>\n      <td>Not specified</td>\n      <td>2</td>\n      <td>3</td>\n      <td>1214</td>\n      <td></td>\n      <td>SINGLE_FAMILY</td>\n      <td>449 E Barker Blvd</td>\n      <td>Big Bear City</td>\n      <td>92314</td>\n    </tr>\n    <tr>\n      <th>41</th>\n      <td>https://www.zillow.com/homedetails/1037-Van-Du...</td>\n      <td></td>\n      <td>599000</td>\n      <td></td>\n      <td>Not specified</td>\n      <td>2</td>\n      <td>3</td>\n      <td>1800</td>\n      <td></td>\n      <td>SINGLE_FAMILY</td>\n      <td>1037 Van Dusen Canyon Rd</td>\n      <td>Big Bear City</td>\n      <td>92314</td>\n    </tr>\n    <tr>\n      <th>42</th>\n      <td>https://www.zillow.com/homedetails/42539-Bear-...</td>\n      <td>1132327</td>\n      <td>1226688</td>\n      <td>5114</td>\n      <td>Not specified</td>\n      <td>5</td>\n      <td>5</td>\n      <td>3626</td>\n      <td></td>\n      <td>SINGLE_FAMILY</td>\n      <td>42539 Bear Loop</td>\n      <td>Big Bear City</td>\n      <td>92314</td>\n    </tr>\n    <tr>\n      <th>43</th>\n      <td>https://www.zillow.com/homedetails/1112-Cedar-...</td>\n      <td>711600</td>\n      <td>725000</td>\n      <td>3349</td>\n      <td>Not specified</td>\n      <td>3</td>\n      <td>4</td>\n      <td>2830</td>\n      <td></td>\n      <td>SINGLE_FAMILY</td>\n      <td>1112 Cedar Mountain Rd</td>\n      <td>Big Bear City</td>\n      <td>92314</td>\n    </tr>\n    <tr>\n      <th>44</th>\n      <td>https://www.zillow.com/homedetails/1033-Herita...</td>\n      <td>1771560</td>\n      <td>1950000</td>\n      <td>7723</td>\n      <td>Not specified</td>\n      <td>5</td>\n      <td>5</td>\n      <td>4188</td>\n      <td></td>\n      <td>SINGLE_FAMILY</td>\n      <td>1033 Heritage Trl</td>\n      <td>Big Bear City</td>\n      <td>92314</td>\n    </tr>\n    <tr>\n      <th>45</th>\n      <td>https://www.zillow.com/homedetails/2047-7th-Ln...</td>\n      <td>323300</td>\n      <td>349000</td>\n      <td></td>\n      <td>Not specified</td>\n      <td>1</td>\n      <td>3</td>\n      <td>840</td>\n      <td></td>\n      <td>SINGLE_FAMILY</td>\n      <td>2047 7th Ln</td>\n      <td>Big Bear City</td>\n      <td>92314</td>\n    </tr>\n    <tr>\n      <th>46</th>\n      <td>https://www.zillow.com/homedetails/2111-7th-Ln...</td>\n      <td>768356</td>\n      <td>799000</td>\n      <td>3196</td>\n      <td>Not specified</td>\n      <td>2</td>\n      <td>3</td>\n      <td>2304</td>\n      <td></td>\n      <td>SINGLE_FAMILY</td>\n      <td>2111 7th Ln</td>\n      <td>Big Bear City</td>\n      <td>92314</td>\n    </tr>\n    <tr>\n      <th>47</th>\n      <td>https://www.zillow.com/homedetails/1690-Cascad...</td>\n      <td>1081411</td>\n      <td>1149000</td>\n      <td>4641</td>\n      <td>Not specified</td>\n      <td>4</td>\n      <td>3</td>\n      <td>2803</td>\n      <td></td>\n      <td>SINGLE_FAMILY</td>\n      <td>1690 Cascade Rd</td>\n      <td>Big Bear City</td>\n      <td>92314</td>\n    </tr>\n    <tr>\n      <th>48</th>\n      <td>https://www.zillow.com/homedetails/46242-Curva...</td>\n      <td>711219</td>\n      <td>729000</td>\n      <td>3634</td>\n      <td>Not specified</td>\n      <td>3</td>\n      <td>4</td>\n      <td>2768</td>\n      <td></td>\n      <td>SINGLE_FAMILY</td>\n      <td>46242 Curvate Dr</td>\n      <td>Big Bear City</td>\n      <td>92314</td>\n    </tr>\n    <tr>\n      <th>49</th>\n      <td>https://www.zillow.com/homedetails/1150-Valley...</td>\n      <td>624781</td>\n      <td>634000</td>\n      <td>3399</td>\n      <td>Not specified</td>\n      <td>2</td>\n      <td>3</td>\n      <td>2264</td>\n      <td></td>\n      <td>SINGLE_FAMILY</td>\n      <td>1150 Valley View Dr</td>\n      <td>Big Bear City</td>\n      <td>92314</td>\n    </tr>\n    <tr>\n      <th>50</th>\n      <td>https://www.zillow.com/homedetails/350-Brewer-...</td>\n      <td>640491</td>\n      <td>659900</td>\n      <td>3858</td>\n      <td>Not specified</td>\n      <td>3</td>\n      <td>5</td>\n      <td>2208</td>\n      <td></td>\n      <td>SINGLE_FAMILY</td>\n      <td>350 Brewer Way</td>\n      <td>Big Bear City</td>\n      <td>92314</td>\n    </tr>\n    <tr>\n      <th>51</th>\n      <td>https://www.zillow.com/homedetails/1640-Shenan...</td>\n      <td>1918200</td>\n      <td>2099999</td>\n      <td>9797</td>\n      <td>Not specified</td>\n      <td>5</td>\n      <td>6</td>\n      <td>4668</td>\n      <td></td>\n      <td>SINGLE_FAMILY</td>\n      <td>1640 Shenandoah Way</td>\n      <td>Big Bear City</td>\n      <td>92314</td>\n    </tr>\n    <tr>\n      <th>52</th>\n      <td>https://www.zillow.com/homedetails/236-Greensp...</td>\n      <td></td>\n      <td>549900</td>\n      <td></td>\n      <td>Not specified</td>\n      <td>2</td>\n      <td>3</td>\n      <td>1440</td>\n      <td></td>\n      <td>SINGLE_FAMILY</td>\n      <td>236 Greenspot Blvd</td>\n      <td>Big Bear City</td>\n      <td>92314</td>\n    </tr>\n    <tr>\n      <th>53</th>\n      <td>https://www.zillow.com/homedetails/998-Feather...</td>\n      <td>991400</td>\n      <td>1050000</td>\n      <td>4214</td>\n      <td>Not specified</td>\n      <td>6</td>\n      <td>8</td>\n      <td>6200</td>\n      <td></td>\n      <td>SINGLE_FAMILY</td>\n      <td>998 Feather Mountain Dr</td>\n      <td>Big Bear City</td>\n      <td>92314</td>\n    </tr>\n    <tr>\n      <th>54</th>\n      <td>https://www.zillow.com/homedetails/433-Eton-Ln...</td>\n      <td>724838</td>\n      <td>749000</td>\n      <td>3298</td>\n      <td>Not specified</td>\n      <td>3</td>\n      <td>3</td>\n      <td>1716</td>\n      <td></td>\n      <td>SINGLE_FAMILY</td>\n      <td>433 Eton Ln</td>\n      <td>Big Bear City</td>\n      <td>92314</td>\n    </tr>\n    <tr>\n      <th>55</th>\n      <td>https://www.zillow.com/homedetails/400-San-Mar...</td>\n      <td>445500</td>\n      <td>449500</td>\n      <td>2484</td>\n      <td>Not specified</td>\n      <td>2</td>\n      <td>3</td>\n      <td>1326</td>\n      <td></td>\n      <td>SINGLE_FAMILY</td>\n      <td>400 San Martin St</td>\n      <td>Big Bear City</td>\n      <td>92314</td>\n    </tr>\n    <tr>\n      <th>56</th>\n      <td>https://www.zillow.com/homedetails/912-Bear-Mo...</td>\n      <td>535400</td>\n      <td>624900</td>\n      <td>2778</td>\n      <td>Not specified</td>\n      <td>2</td>\n      <td>3</td>\n      <td>1420</td>\n      <td></td>\n      <td>SINGLE_FAMILY</td>\n      <td>912 Bear Mountain Rd</td>\n      <td>Big Bear City</td>\n      <td>92314</td>\n    </tr>\n    <tr>\n      <th>57</th>\n      <td>https://www.zillow.com/homedetails/512-Bernhar...</td>\n      <td>634900</td>\n      <td>699900</td>\n      <td>3206</td>\n      <td>Not specified</td>\n      <td>2</td>\n      <td>3</td>\n      <td>1832</td>\n      <td></td>\n      <td>SINGLE_FAMILY</td>\n      <td>512 Bernhardt Ln</td>\n      <td>Big Bear City</td>\n      <td>92314</td>\n    </tr>\n  </tbody>\n</table>\n</div>"
     },
     "execution_count": 56,
     "metadata": {},
     "output_type": "execute_result"
    }
   ],
   "source": [
    "df6"
   ],
   "metadata": {
    "collapsed": false,
    "pycharm": {
     "name": "#%%\n"
    }
   }
  },
  {
   "cell_type": "code",
   "execution_count": 57,
   "outputs": [
    {
     "data": {
      "text/plain": "0       10000347   2020-1  92315  Big Bear Lake      2-5 Units    3    2   10  \\\n0       10000347  2020-10  92315  Big Bear Lake      2-5 Units    3    2   10   \n1       10000347  2020-11  92315  Big Bear Lake      2-5 Units    3    2   10   \n2       10000347  2020-12  92315  Big Bear Lake      2-5 Units    3    2   10   \n3       10000347   2020-2  92315  Big Bear Lake      2-5 Units    3    2   10   \n4       10000347   2020-3  92315  Big Bear Lake      2-5 Units    3    2   10   \n...          ...      ...    ...            ...            ...  ...  ...  ...   \n116613   9996370   2022-5  92314  Big Bear City  Single Owners  NaN  NaN  NaN   \n116614   9996370   2022-6  92314  Big Bear City  Single Owners  NaN  NaN  NaN   \n116615   9996370   2022-7  92314  Big Bear City  Single Owners  NaN  NaN  NaN   \n116616   9996370   2022-8  92314  Big Bear City  Single Owners  NaN  NaN  NaN   \n116617   9996370   2022-9  92314  Big Bear City  Single Owners  NaN  NaN  NaN   \n\n0       13948,75974   31            1  449,9599915    8  \n0       449,9599915   31  0,032258065  449,9599915    8  \n1                 0   30            0                    \n2       4949,679932   31   0,35483871  449,9709029   41  \n3                 0   28            0                    \n4       899,9199829   31  0,064516129  449,9599915    8  \n...             ...  ...          ...          ...  ...  \n116613          NaN  NaN          NaN          NaN  NaN  \n116614          NaN  NaN          NaN          NaN  NaN  \n116615          NaN  NaN          NaN          NaN  NaN  \n116616          NaN  NaN          NaN          NaN  NaN  \n116617          NaN  NaN          NaN          NaN  NaN  \n\n[116618 rows x 13 columns]",
      "text/html": "<div>\n<style scoped>\n    .dataframe tbody tr th:only-of-type {\n        vertical-align: middle;\n    }\n\n    .dataframe tbody tr th {\n        vertical-align: top;\n    }\n\n    .dataframe thead th {\n        text-align: right;\n    }\n</style>\n<table border=\"1\" class=\"dataframe\">\n  <thead>\n    <tr style=\"text-align: right;\">\n      <th></th>\n      <th>10000347</th>\n      <th>2020-1</th>\n      <th>92315</th>\n      <th>Big Bear Lake</th>\n      <th>2-5 Units</th>\n      <th>3</th>\n      <th>2</th>\n      <th>10</th>\n      <th>13948,75974</th>\n      <th>31</th>\n      <th>1</th>\n      <th>449,9599915</th>\n      <th>8</th>\n    </tr>\n  </thead>\n  <tbody>\n    <tr>\n      <th>0</th>\n      <td>10000347</td>\n      <td>2020-10</td>\n      <td>92315</td>\n      <td>Big Bear Lake</td>\n      <td>2-5 Units</td>\n      <td>3</td>\n      <td>2</td>\n      <td>10</td>\n      <td>449,9599915</td>\n      <td>31</td>\n      <td>0,032258065</td>\n      <td>449,9599915</td>\n      <td>8</td>\n    </tr>\n    <tr>\n      <th>1</th>\n      <td>10000347</td>\n      <td>2020-11</td>\n      <td>92315</td>\n      <td>Big Bear Lake</td>\n      <td>2-5 Units</td>\n      <td>3</td>\n      <td>2</td>\n      <td>10</td>\n      <td>0</td>\n      <td>30</td>\n      <td>0</td>\n      <td></td>\n      <td></td>\n    </tr>\n    <tr>\n      <th>2</th>\n      <td>10000347</td>\n      <td>2020-12</td>\n      <td>92315</td>\n      <td>Big Bear Lake</td>\n      <td>2-5 Units</td>\n      <td>3</td>\n      <td>2</td>\n      <td>10</td>\n      <td>4949,679932</td>\n      <td>31</td>\n      <td>0,35483871</td>\n      <td>449,9709029</td>\n      <td>41</td>\n    </tr>\n    <tr>\n      <th>3</th>\n      <td>10000347</td>\n      <td>2020-2</td>\n      <td>92315</td>\n      <td>Big Bear Lake</td>\n      <td>2-5 Units</td>\n      <td>3</td>\n      <td>2</td>\n      <td>10</td>\n      <td>0</td>\n      <td>28</td>\n      <td>0</td>\n      <td></td>\n      <td></td>\n    </tr>\n    <tr>\n      <th>4</th>\n      <td>10000347</td>\n      <td>2020-3</td>\n      <td>92315</td>\n      <td>Big Bear Lake</td>\n      <td>2-5 Units</td>\n      <td>3</td>\n      <td>2</td>\n      <td>10</td>\n      <td>899,9199829</td>\n      <td>31</td>\n      <td>0,064516129</td>\n      <td>449,9599915</td>\n      <td>8</td>\n    </tr>\n    <tr>\n      <th>...</th>\n      <td>...</td>\n      <td>...</td>\n      <td>...</td>\n      <td>...</td>\n      <td>...</td>\n      <td>...</td>\n      <td>...</td>\n      <td>...</td>\n      <td>...</td>\n      <td>...</td>\n      <td>...</td>\n      <td>...</td>\n      <td>...</td>\n    </tr>\n    <tr>\n      <th>116613</th>\n      <td>9996370</td>\n      <td>2022-5</td>\n      <td>92314</td>\n      <td>Big Bear City</td>\n      <td>Single Owners</td>\n      <td>NaN</td>\n      <td>NaN</td>\n      <td>NaN</td>\n      <td>NaN</td>\n      <td>NaN</td>\n      <td>NaN</td>\n      <td>NaN</td>\n      <td>NaN</td>\n    </tr>\n    <tr>\n      <th>116614</th>\n      <td>9996370</td>\n      <td>2022-6</td>\n      <td>92314</td>\n      <td>Big Bear City</td>\n      <td>Single Owners</td>\n      <td>NaN</td>\n      <td>NaN</td>\n      <td>NaN</td>\n      <td>NaN</td>\n      <td>NaN</td>\n      <td>NaN</td>\n      <td>NaN</td>\n      <td>NaN</td>\n    </tr>\n    <tr>\n      <th>116615</th>\n      <td>9996370</td>\n      <td>2022-7</td>\n      <td>92314</td>\n      <td>Big Bear City</td>\n      <td>Single Owners</td>\n      <td>NaN</td>\n      <td>NaN</td>\n      <td>NaN</td>\n      <td>NaN</td>\n      <td>NaN</td>\n      <td>NaN</td>\n      <td>NaN</td>\n      <td>NaN</td>\n    </tr>\n    <tr>\n      <th>116616</th>\n      <td>9996370</td>\n      <td>2022-8</td>\n      <td>92314</td>\n      <td>Big Bear City</td>\n      <td>Single Owners</td>\n      <td>NaN</td>\n      <td>NaN</td>\n      <td>NaN</td>\n      <td>NaN</td>\n      <td>NaN</td>\n      <td>NaN</td>\n      <td>NaN</td>\n      <td>NaN</td>\n    </tr>\n    <tr>\n      <th>116617</th>\n      <td>9996370</td>\n      <td>2022-9</td>\n      <td>92314</td>\n      <td>Big Bear City</td>\n      <td>Single Owners</td>\n      <td>NaN</td>\n      <td>NaN</td>\n      <td>NaN</td>\n      <td>NaN</td>\n      <td>NaN</td>\n      <td>NaN</td>\n      <td>NaN</td>\n      <td>NaN</td>\n    </tr>\n  </tbody>\n</table>\n<p>116618 rows × 13 columns</p>\n</div>"
     },
     "execution_count": 57,
     "metadata": {},
     "output_type": "execute_result"
    }
   ],
   "source": [
    "df3"
   ],
   "metadata": {
    "collapsed": false,
    "pycharm": {
     "name": "#%%\n"
    }
   }
  },
  {
   "cell_type": "code",
   "execution_count": 58,
   "outputs": [
    {
     "data": {
      "text/plain": "                                                   1        2        3     4   \\\n1   https://www.zillow.com/homedetails/9025-Warren...   890416   949000  3058   \n2   https://www.zillow.com/homedetails/7552-Cardil...   543600   749000  2922   \n3   https://www.zillow.com/homedetails/8552-Taft-C...   467500   530000  2710   \n4   https://www.zillow.com/homedetails/5088-Elata-...   684150   699000  3034   \n5   https://www.zillow.com/homedetails/7478-Goleta...   525004   525000  2199   \n6   https://www.zillow.com/homedetails/7629-Rockaw...   764822   775000  3539   \n7   https://www.zillow.com/homedetails/7354-Rubido...   880671   900000  2400   \n8   https://www.zillow.com/homedetails/7399-Paloma...   478372   489900  2350   \n9   https://www.zillow.com/homedetails/8210-Church...   418600   479000  2907   \n10  https://www.zillow.com/homedetails/55960-Onaga...   277830   285000  1829   \n11  https://www.zillow.com/homedetails/58783-Santa...   674473   699000  3240   \n12  https://www.zillow.com/homedetails/56763-Java-...   489600   489600  2362   \n13  https://www.zillow.com/homedetails/56839-Bonan...   374800   545000  4217   \n14  https://www.zillow.com/homedetails/7731-Arrowh...  1076582  1100000  3410   \n15  https://www.zillow.com/homedetails/58345-Bonan...   478884   499950  3204   \n\n               5  6  7     8  9              10                      11  \\\n1   Not specified  4  4  3542     SINGLE_FAMILY   9025 Warren Vista Ave   \n2   Not specified  3  3  1678     SINGLE_FAMILY       7552 Cardillo Trl   \n3   Not specified  3  3  2134     SINGLE_FAMILY            8552 Taft Ct   \n4   Not specified  3  3  1929     SINGLE_FAMILY          5088 Elata Ave   \n5   Not specified  2  3  1508     SINGLE_FAMILY         7478 Goleta Ave   \n6   Not specified  2  3  2235     SINGLE_FAMILY       7629 Rockaway Ave   \n7   Not specified  2  3  1764     SINGLE_FAMILY       7354 Rubidoux Ave   \n8   Not specified  2  3  1530     SINGLE_FAMILY        7399 Palomar Ave   \n9   Not specified  2  4  1820     SINGLE_FAMILY          8210 Church St   \n10  Not specified  1  3   750     SINGLE_FAMILY         55960 Onaga Trl   \n11  Not specified  2  3  2809     SINGLE_FAMILY  58783 Santa Barbara Dr   \n12  Not specified  2  3  1534     SINGLE_FAMILY           56763 Java Dr   \n13  Not specified  5  5  2877     SINGLE_FAMILY        56839 Bonanza Dr   \n14  Not specified  2  3  2076     SINGLE_FAMILY       7731 Arrowhead Dr   \n15  Not specified  3  4  2363     SINGLE_FAMILY        58345 Bonanza Dr   \n\n              12     13  \n1   Yucca Valley  92284  \n2   Yucca Valley  92284  \n3   Yucca Valley  92284  \n4   Yucca Valley  92284  \n5   Yucca Valley  92284  \n6   Yucca Valley  92284  \n7   Yucca Valley  92284  \n8   Yucca Valley  92284  \n9   Yucca Valley  92284  \n10  Yucca Valley  92284  \n11  Yucca Valley  92284  \n12  Yucca Valley  92284  \n13  Yucca Valley  92284  \n14  Yucca Valley  92284  \n15  Yucca Valley  92284  ",
      "text/html": "<div>\n<style scoped>\n    .dataframe tbody tr th:only-of-type {\n        vertical-align: middle;\n    }\n\n    .dataframe tbody tr th {\n        vertical-align: top;\n    }\n\n    .dataframe thead th {\n        text-align: right;\n    }\n</style>\n<table border=\"1\" class=\"dataframe\">\n  <thead>\n    <tr style=\"text-align: right;\">\n      <th></th>\n      <th>1</th>\n      <th>2</th>\n      <th>3</th>\n      <th>4</th>\n      <th>5</th>\n      <th>6</th>\n      <th>7</th>\n      <th>8</th>\n      <th>9</th>\n      <th>10</th>\n      <th>11</th>\n      <th>12</th>\n      <th>13</th>\n    </tr>\n  </thead>\n  <tbody>\n    <tr>\n      <th>1</th>\n      <td>https://www.zillow.com/homedetails/9025-Warren...</td>\n      <td>890416</td>\n      <td>949000</td>\n      <td>3058</td>\n      <td>Not specified</td>\n      <td>4</td>\n      <td>4</td>\n      <td>3542</td>\n      <td></td>\n      <td>SINGLE_FAMILY</td>\n      <td>9025 Warren Vista Ave</td>\n      <td>Yucca Valley</td>\n      <td>92284</td>\n    </tr>\n    <tr>\n      <th>2</th>\n      <td>https://www.zillow.com/homedetails/7552-Cardil...</td>\n      <td>543600</td>\n      <td>749000</td>\n      <td>2922</td>\n      <td>Not specified</td>\n      <td>3</td>\n      <td>3</td>\n      <td>1678</td>\n      <td></td>\n      <td>SINGLE_FAMILY</td>\n      <td>7552 Cardillo Trl</td>\n      <td>Yucca Valley</td>\n      <td>92284</td>\n    </tr>\n    <tr>\n      <th>3</th>\n      <td>https://www.zillow.com/homedetails/8552-Taft-C...</td>\n      <td>467500</td>\n      <td>530000</td>\n      <td>2710</td>\n      <td>Not specified</td>\n      <td>3</td>\n      <td>3</td>\n      <td>2134</td>\n      <td></td>\n      <td>SINGLE_FAMILY</td>\n      <td>8552 Taft Ct</td>\n      <td>Yucca Valley</td>\n      <td>92284</td>\n    </tr>\n    <tr>\n      <th>4</th>\n      <td>https://www.zillow.com/homedetails/5088-Elata-...</td>\n      <td>684150</td>\n      <td>699000</td>\n      <td>3034</td>\n      <td>Not specified</td>\n      <td>3</td>\n      <td>3</td>\n      <td>1929</td>\n      <td></td>\n      <td>SINGLE_FAMILY</td>\n      <td>5088 Elata Ave</td>\n      <td>Yucca Valley</td>\n      <td>92284</td>\n    </tr>\n    <tr>\n      <th>5</th>\n      <td>https://www.zillow.com/homedetails/7478-Goleta...</td>\n      <td>525004</td>\n      <td>525000</td>\n      <td>2199</td>\n      <td>Not specified</td>\n      <td>2</td>\n      <td>3</td>\n      <td>1508</td>\n      <td></td>\n      <td>SINGLE_FAMILY</td>\n      <td>7478 Goleta Ave</td>\n      <td>Yucca Valley</td>\n      <td>92284</td>\n    </tr>\n    <tr>\n      <th>6</th>\n      <td>https://www.zillow.com/homedetails/7629-Rockaw...</td>\n      <td>764822</td>\n      <td>775000</td>\n      <td>3539</td>\n      <td>Not specified</td>\n      <td>2</td>\n      <td>3</td>\n      <td>2235</td>\n      <td></td>\n      <td>SINGLE_FAMILY</td>\n      <td>7629 Rockaway Ave</td>\n      <td>Yucca Valley</td>\n      <td>92284</td>\n    </tr>\n    <tr>\n      <th>7</th>\n      <td>https://www.zillow.com/homedetails/7354-Rubido...</td>\n      <td>880671</td>\n      <td>900000</td>\n      <td>2400</td>\n      <td>Not specified</td>\n      <td>2</td>\n      <td>3</td>\n      <td>1764</td>\n      <td></td>\n      <td>SINGLE_FAMILY</td>\n      <td>7354 Rubidoux Ave</td>\n      <td>Yucca Valley</td>\n      <td>92284</td>\n    </tr>\n    <tr>\n      <th>8</th>\n      <td>https://www.zillow.com/homedetails/7399-Paloma...</td>\n      <td>478372</td>\n      <td>489900</td>\n      <td>2350</td>\n      <td>Not specified</td>\n      <td>2</td>\n      <td>3</td>\n      <td>1530</td>\n      <td></td>\n      <td>SINGLE_FAMILY</td>\n      <td>7399 Palomar Ave</td>\n      <td>Yucca Valley</td>\n      <td>92284</td>\n    </tr>\n    <tr>\n      <th>9</th>\n      <td>https://www.zillow.com/homedetails/8210-Church...</td>\n      <td>418600</td>\n      <td>479000</td>\n      <td>2907</td>\n      <td>Not specified</td>\n      <td>2</td>\n      <td>4</td>\n      <td>1820</td>\n      <td></td>\n      <td>SINGLE_FAMILY</td>\n      <td>8210 Church St</td>\n      <td>Yucca Valley</td>\n      <td>92284</td>\n    </tr>\n    <tr>\n      <th>10</th>\n      <td>https://www.zillow.com/homedetails/55960-Onaga...</td>\n      <td>277830</td>\n      <td>285000</td>\n      <td>1829</td>\n      <td>Not specified</td>\n      <td>1</td>\n      <td>3</td>\n      <td>750</td>\n      <td></td>\n      <td>SINGLE_FAMILY</td>\n      <td>55960 Onaga Trl</td>\n      <td>Yucca Valley</td>\n      <td>92284</td>\n    </tr>\n    <tr>\n      <th>11</th>\n      <td>https://www.zillow.com/homedetails/58783-Santa...</td>\n      <td>674473</td>\n      <td>699000</td>\n      <td>3240</td>\n      <td>Not specified</td>\n      <td>2</td>\n      <td>3</td>\n      <td>2809</td>\n      <td></td>\n      <td>SINGLE_FAMILY</td>\n      <td>58783 Santa Barbara Dr</td>\n      <td>Yucca Valley</td>\n      <td>92284</td>\n    </tr>\n    <tr>\n      <th>12</th>\n      <td>https://www.zillow.com/homedetails/56763-Java-...</td>\n      <td>489600</td>\n      <td>489600</td>\n      <td>2362</td>\n      <td>Not specified</td>\n      <td>2</td>\n      <td>3</td>\n      <td>1534</td>\n      <td></td>\n      <td>SINGLE_FAMILY</td>\n      <td>56763 Java Dr</td>\n      <td>Yucca Valley</td>\n      <td>92284</td>\n    </tr>\n    <tr>\n      <th>13</th>\n      <td>https://www.zillow.com/homedetails/56839-Bonan...</td>\n      <td>374800</td>\n      <td>545000</td>\n      <td>4217</td>\n      <td>Not specified</td>\n      <td>5</td>\n      <td>5</td>\n      <td>2877</td>\n      <td></td>\n      <td>SINGLE_FAMILY</td>\n      <td>56839 Bonanza Dr</td>\n      <td>Yucca Valley</td>\n      <td>92284</td>\n    </tr>\n    <tr>\n      <th>14</th>\n      <td>https://www.zillow.com/homedetails/7731-Arrowh...</td>\n      <td>1076582</td>\n      <td>1100000</td>\n      <td>3410</td>\n      <td>Not specified</td>\n      <td>2</td>\n      <td>3</td>\n      <td>2076</td>\n      <td></td>\n      <td>SINGLE_FAMILY</td>\n      <td>7731 Arrowhead Dr</td>\n      <td>Yucca Valley</td>\n      <td>92284</td>\n    </tr>\n    <tr>\n      <th>15</th>\n      <td>https://www.zillow.com/homedetails/58345-Bonan...</td>\n      <td>478884</td>\n      <td>499950</td>\n      <td>3204</td>\n      <td>Not specified</td>\n      <td>3</td>\n      <td>4</td>\n      <td>2363</td>\n      <td></td>\n      <td>SINGLE_FAMILY</td>\n      <td>58345 Bonanza Dr</td>\n      <td>Yucca Valley</td>\n      <td>92284</td>\n    </tr>\n  </tbody>\n</table>\n</div>"
     },
     "execution_count": 58,
     "metadata": {},
     "output_type": "execute_result"
    }
   ],
   "source": [
    "df7"
   ],
   "metadata": {
    "collapsed": false,
    "pycharm": {
     "name": "#%%\n"
    }
   }
  },
  {
   "cell_type": "code",
   "execution_count": 59,
   "outputs": [
    {
     "data": {
      "text/plain": "0       10000347   2020-1  92315  Big Bear Lake      2-5 Units    3    2   10  \\\n0       10000347  2020-10  92315  Big Bear Lake      2-5 Units    3    2   10   \n1       10000347  2020-11  92315  Big Bear Lake      2-5 Units    3    2   10   \n2       10000347  2020-12  92315  Big Bear Lake      2-5 Units    3    2   10   \n3       10000347   2020-2  92315  Big Bear Lake      2-5 Units    3    2   10   \n4       10000347   2020-3  92315  Big Bear Lake      2-5 Units    3    2   10   \n...          ...      ...    ...            ...            ...  ...  ...  ...   \n116613   9996370   2022-5  92314  Big Bear City  Single Owners  NaN  NaN  NaN   \n116614   9996370   2022-6  92314  Big Bear City  Single Owners  NaN  NaN  NaN   \n116615   9996370   2022-7  92314  Big Bear City  Single Owners  NaN  NaN  NaN   \n116616   9996370   2022-8  92314  Big Bear City  Single Owners  NaN  NaN  NaN   \n116617   9996370   2022-9  92314  Big Bear City  Single Owners  NaN  NaN  NaN   \n\n0       13948,75974   31            1  449,9599915    8  \n0       449,9599915   31  0,032258065  449,9599915    8  \n1                 0   30            0                    \n2       4949,679932   31   0,35483871  449,9709029   41  \n3                 0   28            0                    \n4       899,9199829   31  0,064516129  449,9599915    8  \n...             ...  ...          ...          ...  ...  \n116613          NaN  NaN          NaN          NaN  NaN  \n116614          NaN  NaN          NaN          NaN  NaN  \n116615          NaN  NaN          NaN          NaN  NaN  \n116616          NaN  NaN          NaN          NaN  NaN  \n116617          NaN  NaN          NaN          NaN  NaN  \n\n[116618 rows x 13 columns]",
      "text/html": "<div>\n<style scoped>\n    .dataframe tbody tr th:only-of-type {\n        vertical-align: middle;\n    }\n\n    .dataframe tbody tr th {\n        vertical-align: top;\n    }\n\n    .dataframe thead th {\n        text-align: right;\n    }\n</style>\n<table border=\"1\" class=\"dataframe\">\n  <thead>\n    <tr style=\"text-align: right;\">\n      <th></th>\n      <th>10000347</th>\n      <th>2020-1</th>\n      <th>92315</th>\n      <th>Big Bear Lake</th>\n      <th>2-5 Units</th>\n      <th>3</th>\n      <th>2</th>\n      <th>10</th>\n      <th>13948,75974</th>\n      <th>31</th>\n      <th>1</th>\n      <th>449,9599915</th>\n      <th>8</th>\n    </tr>\n  </thead>\n  <tbody>\n    <tr>\n      <th>0</th>\n      <td>10000347</td>\n      <td>2020-10</td>\n      <td>92315</td>\n      <td>Big Bear Lake</td>\n      <td>2-5 Units</td>\n      <td>3</td>\n      <td>2</td>\n      <td>10</td>\n      <td>449,9599915</td>\n      <td>31</td>\n      <td>0,032258065</td>\n      <td>449,9599915</td>\n      <td>8</td>\n    </tr>\n    <tr>\n      <th>1</th>\n      <td>10000347</td>\n      <td>2020-11</td>\n      <td>92315</td>\n      <td>Big Bear Lake</td>\n      <td>2-5 Units</td>\n      <td>3</td>\n      <td>2</td>\n      <td>10</td>\n      <td>0</td>\n      <td>30</td>\n      <td>0</td>\n      <td></td>\n      <td></td>\n    </tr>\n    <tr>\n      <th>2</th>\n      <td>10000347</td>\n      <td>2020-12</td>\n      <td>92315</td>\n      <td>Big Bear Lake</td>\n      <td>2-5 Units</td>\n      <td>3</td>\n      <td>2</td>\n      <td>10</td>\n      <td>4949,679932</td>\n      <td>31</td>\n      <td>0,35483871</td>\n      <td>449,9709029</td>\n      <td>41</td>\n    </tr>\n    <tr>\n      <th>3</th>\n      <td>10000347</td>\n      <td>2020-2</td>\n      <td>92315</td>\n      <td>Big Bear Lake</td>\n      <td>2-5 Units</td>\n      <td>3</td>\n      <td>2</td>\n      <td>10</td>\n      <td>0</td>\n      <td>28</td>\n      <td>0</td>\n      <td></td>\n      <td></td>\n    </tr>\n    <tr>\n      <th>4</th>\n      <td>10000347</td>\n      <td>2020-3</td>\n      <td>92315</td>\n      <td>Big Bear Lake</td>\n      <td>2-5 Units</td>\n      <td>3</td>\n      <td>2</td>\n      <td>10</td>\n      <td>899,9199829</td>\n      <td>31</td>\n      <td>0,064516129</td>\n      <td>449,9599915</td>\n      <td>8</td>\n    </tr>\n    <tr>\n      <th>...</th>\n      <td>...</td>\n      <td>...</td>\n      <td>...</td>\n      <td>...</td>\n      <td>...</td>\n      <td>...</td>\n      <td>...</td>\n      <td>...</td>\n      <td>...</td>\n      <td>...</td>\n      <td>...</td>\n      <td>...</td>\n      <td>...</td>\n    </tr>\n    <tr>\n      <th>116613</th>\n      <td>9996370</td>\n      <td>2022-5</td>\n      <td>92314</td>\n      <td>Big Bear City</td>\n      <td>Single Owners</td>\n      <td>NaN</td>\n      <td>NaN</td>\n      <td>NaN</td>\n      <td>NaN</td>\n      <td>NaN</td>\n      <td>NaN</td>\n      <td>NaN</td>\n      <td>NaN</td>\n    </tr>\n    <tr>\n      <th>116614</th>\n      <td>9996370</td>\n      <td>2022-6</td>\n      <td>92314</td>\n      <td>Big Bear City</td>\n      <td>Single Owners</td>\n      <td>NaN</td>\n      <td>NaN</td>\n      <td>NaN</td>\n      <td>NaN</td>\n      <td>NaN</td>\n      <td>NaN</td>\n      <td>NaN</td>\n      <td>NaN</td>\n    </tr>\n    <tr>\n      <th>116615</th>\n      <td>9996370</td>\n      <td>2022-7</td>\n      <td>92314</td>\n      <td>Big Bear City</td>\n      <td>Single Owners</td>\n      <td>NaN</td>\n      <td>NaN</td>\n      <td>NaN</td>\n      <td>NaN</td>\n      <td>NaN</td>\n      <td>NaN</td>\n      <td>NaN</td>\n      <td>NaN</td>\n    </tr>\n    <tr>\n      <th>116616</th>\n      <td>9996370</td>\n      <td>2022-8</td>\n      <td>92314</td>\n      <td>Big Bear City</td>\n      <td>Single Owners</td>\n      <td>NaN</td>\n      <td>NaN</td>\n      <td>NaN</td>\n      <td>NaN</td>\n      <td>NaN</td>\n      <td>NaN</td>\n      <td>NaN</td>\n      <td>NaN</td>\n    </tr>\n    <tr>\n      <th>116617</th>\n      <td>9996370</td>\n      <td>2022-9</td>\n      <td>92314</td>\n      <td>Big Bear City</td>\n      <td>Single Owners</td>\n      <td>NaN</td>\n      <td>NaN</td>\n      <td>NaN</td>\n      <td>NaN</td>\n      <td>NaN</td>\n      <td>NaN</td>\n      <td>NaN</td>\n      <td>NaN</td>\n    </tr>\n  </tbody>\n</table>\n<p>116618 rows × 13 columns</p>\n</div>"
     },
     "execution_count": 59,
     "metadata": {},
     "output_type": "execute_result"
    }
   ],
   "source": [
    "df3"
   ],
   "metadata": {
    "collapsed": false,
    "pycharm": {
     "name": "#%%\n"
    }
   }
  },
  {
   "cell_type": "code",
   "execution_count": 60,
   "outputs": [
    {
     "data": {
      "text/plain": "                 1        2      3              4              5\n1      AIR10000347   2019-1  92315  Big Bear Lake      2-5 Units\n2      AIR10000347  2019-10  92315  Big Bear Lake      2-5 Units\n3      AIR10000347  2019-11  92315  Big Bear Lake      2-5 Units\n4      AIR10000347  2019-12  92315  Big Bear Lake      2-5 Units\n5      AIR10000347   2019-2  92315  Big Bear Lake      2-5 Units\n...            ...      ...    ...            ...            ...\n29924   AIR9996370   2019-5  92314  Big Bear City  Single Owners\n29925   AIR9996370   2019-6  92314  Big Bear City  Single Owners\n29926   AIR9996370   2019-7  92314  Big Bear City  Single Owners\n29927   AIR9996370   2019-8  92314  Big Bear City  Single Owners\n29928   AIR9996370   2019-9  92314  Big Bear City  Single Owners\n\n[29928 rows x 5 columns]",
      "text/html": "<div>\n<style scoped>\n    .dataframe tbody tr th:only-of-type {\n        vertical-align: middle;\n    }\n\n    .dataframe tbody tr th {\n        vertical-align: top;\n    }\n\n    .dataframe thead th {\n        text-align: right;\n    }\n</style>\n<table border=\"1\" class=\"dataframe\">\n  <thead>\n    <tr style=\"text-align: right;\">\n      <th></th>\n      <th>1</th>\n      <th>2</th>\n      <th>3</th>\n      <th>4</th>\n      <th>5</th>\n    </tr>\n  </thead>\n  <tbody>\n    <tr>\n      <th>1</th>\n      <td>AIR10000347</td>\n      <td>2019-1</td>\n      <td>92315</td>\n      <td>Big Bear Lake</td>\n      <td>2-5 Units</td>\n    </tr>\n    <tr>\n      <th>2</th>\n      <td>AIR10000347</td>\n      <td>2019-10</td>\n      <td>92315</td>\n      <td>Big Bear Lake</td>\n      <td>2-5 Units</td>\n    </tr>\n    <tr>\n      <th>3</th>\n      <td>AIR10000347</td>\n      <td>2019-11</td>\n      <td>92315</td>\n      <td>Big Bear Lake</td>\n      <td>2-5 Units</td>\n    </tr>\n    <tr>\n      <th>4</th>\n      <td>AIR10000347</td>\n      <td>2019-12</td>\n      <td>92315</td>\n      <td>Big Bear Lake</td>\n      <td>2-5 Units</td>\n    </tr>\n    <tr>\n      <th>5</th>\n      <td>AIR10000347</td>\n      <td>2019-2</td>\n      <td>92315</td>\n      <td>Big Bear Lake</td>\n      <td>2-5 Units</td>\n    </tr>\n    <tr>\n      <th>...</th>\n      <td>...</td>\n      <td>...</td>\n      <td>...</td>\n      <td>...</td>\n      <td>...</td>\n    </tr>\n    <tr>\n      <th>29924</th>\n      <td>AIR9996370</td>\n      <td>2019-5</td>\n      <td>92314</td>\n      <td>Big Bear City</td>\n      <td>Single Owners</td>\n    </tr>\n    <tr>\n      <th>29925</th>\n      <td>AIR9996370</td>\n      <td>2019-6</td>\n      <td>92314</td>\n      <td>Big Bear City</td>\n      <td>Single Owners</td>\n    </tr>\n    <tr>\n      <th>29926</th>\n      <td>AIR9996370</td>\n      <td>2019-7</td>\n      <td>92314</td>\n      <td>Big Bear City</td>\n      <td>Single Owners</td>\n    </tr>\n    <tr>\n      <th>29927</th>\n      <td>AIR9996370</td>\n      <td>2019-8</td>\n      <td>92314</td>\n      <td>Big Bear City</td>\n      <td>Single Owners</td>\n    </tr>\n    <tr>\n      <th>29928</th>\n      <td>AIR9996370</td>\n      <td>2019-9</td>\n      <td>92314</td>\n      <td>Big Bear City</td>\n      <td>Single Owners</td>\n    </tr>\n  </tbody>\n</table>\n<p>29928 rows × 5 columns</p>\n</div>"
     },
     "execution_count": 60,
     "metadata": {},
     "output_type": "execute_result"
    }
   ],
   "source": [
    "df4"
   ],
   "metadata": {
    "collapsed": false,
    "pycharm": {
     "name": "#%%\n"
    }
   }
  },
  {
   "cell_type": "code",
   "execution_count": 61,
   "outputs": [
    {
     "data": {
      "text/plain": "                                                   1        2        3     4   \\\n1   https://www.zillow.com/homedetails/9025-Warren...   890416   949000  3058   \n2   https://www.zillow.com/homedetails/7552-Cardil...   543600   749000  2922   \n3   https://www.zillow.com/homedetails/8552-Taft-C...   467500   530000  2710   \n4   https://www.zillow.com/homedetails/5088-Elata-...   684150   699000  3034   \n5   https://www.zillow.com/homedetails/7478-Goleta...   525004   525000  2199   \n6   https://www.zillow.com/homedetails/7629-Rockaw...   764822   775000  3539   \n7   https://www.zillow.com/homedetails/7354-Rubido...   880671   900000  2400   \n8   https://www.zillow.com/homedetails/7399-Paloma...   478372   489900  2350   \n9   https://www.zillow.com/homedetails/8210-Church...   418600   479000  2907   \n10  https://www.zillow.com/homedetails/55960-Onaga...   277830   285000  1829   \n11  https://www.zillow.com/homedetails/58783-Santa...   674473   699000  3240   \n12  https://www.zillow.com/homedetails/56763-Java-...   489600   489600  2362   \n13  https://www.zillow.com/homedetails/56839-Bonan...   374800   545000  4217   \n14  https://www.zillow.com/homedetails/7731-Arrowh...  1076582  1100000  3410   \n15  https://www.zillow.com/homedetails/58345-Bonan...   478884   499950  3204   \n\n               5  6  7     8  9              10                      11  \\\n1   Not specified  4  4  3542     SINGLE_FAMILY   9025 Warren Vista Ave   \n2   Not specified  3  3  1678     SINGLE_FAMILY       7552 Cardillo Trl   \n3   Not specified  3  3  2134     SINGLE_FAMILY            8552 Taft Ct   \n4   Not specified  3  3  1929     SINGLE_FAMILY          5088 Elata Ave   \n5   Not specified  2  3  1508     SINGLE_FAMILY         7478 Goleta Ave   \n6   Not specified  2  3  2235     SINGLE_FAMILY       7629 Rockaway Ave   \n7   Not specified  2  3  1764     SINGLE_FAMILY       7354 Rubidoux Ave   \n8   Not specified  2  3  1530     SINGLE_FAMILY        7399 Palomar Ave   \n9   Not specified  2  4  1820     SINGLE_FAMILY          8210 Church St   \n10  Not specified  1  3   750     SINGLE_FAMILY         55960 Onaga Trl   \n11  Not specified  2  3  2809     SINGLE_FAMILY  58783 Santa Barbara Dr   \n12  Not specified  2  3  1534     SINGLE_FAMILY           56763 Java Dr   \n13  Not specified  5  5  2877     SINGLE_FAMILY        56839 Bonanza Dr   \n14  Not specified  2  3  2076     SINGLE_FAMILY       7731 Arrowhead Dr   \n15  Not specified  3  4  2363     SINGLE_FAMILY        58345 Bonanza Dr   \n\n              12     13  \n1   Yucca Valley  92284  \n2   Yucca Valley  92284  \n3   Yucca Valley  92284  \n4   Yucca Valley  92284  \n5   Yucca Valley  92284  \n6   Yucca Valley  92284  \n7   Yucca Valley  92284  \n8   Yucca Valley  92284  \n9   Yucca Valley  92284  \n10  Yucca Valley  92284  \n11  Yucca Valley  92284  \n12  Yucca Valley  92284  \n13  Yucca Valley  92284  \n14  Yucca Valley  92284  \n15  Yucca Valley  92284  ",
      "text/html": "<div>\n<style scoped>\n    .dataframe tbody tr th:only-of-type {\n        vertical-align: middle;\n    }\n\n    .dataframe tbody tr th {\n        vertical-align: top;\n    }\n\n    .dataframe thead th {\n        text-align: right;\n    }\n</style>\n<table border=\"1\" class=\"dataframe\">\n  <thead>\n    <tr style=\"text-align: right;\">\n      <th></th>\n      <th>1</th>\n      <th>2</th>\n      <th>3</th>\n      <th>4</th>\n      <th>5</th>\n      <th>6</th>\n      <th>7</th>\n      <th>8</th>\n      <th>9</th>\n      <th>10</th>\n      <th>11</th>\n      <th>12</th>\n      <th>13</th>\n    </tr>\n  </thead>\n  <tbody>\n    <tr>\n      <th>1</th>\n      <td>https://www.zillow.com/homedetails/9025-Warren...</td>\n      <td>890416</td>\n      <td>949000</td>\n      <td>3058</td>\n      <td>Not specified</td>\n      <td>4</td>\n      <td>4</td>\n      <td>3542</td>\n      <td></td>\n      <td>SINGLE_FAMILY</td>\n      <td>9025 Warren Vista Ave</td>\n      <td>Yucca Valley</td>\n      <td>92284</td>\n    </tr>\n    <tr>\n      <th>2</th>\n      <td>https://www.zillow.com/homedetails/7552-Cardil...</td>\n      <td>543600</td>\n      <td>749000</td>\n      <td>2922</td>\n      <td>Not specified</td>\n      <td>3</td>\n      <td>3</td>\n      <td>1678</td>\n      <td></td>\n      <td>SINGLE_FAMILY</td>\n      <td>7552 Cardillo Trl</td>\n      <td>Yucca Valley</td>\n      <td>92284</td>\n    </tr>\n    <tr>\n      <th>3</th>\n      <td>https://www.zillow.com/homedetails/8552-Taft-C...</td>\n      <td>467500</td>\n      <td>530000</td>\n      <td>2710</td>\n      <td>Not specified</td>\n      <td>3</td>\n      <td>3</td>\n      <td>2134</td>\n      <td></td>\n      <td>SINGLE_FAMILY</td>\n      <td>8552 Taft Ct</td>\n      <td>Yucca Valley</td>\n      <td>92284</td>\n    </tr>\n    <tr>\n      <th>4</th>\n      <td>https://www.zillow.com/homedetails/5088-Elata-...</td>\n      <td>684150</td>\n      <td>699000</td>\n      <td>3034</td>\n      <td>Not specified</td>\n      <td>3</td>\n      <td>3</td>\n      <td>1929</td>\n      <td></td>\n      <td>SINGLE_FAMILY</td>\n      <td>5088 Elata Ave</td>\n      <td>Yucca Valley</td>\n      <td>92284</td>\n    </tr>\n    <tr>\n      <th>5</th>\n      <td>https://www.zillow.com/homedetails/7478-Goleta...</td>\n      <td>525004</td>\n      <td>525000</td>\n      <td>2199</td>\n      <td>Not specified</td>\n      <td>2</td>\n      <td>3</td>\n      <td>1508</td>\n      <td></td>\n      <td>SINGLE_FAMILY</td>\n      <td>7478 Goleta Ave</td>\n      <td>Yucca Valley</td>\n      <td>92284</td>\n    </tr>\n    <tr>\n      <th>6</th>\n      <td>https://www.zillow.com/homedetails/7629-Rockaw...</td>\n      <td>764822</td>\n      <td>775000</td>\n      <td>3539</td>\n      <td>Not specified</td>\n      <td>2</td>\n      <td>3</td>\n      <td>2235</td>\n      <td></td>\n      <td>SINGLE_FAMILY</td>\n      <td>7629 Rockaway Ave</td>\n      <td>Yucca Valley</td>\n      <td>92284</td>\n    </tr>\n    <tr>\n      <th>7</th>\n      <td>https://www.zillow.com/homedetails/7354-Rubido...</td>\n      <td>880671</td>\n      <td>900000</td>\n      <td>2400</td>\n      <td>Not specified</td>\n      <td>2</td>\n      <td>3</td>\n      <td>1764</td>\n      <td></td>\n      <td>SINGLE_FAMILY</td>\n      <td>7354 Rubidoux Ave</td>\n      <td>Yucca Valley</td>\n      <td>92284</td>\n    </tr>\n    <tr>\n      <th>8</th>\n      <td>https://www.zillow.com/homedetails/7399-Paloma...</td>\n      <td>478372</td>\n      <td>489900</td>\n      <td>2350</td>\n      <td>Not specified</td>\n      <td>2</td>\n      <td>3</td>\n      <td>1530</td>\n      <td></td>\n      <td>SINGLE_FAMILY</td>\n      <td>7399 Palomar Ave</td>\n      <td>Yucca Valley</td>\n      <td>92284</td>\n    </tr>\n    <tr>\n      <th>9</th>\n      <td>https://www.zillow.com/homedetails/8210-Church...</td>\n      <td>418600</td>\n      <td>479000</td>\n      <td>2907</td>\n      <td>Not specified</td>\n      <td>2</td>\n      <td>4</td>\n      <td>1820</td>\n      <td></td>\n      <td>SINGLE_FAMILY</td>\n      <td>8210 Church St</td>\n      <td>Yucca Valley</td>\n      <td>92284</td>\n    </tr>\n    <tr>\n      <th>10</th>\n      <td>https://www.zillow.com/homedetails/55960-Onaga...</td>\n      <td>277830</td>\n      <td>285000</td>\n      <td>1829</td>\n      <td>Not specified</td>\n      <td>1</td>\n      <td>3</td>\n      <td>750</td>\n      <td></td>\n      <td>SINGLE_FAMILY</td>\n      <td>55960 Onaga Trl</td>\n      <td>Yucca Valley</td>\n      <td>92284</td>\n    </tr>\n    <tr>\n      <th>11</th>\n      <td>https://www.zillow.com/homedetails/58783-Santa...</td>\n      <td>674473</td>\n      <td>699000</td>\n      <td>3240</td>\n      <td>Not specified</td>\n      <td>2</td>\n      <td>3</td>\n      <td>2809</td>\n      <td></td>\n      <td>SINGLE_FAMILY</td>\n      <td>58783 Santa Barbara Dr</td>\n      <td>Yucca Valley</td>\n      <td>92284</td>\n    </tr>\n    <tr>\n      <th>12</th>\n      <td>https://www.zillow.com/homedetails/56763-Java-...</td>\n      <td>489600</td>\n      <td>489600</td>\n      <td>2362</td>\n      <td>Not specified</td>\n      <td>2</td>\n      <td>3</td>\n      <td>1534</td>\n      <td></td>\n      <td>SINGLE_FAMILY</td>\n      <td>56763 Java Dr</td>\n      <td>Yucca Valley</td>\n      <td>92284</td>\n    </tr>\n    <tr>\n      <th>13</th>\n      <td>https://www.zillow.com/homedetails/56839-Bonan...</td>\n      <td>374800</td>\n      <td>545000</td>\n      <td>4217</td>\n      <td>Not specified</td>\n      <td>5</td>\n      <td>5</td>\n      <td>2877</td>\n      <td></td>\n      <td>SINGLE_FAMILY</td>\n      <td>56839 Bonanza Dr</td>\n      <td>Yucca Valley</td>\n      <td>92284</td>\n    </tr>\n    <tr>\n      <th>14</th>\n      <td>https://www.zillow.com/homedetails/7731-Arrowh...</td>\n      <td>1076582</td>\n      <td>1100000</td>\n      <td>3410</td>\n      <td>Not specified</td>\n      <td>2</td>\n      <td>3</td>\n      <td>2076</td>\n      <td></td>\n      <td>SINGLE_FAMILY</td>\n      <td>7731 Arrowhead Dr</td>\n      <td>Yucca Valley</td>\n      <td>92284</td>\n    </tr>\n    <tr>\n      <th>15</th>\n      <td>https://www.zillow.com/homedetails/58345-Bonan...</td>\n      <td>478884</td>\n      <td>499950</td>\n      <td>3204</td>\n      <td>Not specified</td>\n      <td>3</td>\n      <td>4</td>\n      <td>2363</td>\n      <td></td>\n      <td>SINGLE_FAMILY</td>\n      <td>58345 Bonanza Dr</td>\n      <td>Yucca Valley</td>\n      <td>92284</td>\n    </tr>\n  </tbody>\n</table>\n</div>"
     },
     "execution_count": 61,
     "metadata": {},
     "output_type": "execute_result"
    }
   ],
   "source": [
    "df7"
   ],
   "metadata": {
    "collapsed": false,
    "pycharm": {
     "name": "#%%\n"
    }
   }
  },
  {
   "cell_type": "code",
   "execution_count": 62,
   "outputs": [
    {
     "data": {
      "text/plain": "                                                   1        2        3     4   \\\n1   https://www.zillow.com/homedetails/316-Maple-R...   614000   670000  3750   \n2   https://www.zillow.com/homedetails/1113-Michae...   533300   649000  2999   \n3   https://www.zillow.com/homedetails/919-Robinho...   470600   539000  2300   \n4   https://www.zillow.com/homedetails/824-Raleigh...   632272   650000  2990   \n5   https://www.zillow.com/homedetails/1000-Willow...   575001   575000  2996   \n6   https://www.zillow.com/homedetails/913-Mount-D...            479900  2808   \n7   https://www.zillow.com/homedetails/281-Pine-Ln...   525000   525000  3499   \n8   https://www.zillow.com/homedetails/701-Villa-G...   599000   599000  2999   \n9   https://www.zillow.com/homedetails/352-Lookout...  1070564  1125000  4805   \n10  https://www.zillow.com/homedetails/1526-Monte-...   418057   419000  2728   \n11  https://www.zillow.com/homedetails/1281-Minton...   498800   499000  2600   \n12  https://www.zillow.com/homedetails/1635-Shenan...  1436140  1535000         \n13  https://www.zillow.com/homedetails/1130-Rocky-...   939300   965000         \n14  https://www.zillow.com/homedetails/277-Greensp...   498900   499000  2699   \n15  https://www.zillow.com/homedetails/305-Lookout...   876523   900000  4500   \n16  https://www.zillow.com/homedetails/329-E-Sherw...   490500   630000  2999   \n17  https://www.zillow.com/homedetails/369-Greensp...   464900   380000         \n18  https://www.zillow.com/homedetails/1009-Herita...   963217  1010000  4113   \n19  https://www.zillow.com/homedetails/1194-Alamed...           1100000         \n20  https://www.zillow.com/homedetails/1658-Tuolum...  1799652  1900000  1950   \n21  https://www.zillow.com/homedetails/1242-Panora...   637891   655000  3696   \n22  https://www.zillow.com/homedetails/46125-Vale-...   851800   950000  3658   \n23  https://www.zillow.com/homedetails/764-Panamin...   537945   549900  2999   \n24  https://www.zillow.com/homedetails/1048-Hemloc...   634900   649000  3127   \n25  https://www.zillow.com/homedetails/1842-Baldwi...   493900   495000  3069   \n26  https://www.zillow.com/homedetails/1185-Mitche...   936576   960000  4800   \n27  https://www.zillow.com/homedetails/666-Butte-A...   804600   824888  3073   \n28  https://www.zillow.com/homedetails/1526-Malaba...   376000   409000  2228   \n29  https://www.zillow.com/homedetails/929-Myrtle-...   684700   697000  3421   \n30  https://www.zillow.com/homedetails/2149-1st-Ln...   289000   289000  2028   \n31  https://www.zillow.com/homedetails/1416-Klamat...   677600   699900  2999   \n32  https://www.zillow.com/homedetails/46647-Arast...  1171624  1275000  4886   \n33  https://www.zillow.com/homedetails/1020-Whispe...   770873   794000  3406   \n34  https://www.zillow.com/homedetails/46895-Estac...   815376   849900  4500   \n35  https://www.zillow.com/homedetails/1125-W-Big-...   933153   949000  4320   \n36  https://www.zillow.com/homedetails/1027-Herita...  1804200  2289000  7545   \n37  https://www.zillow.com/homedetails/109-Palomin...  1166674  1250000  4187   \n38  https://www.zillow.com/homedetails/1331-La-Cre...   631276   645000  2999   \n39  https://www.zillow.com/homedetails/160-Yosemit...  1044000  1100000  4411   \n40  https://www.zillow.com/homedetails/449-E-Barke...   531951   550000  2350   \n41  https://www.zillow.com/homedetails/1037-Van-Du...            599000         \n42  https://www.zillow.com/homedetails/42539-Bear-...  1132327  1226688  5114   \n43  https://www.zillow.com/homedetails/1112-Cedar-...   711600   725000  3349   \n44  https://www.zillow.com/homedetails/1033-Herita...  1771560  1950000  7723   \n45  https://www.zillow.com/homedetails/2047-7th-Ln...   323300   349000         \n46  https://www.zillow.com/homedetails/2111-7th-Ln...   768356   799000  3196   \n47  https://www.zillow.com/homedetails/1690-Cascad...  1081411  1149000  4641   \n48  https://www.zillow.com/homedetails/46242-Curva...   711219   729000  3634   \n49  https://www.zillow.com/homedetails/1150-Valley...   624781   634000  3399   \n50  https://www.zillow.com/homedetails/350-Brewer-...   640491   659900  3858   \n51  https://www.zillow.com/homedetails/1640-Shenan...  1918200  2099999  9797   \n52  https://www.zillow.com/homedetails/236-Greensp...            549900         \n53  https://www.zillow.com/homedetails/998-Feather...   991400  1050000  4214   \n54  https://www.zillow.com/homedetails/433-Eton-Ln...   724838   749000  3298   \n55  https://www.zillow.com/homedetails/400-San-Mar...   445500   449500  2484   \n56  https://www.zillow.com/homedetails/912-Bear-Mo...   535400   624900  2778   \n57  https://www.zillow.com/homedetails/512-Bernhar...   634900   699900  3206   \n\n               5   6  7     8  9              10                         11  \\\n1   Not specified   3  3  2122     SINGLE_FAMILY         316 Maple Ridge Dr   \n2   Not specified   3  4  1975     SINGLE_FAMILY           1113 Michael Ave   \n3   Not specified   2  3  1185     SINGLE_FAMILY         919 Robinhood Blvd   \n4   Not specified   2  3  1686     SINGLE_FAMILY             824 Raleigh Dr   \n5   Not specified   2  3  1850     SINGLE_FAMILY             1000 Willow Ln   \n6   Not specified   2  3  1456     SINGLE_FAMILY         913 Mount Doble Dr   \n7   Not specified   3  3  1954     SINGLE_FAMILY                281 Pine Ln   \n8   Not specified   2  4  1443     SINGLE_FAMILY        701 Villa Grove Ave   \n9   Not specified   5  4  3752     SINGLE_FAMILY             352 Lookout Dr   \n10  Not specified   2  3  1428     SINGLE_FAMILY        1526 Monte Vista Dr   \n11  Not specified   2  3  1128     SINGLE_FAMILY             1281 Minton Dr   \n12  Not specified   4  3  2936     SINGLE_FAMILY        1635 Shenandoah Way   \n13  Not specified   2  3  2425     SINGLE_FAMILY     1130 Rocky Mountain Rd   \n14  Not specified   3  3  1344     SINGLE_FAMILY         277 Greenspot Blvd   \n15  Not specified   2  3  2758     SINGLE_FAMILY             305 Lookout Dr   \n16  Not specified   2  3  1689     SINGLE_FAMILY        329 E Sherwood Blvd   \n17  Not specified   2  3  1322     SINGLE_FAMILY         369 Greenspot Blvd   \n18  Not specified   2  4  2334     SINGLE_FAMILY          1009 Heritage Trl   \n19  Not specified   3  4  2421     SINGLE_FAMILY            1194 Alameda Ct   \n20  Not specified   6  5  4400     SINGLE_FAMILY           1658 Tuolumne Rd   \n21  Not specified   3  3  2111     SINGLE_FAMILY           1242 Panorama Dr   \n22  Not specified   3  5  3108     SINGLE_FAMILY              46125 Vale Dr   \n23  Not specified   3  4  1636     SINGLE_FAMILY   764 Panamint Mountain Dr   \n24  Not specified   3  4  1974     SINGLE_FAMILY            1048 Hemlock Ln   \n25  Not specified   3  3  1807     SINGLE_FAMILY       1842 Baldwin Lake Rd   \n26  Not specified   3  4  3415     SINGLE_FAMILY           1185 Mitchell Ln   \n27  Not specified   3  4  2012     SINGLE_FAMILY              666 Butte Ave   \n28  Not specified   1  3  1188     SINGLE_FAMILY           1526 Malabar Way   \n29  Not specified   3  4  1945     SINGLE_FAMILY             929 Myrtle Ave   \n30  Not specified   2  3   903     SINGLE_FAMILY                2149 1st Ln   \n31  Not specified   2  3  1600     SINGLE_FAMILY            1416 Klamath Rd   \n32  Not specified   4  4  4575     SINGLE_FAMILY           46647 Arastre Rd   \n33  Not specified   3  3  1973     SINGLE_FAMILY  1020 Whispering Forest Dr   \n34  Not specified   3  3  2698     SINGLE_FAMILY           46895 Estacia Rd   \n35  Not specified   4  4  2062     SINGLE_FAMILY       1125 W Big Bear Blvd   \n36  Not specified  10  6  6534     SINGLE_FAMILY          1027 Heritage Trl   \n37  Not specified   4  4  3894     SINGLE_FAMILY            109 Palomino Dr   \n38  Not specified   3  3  1829     SINGLE_FAMILY       1331 La Crescenta Dr   \n39  Not specified   3  4  3478     SINGLE_FAMILY            160 Yosemite Dr   \n40  Not specified   2  3  1214     SINGLE_FAMILY          449 E Barker Blvd   \n41  Not specified   2  3  1800     SINGLE_FAMILY   1037 Van Dusen Canyon Rd   \n42  Not specified   5  5  3626     SINGLE_FAMILY            42539 Bear Loop   \n43  Not specified   3  4  2830     SINGLE_FAMILY     1112 Cedar Mountain Rd   \n44  Not specified   5  5  4188     SINGLE_FAMILY          1033 Heritage Trl   \n45  Not specified   1  3   840     SINGLE_FAMILY                2047 7th Ln   \n46  Not specified   2  3  2304     SINGLE_FAMILY                2111 7th Ln   \n47  Not specified   4  3  2803     SINGLE_FAMILY            1690 Cascade Rd   \n48  Not specified   3  4  2768     SINGLE_FAMILY           46242 Curvate Dr   \n49  Not specified   2  3  2264     SINGLE_FAMILY        1150 Valley View Dr   \n50  Not specified   3  5  2208     SINGLE_FAMILY             350 Brewer Way   \n51  Not specified   5  6  4668     SINGLE_FAMILY        1640 Shenandoah Way   \n52  Not specified   2  3  1440     SINGLE_FAMILY         236 Greenspot Blvd   \n53  Not specified   6  8  6200     SINGLE_FAMILY    998 Feather Mountain Dr   \n54  Not specified   3  3  1716     SINGLE_FAMILY                433 Eton Ln   \n55  Not specified   2  3  1326     SINGLE_FAMILY          400 San Martin St   \n56  Not specified   2  3  1420     SINGLE_FAMILY       912 Bear Mountain Rd   \n57  Not specified   2  3  1832     SINGLE_FAMILY           512 Bernhardt Ln   \n\n               12     13  \n1   Big Bear City  92314  \n2   Big Bear City  92314  \n3   Big Bear City  92314  \n4   Big Bear City  92314  \n5   Big Bear City  92314  \n6   Big Bear City  92314  \n7   Big Bear City  92314  \n8   Big Bear City  92314  \n9   Big Bear City  92314  \n10  Big Bear City  92314  \n11  Big Bear City  92314  \n12  Big Bear City  92314  \n13  Big Bear City  92314  \n14  Big Bear City  92314  \n15  Big Bear City  92314  \n16  Big Bear City  92314  \n17  Big Bear City  92314  \n18  Big Bear City  92314  \n19  Big Bear City  92314  \n20  Big Bear City  92314  \n21  Big Bear City  92314  \n22  Big Bear City  92314  \n23  Big Bear City  92314  \n24  Big Bear City  92314  \n25  Big Bear City  92314  \n26  Big Bear City  92314  \n27  Big Bear City  92314  \n28  Big Bear City  92314  \n29  Big Bear City  92314  \n30  Big Bear City  92314  \n31  Big Bear City  92314  \n32  Big Bear City  92314  \n33  Big Bear City  92314  \n34  Big Bear City  92314  \n35  Big Bear City  92314  \n36  Big Bear City  92314  \n37  Big Bear City  92314  \n38  Big Bear City  92314  \n39  Big Bear City  92314  \n40  Big Bear City  92314  \n41  Big Bear City  92314  \n42  Big Bear City  92314  \n43  Big Bear City  92314  \n44  Big Bear City  92314  \n45  Big Bear City  92314  \n46  Big Bear City  92314  \n47  Big Bear City  92314  \n48  Big Bear City  92314  \n49  Big Bear City  92314  \n50  Big Bear City  92314  \n51  Big Bear City  92314  \n52  Big Bear City  92314  \n53  Big Bear City  92314  \n54  Big Bear City  92314  \n55  Big Bear City  92314  \n56  Big Bear City  92314  \n57  Big Bear City  92314  ",
      "text/html": "<div>\n<style scoped>\n    .dataframe tbody tr th:only-of-type {\n        vertical-align: middle;\n    }\n\n    .dataframe tbody tr th {\n        vertical-align: top;\n    }\n\n    .dataframe thead th {\n        text-align: right;\n    }\n</style>\n<table border=\"1\" class=\"dataframe\">\n  <thead>\n    <tr style=\"text-align: right;\">\n      <th></th>\n      <th>1</th>\n      <th>2</th>\n      <th>3</th>\n      <th>4</th>\n      <th>5</th>\n      <th>6</th>\n      <th>7</th>\n      <th>8</th>\n      <th>9</th>\n      <th>10</th>\n      <th>11</th>\n      <th>12</th>\n      <th>13</th>\n    </tr>\n  </thead>\n  <tbody>\n    <tr>\n      <th>1</th>\n      <td>https://www.zillow.com/homedetails/316-Maple-R...</td>\n      <td>614000</td>\n      <td>670000</td>\n      <td>3750</td>\n      <td>Not specified</td>\n      <td>3</td>\n      <td>3</td>\n      <td>2122</td>\n      <td></td>\n      <td>SINGLE_FAMILY</td>\n      <td>316 Maple Ridge Dr</td>\n      <td>Big Bear City</td>\n      <td>92314</td>\n    </tr>\n    <tr>\n      <th>2</th>\n      <td>https://www.zillow.com/homedetails/1113-Michae...</td>\n      <td>533300</td>\n      <td>649000</td>\n      <td>2999</td>\n      <td>Not specified</td>\n      <td>3</td>\n      <td>4</td>\n      <td>1975</td>\n      <td></td>\n      <td>SINGLE_FAMILY</td>\n      <td>1113 Michael Ave</td>\n      <td>Big Bear City</td>\n      <td>92314</td>\n    </tr>\n    <tr>\n      <th>3</th>\n      <td>https://www.zillow.com/homedetails/919-Robinho...</td>\n      <td>470600</td>\n      <td>539000</td>\n      <td>2300</td>\n      <td>Not specified</td>\n      <td>2</td>\n      <td>3</td>\n      <td>1185</td>\n      <td></td>\n      <td>SINGLE_FAMILY</td>\n      <td>919 Robinhood Blvd</td>\n      <td>Big Bear City</td>\n      <td>92314</td>\n    </tr>\n    <tr>\n      <th>4</th>\n      <td>https://www.zillow.com/homedetails/824-Raleigh...</td>\n      <td>632272</td>\n      <td>650000</td>\n      <td>2990</td>\n      <td>Not specified</td>\n      <td>2</td>\n      <td>3</td>\n      <td>1686</td>\n      <td></td>\n      <td>SINGLE_FAMILY</td>\n      <td>824 Raleigh Dr</td>\n      <td>Big Bear City</td>\n      <td>92314</td>\n    </tr>\n    <tr>\n      <th>5</th>\n      <td>https://www.zillow.com/homedetails/1000-Willow...</td>\n      <td>575001</td>\n      <td>575000</td>\n      <td>2996</td>\n      <td>Not specified</td>\n      <td>2</td>\n      <td>3</td>\n      <td>1850</td>\n      <td></td>\n      <td>SINGLE_FAMILY</td>\n      <td>1000 Willow Ln</td>\n      <td>Big Bear City</td>\n      <td>92314</td>\n    </tr>\n    <tr>\n      <th>6</th>\n      <td>https://www.zillow.com/homedetails/913-Mount-D...</td>\n      <td></td>\n      <td>479900</td>\n      <td>2808</td>\n      <td>Not specified</td>\n      <td>2</td>\n      <td>3</td>\n      <td>1456</td>\n      <td></td>\n      <td>SINGLE_FAMILY</td>\n      <td>913 Mount Doble Dr</td>\n      <td>Big Bear City</td>\n      <td>92314</td>\n    </tr>\n    <tr>\n      <th>7</th>\n      <td>https://www.zillow.com/homedetails/281-Pine-Ln...</td>\n      <td>525000</td>\n      <td>525000</td>\n      <td>3499</td>\n      <td>Not specified</td>\n      <td>3</td>\n      <td>3</td>\n      <td>1954</td>\n      <td></td>\n      <td>SINGLE_FAMILY</td>\n      <td>281 Pine Ln</td>\n      <td>Big Bear City</td>\n      <td>92314</td>\n    </tr>\n    <tr>\n      <th>8</th>\n      <td>https://www.zillow.com/homedetails/701-Villa-G...</td>\n      <td>599000</td>\n      <td>599000</td>\n      <td>2999</td>\n      <td>Not specified</td>\n      <td>2</td>\n      <td>4</td>\n      <td>1443</td>\n      <td></td>\n      <td>SINGLE_FAMILY</td>\n      <td>701 Villa Grove Ave</td>\n      <td>Big Bear City</td>\n      <td>92314</td>\n    </tr>\n    <tr>\n      <th>9</th>\n      <td>https://www.zillow.com/homedetails/352-Lookout...</td>\n      <td>1070564</td>\n      <td>1125000</td>\n      <td>4805</td>\n      <td>Not specified</td>\n      <td>5</td>\n      <td>4</td>\n      <td>3752</td>\n      <td></td>\n      <td>SINGLE_FAMILY</td>\n      <td>352 Lookout Dr</td>\n      <td>Big Bear City</td>\n      <td>92314</td>\n    </tr>\n    <tr>\n      <th>10</th>\n      <td>https://www.zillow.com/homedetails/1526-Monte-...</td>\n      <td>418057</td>\n      <td>419000</td>\n      <td>2728</td>\n      <td>Not specified</td>\n      <td>2</td>\n      <td>3</td>\n      <td>1428</td>\n      <td></td>\n      <td>SINGLE_FAMILY</td>\n      <td>1526 Monte Vista Dr</td>\n      <td>Big Bear City</td>\n      <td>92314</td>\n    </tr>\n    <tr>\n      <th>11</th>\n      <td>https://www.zillow.com/homedetails/1281-Minton...</td>\n      <td>498800</td>\n      <td>499000</td>\n      <td>2600</td>\n      <td>Not specified</td>\n      <td>2</td>\n      <td>3</td>\n      <td>1128</td>\n      <td></td>\n      <td>SINGLE_FAMILY</td>\n      <td>1281 Minton Dr</td>\n      <td>Big Bear City</td>\n      <td>92314</td>\n    </tr>\n    <tr>\n      <th>12</th>\n      <td>https://www.zillow.com/homedetails/1635-Shenan...</td>\n      <td>1436140</td>\n      <td>1535000</td>\n      <td></td>\n      <td>Not specified</td>\n      <td>4</td>\n      <td>3</td>\n      <td>2936</td>\n      <td></td>\n      <td>SINGLE_FAMILY</td>\n      <td>1635 Shenandoah Way</td>\n      <td>Big Bear City</td>\n      <td>92314</td>\n    </tr>\n    <tr>\n      <th>13</th>\n      <td>https://www.zillow.com/homedetails/1130-Rocky-...</td>\n      <td>939300</td>\n      <td>965000</td>\n      <td></td>\n      <td>Not specified</td>\n      <td>2</td>\n      <td>3</td>\n      <td>2425</td>\n      <td></td>\n      <td>SINGLE_FAMILY</td>\n      <td>1130 Rocky Mountain Rd</td>\n      <td>Big Bear City</td>\n      <td>92314</td>\n    </tr>\n    <tr>\n      <th>14</th>\n      <td>https://www.zillow.com/homedetails/277-Greensp...</td>\n      <td>498900</td>\n      <td>499000</td>\n      <td>2699</td>\n      <td>Not specified</td>\n      <td>3</td>\n      <td>3</td>\n      <td>1344</td>\n      <td></td>\n      <td>SINGLE_FAMILY</td>\n      <td>277 Greenspot Blvd</td>\n      <td>Big Bear City</td>\n      <td>92314</td>\n    </tr>\n    <tr>\n      <th>15</th>\n      <td>https://www.zillow.com/homedetails/305-Lookout...</td>\n      <td>876523</td>\n      <td>900000</td>\n      <td>4500</td>\n      <td>Not specified</td>\n      <td>2</td>\n      <td>3</td>\n      <td>2758</td>\n      <td></td>\n      <td>SINGLE_FAMILY</td>\n      <td>305 Lookout Dr</td>\n      <td>Big Bear City</td>\n      <td>92314</td>\n    </tr>\n    <tr>\n      <th>16</th>\n      <td>https://www.zillow.com/homedetails/329-E-Sherw...</td>\n      <td>490500</td>\n      <td>630000</td>\n      <td>2999</td>\n      <td>Not specified</td>\n      <td>2</td>\n      <td>3</td>\n      <td>1689</td>\n      <td></td>\n      <td>SINGLE_FAMILY</td>\n      <td>329 E Sherwood Blvd</td>\n      <td>Big Bear City</td>\n      <td>92314</td>\n    </tr>\n    <tr>\n      <th>17</th>\n      <td>https://www.zillow.com/homedetails/369-Greensp...</td>\n      <td>464900</td>\n      <td>380000</td>\n      <td></td>\n      <td>Not specified</td>\n      <td>2</td>\n      <td>3</td>\n      <td>1322</td>\n      <td></td>\n      <td>SINGLE_FAMILY</td>\n      <td>369 Greenspot Blvd</td>\n      <td>Big Bear City</td>\n      <td>92314</td>\n    </tr>\n    <tr>\n      <th>18</th>\n      <td>https://www.zillow.com/homedetails/1009-Herita...</td>\n      <td>963217</td>\n      <td>1010000</td>\n      <td>4113</td>\n      <td>Not specified</td>\n      <td>2</td>\n      <td>4</td>\n      <td>2334</td>\n      <td></td>\n      <td>SINGLE_FAMILY</td>\n      <td>1009 Heritage Trl</td>\n      <td>Big Bear City</td>\n      <td>92314</td>\n    </tr>\n    <tr>\n      <th>19</th>\n      <td>https://www.zillow.com/homedetails/1194-Alamed...</td>\n      <td></td>\n      <td>1100000</td>\n      <td></td>\n      <td>Not specified</td>\n      <td>3</td>\n      <td>4</td>\n      <td>2421</td>\n      <td></td>\n      <td>SINGLE_FAMILY</td>\n      <td>1194 Alameda Ct</td>\n      <td>Big Bear City</td>\n      <td>92314</td>\n    </tr>\n    <tr>\n      <th>20</th>\n      <td>https://www.zillow.com/homedetails/1658-Tuolum...</td>\n      <td>1799652</td>\n      <td>1900000</td>\n      <td>1950</td>\n      <td>Not specified</td>\n      <td>6</td>\n      <td>5</td>\n      <td>4400</td>\n      <td></td>\n      <td>SINGLE_FAMILY</td>\n      <td>1658 Tuolumne Rd</td>\n      <td>Big Bear City</td>\n      <td>92314</td>\n    </tr>\n    <tr>\n      <th>21</th>\n      <td>https://www.zillow.com/homedetails/1242-Panora...</td>\n      <td>637891</td>\n      <td>655000</td>\n      <td>3696</td>\n      <td>Not specified</td>\n      <td>3</td>\n      <td>3</td>\n      <td>2111</td>\n      <td></td>\n      <td>SINGLE_FAMILY</td>\n      <td>1242 Panorama Dr</td>\n      <td>Big Bear City</td>\n      <td>92314</td>\n    </tr>\n    <tr>\n      <th>22</th>\n      <td>https://www.zillow.com/homedetails/46125-Vale-...</td>\n      <td>851800</td>\n      <td>950000</td>\n      <td>3658</td>\n      <td>Not specified</td>\n      <td>3</td>\n      <td>5</td>\n      <td>3108</td>\n      <td></td>\n      <td>SINGLE_FAMILY</td>\n      <td>46125 Vale Dr</td>\n      <td>Big Bear City</td>\n      <td>92314</td>\n    </tr>\n    <tr>\n      <th>23</th>\n      <td>https://www.zillow.com/homedetails/764-Panamin...</td>\n      <td>537945</td>\n      <td>549900</td>\n      <td>2999</td>\n      <td>Not specified</td>\n      <td>3</td>\n      <td>4</td>\n      <td>1636</td>\n      <td></td>\n      <td>SINGLE_FAMILY</td>\n      <td>764 Panamint Mountain Dr</td>\n      <td>Big Bear City</td>\n      <td>92314</td>\n    </tr>\n    <tr>\n      <th>24</th>\n      <td>https://www.zillow.com/homedetails/1048-Hemloc...</td>\n      <td>634900</td>\n      <td>649000</td>\n      <td>3127</td>\n      <td>Not specified</td>\n      <td>3</td>\n      <td>4</td>\n      <td>1974</td>\n      <td></td>\n      <td>SINGLE_FAMILY</td>\n      <td>1048 Hemlock Ln</td>\n      <td>Big Bear City</td>\n      <td>92314</td>\n    </tr>\n    <tr>\n      <th>25</th>\n      <td>https://www.zillow.com/homedetails/1842-Baldwi...</td>\n      <td>493900</td>\n      <td>495000</td>\n      <td>3069</td>\n      <td>Not specified</td>\n      <td>3</td>\n      <td>3</td>\n      <td>1807</td>\n      <td></td>\n      <td>SINGLE_FAMILY</td>\n      <td>1842 Baldwin Lake Rd</td>\n      <td>Big Bear City</td>\n      <td>92314</td>\n    </tr>\n    <tr>\n      <th>26</th>\n      <td>https://www.zillow.com/homedetails/1185-Mitche...</td>\n      <td>936576</td>\n      <td>960000</td>\n      <td>4800</td>\n      <td>Not specified</td>\n      <td>3</td>\n      <td>4</td>\n      <td>3415</td>\n      <td></td>\n      <td>SINGLE_FAMILY</td>\n      <td>1185 Mitchell Ln</td>\n      <td>Big Bear City</td>\n      <td>92314</td>\n    </tr>\n    <tr>\n      <th>27</th>\n      <td>https://www.zillow.com/homedetails/666-Butte-A...</td>\n      <td>804600</td>\n      <td>824888</td>\n      <td>3073</td>\n      <td>Not specified</td>\n      <td>3</td>\n      <td>4</td>\n      <td>2012</td>\n      <td></td>\n      <td>SINGLE_FAMILY</td>\n      <td>666 Butte Ave</td>\n      <td>Big Bear City</td>\n      <td>92314</td>\n    </tr>\n    <tr>\n      <th>28</th>\n      <td>https://www.zillow.com/homedetails/1526-Malaba...</td>\n      <td>376000</td>\n      <td>409000</td>\n      <td>2228</td>\n      <td>Not specified</td>\n      <td>1</td>\n      <td>3</td>\n      <td>1188</td>\n      <td></td>\n      <td>SINGLE_FAMILY</td>\n      <td>1526 Malabar Way</td>\n      <td>Big Bear City</td>\n      <td>92314</td>\n    </tr>\n    <tr>\n      <th>29</th>\n      <td>https://www.zillow.com/homedetails/929-Myrtle-...</td>\n      <td>684700</td>\n      <td>697000</td>\n      <td>3421</td>\n      <td>Not specified</td>\n      <td>3</td>\n      <td>4</td>\n      <td>1945</td>\n      <td></td>\n      <td>SINGLE_FAMILY</td>\n      <td>929 Myrtle Ave</td>\n      <td>Big Bear City</td>\n      <td>92314</td>\n    </tr>\n    <tr>\n      <th>30</th>\n      <td>https://www.zillow.com/homedetails/2149-1st-Ln...</td>\n      <td>289000</td>\n      <td>289000</td>\n      <td>2028</td>\n      <td>Not specified</td>\n      <td>2</td>\n      <td>3</td>\n      <td>903</td>\n      <td></td>\n      <td>SINGLE_FAMILY</td>\n      <td>2149 1st Ln</td>\n      <td>Big Bear City</td>\n      <td>92314</td>\n    </tr>\n    <tr>\n      <th>31</th>\n      <td>https://www.zillow.com/homedetails/1416-Klamat...</td>\n      <td>677600</td>\n      <td>699900</td>\n      <td>2999</td>\n      <td>Not specified</td>\n      <td>2</td>\n      <td>3</td>\n      <td>1600</td>\n      <td></td>\n      <td>SINGLE_FAMILY</td>\n      <td>1416 Klamath Rd</td>\n      <td>Big Bear City</td>\n      <td>92314</td>\n    </tr>\n    <tr>\n      <th>32</th>\n      <td>https://www.zillow.com/homedetails/46647-Arast...</td>\n      <td>1171624</td>\n      <td>1275000</td>\n      <td>4886</td>\n      <td>Not specified</td>\n      <td>4</td>\n      <td>4</td>\n      <td>4575</td>\n      <td></td>\n      <td>SINGLE_FAMILY</td>\n      <td>46647 Arastre Rd</td>\n      <td>Big Bear City</td>\n      <td>92314</td>\n    </tr>\n    <tr>\n      <th>33</th>\n      <td>https://www.zillow.com/homedetails/1020-Whispe...</td>\n      <td>770873</td>\n      <td>794000</td>\n      <td>3406</td>\n      <td>Not specified</td>\n      <td>3</td>\n      <td>3</td>\n      <td>1973</td>\n      <td></td>\n      <td>SINGLE_FAMILY</td>\n      <td>1020 Whispering Forest Dr</td>\n      <td>Big Bear City</td>\n      <td>92314</td>\n    </tr>\n    <tr>\n      <th>34</th>\n      <td>https://www.zillow.com/homedetails/46895-Estac...</td>\n      <td>815376</td>\n      <td>849900</td>\n      <td>4500</td>\n      <td>Not specified</td>\n      <td>3</td>\n      <td>3</td>\n      <td>2698</td>\n      <td></td>\n      <td>SINGLE_FAMILY</td>\n      <td>46895 Estacia Rd</td>\n      <td>Big Bear City</td>\n      <td>92314</td>\n    </tr>\n    <tr>\n      <th>35</th>\n      <td>https://www.zillow.com/homedetails/1125-W-Big-...</td>\n      <td>933153</td>\n      <td>949000</td>\n      <td>4320</td>\n      <td>Not specified</td>\n      <td>4</td>\n      <td>4</td>\n      <td>2062</td>\n      <td></td>\n      <td>SINGLE_FAMILY</td>\n      <td>1125 W Big Bear Blvd</td>\n      <td>Big Bear City</td>\n      <td>92314</td>\n    </tr>\n    <tr>\n      <th>36</th>\n      <td>https://www.zillow.com/homedetails/1027-Herita...</td>\n      <td>1804200</td>\n      <td>2289000</td>\n      <td>7545</td>\n      <td>Not specified</td>\n      <td>10</td>\n      <td>6</td>\n      <td>6534</td>\n      <td></td>\n      <td>SINGLE_FAMILY</td>\n      <td>1027 Heritage Trl</td>\n      <td>Big Bear City</td>\n      <td>92314</td>\n    </tr>\n    <tr>\n      <th>37</th>\n      <td>https://www.zillow.com/homedetails/109-Palomin...</td>\n      <td>1166674</td>\n      <td>1250000</td>\n      <td>4187</td>\n      <td>Not specified</td>\n      <td>4</td>\n      <td>4</td>\n      <td>3894</td>\n      <td></td>\n      <td>SINGLE_FAMILY</td>\n      <td>109 Palomino Dr</td>\n      <td>Big Bear City</td>\n      <td>92314</td>\n    </tr>\n    <tr>\n      <th>38</th>\n      <td>https://www.zillow.com/homedetails/1331-La-Cre...</td>\n      <td>631276</td>\n      <td>645000</td>\n      <td>2999</td>\n      <td>Not specified</td>\n      <td>3</td>\n      <td>3</td>\n      <td>1829</td>\n      <td></td>\n      <td>SINGLE_FAMILY</td>\n      <td>1331 La Crescenta Dr</td>\n      <td>Big Bear City</td>\n      <td>92314</td>\n    </tr>\n    <tr>\n      <th>39</th>\n      <td>https://www.zillow.com/homedetails/160-Yosemit...</td>\n      <td>1044000</td>\n      <td>1100000</td>\n      <td>4411</td>\n      <td>Not specified</td>\n      <td>3</td>\n      <td>4</td>\n      <td>3478</td>\n      <td></td>\n      <td>SINGLE_FAMILY</td>\n      <td>160 Yosemite Dr</td>\n      <td>Big Bear City</td>\n      <td>92314</td>\n    </tr>\n    <tr>\n      <th>40</th>\n      <td>https://www.zillow.com/homedetails/449-E-Barke...</td>\n      <td>531951</td>\n      <td>550000</td>\n      <td>2350</td>\n      <td>Not specified</td>\n      <td>2</td>\n      <td>3</td>\n      <td>1214</td>\n      <td></td>\n      <td>SINGLE_FAMILY</td>\n      <td>449 E Barker Blvd</td>\n      <td>Big Bear City</td>\n      <td>92314</td>\n    </tr>\n    <tr>\n      <th>41</th>\n      <td>https://www.zillow.com/homedetails/1037-Van-Du...</td>\n      <td></td>\n      <td>599000</td>\n      <td></td>\n      <td>Not specified</td>\n      <td>2</td>\n      <td>3</td>\n      <td>1800</td>\n      <td></td>\n      <td>SINGLE_FAMILY</td>\n      <td>1037 Van Dusen Canyon Rd</td>\n      <td>Big Bear City</td>\n      <td>92314</td>\n    </tr>\n    <tr>\n      <th>42</th>\n      <td>https://www.zillow.com/homedetails/42539-Bear-...</td>\n      <td>1132327</td>\n      <td>1226688</td>\n      <td>5114</td>\n      <td>Not specified</td>\n      <td>5</td>\n      <td>5</td>\n      <td>3626</td>\n      <td></td>\n      <td>SINGLE_FAMILY</td>\n      <td>42539 Bear Loop</td>\n      <td>Big Bear City</td>\n      <td>92314</td>\n    </tr>\n    <tr>\n      <th>43</th>\n      <td>https://www.zillow.com/homedetails/1112-Cedar-...</td>\n      <td>711600</td>\n      <td>725000</td>\n      <td>3349</td>\n      <td>Not specified</td>\n      <td>3</td>\n      <td>4</td>\n      <td>2830</td>\n      <td></td>\n      <td>SINGLE_FAMILY</td>\n      <td>1112 Cedar Mountain Rd</td>\n      <td>Big Bear City</td>\n      <td>92314</td>\n    </tr>\n    <tr>\n      <th>44</th>\n      <td>https://www.zillow.com/homedetails/1033-Herita...</td>\n      <td>1771560</td>\n      <td>1950000</td>\n      <td>7723</td>\n      <td>Not specified</td>\n      <td>5</td>\n      <td>5</td>\n      <td>4188</td>\n      <td></td>\n      <td>SINGLE_FAMILY</td>\n      <td>1033 Heritage Trl</td>\n      <td>Big Bear City</td>\n      <td>92314</td>\n    </tr>\n    <tr>\n      <th>45</th>\n      <td>https://www.zillow.com/homedetails/2047-7th-Ln...</td>\n      <td>323300</td>\n      <td>349000</td>\n      <td></td>\n      <td>Not specified</td>\n      <td>1</td>\n      <td>3</td>\n      <td>840</td>\n      <td></td>\n      <td>SINGLE_FAMILY</td>\n      <td>2047 7th Ln</td>\n      <td>Big Bear City</td>\n      <td>92314</td>\n    </tr>\n    <tr>\n      <th>46</th>\n      <td>https://www.zillow.com/homedetails/2111-7th-Ln...</td>\n      <td>768356</td>\n      <td>799000</td>\n      <td>3196</td>\n      <td>Not specified</td>\n      <td>2</td>\n      <td>3</td>\n      <td>2304</td>\n      <td></td>\n      <td>SINGLE_FAMILY</td>\n      <td>2111 7th Ln</td>\n      <td>Big Bear City</td>\n      <td>92314</td>\n    </tr>\n    <tr>\n      <th>47</th>\n      <td>https://www.zillow.com/homedetails/1690-Cascad...</td>\n      <td>1081411</td>\n      <td>1149000</td>\n      <td>4641</td>\n      <td>Not specified</td>\n      <td>4</td>\n      <td>3</td>\n      <td>2803</td>\n      <td></td>\n      <td>SINGLE_FAMILY</td>\n      <td>1690 Cascade Rd</td>\n      <td>Big Bear City</td>\n      <td>92314</td>\n    </tr>\n    <tr>\n      <th>48</th>\n      <td>https://www.zillow.com/homedetails/46242-Curva...</td>\n      <td>711219</td>\n      <td>729000</td>\n      <td>3634</td>\n      <td>Not specified</td>\n      <td>3</td>\n      <td>4</td>\n      <td>2768</td>\n      <td></td>\n      <td>SINGLE_FAMILY</td>\n      <td>46242 Curvate Dr</td>\n      <td>Big Bear City</td>\n      <td>92314</td>\n    </tr>\n    <tr>\n      <th>49</th>\n      <td>https://www.zillow.com/homedetails/1150-Valley...</td>\n      <td>624781</td>\n      <td>634000</td>\n      <td>3399</td>\n      <td>Not specified</td>\n      <td>2</td>\n      <td>3</td>\n      <td>2264</td>\n      <td></td>\n      <td>SINGLE_FAMILY</td>\n      <td>1150 Valley View Dr</td>\n      <td>Big Bear City</td>\n      <td>92314</td>\n    </tr>\n    <tr>\n      <th>50</th>\n      <td>https://www.zillow.com/homedetails/350-Brewer-...</td>\n      <td>640491</td>\n      <td>659900</td>\n      <td>3858</td>\n      <td>Not specified</td>\n      <td>3</td>\n      <td>5</td>\n      <td>2208</td>\n      <td></td>\n      <td>SINGLE_FAMILY</td>\n      <td>350 Brewer Way</td>\n      <td>Big Bear City</td>\n      <td>92314</td>\n    </tr>\n    <tr>\n      <th>51</th>\n      <td>https://www.zillow.com/homedetails/1640-Shenan...</td>\n      <td>1918200</td>\n      <td>2099999</td>\n      <td>9797</td>\n      <td>Not specified</td>\n      <td>5</td>\n      <td>6</td>\n      <td>4668</td>\n      <td></td>\n      <td>SINGLE_FAMILY</td>\n      <td>1640 Shenandoah Way</td>\n      <td>Big Bear City</td>\n      <td>92314</td>\n    </tr>\n    <tr>\n      <th>52</th>\n      <td>https://www.zillow.com/homedetails/236-Greensp...</td>\n      <td></td>\n      <td>549900</td>\n      <td></td>\n      <td>Not specified</td>\n      <td>2</td>\n      <td>3</td>\n      <td>1440</td>\n      <td></td>\n      <td>SINGLE_FAMILY</td>\n      <td>236 Greenspot Blvd</td>\n      <td>Big Bear City</td>\n      <td>92314</td>\n    </tr>\n    <tr>\n      <th>53</th>\n      <td>https://www.zillow.com/homedetails/998-Feather...</td>\n      <td>991400</td>\n      <td>1050000</td>\n      <td>4214</td>\n      <td>Not specified</td>\n      <td>6</td>\n      <td>8</td>\n      <td>6200</td>\n      <td></td>\n      <td>SINGLE_FAMILY</td>\n      <td>998 Feather Mountain Dr</td>\n      <td>Big Bear City</td>\n      <td>92314</td>\n    </tr>\n    <tr>\n      <th>54</th>\n      <td>https://www.zillow.com/homedetails/433-Eton-Ln...</td>\n      <td>724838</td>\n      <td>749000</td>\n      <td>3298</td>\n      <td>Not specified</td>\n      <td>3</td>\n      <td>3</td>\n      <td>1716</td>\n      <td></td>\n      <td>SINGLE_FAMILY</td>\n      <td>433 Eton Ln</td>\n      <td>Big Bear City</td>\n      <td>92314</td>\n    </tr>\n    <tr>\n      <th>55</th>\n      <td>https://www.zillow.com/homedetails/400-San-Mar...</td>\n      <td>445500</td>\n      <td>449500</td>\n      <td>2484</td>\n      <td>Not specified</td>\n      <td>2</td>\n      <td>3</td>\n      <td>1326</td>\n      <td></td>\n      <td>SINGLE_FAMILY</td>\n      <td>400 San Martin St</td>\n      <td>Big Bear City</td>\n      <td>92314</td>\n    </tr>\n    <tr>\n      <th>56</th>\n      <td>https://www.zillow.com/homedetails/912-Bear-Mo...</td>\n      <td>535400</td>\n      <td>624900</td>\n      <td>2778</td>\n      <td>Not specified</td>\n      <td>2</td>\n      <td>3</td>\n      <td>1420</td>\n      <td></td>\n      <td>SINGLE_FAMILY</td>\n      <td>912 Bear Mountain Rd</td>\n      <td>Big Bear City</td>\n      <td>92314</td>\n    </tr>\n    <tr>\n      <th>57</th>\n      <td>https://www.zillow.com/homedetails/512-Bernhar...</td>\n      <td>634900</td>\n      <td>699900</td>\n      <td>3206</td>\n      <td>Not specified</td>\n      <td>2</td>\n      <td>3</td>\n      <td>1832</td>\n      <td></td>\n      <td>SINGLE_FAMILY</td>\n      <td>512 Bernhardt Ln</td>\n      <td>Big Bear City</td>\n      <td>92314</td>\n    </tr>\n  </tbody>\n</table>\n</div>"
     },
     "execution_count": 62,
     "metadata": {},
     "output_type": "execute_result"
    }
   ],
   "source": [
    "df6"
   ],
   "metadata": {
    "collapsed": false,
    "pycharm": {
     "name": "#%%\n"
    }
   }
  },
  {
   "cell_type": "code",
   "execution_count": 63,
   "outputs": [
    {
     "data": {
      "text/plain": "                                                   1       2         3     4   \\\n1   https://www.zillow.com/homedetails/8198-Uphill...          18000000  2435   \n2   https://www.zillow.com/homedetails/4757-Avenid...  223200    399990  1786   \n3   https://www.zillow.com/homedetails/61018-Presc...  568947    575000  2300   \n4   https://www.zillow.com/homedetails/61875-Anaco...  851656    899000  4798   \n5   https://www.zillow.com/homedetails/61879-Petun...            369900  1825   \n..                                                ...     ...       ...   ...   \n69  https://www.zillow.com/homedetails/64873-Choll...  331900    399995  1853   \n70  https://www.zillow.com/homedetails/62036-Bonai...  400438    413000  2400   \n71  https://www.zillow.com/homedetails/7320-Sherwo...  850155    879000  2398   \n72  https://www.zillow.com/homedetails/0-Sunfair-R...           1800000  3499   \n73  https://www.zillow.com/homedetails/7160-Olympi...            850000  4500   \n\n               5  6  7     8  9              10                           11  \\\n1   Not specified  4  3  5470     SINGLE_FAMILY               8198 Uphill Rd   \n2   Not specified  2  3  1056     SINGLE_FAMILY  4757 Avenida La Espana Daga   \n3   Not specified  2  3  1577     SINGLE_FAMILY           61018 Prescott Trl   \n4   Not specified  2  3  1434     SINGLE_FAMILY            61875 Anaconda Dr   \n5   Not specified  1  3  1040     SINGLE_FAMILY             61879 Petunia Dr   \n..            ... .. ..   ... ..            ...                          ...   \n69  Not specified  1  3  1080     SINGLE_FAMILY            64873 Chollita Rd   \n70  Not specified  2  3  1386     SINGLE_FAMILY              62036 Bonair Rd   \n71  Not specified  2  3  1700     SINGLE_FAMILY             7320 Sherwood Rd   \n72  Not specified  4  4  2200     SINGLE_FAMILY                 0 Sunfair Rd   \n73  Not specified  3  4  2600     SINGLE_FAMILY              7160 Olympic Rd   \n\n             12     13  \n1   Joshua Tree  92252  \n2   Joshua Tree  92252  \n3   Joshua Tree  92252  \n4   Joshua Tree  92252  \n5   Joshua Tree  92252  \n..          ...    ...  \n69  Joshua Tree  92252  \n70  Joshua Tree  92252  \n71  Joshua Tree  92252  \n72  Joshua Tree  92252  \n73  Joshua Tree  92252  \n\n[73 rows x 13 columns]",
      "text/html": "<div>\n<style scoped>\n    .dataframe tbody tr th:only-of-type {\n        vertical-align: middle;\n    }\n\n    .dataframe tbody tr th {\n        vertical-align: top;\n    }\n\n    .dataframe thead th {\n        text-align: right;\n    }\n</style>\n<table border=\"1\" class=\"dataframe\">\n  <thead>\n    <tr style=\"text-align: right;\">\n      <th></th>\n      <th>1</th>\n      <th>2</th>\n      <th>3</th>\n      <th>4</th>\n      <th>5</th>\n      <th>6</th>\n      <th>7</th>\n      <th>8</th>\n      <th>9</th>\n      <th>10</th>\n      <th>11</th>\n      <th>12</th>\n      <th>13</th>\n    </tr>\n  </thead>\n  <tbody>\n    <tr>\n      <th>1</th>\n      <td>https://www.zillow.com/homedetails/8198-Uphill...</td>\n      <td></td>\n      <td>18000000</td>\n      <td>2435</td>\n      <td>Not specified</td>\n      <td>4</td>\n      <td>3</td>\n      <td>5470</td>\n      <td></td>\n      <td>SINGLE_FAMILY</td>\n      <td>8198 Uphill Rd</td>\n      <td>Joshua Tree</td>\n      <td>92252</td>\n    </tr>\n    <tr>\n      <th>2</th>\n      <td>https://www.zillow.com/homedetails/4757-Avenid...</td>\n      <td>223200</td>\n      <td>399990</td>\n      <td>1786</td>\n      <td>Not specified</td>\n      <td>2</td>\n      <td>3</td>\n      <td>1056</td>\n      <td></td>\n      <td>SINGLE_FAMILY</td>\n      <td>4757 Avenida La Espana Daga</td>\n      <td>Joshua Tree</td>\n      <td>92252</td>\n    </tr>\n    <tr>\n      <th>3</th>\n      <td>https://www.zillow.com/homedetails/61018-Presc...</td>\n      <td>568947</td>\n      <td>575000</td>\n      <td>2300</td>\n      <td>Not specified</td>\n      <td>2</td>\n      <td>3</td>\n      <td>1577</td>\n      <td></td>\n      <td>SINGLE_FAMILY</td>\n      <td>61018 Prescott Trl</td>\n      <td>Joshua Tree</td>\n      <td>92252</td>\n    </tr>\n    <tr>\n      <th>4</th>\n      <td>https://www.zillow.com/homedetails/61875-Anaco...</td>\n      <td>851656</td>\n      <td>899000</td>\n      <td>4798</td>\n      <td>Not specified</td>\n      <td>2</td>\n      <td>3</td>\n      <td>1434</td>\n      <td></td>\n      <td>SINGLE_FAMILY</td>\n      <td>61875 Anaconda Dr</td>\n      <td>Joshua Tree</td>\n      <td>92252</td>\n    </tr>\n    <tr>\n      <th>5</th>\n      <td>https://www.zillow.com/homedetails/61879-Petun...</td>\n      <td></td>\n      <td>369900</td>\n      <td>1825</td>\n      <td>Not specified</td>\n      <td>1</td>\n      <td>3</td>\n      <td>1040</td>\n      <td></td>\n      <td>SINGLE_FAMILY</td>\n      <td>61879 Petunia Dr</td>\n      <td>Joshua Tree</td>\n      <td>92252</td>\n    </tr>\n    <tr>\n      <th>...</th>\n      <td>...</td>\n      <td>...</td>\n      <td>...</td>\n      <td>...</td>\n      <td>...</td>\n      <td>...</td>\n      <td>...</td>\n      <td>...</td>\n      <td>...</td>\n      <td>...</td>\n      <td>...</td>\n      <td>...</td>\n      <td>...</td>\n    </tr>\n    <tr>\n      <th>69</th>\n      <td>https://www.zillow.com/homedetails/64873-Choll...</td>\n      <td>331900</td>\n      <td>399995</td>\n      <td>1853</td>\n      <td>Not specified</td>\n      <td>1</td>\n      <td>3</td>\n      <td>1080</td>\n      <td></td>\n      <td>SINGLE_FAMILY</td>\n      <td>64873 Chollita Rd</td>\n      <td>Joshua Tree</td>\n      <td>92252</td>\n    </tr>\n    <tr>\n      <th>70</th>\n      <td>https://www.zillow.com/homedetails/62036-Bonai...</td>\n      <td>400438</td>\n      <td>413000</td>\n      <td>2400</td>\n      <td>Not specified</td>\n      <td>2</td>\n      <td>3</td>\n      <td>1386</td>\n      <td></td>\n      <td>SINGLE_FAMILY</td>\n      <td>62036 Bonair Rd</td>\n      <td>Joshua Tree</td>\n      <td>92252</td>\n    </tr>\n    <tr>\n      <th>71</th>\n      <td>https://www.zillow.com/homedetails/7320-Sherwo...</td>\n      <td>850155</td>\n      <td>879000</td>\n      <td>2398</td>\n      <td>Not specified</td>\n      <td>2</td>\n      <td>3</td>\n      <td>1700</td>\n      <td></td>\n      <td>SINGLE_FAMILY</td>\n      <td>7320 Sherwood Rd</td>\n      <td>Joshua Tree</td>\n      <td>92252</td>\n    </tr>\n    <tr>\n      <th>72</th>\n      <td>https://www.zillow.com/homedetails/0-Sunfair-R...</td>\n      <td></td>\n      <td>1800000</td>\n      <td>3499</td>\n      <td>Not specified</td>\n      <td>4</td>\n      <td>4</td>\n      <td>2200</td>\n      <td></td>\n      <td>SINGLE_FAMILY</td>\n      <td>0 Sunfair Rd</td>\n      <td>Joshua Tree</td>\n      <td>92252</td>\n    </tr>\n    <tr>\n      <th>73</th>\n      <td>https://www.zillow.com/homedetails/7160-Olympi...</td>\n      <td></td>\n      <td>850000</td>\n      <td>4500</td>\n      <td>Not specified</td>\n      <td>3</td>\n      <td>4</td>\n      <td>2600</td>\n      <td></td>\n      <td>SINGLE_FAMILY</td>\n      <td>7160 Olympic Rd</td>\n      <td>Joshua Tree</td>\n      <td>92252</td>\n    </tr>\n  </tbody>\n</table>\n<p>73 rows × 13 columns</p>\n</div>"
     },
     "execution_count": 63,
     "metadata": {},
     "output_type": "execute_result"
    }
   ],
   "source": [
    "df5"
   ],
   "metadata": {
    "collapsed": false,
    "pycharm": {
     "name": "#%%\n"
    }
   }
  },
  {
   "cell_type": "code",
   "execution_count": 64,
   "outputs": [
    {
     "data": {
      "text/plain": "                 1        2      3              4              5\n1      AIR10000347   2019-1  92315  Big Bear Lake      2-5 Units\n2      AIR10000347  2019-10  92315  Big Bear Lake      2-5 Units\n3      AIR10000347  2019-11  92315  Big Bear Lake      2-5 Units\n4      AIR10000347  2019-12  92315  Big Bear Lake      2-5 Units\n5      AIR10000347   2019-2  92315  Big Bear Lake      2-5 Units\n...            ...      ...    ...            ...            ...\n29924   AIR9996370   2019-5  92314  Big Bear City  Single Owners\n29925   AIR9996370   2019-6  92314  Big Bear City  Single Owners\n29926   AIR9996370   2019-7  92314  Big Bear City  Single Owners\n29927   AIR9996370   2019-8  92314  Big Bear City  Single Owners\n29928   AIR9996370   2019-9  92314  Big Bear City  Single Owners\n\n[29928 rows x 5 columns]",
      "text/html": "<div>\n<style scoped>\n    .dataframe tbody tr th:only-of-type {\n        vertical-align: middle;\n    }\n\n    .dataframe tbody tr th {\n        vertical-align: top;\n    }\n\n    .dataframe thead th {\n        text-align: right;\n    }\n</style>\n<table border=\"1\" class=\"dataframe\">\n  <thead>\n    <tr style=\"text-align: right;\">\n      <th></th>\n      <th>1</th>\n      <th>2</th>\n      <th>3</th>\n      <th>4</th>\n      <th>5</th>\n    </tr>\n  </thead>\n  <tbody>\n    <tr>\n      <th>1</th>\n      <td>AIR10000347</td>\n      <td>2019-1</td>\n      <td>92315</td>\n      <td>Big Bear Lake</td>\n      <td>2-5 Units</td>\n    </tr>\n    <tr>\n      <th>2</th>\n      <td>AIR10000347</td>\n      <td>2019-10</td>\n      <td>92315</td>\n      <td>Big Bear Lake</td>\n      <td>2-5 Units</td>\n    </tr>\n    <tr>\n      <th>3</th>\n      <td>AIR10000347</td>\n      <td>2019-11</td>\n      <td>92315</td>\n      <td>Big Bear Lake</td>\n      <td>2-5 Units</td>\n    </tr>\n    <tr>\n      <th>4</th>\n      <td>AIR10000347</td>\n      <td>2019-12</td>\n      <td>92315</td>\n      <td>Big Bear Lake</td>\n      <td>2-5 Units</td>\n    </tr>\n    <tr>\n      <th>5</th>\n      <td>AIR10000347</td>\n      <td>2019-2</td>\n      <td>92315</td>\n      <td>Big Bear Lake</td>\n      <td>2-5 Units</td>\n    </tr>\n    <tr>\n      <th>...</th>\n      <td>...</td>\n      <td>...</td>\n      <td>...</td>\n      <td>...</td>\n      <td>...</td>\n    </tr>\n    <tr>\n      <th>29924</th>\n      <td>AIR9996370</td>\n      <td>2019-5</td>\n      <td>92314</td>\n      <td>Big Bear City</td>\n      <td>Single Owners</td>\n    </tr>\n    <tr>\n      <th>29925</th>\n      <td>AIR9996370</td>\n      <td>2019-6</td>\n      <td>92314</td>\n      <td>Big Bear City</td>\n      <td>Single Owners</td>\n    </tr>\n    <tr>\n      <th>29926</th>\n      <td>AIR9996370</td>\n      <td>2019-7</td>\n      <td>92314</td>\n      <td>Big Bear City</td>\n      <td>Single Owners</td>\n    </tr>\n    <tr>\n      <th>29927</th>\n      <td>AIR9996370</td>\n      <td>2019-8</td>\n      <td>92314</td>\n      <td>Big Bear City</td>\n      <td>Single Owners</td>\n    </tr>\n    <tr>\n      <th>29928</th>\n      <td>AIR9996370</td>\n      <td>2019-9</td>\n      <td>92314</td>\n      <td>Big Bear City</td>\n      <td>Single Owners</td>\n    </tr>\n  </tbody>\n</table>\n<p>29928 rows × 5 columns</p>\n</div>"
     },
     "execution_count": 64,
     "metadata": {},
     "output_type": "execute_result"
    }
   ],
   "source": [
    "df4"
   ],
   "metadata": {
    "collapsed": false,
    "pycharm": {
     "name": "#%%\n"
    }
   }
  },
  {
   "cell_type": "code",
   "execution_count": 65,
   "outputs": [
    {
     "data": {
      "text/plain": "0       10000347   2020-1  92315  Big Bear Lake      2-5 Units    3    2   10  \\\n0       10000347  2020-10  92315  Big Bear Lake      2-5 Units    3    2   10   \n1       10000347  2020-11  92315  Big Bear Lake      2-5 Units    3    2   10   \n2       10000347  2020-12  92315  Big Bear Lake      2-5 Units    3    2   10   \n3       10000347   2020-2  92315  Big Bear Lake      2-5 Units    3    2   10   \n4       10000347   2020-3  92315  Big Bear Lake      2-5 Units    3    2   10   \n...          ...      ...    ...            ...            ...  ...  ...  ...   \n116613   9996370   2022-5  92314  Big Bear City  Single Owners  NaN  NaN  NaN   \n116614   9996370   2022-6  92314  Big Bear City  Single Owners  NaN  NaN  NaN   \n116615   9996370   2022-7  92314  Big Bear City  Single Owners  NaN  NaN  NaN   \n116616   9996370   2022-8  92314  Big Bear City  Single Owners  NaN  NaN  NaN   \n116617   9996370   2022-9  92314  Big Bear City  Single Owners  NaN  NaN  NaN   \n\n0       13948,75974   31            1  449,9599915    8  \n0       449,9599915   31  0,032258065  449,9599915    8  \n1                 0   30            0                    \n2       4949,679932   31   0,35483871  449,9709029   41  \n3                 0   28            0                    \n4       899,9199829   31  0,064516129  449,9599915    8  \n...             ...  ...          ...          ...  ...  \n116613          NaN  NaN          NaN          NaN  NaN  \n116614          NaN  NaN          NaN          NaN  NaN  \n116615          NaN  NaN          NaN          NaN  NaN  \n116616          NaN  NaN          NaN          NaN  NaN  \n116617          NaN  NaN          NaN          NaN  NaN  \n\n[116618 rows x 13 columns]",
      "text/html": "<div>\n<style scoped>\n    .dataframe tbody tr th:only-of-type {\n        vertical-align: middle;\n    }\n\n    .dataframe tbody tr th {\n        vertical-align: top;\n    }\n\n    .dataframe thead th {\n        text-align: right;\n    }\n</style>\n<table border=\"1\" class=\"dataframe\">\n  <thead>\n    <tr style=\"text-align: right;\">\n      <th></th>\n      <th>10000347</th>\n      <th>2020-1</th>\n      <th>92315</th>\n      <th>Big Bear Lake</th>\n      <th>2-5 Units</th>\n      <th>3</th>\n      <th>2</th>\n      <th>10</th>\n      <th>13948,75974</th>\n      <th>31</th>\n      <th>1</th>\n      <th>449,9599915</th>\n      <th>8</th>\n    </tr>\n  </thead>\n  <tbody>\n    <tr>\n      <th>0</th>\n      <td>10000347</td>\n      <td>2020-10</td>\n      <td>92315</td>\n      <td>Big Bear Lake</td>\n      <td>2-5 Units</td>\n      <td>3</td>\n      <td>2</td>\n      <td>10</td>\n      <td>449,9599915</td>\n      <td>31</td>\n      <td>0,032258065</td>\n      <td>449,9599915</td>\n      <td>8</td>\n    </tr>\n    <tr>\n      <th>1</th>\n      <td>10000347</td>\n      <td>2020-11</td>\n      <td>92315</td>\n      <td>Big Bear Lake</td>\n      <td>2-5 Units</td>\n      <td>3</td>\n      <td>2</td>\n      <td>10</td>\n      <td>0</td>\n      <td>30</td>\n      <td>0</td>\n      <td></td>\n      <td></td>\n    </tr>\n    <tr>\n      <th>2</th>\n      <td>10000347</td>\n      <td>2020-12</td>\n      <td>92315</td>\n      <td>Big Bear Lake</td>\n      <td>2-5 Units</td>\n      <td>3</td>\n      <td>2</td>\n      <td>10</td>\n      <td>4949,679932</td>\n      <td>31</td>\n      <td>0,35483871</td>\n      <td>449,9709029</td>\n      <td>41</td>\n    </tr>\n    <tr>\n      <th>3</th>\n      <td>10000347</td>\n      <td>2020-2</td>\n      <td>92315</td>\n      <td>Big Bear Lake</td>\n      <td>2-5 Units</td>\n      <td>3</td>\n      <td>2</td>\n      <td>10</td>\n      <td>0</td>\n      <td>28</td>\n      <td>0</td>\n      <td></td>\n      <td></td>\n    </tr>\n    <tr>\n      <th>4</th>\n      <td>10000347</td>\n      <td>2020-3</td>\n      <td>92315</td>\n      <td>Big Bear Lake</td>\n      <td>2-5 Units</td>\n      <td>3</td>\n      <td>2</td>\n      <td>10</td>\n      <td>899,9199829</td>\n      <td>31</td>\n      <td>0,064516129</td>\n      <td>449,9599915</td>\n      <td>8</td>\n    </tr>\n    <tr>\n      <th>...</th>\n      <td>...</td>\n      <td>...</td>\n      <td>...</td>\n      <td>...</td>\n      <td>...</td>\n      <td>...</td>\n      <td>...</td>\n      <td>...</td>\n      <td>...</td>\n      <td>...</td>\n      <td>...</td>\n      <td>...</td>\n      <td>...</td>\n    </tr>\n    <tr>\n      <th>116613</th>\n      <td>9996370</td>\n      <td>2022-5</td>\n      <td>92314</td>\n      <td>Big Bear City</td>\n      <td>Single Owners</td>\n      <td>NaN</td>\n      <td>NaN</td>\n      <td>NaN</td>\n      <td>NaN</td>\n      <td>NaN</td>\n      <td>NaN</td>\n      <td>NaN</td>\n      <td>NaN</td>\n    </tr>\n    <tr>\n      <th>116614</th>\n      <td>9996370</td>\n      <td>2022-6</td>\n      <td>92314</td>\n      <td>Big Bear City</td>\n      <td>Single Owners</td>\n      <td>NaN</td>\n      <td>NaN</td>\n      <td>NaN</td>\n      <td>NaN</td>\n      <td>NaN</td>\n      <td>NaN</td>\n      <td>NaN</td>\n      <td>NaN</td>\n    </tr>\n    <tr>\n      <th>116615</th>\n      <td>9996370</td>\n      <td>2022-7</td>\n      <td>92314</td>\n      <td>Big Bear City</td>\n      <td>Single Owners</td>\n      <td>NaN</td>\n      <td>NaN</td>\n      <td>NaN</td>\n      <td>NaN</td>\n      <td>NaN</td>\n      <td>NaN</td>\n      <td>NaN</td>\n      <td>NaN</td>\n    </tr>\n    <tr>\n      <th>116616</th>\n      <td>9996370</td>\n      <td>2022-8</td>\n      <td>92314</td>\n      <td>Big Bear City</td>\n      <td>Single Owners</td>\n      <td>NaN</td>\n      <td>NaN</td>\n      <td>NaN</td>\n      <td>NaN</td>\n      <td>NaN</td>\n      <td>NaN</td>\n      <td>NaN</td>\n      <td>NaN</td>\n    </tr>\n    <tr>\n      <th>116617</th>\n      <td>9996370</td>\n      <td>2022-9</td>\n      <td>92314</td>\n      <td>Big Bear City</td>\n      <td>Single Owners</td>\n      <td>NaN</td>\n      <td>NaN</td>\n      <td>NaN</td>\n      <td>NaN</td>\n      <td>NaN</td>\n      <td>NaN</td>\n      <td>NaN</td>\n      <td>NaN</td>\n    </tr>\n  </tbody>\n</table>\n<p>116618 rows × 13 columns</p>\n</div>"
     },
     "execution_count": 65,
     "metadata": {},
     "output_type": "execute_result"
    }
   ],
   "source": [
    "df3"
   ],
   "metadata": {
    "collapsed": false,
    "pycharm": {
     "name": "#%%\n"
    }
   }
  },
  {
   "cell_type": "code",
   "execution_count": 66,
   "outputs": [
    {
     "data": {
      "text/plain": "                                                            unified_id;month;street_name;latitude;longitude\nAIR10052559;2022-12;Heavenly Valley Road;34  23948;-116                                               87991\nAIR10178668;2022-12;Round Drive;34           25095;-116                                               94139\nAIR10211700;2022-12;;34                      24516;-116                                               87618\nAIR10344705;2022-12;;34                      2675;-116                                                86089\nAIR10424683;2022-12;Starvation Flats Road;34 25341;-116                                               88025\n...                                                                                                     ...\nAIR9959855;2020-01;Peregrine Avenue;34       23760869;-116                                          8700886\nAIR9960008;2020-01;Waterview Drive;34        24621713;-116                                          9461685\nAIR9976790;2020-01;Starvation Flats Road;34  25097351;-116                                          8804907\nAIR9986505;2020-01;Rocking Chair Road;34     10087101;-116                                          2876788\nAIR9996370;2020-01;Eagle Mountain Drive;34   26706673;-116                                          8611341\n\n[49311 rows x 1 columns]",
      "text/html": "<div>\n<style scoped>\n    .dataframe tbody tr th:only-of-type {\n        vertical-align: middle;\n    }\n\n    .dataframe tbody tr th {\n        vertical-align: top;\n    }\n\n    .dataframe thead th {\n        text-align: right;\n    }\n</style>\n<table border=\"1\" class=\"dataframe\">\n  <thead>\n    <tr style=\"text-align: right;\">\n      <th></th>\n      <th></th>\n      <th>unified_id;month;street_name;latitude;longitude</th>\n    </tr>\n  </thead>\n  <tbody>\n    <tr>\n      <th>AIR10052559;2022-12;Heavenly Valley Road;34</th>\n      <th>23948;-116</th>\n      <td>87991</td>\n    </tr>\n    <tr>\n      <th>AIR10178668;2022-12;Round Drive;34</th>\n      <th>25095;-116</th>\n      <td>94139</td>\n    </tr>\n    <tr>\n      <th>AIR10211700;2022-12;;34</th>\n      <th>24516;-116</th>\n      <td>87618</td>\n    </tr>\n    <tr>\n      <th>AIR10344705;2022-12;;34</th>\n      <th>2675;-116</th>\n      <td>86089</td>\n    </tr>\n    <tr>\n      <th>AIR10424683;2022-12;Starvation Flats Road;34</th>\n      <th>25341;-116</th>\n      <td>88025</td>\n    </tr>\n    <tr>\n      <th>...</th>\n      <th>...</th>\n      <td>...</td>\n    </tr>\n    <tr>\n      <th>AIR9959855;2020-01;Peregrine Avenue;34</th>\n      <th>23760869;-116</th>\n      <td>8700886</td>\n    </tr>\n    <tr>\n      <th>AIR9960008;2020-01;Waterview Drive;34</th>\n      <th>24621713;-116</th>\n      <td>9461685</td>\n    </tr>\n    <tr>\n      <th>AIR9976790;2020-01;Starvation Flats Road;34</th>\n      <th>25097351;-116</th>\n      <td>8804907</td>\n    </tr>\n    <tr>\n      <th>AIR9986505;2020-01;Rocking Chair Road;34</th>\n      <th>10087101;-116</th>\n      <td>2876788</td>\n    </tr>\n    <tr>\n      <th>AIR9996370;2020-01;Eagle Mountain Drive;34</th>\n      <th>26706673;-116</th>\n      <td>8611341</td>\n    </tr>\n  </tbody>\n</table>\n<p>49311 rows × 1 columns</p>\n</div>"
     },
     "execution_count": 66,
     "metadata": {},
     "output_type": "execute_result"
    }
   ],
   "source": [
    "df2"
   ],
   "metadata": {
    "collapsed": false,
    "pycharm": {
     "name": "#%%\n"
    }
   }
  },
  {
   "cell_type": "code",
   "execution_count": 67,
   "outputs": [
    {
     "data": {
      "text/plain": "                                                   1       2         3     4   \\\n1   https://www.zillow.com/homedetails/8198-Uphill...          18000000  2435   \n2   https://www.zillow.com/homedetails/4757-Avenid...  223200    399990  1786   \n3   https://www.zillow.com/homedetails/61018-Presc...  568947    575000  2300   \n4   https://www.zillow.com/homedetails/61875-Anaco...  851656    899000  4798   \n5   https://www.zillow.com/homedetails/61879-Petun...            369900  1825   \n..                                                ...     ...       ...   ...   \n69  https://www.zillow.com/homedetails/64873-Choll...  331900    399995  1853   \n70  https://www.zillow.com/homedetails/62036-Bonai...  400438    413000  2400   \n71  https://www.zillow.com/homedetails/7320-Sherwo...  850155    879000  2398   \n72  https://www.zillow.com/homedetails/0-Sunfair-R...           1800000  3499   \n73  https://www.zillow.com/homedetails/7160-Olympi...            850000  4500   \n\n               5  6  7     8  9              10                           11  \\\n1   Not specified  4  3  5470     SINGLE_FAMILY               8198 Uphill Rd   \n2   Not specified  2  3  1056     SINGLE_FAMILY  4757 Avenida La Espana Daga   \n3   Not specified  2  3  1577     SINGLE_FAMILY           61018 Prescott Trl   \n4   Not specified  2  3  1434     SINGLE_FAMILY            61875 Anaconda Dr   \n5   Not specified  1  3  1040     SINGLE_FAMILY             61879 Petunia Dr   \n..            ... .. ..   ... ..            ...                          ...   \n69  Not specified  1  3  1080     SINGLE_FAMILY            64873 Chollita Rd   \n70  Not specified  2  3  1386     SINGLE_FAMILY              62036 Bonair Rd   \n71  Not specified  2  3  1700     SINGLE_FAMILY             7320 Sherwood Rd   \n72  Not specified  4  4  2200     SINGLE_FAMILY                 0 Sunfair Rd   \n73  Not specified  3  4  2600     SINGLE_FAMILY              7160 Olympic Rd   \n\n             12     13  \n1   Joshua Tree  92252  \n2   Joshua Tree  92252  \n3   Joshua Tree  92252  \n4   Joshua Tree  92252  \n5   Joshua Tree  92252  \n..          ...    ...  \n69  Joshua Tree  92252  \n70  Joshua Tree  92252  \n71  Joshua Tree  92252  \n72  Joshua Tree  92252  \n73  Joshua Tree  92252  \n\n[73 rows x 13 columns]",
      "text/html": "<div>\n<style scoped>\n    .dataframe tbody tr th:only-of-type {\n        vertical-align: middle;\n    }\n\n    .dataframe tbody tr th {\n        vertical-align: top;\n    }\n\n    .dataframe thead th {\n        text-align: right;\n    }\n</style>\n<table border=\"1\" class=\"dataframe\">\n  <thead>\n    <tr style=\"text-align: right;\">\n      <th></th>\n      <th>1</th>\n      <th>2</th>\n      <th>3</th>\n      <th>4</th>\n      <th>5</th>\n      <th>6</th>\n      <th>7</th>\n      <th>8</th>\n      <th>9</th>\n      <th>10</th>\n      <th>11</th>\n      <th>12</th>\n      <th>13</th>\n    </tr>\n  </thead>\n  <tbody>\n    <tr>\n      <th>1</th>\n      <td>https://www.zillow.com/homedetails/8198-Uphill...</td>\n      <td></td>\n      <td>18000000</td>\n      <td>2435</td>\n      <td>Not specified</td>\n      <td>4</td>\n      <td>3</td>\n      <td>5470</td>\n      <td></td>\n      <td>SINGLE_FAMILY</td>\n      <td>8198 Uphill Rd</td>\n      <td>Joshua Tree</td>\n      <td>92252</td>\n    </tr>\n    <tr>\n      <th>2</th>\n      <td>https://www.zillow.com/homedetails/4757-Avenid...</td>\n      <td>223200</td>\n      <td>399990</td>\n      <td>1786</td>\n      <td>Not specified</td>\n      <td>2</td>\n      <td>3</td>\n      <td>1056</td>\n      <td></td>\n      <td>SINGLE_FAMILY</td>\n      <td>4757 Avenida La Espana Daga</td>\n      <td>Joshua Tree</td>\n      <td>92252</td>\n    </tr>\n    <tr>\n      <th>3</th>\n      <td>https://www.zillow.com/homedetails/61018-Presc...</td>\n      <td>568947</td>\n      <td>575000</td>\n      <td>2300</td>\n      <td>Not specified</td>\n      <td>2</td>\n      <td>3</td>\n      <td>1577</td>\n      <td></td>\n      <td>SINGLE_FAMILY</td>\n      <td>61018 Prescott Trl</td>\n      <td>Joshua Tree</td>\n      <td>92252</td>\n    </tr>\n    <tr>\n      <th>4</th>\n      <td>https://www.zillow.com/homedetails/61875-Anaco...</td>\n      <td>851656</td>\n      <td>899000</td>\n      <td>4798</td>\n      <td>Not specified</td>\n      <td>2</td>\n      <td>3</td>\n      <td>1434</td>\n      <td></td>\n      <td>SINGLE_FAMILY</td>\n      <td>61875 Anaconda Dr</td>\n      <td>Joshua Tree</td>\n      <td>92252</td>\n    </tr>\n    <tr>\n      <th>5</th>\n      <td>https://www.zillow.com/homedetails/61879-Petun...</td>\n      <td></td>\n      <td>369900</td>\n      <td>1825</td>\n      <td>Not specified</td>\n      <td>1</td>\n      <td>3</td>\n      <td>1040</td>\n      <td></td>\n      <td>SINGLE_FAMILY</td>\n      <td>61879 Petunia Dr</td>\n      <td>Joshua Tree</td>\n      <td>92252</td>\n    </tr>\n    <tr>\n      <th>...</th>\n      <td>...</td>\n      <td>...</td>\n      <td>...</td>\n      <td>...</td>\n      <td>...</td>\n      <td>...</td>\n      <td>...</td>\n      <td>...</td>\n      <td>...</td>\n      <td>...</td>\n      <td>...</td>\n      <td>...</td>\n      <td>...</td>\n    </tr>\n    <tr>\n      <th>69</th>\n      <td>https://www.zillow.com/homedetails/64873-Choll...</td>\n      <td>331900</td>\n      <td>399995</td>\n      <td>1853</td>\n      <td>Not specified</td>\n      <td>1</td>\n      <td>3</td>\n      <td>1080</td>\n      <td></td>\n      <td>SINGLE_FAMILY</td>\n      <td>64873 Chollita Rd</td>\n      <td>Joshua Tree</td>\n      <td>92252</td>\n    </tr>\n    <tr>\n      <th>70</th>\n      <td>https://www.zillow.com/homedetails/62036-Bonai...</td>\n      <td>400438</td>\n      <td>413000</td>\n      <td>2400</td>\n      <td>Not specified</td>\n      <td>2</td>\n      <td>3</td>\n      <td>1386</td>\n      <td></td>\n      <td>SINGLE_FAMILY</td>\n      <td>62036 Bonair Rd</td>\n      <td>Joshua Tree</td>\n      <td>92252</td>\n    </tr>\n    <tr>\n      <th>71</th>\n      <td>https://www.zillow.com/homedetails/7320-Sherwo...</td>\n      <td>850155</td>\n      <td>879000</td>\n      <td>2398</td>\n      <td>Not specified</td>\n      <td>2</td>\n      <td>3</td>\n      <td>1700</td>\n      <td></td>\n      <td>SINGLE_FAMILY</td>\n      <td>7320 Sherwood Rd</td>\n      <td>Joshua Tree</td>\n      <td>92252</td>\n    </tr>\n    <tr>\n      <th>72</th>\n      <td>https://www.zillow.com/homedetails/0-Sunfair-R...</td>\n      <td></td>\n      <td>1800000</td>\n      <td>3499</td>\n      <td>Not specified</td>\n      <td>4</td>\n      <td>4</td>\n      <td>2200</td>\n      <td></td>\n      <td>SINGLE_FAMILY</td>\n      <td>0 Sunfair Rd</td>\n      <td>Joshua Tree</td>\n      <td>92252</td>\n    </tr>\n    <tr>\n      <th>73</th>\n      <td>https://www.zillow.com/homedetails/7160-Olympi...</td>\n      <td></td>\n      <td>850000</td>\n      <td>4500</td>\n      <td>Not specified</td>\n      <td>3</td>\n      <td>4</td>\n      <td>2600</td>\n      <td></td>\n      <td>SINGLE_FAMILY</td>\n      <td>7160 Olympic Rd</td>\n      <td>Joshua Tree</td>\n      <td>92252</td>\n    </tr>\n  </tbody>\n</table>\n<p>73 rows × 13 columns</p>\n</div>"
     },
     "execution_count": 67,
     "metadata": {},
     "output_type": "execute_result"
    }
   ],
   "source": [
    "df5"
   ],
   "metadata": {
    "collapsed": false,
    "pycharm": {
     "name": "#%%\n"
    }
   }
  },
  {
   "cell_type": "code",
   "execution_count": 68,
   "outputs": [
    {
     "data": {
      "text/plain": "                                                   1        2        3     4   \\\n1   https://www.zillow.com/homedetails/9025-Warren...   890416   949000  3058   \n2   https://www.zillow.com/homedetails/7552-Cardil...   543600   749000  2922   \n3   https://www.zillow.com/homedetails/8552-Taft-C...   467500   530000  2710   \n4   https://www.zillow.com/homedetails/5088-Elata-...   684150   699000  3034   \n5   https://www.zillow.com/homedetails/7478-Goleta...   525004   525000  2199   \n6   https://www.zillow.com/homedetails/7629-Rockaw...   764822   775000  3539   \n7   https://www.zillow.com/homedetails/7354-Rubido...   880671   900000  2400   \n8   https://www.zillow.com/homedetails/7399-Paloma...   478372   489900  2350   \n9   https://www.zillow.com/homedetails/8210-Church...   418600   479000  2907   \n10  https://www.zillow.com/homedetails/55960-Onaga...   277830   285000  1829   \n11  https://www.zillow.com/homedetails/58783-Santa...   674473   699000  3240   \n12  https://www.zillow.com/homedetails/56763-Java-...   489600   489600  2362   \n13  https://www.zillow.com/homedetails/56839-Bonan...   374800   545000  4217   \n14  https://www.zillow.com/homedetails/7731-Arrowh...  1076582  1100000  3410   \n15  https://www.zillow.com/homedetails/58345-Bonan...   478884   499950  3204   \n\n               5  6  7     8  9              10                      11  \\\n1   Not specified  4  4  3542     SINGLE_FAMILY   9025 Warren Vista Ave   \n2   Not specified  3  3  1678     SINGLE_FAMILY       7552 Cardillo Trl   \n3   Not specified  3  3  2134     SINGLE_FAMILY            8552 Taft Ct   \n4   Not specified  3  3  1929     SINGLE_FAMILY          5088 Elata Ave   \n5   Not specified  2  3  1508     SINGLE_FAMILY         7478 Goleta Ave   \n6   Not specified  2  3  2235     SINGLE_FAMILY       7629 Rockaway Ave   \n7   Not specified  2  3  1764     SINGLE_FAMILY       7354 Rubidoux Ave   \n8   Not specified  2  3  1530     SINGLE_FAMILY        7399 Palomar Ave   \n9   Not specified  2  4  1820     SINGLE_FAMILY          8210 Church St   \n10  Not specified  1  3   750     SINGLE_FAMILY         55960 Onaga Trl   \n11  Not specified  2  3  2809     SINGLE_FAMILY  58783 Santa Barbara Dr   \n12  Not specified  2  3  1534     SINGLE_FAMILY           56763 Java Dr   \n13  Not specified  5  5  2877     SINGLE_FAMILY        56839 Bonanza Dr   \n14  Not specified  2  3  2076     SINGLE_FAMILY       7731 Arrowhead Dr   \n15  Not specified  3  4  2363     SINGLE_FAMILY        58345 Bonanza Dr   \n\n              12     13  \n1   Yucca Valley  92284  \n2   Yucca Valley  92284  \n3   Yucca Valley  92284  \n4   Yucca Valley  92284  \n5   Yucca Valley  92284  \n6   Yucca Valley  92284  \n7   Yucca Valley  92284  \n8   Yucca Valley  92284  \n9   Yucca Valley  92284  \n10  Yucca Valley  92284  \n11  Yucca Valley  92284  \n12  Yucca Valley  92284  \n13  Yucca Valley  92284  \n14  Yucca Valley  92284  \n15  Yucca Valley  92284  ",
      "text/html": "<div>\n<style scoped>\n    .dataframe tbody tr th:only-of-type {\n        vertical-align: middle;\n    }\n\n    .dataframe tbody tr th {\n        vertical-align: top;\n    }\n\n    .dataframe thead th {\n        text-align: right;\n    }\n</style>\n<table border=\"1\" class=\"dataframe\">\n  <thead>\n    <tr style=\"text-align: right;\">\n      <th></th>\n      <th>1</th>\n      <th>2</th>\n      <th>3</th>\n      <th>4</th>\n      <th>5</th>\n      <th>6</th>\n      <th>7</th>\n      <th>8</th>\n      <th>9</th>\n      <th>10</th>\n      <th>11</th>\n      <th>12</th>\n      <th>13</th>\n    </tr>\n  </thead>\n  <tbody>\n    <tr>\n      <th>1</th>\n      <td>https://www.zillow.com/homedetails/9025-Warren...</td>\n      <td>890416</td>\n      <td>949000</td>\n      <td>3058</td>\n      <td>Not specified</td>\n      <td>4</td>\n      <td>4</td>\n      <td>3542</td>\n      <td></td>\n      <td>SINGLE_FAMILY</td>\n      <td>9025 Warren Vista Ave</td>\n      <td>Yucca Valley</td>\n      <td>92284</td>\n    </tr>\n    <tr>\n      <th>2</th>\n      <td>https://www.zillow.com/homedetails/7552-Cardil...</td>\n      <td>543600</td>\n      <td>749000</td>\n      <td>2922</td>\n      <td>Not specified</td>\n      <td>3</td>\n      <td>3</td>\n      <td>1678</td>\n      <td></td>\n      <td>SINGLE_FAMILY</td>\n      <td>7552 Cardillo Trl</td>\n      <td>Yucca Valley</td>\n      <td>92284</td>\n    </tr>\n    <tr>\n      <th>3</th>\n      <td>https://www.zillow.com/homedetails/8552-Taft-C...</td>\n      <td>467500</td>\n      <td>530000</td>\n      <td>2710</td>\n      <td>Not specified</td>\n      <td>3</td>\n      <td>3</td>\n      <td>2134</td>\n      <td></td>\n      <td>SINGLE_FAMILY</td>\n      <td>8552 Taft Ct</td>\n      <td>Yucca Valley</td>\n      <td>92284</td>\n    </tr>\n    <tr>\n      <th>4</th>\n      <td>https://www.zillow.com/homedetails/5088-Elata-...</td>\n      <td>684150</td>\n      <td>699000</td>\n      <td>3034</td>\n      <td>Not specified</td>\n      <td>3</td>\n      <td>3</td>\n      <td>1929</td>\n      <td></td>\n      <td>SINGLE_FAMILY</td>\n      <td>5088 Elata Ave</td>\n      <td>Yucca Valley</td>\n      <td>92284</td>\n    </tr>\n    <tr>\n      <th>5</th>\n      <td>https://www.zillow.com/homedetails/7478-Goleta...</td>\n      <td>525004</td>\n      <td>525000</td>\n      <td>2199</td>\n      <td>Not specified</td>\n      <td>2</td>\n      <td>3</td>\n      <td>1508</td>\n      <td></td>\n      <td>SINGLE_FAMILY</td>\n      <td>7478 Goleta Ave</td>\n      <td>Yucca Valley</td>\n      <td>92284</td>\n    </tr>\n    <tr>\n      <th>6</th>\n      <td>https://www.zillow.com/homedetails/7629-Rockaw...</td>\n      <td>764822</td>\n      <td>775000</td>\n      <td>3539</td>\n      <td>Not specified</td>\n      <td>2</td>\n      <td>3</td>\n      <td>2235</td>\n      <td></td>\n      <td>SINGLE_FAMILY</td>\n      <td>7629 Rockaway Ave</td>\n      <td>Yucca Valley</td>\n      <td>92284</td>\n    </tr>\n    <tr>\n      <th>7</th>\n      <td>https://www.zillow.com/homedetails/7354-Rubido...</td>\n      <td>880671</td>\n      <td>900000</td>\n      <td>2400</td>\n      <td>Not specified</td>\n      <td>2</td>\n      <td>3</td>\n      <td>1764</td>\n      <td></td>\n      <td>SINGLE_FAMILY</td>\n      <td>7354 Rubidoux Ave</td>\n      <td>Yucca Valley</td>\n      <td>92284</td>\n    </tr>\n    <tr>\n      <th>8</th>\n      <td>https://www.zillow.com/homedetails/7399-Paloma...</td>\n      <td>478372</td>\n      <td>489900</td>\n      <td>2350</td>\n      <td>Not specified</td>\n      <td>2</td>\n      <td>3</td>\n      <td>1530</td>\n      <td></td>\n      <td>SINGLE_FAMILY</td>\n      <td>7399 Palomar Ave</td>\n      <td>Yucca Valley</td>\n      <td>92284</td>\n    </tr>\n    <tr>\n      <th>9</th>\n      <td>https://www.zillow.com/homedetails/8210-Church...</td>\n      <td>418600</td>\n      <td>479000</td>\n      <td>2907</td>\n      <td>Not specified</td>\n      <td>2</td>\n      <td>4</td>\n      <td>1820</td>\n      <td></td>\n      <td>SINGLE_FAMILY</td>\n      <td>8210 Church St</td>\n      <td>Yucca Valley</td>\n      <td>92284</td>\n    </tr>\n    <tr>\n      <th>10</th>\n      <td>https://www.zillow.com/homedetails/55960-Onaga...</td>\n      <td>277830</td>\n      <td>285000</td>\n      <td>1829</td>\n      <td>Not specified</td>\n      <td>1</td>\n      <td>3</td>\n      <td>750</td>\n      <td></td>\n      <td>SINGLE_FAMILY</td>\n      <td>55960 Onaga Trl</td>\n      <td>Yucca Valley</td>\n      <td>92284</td>\n    </tr>\n    <tr>\n      <th>11</th>\n      <td>https://www.zillow.com/homedetails/58783-Santa...</td>\n      <td>674473</td>\n      <td>699000</td>\n      <td>3240</td>\n      <td>Not specified</td>\n      <td>2</td>\n      <td>3</td>\n      <td>2809</td>\n      <td></td>\n      <td>SINGLE_FAMILY</td>\n      <td>58783 Santa Barbara Dr</td>\n      <td>Yucca Valley</td>\n      <td>92284</td>\n    </tr>\n    <tr>\n      <th>12</th>\n      <td>https://www.zillow.com/homedetails/56763-Java-...</td>\n      <td>489600</td>\n      <td>489600</td>\n      <td>2362</td>\n      <td>Not specified</td>\n      <td>2</td>\n      <td>3</td>\n      <td>1534</td>\n      <td></td>\n      <td>SINGLE_FAMILY</td>\n      <td>56763 Java Dr</td>\n      <td>Yucca Valley</td>\n      <td>92284</td>\n    </tr>\n    <tr>\n      <th>13</th>\n      <td>https://www.zillow.com/homedetails/56839-Bonan...</td>\n      <td>374800</td>\n      <td>545000</td>\n      <td>4217</td>\n      <td>Not specified</td>\n      <td>5</td>\n      <td>5</td>\n      <td>2877</td>\n      <td></td>\n      <td>SINGLE_FAMILY</td>\n      <td>56839 Bonanza Dr</td>\n      <td>Yucca Valley</td>\n      <td>92284</td>\n    </tr>\n    <tr>\n      <th>14</th>\n      <td>https://www.zillow.com/homedetails/7731-Arrowh...</td>\n      <td>1076582</td>\n      <td>1100000</td>\n      <td>3410</td>\n      <td>Not specified</td>\n      <td>2</td>\n      <td>3</td>\n      <td>2076</td>\n      <td></td>\n      <td>SINGLE_FAMILY</td>\n      <td>7731 Arrowhead Dr</td>\n      <td>Yucca Valley</td>\n      <td>92284</td>\n    </tr>\n    <tr>\n      <th>15</th>\n      <td>https://www.zillow.com/homedetails/58345-Bonan...</td>\n      <td>478884</td>\n      <td>499950</td>\n      <td>3204</td>\n      <td>Not specified</td>\n      <td>3</td>\n      <td>4</td>\n      <td>2363</td>\n      <td></td>\n      <td>SINGLE_FAMILY</td>\n      <td>58345 Bonanza Dr</td>\n      <td>Yucca Valley</td>\n      <td>92284</td>\n    </tr>\n  </tbody>\n</table>\n</div>"
     },
     "execution_count": 68,
     "metadata": {},
     "output_type": "execute_result"
    }
   ],
   "source": [
    "df7"
   ],
   "metadata": {
    "collapsed": false,
    "pycharm": {
     "name": "#%%\n"
    }
   }
  },
  {
   "cell_type": "code",
   "execution_count": 69,
   "outputs": [],
   "source": [
    "import pandas as pd"
   ],
   "metadata": {
    "collapsed": false,
    "pycharm": {
     "name": "#%%\n"
    }
   }
  },
  {
   "cell_type": "code",
   "execution_count": 70,
   "outputs": [],
   "source": [
    "df=pd.read_csv(r\"D:\\Pyn\\online learning\\Test_files\\py-master\\ML\\FeatureEngineering\\2_outliers_z_score\\heights.csv\")"
   ],
   "metadata": {
    "collapsed": false,
    "pycharm": {
     "name": "#%%\n"
    }
   }
  },
  {
   "cell_type": "code",
   "execution_count": 71,
   "outputs": [
    {
     "data": {
      "text/plain": "0       10000347   2020-1  92315  Big Bear Lake      2-5 Units    3    2   10  \\\n0       10000347  2020-10  92315  Big Bear Lake      2-5 Units    3    2   10   \n1       10000347  2020-11  92315  Big Bear Lake      2-5 Units    3    2   10   \n2       10000347  2020-12  92315  Big Bear Lake      2-5 Units    3    2   10   \n3       10000347   2020-2  92315  Big Bear Lake      2-5 Units    3    2   10   \n4       10000347   2020-3  92315  Big Bear Lake      2-5 Units    3    2   10   \n...          ...      ...    ...            ...            ...  ...  ...  ...   \n116613   9996370   2022-5  92314  Big Bear City  Single Owners  NaN  NaN  NaN   \n116614   9996370   2022-6  92314  Big Bear City  Single Owners  NaN  NaN  NaN   \n116615   9996370   2022-7  92314  Big Bear City  Single Owners  NaN  NaN  NaN   \n116616   9996370   2022-8  92314  Big Bear City  Single Owners  NaN  NaN  NaN   \n116617   9996370   2022-9  92314  Big Bear City  Single Owners  NaN  NaN  NaN   \n\n0       13948,75974   31            1  449,9599915    8  \n0       449,9599915   31  0,032258065  449,9599915    8  \n1                 0   30            0                    \n2       4949,679932   31   0,35483871  449,9709029   41  \n3                 0   28            0                    \n4       899,9199829   31  0,064516129  449,9599915    8  \n...             ...  ...          ...          ...  ...  \n116613          NaN  NaN          NaN          NaN  NaN  \n116614          NaN  NaN          NaN          NaN  NaN  \n116615          NaN  NaN          NaN          NaN  NaN  \n116616          NaN  NaN          NaN          NaN  NaN  \n116617          NaN  NaN          NaN          NaN  NaN  \n\n[116618 rows x 13 columns]",
      "text/html": "<div>\n<style scoped>\n    .dataframe tbody tr th:only-of-type {\n        vertical-align: middle;\n    }\n\n    .dataframe tbody tr th {\n        vertical-align: top;\n    }\n\n    .dataframe thead th {\n        text-align: right;\n    }\n</style>\n<table border=\"1\" class=\"dataframe\">\n  <thead>\n    <tr style=\"text-align: right;\">\n      <th></th>\n      <th>10000347</th>\n      <th>2020-1</th>\n      <th>92315</th>\n      <th>Big Bear Lake</th>\n      <th>2-5 Units</th>\n      <th>3</th>\n      <th>2</th>\n      <th>10</th>\n      <th>13948,75974</th>\n      <th>31</th>\n      <th>1</th>\n      <th>449,9599915</th>\n      <th>8</th>\n    </tr>\n  </thead>\n  <tbody>\n    <tr>\n      <th>0</th>\n      <td>10000347</td>\n      <td>2020-10</td>\n      <td>92315</td>\n      <td>Big Bear Lake</td>\n      <td>2-5 Units</td>\n      <td>3</td>\n      <td>2</td>\n      <td>10</td>\n      <td>449,9599915</td>\n      <td>31</td>\n      <td>0,032258065</td>\n      <td>449,9599915</td>\n      <td>8</td>\n    </tr>\n    <tr>\n      <th>1</th>\n      <td>10000347</td>\n      <td>2020-11</td>\n      <td>92315</td>\n      <td>Big Bear Lake</td>\n      <td>2-5 Units</td>\n      <td>3</td>\n      <td>2</td>\n      <td>10</td>\n      <td>0</td>\n      <td>30</td>\n      <td>0</td>\n      <td></td>\n      <td></td>\n    </tr>\n    <tr>\n      <th>2</th>\n      <td>10000347</td>\n      <td>2020-12</td>\n      <td>92315</td>\n      <td>Big Bear Lake</td>\n      <td>2-5 Units</td>\n      <td>3</td>\n      <td>2</td>\n      <td>10</td>\n      <td>4949,679932</td>\n      <td>31</td>\n      <td>0,35483871</td>\n      <td>449,9709029</td>\n      <td>41</td>\n    </tr>\n    <tr>\n      <th>3</th>\n      <td>10000347</td>\n      <td>2020-2</td>\n      <td>92315</td>\n      <td>Big Bear Lake</td>\n      <td>2-5 Units</td>\n      <td>3</td>\n      <td>2</td>\n      <td>10</td>\n      <td>0</td>\n      <td>28</td>\n      <td>0</td>\n      <td></td>\n      <td></td>\n    </tr>\n    <tr>\n      <th>4</th>\n      <td>10000347</td>\n      <td>2020-3</td>\n      <td>92315</td>\n      <td>Big Bear Lake</td>\n      <td>2-5 Units</td>\n      <td>3</td>\n      <td>2</td>\n      <td>10</td>\n      <td>899,9199829</td>\n      <td>31</td>\n      <td>0,064516129</td>\n      <td>449,9599915</td>\n      <td>8</td>\n    </tr>\n    <tr>\n      <th>...</th>\n      <td>...</td>\n      <td>...</td>\n      <td>...</td>\n      <td>...</td>\n      <td>...</td>\n      <td>...</td>\n      <td>...</td>\n      <td>...</td>\n      <td>...</td>\n      <td>...</td>\n      <td>...</td>\n      <td>...</td>\n      <td>...</td>\n    </tr>\n    <tr>\n      <th>116613</th>\n      <td>9996370</td>\n      <td>2022-5</td>\n      <td>92314</td>\n      <td>Big Bear City</td>\n      <td>Single Owners</td>\n      <td>NaN</td>\n      <td>NaN</td>\n      <td>NaN</td>\n      <td>NaN</td>\n      <td>NaN</td>\n      <td>NaN</td>\n      <td>NaN</td>\n      <td>NaN</td>\n    </tr>\n    <tr>\n      <th>116614</th>\n      <td>9996370</td>\n      <td>2022-6</td>\n      <td>92314</td>\n      <td>Big Bear City</td>\n      <td>Single Owners</td>\n      <td>NaN</td>\n      <td>NaN</td>\n      <td>NaN</td>\n      <td>NaN</td>\n      <td>NaN</td>\n      <td>NaN</td>\n      <td>NaN</td>\n      <td>NaN</td>\n    </tr>\n    <tr>\n      <th>116615</th>\n      <td>9996370</td>\n      <td>2022-7</td>\n      <td>92314</td>\n      <td>Big Bear City</td>\n      <td>Single Owners</td>\n      <td>NaN</td>\n      <td>NaN</td>\n      <td>NaN</td>\n      <td>NaN</td>\n      <td>NaN</td>\n      <td>NaN</td>\n      <td>NaN</td>\n      <td>NaN</td>\n    </tr>\n    <tr>\n      <th>116616</th>\n      <td>9996370</td>\n      <td>2022-8</td>\n      <td>92314</td>\n      <td>Big Bear City</td>\n      <td>Single Owners</td>\n      <td>NaN</td>\n      <td>NaN</td>\n      <td>NaN</td>\n      <td>NaN</td>\n      <td>NaN</td>\n      <td>NaN</td>\n      <td>NaN</td>\n      <td>NaN</td>\n    </tr>\n    <tr>\n      <th>116617</th>\n      <td>9996370</td>\n      <td>2022-9</td>\n      <td>92314</td>\n      <td>Big Bear City</td>\n      <td>Single Owners</td>\n      <td>NaN</td>\n      <td>NaN</td>\n      <td>NaN</td>\n      <td>NaN</td>\n      <td>NaN</td>\n      <td>NaN</td>\n      <td>NaN</td>\n      <td>NaN</td>\n    </tr>\n  </tbody>\n</table>\n<p>116618 rows × 13 columns</p>\n</div>"
     },
     "execution_count": 71,
     "metadata": {},
     "output_type": "execute_result"
    }
   ],
   "source": [
    "df3"
   ],
   "metadata": {
    "collapsed": false,
    "pycharm": {
     "name": "#%%\n"
    }
   }
  },
  {
   "cell_type": "code",
   "execution_count": 73,
   "outputs": [
    {
     "data": {
      "text/plain": "      unified_id;month;hot_tub;pool\n0           AIR10052559;2022-12;1;0\n1           AIR10178668;2022-12;0;0\n2           AIR10211700;2022-12;0;0\n3           AIR10344705;2022-12;0;0\n4           AIR10424683;2022-12;0;1\n...                             ...\n49306        AIR9959855;2020-01;1;0\n49307        AIR9960008;2020-01;0;0\n49308        AIR9976790;2020-01;1;0\n49309        AIR9986505;2020-01;1;0\n49310        AIR9996370;2020-01;0;0\n\n[49311 rows x 1 columns]",
      "text/html": "<div>\n<style scoped>\n    .dataframe tbody tr th:only-of-type {\n        vertical-align: middle;\n    }\n\n    .dataframe tbody tr th {\n        vertical-align: top;\n    }\n\n    .dataframe thead th {\n        text-align: right;\n    }\n</style>\n<table border=\"1\" class=\"dataframe\">\n  <thead>\n    <tr style=\"text-align: right;\">\n      <th></th>\n      <th>unified_id;month;hot_tub;pool</th>\n    </tr>\n  </thead>\n  <tbody>\n    <tr>\n      <th>0</th>\n      <td>AIR10052559;2022-12;1;0</td>\n    </tr>\n    <tr>\n      <th>1</th>\n      <td>AIR10178668;2022-12;0;0</td>\n    </tr>\n    <tr>\n      <th>2</th>\n      <td>AIR10211700;2022-12;0;0</td>\n    </tr>\n    <tr>\n      <th>3</th>\n      <td>AIR10344705;2022-12;0;0</td>\n    </tr>\n    <tr>\n      <th>4</th>\n      <td>AIR10424683;2022-12;0;1</td>\n    </tr>\n    <tr>\n      <th>...</th>\n      <td>...</td>\n    </tr>\n    <tr>\n      <th>49306</th>\n      <td>AIR9959855;2020-01;1;0</td>\n    </tr>\n    <tr>\n      <th>49307</th>\n      <td>AIR9960008;2020-01;0;0</td>\n    </tr>\n    <tr>\n      <th>49308</th>\n      <td>AIR9976790;2020-01;1;0</td>\n    </tr>\n    <tr>\n      <th>49309</th>\n      <td>AIR9986505;2020-01;1;0</td>\n    </tr>\n    <tr>\n      <th>49310</th>\n      <td>AIR9996370;2020-01;0;0</td>\n    </tr>\n  </tbody>\n</table>\n<p>49311 rows × 1 columns</p>\n</div>"
     },
     "execution_count": 73,
     "metadata": {},
     "output_type": "execute_result"
    }
   ],
   "source": [
    "df1"
   ],
   "metadata": {
    "collapsed": false,
    "pycharm": {
     "name": "#%%\n"
    }
   }
  },
  {
   "cell_type": "code",
   "execution_count": null,
   "outputs": [],
   "source": [],
   "metadata": {
    "collapsed": false,
    "pycharm": {
     "name": "#%%\n"
    }
   }
  }
 ],
 "metadata": {
  "kernelspec": {
   "display_name": "Python 3",
   "language": "python",
   "name": "python3"
  },
  "language_info": {
   "codemirror_mode": {
    "name": "ipython",
    "version": 2
   },
   "file_extension": ".py",
   "mimetype": "text/x-python",
   "name": "python",
   "nbconvert_exporter": "python",
   "pygments_lexer": "ipython2",
   "version": "2.7.6"
  }
 },
 "nbformat": 4,
 "nbformat_minor": 0
}